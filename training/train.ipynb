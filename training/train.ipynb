{
 "cells": [
  {
   "cell_type": "markdown",
   "metadata": {},
   "source": [
    "# Train the keras models"
   ]
  },
  {
   "cell_type": "markdown",
   "metadata": {},
   "source": [
    "## Load the data"
   ]
  },
  {
   "cell_type": "code",
   "execution_count": 1,
   "metadata": {},
   "outputs": [
    {
     "name": "stdout",
     "output_type": "stream",
     "text": [
      "setGPU: Setting GPU to: 0\n"
     ]
    },
    {
     "name": "stderr",
     "output_type": "stream",
     "text": [
      "Using TensorFlow backend.\n"
     ]
    },
    {
     "name": "stdout",
     "output_type": "stream",
     "text": [
      "float32\n"
     ]
    },
    {
     "name": "stderr",
     "output_type": "stream",
     "text": [
      "/usr/local/lib64/python3.6/site-packages/sklearn/externals/joblib/__init__.py:15: DeprecationWarning: sklearn.externals.joblib is deprecated in 0.21 and will be removed in 0.23. Please import this functionality directly from joblib, which can be installed with: pip install joblib. If this warning is raised when loading pickled models, you may need to re-serialize those models with scikit-learn 0.21+.\n",
      "  warnings.warn(msg, category=DeprecationWarning)\n"
     ]
    }
   ],
   "source": [
    "import pandas as pd\n",
    "import numpy as np\n",
    "import setGPU\n",
    "import psutil\n",
    "import importlib\n",
    "import fit_handler"
   ]
  },
  {
   "cell_type": "code",
   "execution_count": 1,
   "metadata": {},
   "outputs": [
    {
     "name": "stderr",
     "output_type": "stream",
     "text": [
      "Using TensorFlow backend.\n"
     ]
    }
   ],
   "source": [
    "import imblearn"
   ]
  },
  {
   "cell_type": "code",
   "execution_count": 6,
   "metadata": {},
   "outputs": [],
   "source": [
    "mem = psutil.virtual_memory()"
   ]
  },
  {
   "cell_type": "code",
   "execution_count": 8,
   "metadata": {},
   "outputs": [
    {
     "data": {
      "text/plain": [
       "3.4"
      ]
     },
     "execution_count": 8,
     "metadata": {},
     "output_type": "execute_result"
    }
   ],
   "source": [
    "mem[2]"
   ]
  },
  {
   "cell_type": "code",
   "execution_count": 2,
   "metadata": {},
   "outputs": [],
   "source": [
    "from plotting import plot"
   ]
  },
  {
   "cell_type": "code",
   "execution_count": 3,
   "metadata": {},
   "outputs": [],
   "source": [
    "from models import baseline_model"
   ]
  },
  {
   "cell_type": "code",
   "execution_count": 4,
   "metadata": {},
   "outputs": [],
   "source": [
    "from models import nlp_model"
   ]
  },
  {
   "cell_type": "code",
   "execution_count": 5,
   "metadata": {},
   "outputs": [],
   "source": [
    "from data_loader import input_batch_generator\n",
    "from data_loader import index"
   ]
  },
  {
   "cell_type": "code",
   "execution_count": 48,
   "metadata": {},
   "outputs": [
    {
     "data": {
      "text/plain": [
       "<module 'fit_handler' from '/nfshome/llayer/AIErrorLogAnalysis/training/fit_handler.py'>"
      ]
     },
     "execution_count": 48,
     "metadata": {},
     "output_type": "execute_result"
    }
   ],
   "source": [
    "importlib.reload(fit_handler)"
   ]
  },
  {
   "cell_type": "code",
   "execution_count": 7,
   "metadata": {},
   "outputs": [
    {
     "data": {
      "text/plain": [
       "(1.7,\n",
       " svmem(total=101089452032, available=97835724800, percent=3.2, used=2708344832, free=52868313088, active=29047480320, inactive=16017190912, buffers=106041344, cached=45406752768, shared=36364288, slab=1434251264))"
      ]
     },
     "execution_count": 7,
     "metadata": {},
     "output_type": "execute_result"
    }
   ],
   "source": [
    "psutil.cpu_percent(), psutil.virtual_memory()"
   ]
  },
  {
   "cell_type": "code",
   "execution_count": 30,
   "metadata": {},
   "outputs": [],
   "source": []
  },
  {
   "cell_type": "code",
   "execution_count": 49,
   "metadata": {},
   "outputs": [
    {
     "name": "stdout",
     "output_type": "stream",
     "text": [
      "0    31839\n",
      "1     1747\n",
      "Name: label, dtype: int64\n",
      "After sampling: Minority class 1747 Majority class 5241\n"
     ]
    }
   ],
   "source": [
    "path = '/nfshome/llayer/AIErrorLogAnalysis/data/input_NOMINAL.h5'\n",
    "actionshist, codes, sites = fit_handler.load_data(path, msg_only=True, sample=True)"
   ]
  },
  {
   "cell_type": "code",
   "execution_count": 50,
   "metadata": {},
   "outputs": [
    {
     "data": {
      "text/html": [
       "<div>\n",
       "<style scoped>\n",
       "    .dataframe tbody tr th:only-of-type {\n",
       "        vertical-align: middle;\n",
       "    }\n",
       "\n",
       "    .dataframe tbody tr th {\n",
       "        vertical-align: top;\n",
       "    }\n",
       "\n",
       "    .dataframe thead th {\n",
       "        text-align: right;\n",
       "    }\n",
       "</style>\n",
       "<table border=\"1\" class=\"dataframe\">\n",
       "  <thead>\n",
       "    <tr style=\"text-align: right;\">\n",
       "      <th></th>\n",
       "      <th>task_name</th>\n",
       "      <th>label</th>\n",
       "      <th>error</th>\n",
       "      <th>site</th>\n",
       "      <th>site_state</th>\n",
       "      <th>count</th>\n",
       "      <th>msg_encoded</th>\n",
       "      <th>exit_code</th>\n",
       "      <th>error_type</th>\n",
       "      <th>avg</th>\n",
       "    </tr>\n",
       "  </thead>\n",
       "  <tbody>\n",
       "    <tr>\n",
       "      <th>38</th>\n",
       "      <td>/areinsvo_task_HIN-pPb816Spring16GS-00047__v1_...</td>\n",
       "      <td>1</td>\n",
       "      <td>[-1, -1, -1, -1, -1, 99303, -1, -1, -1, -1, -1...</td>\n",
       "      <td>[T2_ES_IFCA, T2_IT_Pisa, T2_PK_NCP, T2_RU_SINP...</td>\n",
       "      <td>[bad, good, bad, bad, good, good, good, bad, g...</td>\n",
       "      <td>[1, 1, 1, 1, 1, 1, 1, 1, 1, 1, 1, 1, 5, 2, 1, ...</td>\n",
       "      <td>[nan, nan, nan, nan, nan, nan, nan, nan, nan, ...</td>\n",
       "      <td>[nan, nan, nan, nan, nan, nan, nan, nan, nan, ...</td>\n",
       "      <td>[nan, nan, nan, nan, nan, nan, nan, nan, nan, ...</td>\n",
       "      <td>[nan, nan, nan, nan, nan, nan, nan, nan, nan, ...</td>\n",
       "    </tr>\n",
       "    <tr>\n",
       "      <th>39</th>\n",
       "      <td>/areinsvo_task_HIN-pPb816Spring16GS-00048__v1_...</td>\n",
       "      <td>1</td>\n",
       "      <td>[-1, -1, -1, 99303, -1, -1, -1, -1, -1, -1, -1...</td>\n",
       "      <td>[T2_IN_TIFR, T3_GR_IASA_HG, T3_US_UCD, T2_BE_I...</td>\n",
       "      <td>[good, bad, bad, good, bad, bad, good, bad, ba...</td>\n",
       "      <td>[1, 1, 1, 1, 1, 1, 1, 1, 1, 1, 1, 1, 1, 1, 1, ...</td>\n",
       "      <td>[nan, nan, nan, nan, nan, nan, nan, nan, nan, ...</td>\n",
       "      <td>[nan, nan, nan, nan, nan, nan, nan, nan, nan, ...</td>\n",
       "      <td>[nan, nan, nan, nan, nan, nan, nan, nan, nan, ...</td>\n",
       "      <td>[nan, nan, nan, nan, nan, nan, nan, nan, nan, ...</td>\n",
       "    </tr>\n",
       "    <tr>\n",
       "      <th>40</th>\n",
       "      <td>/areinsvo_task_HIN-pPb816Spring16GS-00050__v1_...</td>\n",
       "      <td>1</td>\n",
       "      <td>[-1, -1, -1, -1, -1, -1, -1, -1, -1, -1, -1, -...</td>\n",
       "      <td>[T2_RU_PNPI, T3_UK_ScotGrid_GLA, T3_US_TAMU, T...</td>\n",
       "      <td>[bad, bad, bad, good, bad, bad, bad, good, goo...</td>\n",
       "      <td>[1, 1, 1, 1, 1, 1, 1, 1, 1, 1, 1, 1, 1, 1, 1, ...</td>\n",
       "      <td>[nan, nan, nan, nan, nan, nan, nan, nan, nan, ...</td>\n",
       "      <td>[nan, nan, nan, nan, nan, nan, nan, nan, nan, ...</td>\n",
       "      <td>[nan, nan, nan, nan, nan, nan, nan, nan, nan, ...</td>\n",
       "      <td>[nan, nan, nan, nan, nan, nan, nan, nan, nan, ...</td>\n",
       "    </tr>\n",
       "    <tr>\n",
       "      <th>41</th>\n",
       "      <td>/areinsvo_task_HIN-pPb816Spring16GS-00050__v1_...</td>\n",
       "      <td>1</td>\n",
       "      <td>[-1, -1, -1, -1, -1, -1, -1, -1, -1, -1, -1, -...</td>\n",
       "      <td>[T3_US_UCD, T3_CN_PKU, T3_US_TAMU, T3_GR_IASA_...</td>\n",
       "      <td>[bad, bad, bad, bad, good, bad, good, good, go...</td>\n",
       "      <td>[1, 1, 1, 1, 1, 1, 1, 1, 1, 1, 1, 1, 1, 1, 1, ...</td>\n",
       "      <td>[nan, nan, nan, nan, nan, nan, nan, nan, nan, ...</td>\n",
       "      <td>[nan, nan, nan, nan, nan, nan, nan, nan, nan, ...</td>\n",
       "      <td>[nan, nan, nan, nan, nan, nan, nan, nan, nan, ...</td>\n",
       "      <td>[nan, nan, nan, nan, nan, nan, nan, nan, nan, ...</td>\n",
       "    </tr>\n",
       "    <tr>\n",
       "      <th>1226</th>\n",
       "      <td>/mcremone_task_EXO-RunIISummer15wmLHEGS-05038_...</td>\n",
       "      <td>1</td>\n",
       "      <td>[71104, -1, 92, -1]</td>\n",
       "      <td>[Unknown, T1_DE_KIT_Disk, T1_IT_CNAF, T1_IT_CN...</td>\n",
       "      <td>[bad, bad, bad, bad]</td>\n",
       "      <td>[1, 1, 1, 1]</td>\n",
       "      <td>[nan, nan, [34, 11, 9, 36, 147, 33, 24, 2, 68,...</td>\n",
       "      <td>[nan, nan, 8028.0, nan]</td>\n",
       "      <td>[nan, nan, Fatal Exception, nan]</td>\n",
       "      <td>[nan, nan, [-0.8222899436950684, 0.81316602230...</td>\n",
       "    </tr>\n",
       "  </tbody>\n",
       "</table>\n",
       "</div>"
      ],
      "text/plain": [
       "                                              task_name  label  \\\n",
       "38    /areinsvo_task_HIN-pPb816Spring16GS-00047__v1_...      1   \n",
       "39    /areinsvo_task_HIN-pPb816Spring16GS-00048__v1_...      1   \n",
       "40    /areinsvo_task_HIN-pPb816Spring16GS-00050__v1_...      1   \n",
       "41    /areinsvo_task_HIN-pPb816Spring16GS-00050__v1_...      1   \n",
       "1226  /mcremone_task_EXO-RunIISummer15wmLHEGS-05038_...      1   \n",
       "\n",
       "                                                  error  \\\n",
       "38    [-1, -1, -1, -1, -1, 99303, -1, -1, -1, -1, -1...   \n",
       "39    [-1, -1, -1, 99303, -1, -1, -1, -1, -1, -1, -1...   \n",
       "40    [-1, -1, -1, -1, -1, -1, -1, -1, -1, -1, -1, -...   \n",
       "41    [-1, -1, -1, -1, -1, -1, -1, -1, -1, -1, -1, -...   \n",
       "1226                                [71104, -1, 92, -1]   \n",
       "\n",
       "                                                   site  \\\n",
       "38    [T2_ES_IFCA, T2_IT_Pisa, T2_PK_NCP, T2_RU_SINP...   \n",
       "39    [T2_IN_TIFR, T3_GR_IASA_HG, T3_US_UCD, T2_BE_I...   \n",
       "40    [T2_RU_PNPI, T3_UK_ScotGrid_GLA, T3_US_TAMU, T...   \n",
       "41    [T3_US_UCD, T3_CN_PKU, T3_US_TAMU, T3_GR_IASA_...   \n",
       "1226  [Unknown, T1_DE_KIT_Disk, T1_IT_CNAF, T1_IT_CN...   \n",
       "\n",
       "                                             site_state  \\\n",
       "38    [bad, good, bad, bad, good, good, good, bad, g...   \n",
       "39    [good, bad, bad, good, bad, bad, good, bad, ba...   \n",
       "40    [bad, bad, bad, good, bad, bad, bad, good, goo...   \n",
       "41    [bad, bad, bad, bad, good, bad, good, good, go...   \n",
       "1226                               [bad, bad, bad, bad]   \n",
       "\n",
       "                                                  count  \\\n",
       "38    [1, 1, 1, 1, 1, 1, 1, 1, 1, 1, 1, 1, 5, 2, 1, ...   \n",
       "39    [1, 1, 1, 1, 1, 1, 1, 1, 1, 1, 1, 1, 1, 1, 1, ...   \n",
       "40    [1, 1, 1, 1, 1, 1, 1, 1, 1, 1, 1, 1, 1, 1, 1, ...   \n",
       "41    [1, 1, 1, 1, 1, 1, 1, 1, 1, 1, 1, 1, 1, 1, 1, ...   \n",
       "1226                                       [1, 1, 1, 1]   \n",
       "\n",
       "                                            msg_encoded  \\\n",
       "38    [nan, nan, nan, nan, nan, nan, nan, nan, nan, ...   \n",
       "39    [nan, nan, nan, nan, nan, nan, nan, nan, nan, ...   \n",
       "40    [nan, nan, nan, nan, nan, nan, nan, nan, nan, ...   \n",
       "41    [nan, nan, nan, nan, nan, nan, nan, nan, nan, ...   \n",
       "1226  [nan, nan, [34, 11, 9, 36, 147, 33, 24, 2, 68,...   \n",
       "\n",
       "                                              exit_code  \\\n",
       "38    [nan, nan, nan, nan, nan, nan, nan, nan, nan, ...   \n",
       "39    [nan, nan, nan, nan, nan, nan, nan, nan, nan, ...   \n",
       "40    [nan, nan, nan, nan, nan, nan, nan, nan, nan, ...   \n",
       "41    [nan, nan, nan, nan, nan, nan, nan, nan, nan, ...   \n",
       "1226                            [nan, nan, 8028.0, nan]   \n",
       "\n",
       "                                             error_type  \\\n",
       "38    [nan, nan, nan, nan, nan, nan, nan, nan, nan, ...   \n",
       "39    [nan, nan, nan, nan, nan, nan, nan, nan, nan, ...   \n",
       "40    [nan, nan, nan, nan, nan, nan, nan, nan, nan, ...   \n",
       "41    [nan, nan, nan, nan, nan, nan, nan, nan, nan, ...   \n",
       "1226                   [nan, nan, Fatal Exception, nan]   \n",
       "\n",
       "                                                    avg  \n",
       "38    [nan, nan, nan, nan, nan, nan, nan, nan, nan, ...  \n",
       "39    [nan, nan, nan, nan, nan, nan, nan, nan, nan, ...  \n",
       "40    [nan, nan, nan, nan, nan, nan, nan, nan, nan, ...  \n",
       "41    [nan, nan, nan, nan, nan, nan, nan, nan, nan, ...  \n",
       "1226  [nan, nan, [-0.8222899436950684, 0.81316602230...  "
      ]
     },
     "execution_count": 50,
     "metadata": {},
     "output_type": "execute_result"
    }
   ],
   "source": [
    "actionshist.head()"
   ]
  },
  {
   "cell_type": "code",
   "execution_count": 10,
   "metadata": {},
   "outputs": [
    {
     "data": {
      "text/plain": [
       "(3.3,\n",
       " svmem(total=101089452032, available=96091189248, percent=4.9, used=4469723136, free=67459616768, active=20523405312, inactive=10697121792, buffers=109608960, cached=29050503168, shared=19484672, slab=696438784))"
      ]
     },
     "execution_count": 10,
     "metadata": {},
     "output_type": "execute_result"
    }
   ],
   "source": [
    "psutil.cpu_percent(), psutil.virtual_memory()"
   ]
  },
  {
   "cell_type": "code",
   "execution_count": 18,
   "metadata": {},
   "outputs": [],
   "source": [
    "#sites_index, codes_index = index.to_index(list(sites['site']), list(codes['error']))\n",
    "sites_index, codes_index = index.to_index(list(sites_msg['sites_msg']), list(codes_msg['errors_msg']))"
   ]
  },
  {
   "cell_type": "code",
   "execution_count": 140,
   "metadata": {},
   "outputs": [],
   "source": [
    "# Prune without counts\n",
    "#codes_index, sites_index = index.prune_to_index(codes, sites, only_unknown = True)"
   ]
  },
  {
   "cell_type": "code",
   "execution_count": 19,
   "metadata": {},
   "outputs": [],
   "source": [
    "padding_size = 200\n",
    "dim_errors = len(codes_index)\n",
    "dim_sites = len(sites_index)\n",
    "max_msg = 5"
   ]
  },
  {
   "cell_type": "code",
   "execution_count": null,
   "metadata": {},
   "outputs": [],
   "source": []
  },
  {
   "cell_type": "code",
   "execution_count": null,
   "metadata": {},
   "outputs": [],
   "source": []
  },
  {
   "cell_type": "code",
   "execution_count": null,
   "metadata": {},
   "outputs": [],
   "source": []
  },
  {
   "cell_type": "code",
   "execution_count": null,
   "metadata": {},
   "outputs": [],
   "source": []
  },
  {
   "cell_type": "code",
   "execution_count": null,
   "metadata": {},
   "outputs": [],
   "source": []
  },
  {
   "cell_type": "code",
   "execution_count": null,
   "metadata": {},
   "outputs": [],
   "source": []
  },
  {
   "cell_type": "code",
   "execution_count": null,
   "metadata": {},
   "outputs": [],
   "source": []
  },
  {
   "cell_type": "code",
   "execution_count": null,
   "metadata": {},
   "outputs": [],
   "source": []
  },
  {
   "cell_type": "code",
   "execution_count": null,
   "metadata": {},
   "outputs": [],
   "source": []
  },
  {
   "cell_type": "markdown",
   "metadata": {},
   "source": [
    "## Train the simple nlp models"
   ]
  },
  {
   "cell_type": "code",
   "execution_count": 20,
   "metadata": {},
   "outputs": [],
   "source": [
    "importlib.reload(input_batch_generator)\n",
    "padding_size = 50\n",
    "batch_size = 100\n",
    "generator = input_batch_generator.InputBatchGenerator(actionshist, 'label', codes_index, sites_index,\n",
    "                                                      padding_size, batch_size = batch_size, \n",
    "                                                      averaged=True, first_only=True, count_msg = False)"
   ]
  },
  {
   "cell_type": "code",
   "execution_count": 22,
   "metadata": {},
   "outputs": [
    {
     "data": {
      "text/plain": [
       "(100, 67, 77, 50)"
      ]
     },
     "execution_count": 22,
     "metadata": {},
     "output_type": "execute_result"
    }
   ],
   "source": [
    "test = generator.msg_batch(0, 100)\n",
    "test.shape"
   ]
  },
  {
   "cell_type": "code",
   "execution_count": 49,
   "metadata": {},
   "outputs": [],
   "source": [
    "from models import w2v_model"
   ]
  },
  {
   "cell_type": "code",
   "execution_count": 45,
   "metadata": {},
   "outputs": [],
   "source": [
    "embedding_dim = 50"
   ]
  },
  {
   "cell_type": "code",
   "execution_count": 288,
   "metadata": {},
   "outputs": [],
   "source": [
    "model_w2v = w2v_model.SimpleAverage(2, dim_errors, dim_sites, embedding_dim)"
   ]
  },
  {
   "cell_type": "code",
   "execution_count": 289,
   "metadata": {},
   "outputs": [
    {
     "name": "stdout",
     "output_type": "stream",
     "text": [
      "Tensor(\"input_44:0\", shape=(?, 50), dtype=float32)\n",
      "Tensor(\"dense_165/Relu:0\", shape=(?, 35), dtype=float32)\n",
      "Tensor(\"input_45:0\", shape=(?, 77, 153, 2), dtype=float32)\n",
      "Tensor(\"dropout_138/cond/Merge:0\", shape=(?, 35), dtype=float32)\n"
     ]
    }
   ],
   "source": [
    "model_w2v.create_model(**model_w2v.model_params)"
   ]
  },
  {
   "cell_type": "code",
   "execution_count": null,
   "metadata": {},
   "outputs": [],
   "source": []
  },
  {
   "cell_type": "code",
   "execution_count": 148,
   "metadata": {},
   "outputs": [],
   "source": [
    "importlib.reload(w2v_model)\n",
    "model_w2v = w2v_model.W2V(2, dim_errors, dim_sites, embedding_dim)"
   ]
  },
  {
   "cell_type": "code",
   "execution_count": 149,
   "metadata": {},
   "outputs": [],
   "source": [
    "model_w2v.create_model(**model_w2v.model_params)"
   ]
  },
  {
   "cell_type": "code",
   "execution_count": 150,
   "metadata": {},
   "outputs": [
    {
     "name": "stdout",
     "output_type": "stream",
     "text": [
      "_________________________________________________________________\n",
      "Layer (type)                 Output Shape              Param #   \n",
      "=================================================================\n",
      "input_79 (InputLayer)        (None, 77, 153, 50)       0         \n",
      "_________________________________________________________________\n",
      "reshape_74 (Reshape)         (None, 77, 7650)          0         \n",
      "_________________________________________________________________\n",
      "time_distributed_40 (TimeDis (None, 77, 20)            153020    \n",
      "_________________________________________________________________\n",
      "flatten_35 (Flatten)         (None, 1540)              0         \n",
      "_________________________________________________________________\n",
      "dense_300 (Dense)            (None, 35)                53935     \n",
      "_________________________________________________________________\n",
      "dropout_223 (Dropout)        (None, 35)                0         \n",
      "_________________________________________________________________\n",
      "dense_301 (Dense)            (None, 35)                1260      \n",
      "_________________________________________________________________\n",
      "dropout_224 (Dropout)        (None, 35)                0         \n",
      "_________________________________________________________________\n",
      "dense_302 (Dense)            (None, 35)                1260      \n",
      "_________________________________________________________________\n",
      "dropout_225 (Dropout)        (None, 35)                0         \n",
      "_________________________________________________________________\n",
      "dense_303 (Dense)            (None, 35)                1260      \n",
      "_________________________________________________________________\n",
      "dropout_226 (Dropout)        (None, 35)                0         \n",
      "_________________________________________________________________\n",
      "dense_304 (Dense)            (None, 35)                1260      \n",
      "_________________________________________________________________\n",
      "dropout_227 (Dropout)        (None, 35)                0         \n",
      "_________________________________________________________________\n",
      "dense_305 (Dense)            (None, 35)                1260      \n",
      "_________________________________________________________________\n",
      "dropout_228 (Dropout)        (None, 35)                0         \n",
      "_________________________________________________________________\n",
      "dense_306 (Dense)            (None, 1)                 36        \n",
      "=================================================================\n",
      "Total params: 213,291\n",
      "Trainable params: 213,291\n",
      "Non-trainable params: 0\n",
      "_________________________________________________________________\n"
     ]
    }
   ],
   "source": [
    "model_w2v.model.summary()"
   ]
  },
  {
   "cell_type": "code",
   "execution_count": null,
   "metadata": {},
   "outputs": [],
   "source": []
  },
  {
   "cell_type": "code",
   "execution_count": 127,
   "metadata": {},
   "outputs": [],
   "source": [
    "# Early stopping\n",
    "import keras\n",
    "from sklearn.metrics import roc_auc_score\n",
    "\n",
    "class EarlyStoppingRoc(keras.callbacks.Callback):\n",
    "\n",
    "    def __init__(self, patience, mode='min'):\n",
    "\n",
    "        super().__init__()\n",
    "        self.patience = patience\n",
    "        self.best_score = -np.inf if mode == 'max' else np.inf\n",
    "        self.wait = 0\n",
    "        self.is_better = np.greater if mode == 'max' else np.less\n",
    "\n",
    "\n",
    "    def on_epoch_end(self, epoch, logs={}):\n",
    "\n",
    "        print( self.validation_data[1].shape )\n",
    "        \n",
    "        val_predict = (np.asarray(self.model.predict([self.validation_data[0], self.validation_data[1]])))\n",
    "        val_predict_max = np.argmax(val_predict, axis=-1)\n",
    "        val_targ = self.validation_data[2]\n",
    "        score = roc_auc_score(val_targ, val_predict)\n",
    "        print\n",
    "        print( score )\n",
    "        print\n",
    "        if self.is_better(score, self.best_score):\n",
    "            self.wait = 0\n",
    "            self.best_score = score\n",
    "        else:\n",
    "            self.wait += 1\n",
    "        if self.wait > self.patience:\n",
    "            self.model.stop_training = True"
   ]
  },
  {
   "cell_type": "code",
   "execution_count": 128,
   "metadata": {},
   "outputs": [],
   "source": [
    "class Metrics(keras.callbacks.Callback):\n",
    "    \n",
    "    def __init__(self, val_gen):\n",
    "        super().__init__()\n",
    "        self.validation_gen = val_gen    \n",
    "        \n",
    "    def on_epoch_end(self, epoch, logs={}):\n",
    "        \n",
    "        X_test_batches = []\n",
    "        y_test_batches = []\n",
    "        for X,y in self.validation_gen.gen_batches():\n",
    "            X_test_batches.append(np.asarray(self.model.predict(X)))\n",
    "            y_test_batches.append(y)\n",
    "                        \n",
    "                        \n",
    "        X_test = np.concatenate(X_test_batches)\n",
    "        y_test = np.concatenate(y_test_batches)\n",
    "                \n",
    "        y = y_test[0:X_test.shape[0]]\n",
    "        score = roc_auc_score(y, X_test)\n",
    "        print\n",
    "        print( score )\n",
    "        print        \n",
    "        \n",
    "        return"
   ]
  },
  {
   "cell_type": "code",
   "execution_count": 141,
   "metadata": {},
   "outputs": [
    {
     "name": "stderr",
     "output_type": "stream",
     "text": [
      "/nfshome/llayer/AIErrorLogAnalysis/training/data_loader/input_batch_generator.py:16: SettingWithCopyWarning: \n",
      "A value is trying to be set on a copy of a slice from a DataFrame.\n",
      "Try using .loc[row_indexer,col_indexer] = value instead\n",
      "\n",
      "See the caveats in the documentation: http://pandas.pydata.org/pandas-docs/stable/user_guide/indexing.html#returning-a-view-versus-a-copy\n",
      "  self.frame['unique_index'] = self.frame.reset_index().index\n"
     ]
    },
    {
     "name": "stdout",
     "output_type": "stream",
     "text": [
      "Epoch 1/20\n"
     ]
    },
    {
     "ename": "ValueError",
     "evalue": "Error when checking input: expected input_76 to have shape (77, 153, 50) but got array with shape (77, 81, 50)",
     "output_type": "error",
     "traceback": [
      "\u001b[0;31m---------------------------------------------------------------------------\u001b[0m",
      "\u001b[0;31mValueError\u001b[0m                                Traceback (most recent call last)",
      "\u001b[0;32m<ipython-input-141-7be3dae8ce17>\u001b[0m in \u001b[0;36m<module>\u001b[0;34m\u001b[0m\n\u001b[1;32m     42\u001b[0m                                  validation_steps = steps_val)\n\u001b[1;32m     43\u001b[0m \u001b[0;34m\u001b[0m\u001b[0m\n\u001b[0;32m---> 44\u001b[0;31m \u001b[0mtrain\u001b[0m\u001b[0;34m(\u001b[0m\u001b[0mactionshist\u001b[0m\u001b[0;34m)\u001b[0m\u001b[0;34m\u001b[0m\u001b[0;34m\u001b[0m\u001b[0m\n\u001b[0m\u001b[1;32m     45\u001b[0m \u001b[0mpsutil\u001b[0m\u001b[0;34m.\u001b[0m\u001b[0mcpu_percent\u001b[0m\u001b[0;34m(\u001b[0m\u001b[0;34m)\u001b[0m\u001b[0;34m,\u001b[0m \u001b[0mpsutil\u001b[0m\u001b[0;34m.\u001b[0m\u001b[0mvirtual_memory\u001b[0m\u001b[0;34m(\u001b[0m\u001b[0;34m)\u001b[0m\u001b[0;34m\u001b[0m\u001b[0;34m\u001b[0m\u001b[0m\n",
      "\u001b[0;32m<ipython-input-141-7be3dae8ce17>\u001b[0m in \u001b[0;36mtrain\u001b[0;34m(X, test_size)\u001b[0m\n\u001b[1;32m     40\u001b[0m     model_w2v.model.fit_generator(generator = generator_train.gen_inf_batches(), steps_per_epoch = steps_per_epoch,\n\u001b[1;32m     41\u001b[0m                                  \u001b[0mcallbacks\u001b[0m \u001b[0;34m=\u001b[0m \u001b[0;34m[\u001b[0m\u001b[0mm\u001b[0m\u001b[0;34m]\u001b[0m\u001b[0;34m,\u001b[0m \u001b[0mvalidation_data\u001b[0m \u001b[0;34m=\u001b[0m \u001b[0mgenerator_test\u001b[0m\u001b[0;34m.\u001b[0m\u001b[0mgen_inf_batches\u001b[0m\u001b[0;34m(\u001b[0m\u001b[0;34m)\u001b[0m\u001b[0;34m,\u001b[0m \u001b[0mepochs\u001b[0m \u001b[0;34m=\u001b[0m \u001b[0;36m20\u001b[0m\u001b[0;34m,\u001b[0m\u001b[0;34m\u001b[0m\u001b[0;34m\u001b[0m\u001b[0m\n\u001b[0;32m---> 42\u001b[0;31m                                  validation_steps = steps_val)\n\u001b[0m\u001b[1;32m     43\u001b[0m \u001b[0;34m\u001b[0m\u001b[0m\n\u001b[1;32m     44\u001b[0m \u001b[0mtrain\u001b[0m\u001b[0;34m(\u001b[0m\u001b[0mactionshist\u001b[0m\u001b[0;34m)\u001b[0m\u001b[0;34m\u001b[0m\u001b[0;34m\u001b[0m\u001b[0m\n",
      "\u001b[0;32m/usr/local/lib/python3.6/site-packages/keras/legacy/interfaces.py\u001b[0m in \u001b[0;36mwrapper\u001b[0;34m(*args, **kwargs)\u001b[0m\n\u001b[1;32m     89\u001b[0m                 warnings.warn('Update your `' + object_name + '` call to the ' +\n\u001b[1;32m     90\u001b[0m                               'Keras 2 API: ' + signature, stacklevel=2)\n\u001b[0;32m---> 91\u001b[0;31m             \u001b[0;32mreturn\u001b[0m \u001b[0mfunc\u001b[0m\u001b[0;34m(\u001b[0m\u001b[0;34m*\u001b[0m\u001b[0margs\u001b[0m\u001b[0;34m,\u001b[0m \u001b[0;34m**\u001b[0m\u001b[0mkwargs\u001b[0m\u001b[0;34m)\u001b[0m\u001b[0;34m\u001b[0m\u001b[0;34m\u001b[0m\u001b[0m\n\u001b[0m\u001b[1;32m     92\u001b[0m         \u001b[0mwrapper\u001b[0m\u001b[0;34m.\u001b[0m\u001b[0m_original_function\u001b[0m \u001b[0;34m=\u001b[0m \u001b[0mfunc\u001b[0m\u001b[0;34m\u001b[0m\u001b[0;34m\u001b[0m\u001b[0m\n\u001b[1;32m     93\u001b[0m         \u001b[0;32mreturn\u001b[0m \u001b[0mwrapper\u001b[0m\u001b[0;34m\u001b[0m\u001b[0;34m\u001b[0m\u001b[0m\n",
      "\u001b[0;32m/usr/local/lib/python3.6/site-packages/keras/engine/training.py\u001b[0m in \u001b[0;36mfit_generator\u001b[0;34m(self, generator, steps_per_epoch, epochs, verbose, callbacks, validation_data, validation_steps, class_weight, max_queue_size, workers, use_multiprocessing, shuffle, initial_epoch)\u001b[0m\n\u001b[1;32m   1416\u001b[0m             \u001b[0muse_multiprocessing\u001b[0m\u001b[0;34m=\u001b[0m\u001b[0muse_multiprocessing\u001b[0m\u001b[0;34m,\u001b[0m\u001b[0;34m\u001b[0m\u001b[0;34m\u001b[0m\u001b[0m\n\u001b[1;32m   1417\u001b[0m             \u001b[0mshuffle\u001b[0m\u001b[0;34m=\u001b[0m\u001b[0mshuffle\u001b[0m\u001b[0;34m,\u001b[0m\u001b[0;34m\u001b[0m\u001b[0;34m\u001b[0m\u001b[0m\n\u001b[0;32m-> 1418\u001b[0;31m             initial_epoch=initial_epoch)\n\u001b[0m\u001b[1;32m   1419\u001b[0m \u001b[0;34m\u001b[0m\u001b[0m\n\u001b[1;32m   1420\u001b[0m     \u001b[0;34m@\u001b[0m\u001b[0minterfaces\u001b[0m\u001b[0;34m.\u001b[0m\u001b[0mlegacy_generator_methods_support\u001b[0m\u001b[0;34m\u001b[0m\u001b[0;34m\u001b[0m\u001b[0m\n",
      "\u001b[0;32m/usr/local/lib/python3.6/site-packages/keras/engine/training_generator.py\u001b[0m in \u001b[0;36mfit_generator\u001b[0;34m(model, generator, steps_per_epoch, epochs, verbose, callbacks, validation_data, validation_steps, class_weight, max_queue_size, workers, use_multiprocessing, shuffle, initial_epoch)\u001b[0m\n\u001b[1;32m    215\u001b[0m                 outs = model.train_on_batch(x, y,\n\u001b[1;32m    216\u001b[0m                                             \u001b[0msample_weight\u001b[0m\u001b[0;34m=\u001b[0m\u001b[0msample_weight\u001b[0m\u001b[0;34m,\u001b[0m\u001b[0;34m\u001b[0m\u001b[0;34m\u001b[0m\u001b[0m\n\u001b[0;32m--> 217\u001b[0;31m                                             class_weight=class_weight)\n\u001b[0m\u001b[1;32m    218\u001b[0m \u001b[0;34m\u001b[0m\u001b[0m\n\u001b[1;32m    219\u001b[0m                 \u001b[0mouts\u001b[0m \u001b[0;34m=\u001b[0m \u001b[0mto_list\u001b[0m\u001b[0;34m(\u001b[0m\u001b[0mouts\u001b[0m\u001b[0;34m)\u001b[0m\u001b[0;34m\u001b[0m\u001b[0;34m\u001b[0m\u001b[0m\n",
      "\u001b[0;32m/usr/local/lib/python3.6/site-packages/keras/engine/training.py\u001b[0m in \u001b[0;36mtrain_on_batch\u001b[0;34m(self, x, y, sample_weight, class_weight)\u001b[0m\n\u001b[1;32m   1209\u001b[0m             \u001b[0mx\u001b[0m\u001b[0;34m,\u001b[0m \u001b[0my\u001b[0m\u001b[0;34m,\u001b[0m\u001b[0;34m\u001b[0m\u001b[0;34m\u001b[0m\u001b[0m\n\u001b[1;32m   1210\u001b[0m             \u001b[0msample_weight\u001b[0m\u001b[0;34m=\u001b[0m\u001b[0msample_weight\u001b[0m\u001b[0;34m,\u001b[0m\u001b[0;34m\u001b[0m\u001b[0;34m\u001b[0m\u001b[0m\n\u001b[0;32m-> 1211\u001b[0;31m             class_weight=class_weight)\n\u001b[0m\u001b[1;32m   1212\u001b[0m         \u001b[0;32mif\u001b[0m \u001b[0mself\u001b[0m\u001b[0;34m.\u001b[0m\u001b[0m_uses_dynamic_learning_phase\u001b[0m\u001b[0;34m(\u001b[0m\u001b[0;34m)\u001b[0m\u001b[0;34m:\u001b[0m\u001b[0;34m\u001b[0m\u001b[0;34m\u001b[0m\u001b[0m\n\u001b[1;32m   1213\u001b[0m             \u001b[0mins\u001b[0m \u001b[0;34m=\u001b[0m \u001b[0mx\u001b[0m \u001b[0;34m+\u001b[0m \u001b[0my\u001b[0m \u001b[0;34m+\u001b[0m \u001b[0msample_weights\u001b[0m \u001b[0;34m+\u001b[0m \u001b[0;34m[\u001b[0m\u001b[0;36m1.\u001b[0m\u001b[0;34m]\u001b[0m\u001b[0;34m\u001b[0m\u001b[0;34m\u001b[0m\u001b[0m\n",
      "\u001b[0;32m/usr/local/lib/python3.6/site-packages/keras/engine/training.py\u001b[0m in \u001b[0;36m_standardize_user_data\u001b[0;34m(self, x, y, sample_weight, class_weight, check_array_lengths, batch_size)\u001b[0m\n\u001b[1;32m    749\u001b[0m             \u001b[0mfeed_input_shapes\u001b[0m\u001b[0;34m,\u001b[0m\u001b[0;34m\u001b[0m\u001b[0;34m\u001b[0m\u001b[0m\n\u001b[1;32m    750\u001b[0m             \u001b[0mcheck_batch_axis\u001b[0m\u001b[0;34m=\u001b[0m\u001b[0;32mFalse\u001b[0m\u001b[0;34m,\u001b[0m  \u001b[0;31m# Don't enforce the batch size.\u001b[0m\u001b[0;34m\u001b[0m\u001b[0;34m\u001b[0m\u001b[0m\n\u001b[0;32m--> 751\u001b[0;31m             exception_prefix='input')\n\u001b[0m\u001b[1;32m    752\u001b[0m \u001b[0;34m\u001b[0m\u001b[0m\n\u001b[1;32m    753\u001b[0m         \u001b[0;32mif\u001b[0m \u001b[0my\u001b[0m \u001b[0;32mis\u001b[0m \u001b[0;32mnot\u001b[0m \u001b[0;32mNone\u001b[0m\u001b[0;34m:\u001b[0m\u001b[0;34m\u001b[0m\u001b[0;34m\u001b[0m\u001b[0m\n",
      "\u001b[0;32m/usr/local/lib/python3.6/site-packages/keras/engine/training_utils.py\u001b[0m in \u001b[0;36mstandardize_input_data\u001b[0;34m(data, names, shapes, check_batch_axis, exception_prefix)\u001b[0m\n\u001b[1;32m    136\u001b[0m                             \u001b[0;34m': expected '\u001b[0m \u001b[0;34m+\u001b[0m \u001b[0mnames\u001b[0m\u001b[0;34m[\u001b[0m\u001b[0mi\u001b[0m\u001b[0;34m]\u001b[0m \u001b[0;34m+\u001b[0m \u001b[0;34m' to have shape '\u001b[0m \u001b[0;34m+\u001b[0m\u001b[0;34m\u001b[0m\u001b[0;34m\u001b[0m\u001b[0m\n\u001b[1;32m    137\u001b[0m                             \u001b[0mstr\u001b[0m\u001b[0;34m(\u001b[0m\u001b[0mshape\u001b[0m\u001b[0;34m)\u001b[0m \u001b[0;34m+\u001b[0m \u001b[0;34m' but got array with shape '\u001b[0m \u001b[0;34m+\u001b[0m\u001b[0;34m\u001b[0m\u001b[0;34m\u001b[0m\u001b[0m\n\u001b[0;32m--> 138\u001b[0;31m                             str(data_shape))\n\u001b[0m\u001b[1;32m    139\u001b[0m     \u001b[0;32mreturn\u001b[0m \u001b[0mdata\u001b[0m\u001b[0;34m\u001b[0m\u001b[0;34m\u001b[0m\u001b[0m\n\u001b[1;32m    140\u001b[0m \u001b[0;34m\u001b[0m\u001b[0m\n",
      "\u001b[0;31mValueError\u001b[0m: Error when checking input: expected input_76 to have shape (77, 153, 50) but got array with shape (77, 81, 50)"
     ]
    }
   ],
   "source": [
    "from sklearn.model_selection import train_test_split\n",
    "importlib.reload(w2v_model)\n",
    "importlib.reload(input_batch_generator)\n",
    "\n",
    "\n",
    "\n",
    "def train(X, test_size=0.33):\n",
    "    #model_w2v = w2v_model.SimpleAverage(2, dim_errors, dim_sites, embedding_dim)\n",
    "    embedding_dim = 50\n",
    "    model_w2v = w2v_model.W2V(2, dim_errors, dim_sites, embedding_dim)\n",
    "    model_w2v.create_model(**model_w2v.model_params)\n",
    "    batch_size = 100\n",
    "    #es = EarlyStoppingRoc(mode='max', patience=5)\n",
    "    train, test = train_test_split(X, test_size = test_size)\n",
    "    generator_train = input_batch_generator.InputBatchGenerator(train, 'label', codes_index, sites_index,\n",
    "                                                      embedding_dim, batch_size = batch_size, \n",
    "                                                      averaged=True, first_only=True, count_msg = False)\n",
    "    #generator = input_batch_generator.InputBatchGenerator(train, 'label', codes_index, sites_index, embeddind_dim)   \n",
    "    #counts_train = generator.get_counts_matrix()\n",
    "    #w2v_train = np.array(list(train['avg']))\n",
    "    generator_test = input_batch_generator.InputBatchGenerator(test, 'label', codes_index, sites_index,\n",
    "                                                      embedding_dim, batch_size = batch_size, \n",
    "                                                      averaged=True, first_only=True, count_msg = False)    \n",
    "    #counts_test = generator.get_counts_matrix()\n",
    "    #w2v_test = np.array(list(test['avg']))\n",
    "    #print(counts_train[0].shape, w2v_train.shape)\n",
    "    #print(counts_test[0].shape, w2v_test.shape)\n",
    "    \n",
    "    #X_train = [counts_train[0] , w2v_train]\n",
    "    #X_test = [counts_test[0] , w2v_test]\n",
    "    #y_train = counts_train[1]\n",
    "    #y_test = counts_test[1]\n",
    "    \n",
    "    #model_w2v.model.fit( X_train, y_train, validation_data = (X_test, y_test), batch_size = 2370, epochs = 20,\n",
    "    #                   callbacks = [es]) \n",
    "    \n",
    "    steps_per_epoch = int(len(train) / batch_size)\n",
    "    steps_val = int(len(test) / batch_size)\n",
    "    m = Metrics(generator_test)\n",
    "    model_w2v.model.fit_generator(generator = generator_train.gen_inf_batches(), steps_per_epoch = steps_per_epoch,\n",
    "                                 callbacks = [m], validation_data = generator_test.gen_inf_batches(), epochs = 20, \n",
    "                                 validation_steps = steps_val)\n",
    "    \n",
    "train(actionshist)\n",
    "psutil.cpu_percent(), psutil.virtual_memory()"
   ]
  },
  {
   "cell_type": "markdown",
   "metadata": {},
   "source": [
    "## Train the count models"
   ]
  },
  {
   "cell_type": "code",
   "execution_count": 28,
   "metadata": {},
   "outputs": [
    {
     "data": {
      "text/plain": [
       "<module 'fit_handler' from '/nfshome/llayer/AIErrorLogAnalysis/training/fit_handler.py'>"
      ]
     },
     "execution_count": 28,
     "metadata": {},
     "output_type": "execute_result"
    }
   ],
   "source": [
    "importlib.reload(fit_handler)"
   ]
  },
  {
   "cell_type": "code",
   "execution_count": 29,
   "metadata": {},
   "outputs": [],
   "source": [
    "importlib.reload(input_batch_generator)\n",
    "padding_size = 200\n",
    "generator = input_batch_generator.InputBatchGenerator(actionshist, 'label', codes_index, sites_index,\n",
    "                                                      padding_size)"
   ]
  },
  {
   "cell_type": "code",
   "execution_count": 30,
   "metadata": {},
   "outputs": [],
   "source": [
    "X, y = generator.get_counts_matrix()"
   ]
  },
  {
   "cell_type": "code",
   "execution_count": 31,
   "metadata": {},
   "outputs": [
    {
     "data": {
      "text/plain": [
       "(33586, 77, 153, 2)"
      ]
     },
     "execution_count": 31,
     "metadata": {},
     "output_type": "execute_result"
    }
   ],
   "source": [
    "X.shape"
   ]
  },
  {
   "cell_type": "code",
   "execution_count": 32,
   "metadata": {},
   "outputs": [
    {
     "data": {
      "text/plain": [
       "(1.0,\n",
       " svmem(total=101089452032, available=95310278656, percent=5.7, used=5183545344, free=12556406784, active=21971963904, inactive=63444500480, buffers=213016576, cached=83136483328, shared=86691840, slab=1378877440))"
      ]
     },
     "execution_count": 32,
     "metadata": {},
     "output_type": "execute_result"
    }
   ],
   "source": [
    "psutil.cpu_percent(), psutil.virtual_memory()"
   ]
  },
  {
   "cell_type": "code",
   "execution_count": 73,
   "metadata": {},
   "outputs": [],
   "source": [
    "handler = fit_handler.FitHandler()"
   ]
  },
  {
   "cell_type": "code",
   "execution_count": 29,
   "metadata": {},
   "outputs": [],
   "source": [
    "ff = baseline_model.FF(2, dim_errors, dim_sites)"
   ]
  },
  {
   "cell_type": "code",
   "execution_count": 76,
   "metadata": {
    "scrolled": true
   },
   "outputs": [
    {
     "name": "stdout",
     "output_type": "stream",
     "text": [
      "4.4 svmem(total=101089452032, available=80699760640, percent=20.2, used=19819245568, free=19038736384, active=35384201216, inactive=42300755968, buffers=463794176, cached=61767675904, shared=61505536, slab=2501304320)\n",
      "Train on 22390 samples, validate on 11196 samples\n",
      "Epoch 1/200\n",
      "22390/22390 [==============================] - 10s 445us/step - loss: 0.7233 - acc: 0.8686 - val_loss: 0.4960 - val_acc: 0.9487\n",
      "0\n",
      "0.5123153444596286\n",
      "(0.06717972868461328, 0.07118601294730793)\n",
      "Epoch 2/200\n",
      "22390/22390 [==============================] - 10s 425us/step - loss: 0.4149 - acc: 0.9476 - val_loss: 0.3313 - val_acc: 0.9487\n",
      "0\n",
      "0.6280099090901337\n",
      "(0.0832746443472585, 0.08433252594141555)\n",
      "Epoch 3/200\n",
      "22390/22390 [==============================] - 9s 412us/step - loss: 0.3000 - acc: 0.9476 - val_loss: 0.2724 - val_acc: 0.9487\n",
      "0\n",
      "0.6884662494579327\n",
      "(0.09437242069994874, 0.09499773133705841)\n",
      "Epoch 4/200\n",
      "22390/22390 [==============================] - 10s 434us/step - loss: 0.2676 - acc: 0.9476 - val_loss: 0.2542 - val_acc: 0.9487\n",
      "0\n",
      "0.7297692416698759\n",
      "(0.12347791114684216, 0.12431338362424187)\n",
      "Epoch 5/200\n",
      "22390/22390 [==============================] - 10s 431us/step - loss: 0.2459 - acc: 0.9476 - val_loss: 0.2422 - val_acc: 0.9487\n",
      "0\n",
      "0.7449387636074494\n",
      "(0.1595501772806326, 0.16061083593160735)\n",
      "Epoch 6/200\n",
      "22390/22390 [==============================] - 9s 408us/step - loss: 0.2335 - acc: 0.9476 - val_loss: 0.2317 - val_acc: 0.9487\n",
      "0\n",
      "0.746479186252712\n",
      "(0.1397894679419258, 0.14123011921590295)\n",
      "Epoch 7/200\n",
      "22390/22390 [==============================] - 9s 411us/step - loss: 0.2227 - acc: 0.9476 - val_loss: 0.2244 - val_acc: 0.9487\n",
      "0\n",
      "0.7589387813209978\n",
      "(0.15757331118300083, 0.15841516245642964)\n",
      "Epoch 8/200\n",
      "22390/22390 [==============================] - 10s 433us/step - loss: 0.2153 - acc: 0.9476 - val_loss: 0.2202 - val_acc: 0.9487\n",
      "0\n",
      "0.7608588151473143\n",
      "(0.16114224275855638, 0.16203358685745714)\n",
      "Epoch 9/200\n",
      "22390/22390 [==============================] - 9s 418us/step - loss: 0.2139 - acc: 0.9476 - val_loss: 0.2224 - val_acc: 0.9487\n",
      "0\n",
      "0.7505201714671476\n",
      "(0.15691695005427275, 0.15789567018437128)\n",
      "Epoch 10/200\n",
      "22390/22390 [==============================] - 10s 443us/step - loss: 0.2105 - acc: 0.9476 - val_loss: 0.2165 - val_acc: 0.9487\n",
      "0\n",
      "0.763271384025135\n",
      "(0.18112069840071301, 0.18214687815310798)\n",
      "Epoch 11/200\n",
      "22390/22390 [==============================] - 10s 436us/step - loss: 0.2049 - acc: 0.9476 - val_loss: 0.2169 - val_acc: 0.9487\n",
      "0\n",
      "0.7578945020426346\n",
      "(0.1869317346865223, 0.18818185083615616)\n",
      "Epoch 12/200\n",
      "22390/22390 [==============================] - 9s 417us/step - loss: 0.2015 - acc: 0.9476 - val_loss: 0.2168 - val_acc: 0.9487\n",
      "0\n",
      "0.7688548420640352\n",
      "(0.19513236388550181, 0.19625297994122845)\n",
      "Epoch 13/200\n",
      "22390/22390 [==============================] - 10s 447us/step - loss: 0.2026 - acc: 0.9476 - val_loss: 0.2204 - val_acc: 0.9487\n",
      "0\n",
      "0.7509922047266306\n",
      "(0.1796582842894162, 0.18075307614017014)\n",
      "Epoch 14/200\n",
      "22390/22390 [==============================] - 10s 425us/step - loss: 0.1989 - acc: 0.9476 - val_loss: 0.2193 - val_acc: 0.9487\n",
      "0\n",
      "0.7584060627571335\n",
      "(0.19490598953072424, 0.19616043297479532)\n",
      "Epoch 15/200\n",
      "22390/22390 [==============================] - 9s 414us/step - loss: 0.1990 - acc: 0.9476 - val_loss: 0.2168 - val_acc: 0.9487\n",
      "0\n",
      "0.7564118124437021\n",
      "(0.20440815133190623, 0.20565211997284255)\n",
      "Epoch 16/200\n",
      "22390/22390 [==============================] - 10s 444us/step - loss: 0.1946 - acc: 0.9476 - val_loss: 0.2198 - val_acc: 0.9487\n",
      "0\n",
      "0.7627023362858101\n",
      "(0.2040089523773523, 0.20559805760962704)\n",
      "Epoch 17/200\n",
      "22390/22390 [==============================] - 9s 422us/step - loss: 0.1921 - acc: 0.9476 - val_loss: 0.2169 - val_acc: 0.9487\n",
      "0\n",
      "0.75731774562951\n",
      "(0.2100589439901225, 0.21150817895777038)\n",
      "Epoch 18/200\n",
      "22390/22390 [==============================] - 9s 419us/step - loss: 0.1932 - acc: 0.9476 - val_loss: 0.2235 - val_acc: 0.9487\n",
      "0\n",
      "0.7558169324464312\n",
      "(0.2195134342290246, 0.22132399141183087)\n",
      "8.7 svmem(total=101089452032, available=74341470208, percent=26.5, used=26177536000, free=12636180480, active=41725190144, inactive=42345299968, buffers=463794176, cached=61811941376, shared=61505536, slab=2501136384)\n",
      "Train on 22391 samples, validate on 11195 samples\n",
      "Epoch 1/200\n",
      "22391/22391 [==============================] - 9s 405us/step - loss: 0.6532 - acc: 0.9364 - val_loss: 0.4858 - val_acc: 0.9477\n",
      "0\n",
      "0.5619316561540878\n",
      "(0.09480370150996778, 0.09864533835957154)\n",
      "Epoch 2/200\n",
      "22391/22391 [==============================] - 8s 374us/step - loss: 0.3955 - acc: 0.9481 - val_loss: 0.3293 - val_acc: 0.9477\n",
      "0\n",
      "0.666011503419609\n",
      "(0.14176699098152273, 0.14359492736993812)\n",
      "Epoch 3/200\n",
      "22391/22391 [==============================] - 8s 378us/step - loss: 0.2995 - acc: 0.9481 - val_loss: 0.2806 - val_acc: 0.9477\n",
      "0\n",
      "0.6970116081426166\n",
      "(0.10489241946230626, 0.10557162105756199)\n",
      "Epoch 4/200\n",
      "22391/22391 [==============================] - 11s 491us/step - loss: 0.2645 - acc: 0.9481 - val_loss: 0.2606 - val_acc: 0.9477\n",
      "0\n",
      "0.7331658570772613\n",
      "(0.1603967771532215, 0.16208166378355812)\n",
      "Epoch 5/200\n",
      "22391/22391 [==============================] - 11s 510us/step - loss: 0.2437 - acc: 0.9481 - val_loss: 0.2477 - val_acc: 0.9477\n",
      "0\n",
      "0.7354692799084881\n",
      "(0.14754647458574582, 0.14882805749379976)\n",
      "Epoch 6/200\n",
      "22391/22391 [==============================] - 11s 500us/step - loss: 0.2293 - acc: 0.9481 - val_loss: 0.2405 - val_acc: 0.9477\n",
      "0\n",
      "0.7332823412842263\n",
      "(0.16035903792214098, 0.1617319891503505)\n",
      "Epoch 7/200\n",
      "22391/22391 [==============================] - 13s 575us/step - loss: 0.2242 - acc: 0.9481 - val_loss: 0.2374 - val_acc: 0.9477\n",
      "0\n",
      "0.731174267140337\n",
      "(0.17196092040734695, 0.17378891082159023)\n",
      "Epoch 8/200\n",
      "22391/22391 [==============================] - 11s 506us/step - loss: 0.2158 - acc: 0.9481 - val_loss: 0.2345 - val_acc: 0.9477\n",
      "0\n",
      "0.7492649250424934\n",
      "(0.18587398905421312, 0.18779475310521293)\n",
      "Epoch 9/200\n",
      "22391/22391 [==============================] - 12s 542us/step - loss: 0.2087 - acc: 0.9481 - val_loss: 0.2295 - val_acc: 0.9477\n",
      "0\n",
      "0.7584218242747931\n",
      "(0.2118610469094239, 0.21357967899380026)\n",
      "Epoch 10/200\n",
      "22391/22391 [==============================] - 12s 519us/step - loss: 0.2072 - acc: 0.9481 - val_loss: 0.2325 - val_acc: 0.9477\n",
      "0\n",
      "0.7534524758935692\n",
      "(0.19223631971983446, 0.19365007769404702)\n",
      "Epoch 11/200\n",
      "22391/22391 [==============================] - 11s 513us/step - loss: 0.2024 - acc: 0.9481 - val_loss: 0.2285 - val_acc: 0.9477\n",
      "0\n",
      "0.7564926653616569\n",
      "(0.20811346035204578, 0.20981554547718173)\n",
      "Epoch 12/200\n",
      "22391/22391 [==============================] - 13s 570us/step - loss: 0.1995 - acc: 0.9481 - val_loss: 0.2308 - val_acc: 0.9477\n",
      "0\n",
      "0.7533044136719915\n",
      "(0.2136979427430408, 0.21517381527900808)\n",
      "Epoch 13/200\n",
      "22391/22391 [==============================] - 11s 504us/step - loss: 0.1994 - acc: 0.9481 - val_loss: 0.2271 - val_acc: 0.9477\n",
      "0\n",
      "0.7570527723402369\n",
      "(0.21082748555449854, 0.2124382954431537)\n",
      "Epoch 14/200\n",
      "22391/22391 [==============================] - 12s 542us/step - loss: 0.1943 - acc: 0.9481 - val_loss: 0.2316 - val_acc: 0.9477\n",
      "0\n",
      "0.7544651473774941\n",
      "(0.21417588892254777, 0.2163868186384568)\n",
      "Epoch 15/200\n",
      "22391/22391 [==============================] - 12s 533us/step - loss: 0.1920 - acc: 0.9481 - val_loss: 0.2296 - val_acc: 0.9477\n",
      "0\n",
      "0.7607360416314234\n",
      "(0.22824699728690886, 0.22973673016562582)\n",
      "Epoch 16/200\n",
      "22391/22391 [==============================] - 11s 514us/step - loss: 0.1878 - acc: 0.9481 - val_loss: 0.2369 - val_acc: 0.9478\n",
      "0\n",
      "0.7583327291621353\n",
      "(0.22954283605662937, 0.23118254993737358)\n",
      "Epoch 17/200\n",
      "22391/22391 [==============================] - 13s 567us/step - loss: 0.1894 - acc: 0.9488 - val_loss: 0.2344 - val_acc: 0.9477\n",
      "0\n",
      "0.7512552260808623\n",
      "(0.22037238617847182, 0.22188324265087547)\n",
      "Epoch 18/200\n",
      "22391/22391 [==============================] - 11s 502us/step - loss: 0.1906 - acc: 0.9494 - val_loss: 0.2294 - val_acc: 0.9474\n",
      "0\n",
      "0.7651079049759539\n",
      "(0.24361985001863126, 0.24515251374018893)\n",
      "Epoch 19/200\n",
      "22391/22391 [==============================] - 12s 545us/step - loss: 0.1876 - acc: 0.9503 - val_loss: 0.2334 - val_acc: 0.9465\n",
      "0\n",
      "0.7628909189041141\n",
      "(0.23753456272398632, 0.23902226415718258)\n",
      "Epoch 20/200\n",
      "22391/22391 [==============================] - 12s 521us/step - loss: 0.1844 - acc: 0.9502 - val_loss: 0.2389 - val_acc: 0.9463\n"
     ]
    },
    {
     "name": "stdout",
     "output_type": "stream",
     "text": [
      "0\n",
      "0.7494717932606717\n",
      "(0.22142124751407843, 0.22299932784374144)\n",
      "Epoch 21/200\n",
      "22391/22391 [==============================] - 12s 518us/step - loss: 0.1864 - acc: 0.9518 - val_loss: 0.2347 - val_acc: 0.9476\n",
      "0\n",
      "0.7561909825434803\n",
      "(0.241260327737362, 0.24276236324964595)\n",
      "Epoch 22/200\n",
      "22391/22391 [==============================] - 13s 567us/step - loss: 0.1863 - acc: 0.9521 - val_loss: 0.2321 - val_acc: 0.9468\n",
      "0\n",
      "0.7624696907449029\n",
      "(0.24563885109206984, 0.24723577042516642)\n",
      "Epoch 23/200\n",
      "22391/22391 [==============================] - 11s 506us/step - loss: 0.1829 - acc: 0.9528 - val_loss: 0.2381 - val_acc: 0.9456\n",
      "0\n",
      "0.7550100292418859\n",
      "(0.23019115047517996, 0.2319155178188784)\n",
      "Epoch 24/200\n",
      "22391/22391 [==============================] - 12s 544us/step - loss: 0.1815 - acc: 0.9538 - val_loss: 0.2429 - val_acc: 0.9438\n",
      "0\n",
      "0.7452051362607441\n",
      "(0.22241712790286816, 0.2241739670888918)\n",
      "8.7 svmem(total=101089452032, available=72205336576, percent=28.6, used=28313673728, free=10409758720, active=43869601792, inactive=42420154368, buffers=463794176, cached=61902225408, shared=61505536, slab=2501312512)\n",
      "Train on 22391 samples, validate on 11195 samples\n",
      "Epoch 1/200\n",
      "22391/22391 [==============================] - 12s 533us/step - loss: 0.6623 - acc: 0.9434 - val_loss: 0.5301 - val_acc: 0.9475\n",
      "0\n",
      "0.5168019739242922\n",
      "(0.07528579016105795, 0.08066336041412021)\n",
      "Epoch 2/200\n",
      "22391/22391 [==============================] - 9s 409us/step - loss: 0.4179 - acc: 0.9482 - val_loss: 0.3517 - val_acc: 0.9475\n",
      "0\n",
      "0.6562622456355032\n",
      "(0.10927421282127502, 0.1102334101176353)\n",
      "Epoch 3/200\n",
      "22391/22391 [==============================] - 9s 415us/step - loss: 0.3066 - acc: 0.9482 - val_loss: 0.2994 - val_acc: 0.9475\n",
      "0\n",
      "0.6846267450130803\n",
      "(0.11239336336880498, 0.11296720041776948)\n",
      "Epoch 4/200\n",
      "22391/22391 [==============================] - 12s 549us/step - loss: 0.2688 - acc: 0.9482 - val_loss: 0.2704 - val_acc: 0.9475\n",
      "0\n",
      "0.6913383152827455\n",
      "(0.13043996951191014, 0.13118626956863472)\n",
      "Epoch 5/200\n",
      "22391/22391 [==============================] - 12s 527us/step - loss: 0.2474 - acc: 0.9482 - val_loss: 0.2586 - val_acc: 0.9475\n",
      "0\n",
      "0.7001471560623872\n",
      "(0.13810405299296521, 0.1389048061511331)\n",
      "Epoch 6/200\n",
      "22391/22391 [==============================] - 11s 494us/step - loss: 0.2307 - acc: 0.9482 - val_loss: 0.2527 - val_acc: 0.9475\n",
      "0\n",
      "0.6997198615469569\n",
      "(0.13726025227711547, 0.13839541694957927)\n",
      "Epoch 7/200\n",
      "22391/22391 [==============================] - 12s 536us/step - loss: 0.2234 - acc: 0.9482 - val_loss: 0.2487 - val_acc: 0.9475\n",
      "0\n",
      "0.7063287368308312\n",
      "(0.15687253142044227, 0.15793559238201527)\n",
      "Epoch 8/200\n",
      "22391/22391 [==============================] - 12s 529us/step - loss: 0.2172 - acc: 0.9482 - val_loss: 0.2510 - val_acc: 0.9475\n",
      "0\n",
      "0.6977870954170299\n",
      "(0.13751406345231354, 0.13865113074350593)\n",
      "Epoch 9/200\n",
      "22391/22391 [==============================] - 11s 509us/step - loss: 0.2151 - acc: 0.9482 - val_loss: 0.2513 - val_acc: 0.9475\n",
      "0\n",
      "0.7013337200629286\n",
      "(0.17564360978863852, 0.1768878533829563)\n",
      "Epoch 10/200\n",
      "22391/22391 [==============================] - 13s 562us/step - loss: 0.2076 - acc: 0.9482 - val_loss: 0.2426 - val_acc: 0.9475\n",
      "0\n",
      "0.716972619159854\n",
      "(0.19478457020309967, 0.19660326500062067)\n",
      "Epoch 11/200\n",
      "22391/22391 [==============================] - 11s 494us/step - loss: 0.2037 - acc: 0.9482 - val_loss: 0.2450 - val_acc: 0.9475\n",
      "0\n",
      "0.7153401617081263\n",
      "(0.19729895967550695, 0.1990423392960359)\n",
      "Epoch 12/200\n",
      "22391/22391 [==============================] - 12s 534us/step - loss: 0.1993 - acc: 0.9482 - val_loss: 0.2473 - val_acc: 0.9475\n",
      "0\n",
      "0.7196992071081285\n",
      "(0.20756195344370074, 0.2092174903010886)\n",
      "Epoch 13/200\n",
      "22391/22391 [==============================] - 12s 529us/step - loss: 0.1994 - acc: 0.9482 - val_loss: 0.2442 - val_acc: 0.9475\n",
      "0\n",
      "0.7261290676353505\n",
      "(0.19407189376417064, 0.19547825203265573)\n",
      "Epoch 14/200\n",
      "22391/22391 [==============================] - 11s 504us/step - loss: 0.1972 - acc: 0.9482 - val_loss: 0.2431 - val_acc: 0.9475\n",
      "0\n",
      "0.7201792520534187\n",
      "(0.20071511459160352, 0.20212684606247638)\n",
      "Epoch 15/200\n",
      "22391/22391 [==============================] - 12s 538us/step - loss: 0.1944 - acc: 0.9482 - val_loss: 0.2492 - val_acc: 0.9475\n",
      "0\n",
      "0.7318734130778739\n",
      "(0.1999817582225812, 0.20146931664060108)\n",
      "Epoch 16/200\n",
      "22391/22391 [==============================] - 11s 491us/step - loss: 0.1938 - acc: 0.9482 - val_loss: 0.2440 - val_acc: 0.9475\n",
      "0\n",
      "0.7282961643222386\n",
      "(0.1984353598833353, 0.19995916421075768)\n",
      "Epoch 17/200\n",
      "22391/22391 [==============================] - 12s 534us/step - loss: 0.1916 - acc: 0.9482 - val_loss: 0.2468 - val_acc: 0.9475\n",
      "0\n",
      "0.7331388622197252\n",
      "(0.19977800333754966, 0.2011957177902089)\n",
      "Epoch 18/200\n",
      "22391/22391 [==============================] - 12s 533us/step - loss: 0.1914 - acc: 0.9482 - val_loss: 0.2445 - val_acc: 0.9475\n",
      "0\n",
      "0.7320290989970043\n",
      "(0.2136194890520331, 0.21485357105704975)\n",
      "Epoch 19/200\n",
      "22391/22391 [==============================] - 11s 503us/step - loss: 0.1902 - acc: 0.9494 - val_loss: 0.2504 - val_acc: 0.9472\n",
      "0\n",
      "0.7231261411890108\n",
      "(0.21752840472710114, 0.21891700170330358)\n",
      "Epoch 20/200\n",
      "22391/22391 [==============================] - 12s 538us/step - loss: 0.1877 - acc: 0.9523 - val_loss: 0.2540 - val_acc: 0.9479\n",
      "0\n",
      "0.7179645356775688\n",
      "(0.21768254426106154, 0.21927876187279255)\n",
      "Epoch 21/200\n",
      "22391/22391 [==============================] - 11s 487us/step - loss: 0.1867 - acc: 0.9510 - val_loss: 0.2451 - val_acc: 0.9465\n",
      "0\n",
      "0.7249414614530644\n",
      "(0.22386085545536527, 0.22482848547366743)\n",
      "Epoch 22/200\n",
      "22391/22391 [==============================] - 12s 528us/step - loss: 0.1838 - acc: 0.9540 - val_loss: 0.2508 - val_acc: 0.9438\n",
      "0\n",
      "0.7257664685559337\n",
      "(0.22713526211086482, 0.22846002356239872)\n",
      "Epoch 23/200\n",
      "22391/22391 [==============================] - 12s 516us/step - loss: 0.1802 - acc: 0.9529 - val_loss: 0.2508 - val_acc: 0.9467\n",
      "0\n",
      "0.7330774536645996\n",
      "(0.20897575451768866, 0.2103821577125585)\n",
      "8.7 svmem(total=101089452032, available=69823184896, percent=30.9, used=30695825408, free=7966142464, active=46246912000, inactive=42481123328, buffers=463794176, cached=61963689984, shared=61505536, slab=2501185536)\n"
     ]
    }
   ],
   "source": [
    "cv = handler.kfold_val(ff.model_params, X, y, kfold_splits = 3, batch_size = 2370, max_epochs = 200, optimize = False)"
   ]
  },
  {
   "cell_type": "code",
   "execution_count": 34,
   "metadata": {},
   "outputs": [
    {
     "data": {
      "text/plain": [
       "(4.4,\n",
       " svmem(total=101089452032, available=70893699072, percent=29.9, used=29625159680, free=9559494656, active=39035039744, inactive=48112922624, buffers=463597568, cached=61441200128, shared=61472768, slab=2498093056))"
      ]
     },
     "execution_count": 34,
     "metadata": {},
     "output_type": "execute_result"
    }
   ],
   "source": [
    "psutil.cpu_percent(), psutil.virtual_memory()"
   ]
  },
  {
   "cell_type": "code",
   "execution_count": 103,
   "metadata": {},
   "outputs": [
    {
     "data": {
      "image/png": "[encoded data removed]",
      "text/plain": [
       "<Figure size 432x288 with 1 Axes>"
      ]
     },
     "metadata": {
      "needs_background": "light"
     },
     "output_type": "display_data"
    }
   ],
   "source": [
    "importlib.reload(plot)\n",
    "plot.plot_metric(cv['es'], 'aucroc')"
   ]
  },
  {
   "cell_type": "code",
   "execution_count": 97,
   "metadata": {},
   "outputs": [
    {
     "data": {
      "image/png": "[encoded data removed]",
      "text/plain": [
       "<Figure size 432x288 with 1 Axes>"
      ]
     },
     "metadata": {
      "needs_background": "light"
     },
     "output_type": "display_data"
    }
   ],
   "source": [
    "plot.plot_cv_roc_curve(cv['aucs'], cv['tprs'], cv['fprs'])"
   ]
  },
  {
   "cell_type": "code",
   "execution_count": null,
   "metadata": {},
   "outputs": [],
   "source": [
    "result = handler.find_optimal_parameters( ff, X, y, batch_size = 1000, num_calls = 20 )"
   ]
  },
  {
   "cell_type": "code",
   "execution_count": null,
   "metadata": {},
   "outputs": [],
   "source": [
    "result[0].to_hdf('skopt_baseline_prune_sites_errors_neg.h5', 'frame')"
   ]
  },
  {
   "cell_type": "code",
   "execution_count": null,
   "metadata": {},
   "outputs": [],
   "source": [
    "prior_names = [a for a in ff.model_params.keys()]\n",
    "prior_names.append('batch_size')\n",
    "param_opt = handler.get_results(result[0], prior_names)"
   ]
  },
  {
   "cell_type": "code",
   "execution_count": 99,
   "metadata": {},
   "outputs": [],
   "source": [
    "skopt_files = ['skopt_baseline.h5', 'skopt_baseline_prune_neg.h5', 'skopt_baseline_prune_sites_errors.h5',\n",
    "             'skopt_baseline_prune_sites_errors_neg.h5', 'skopt_baseline_prune_sites.h5', 'skopt_baseline_tier.h5']\n",
    "skopt_titles = ['standard', 'prune_neg', 'prune_sites_error', 'pruned_sites_errors_neg', 'prune_sites', 'prune_tier']"
   ]
  },
  {
   "cell_type": "code",
   "execution_count": 108,
   "metadata": {},
   "outputs": [
    {
     "data": {
      "image/png": "[encoded data removed]",
      "text/plain": [
       "<Figure size 864x576 with 1 Axes>"
      ]
     },
     "metadata": {
      "needs_background": "light"
     },
     "output_type": "display_data"
    }
   ],
   "source": [
    "importlib.reload(plot)\n",
    "plot.plot_skopt_results(skopt_files, skopt_titles)"
   ]
  },
  {
   "cell_type": "markdown",
   "metadata": {},
   "source": [
    "## Train the error message models"
   ]
  },
  {
   "cell_type": "code",
   "execution_count": 34,
   "metadata": {},
   "outputs": [
    {
     "data": {
      "text/plain": [
       "<module 'models.nlp_model' from '/nfshome/llayer/AIErrorLogAnalysis/training/models/nlp_model.py'>"
      ]
     },
     "execution_count": 34,
     "metadata": {},
     "output_type": "execute_result"
    }
   ],
   "source": [
    "importlib.reload(nlp_model)"
   ]
  },
  {
   "cell_type": "code",
   "execution_count": 35,
   "metadata": {},
   "outputs": [],
   "source": [
    "importlib.reload(input_batch_generator)\n",
    "padding_size = 200\n",
    "batch_size = 100\n",
    "generator = input_batch_generator.InputBatchGenerator(actionshist, 'label', codes_index, sites_index,\n",
    "                                                      padding_size, batch_size = batch_size)"
   ]
  },
  {
   "cell_type": "code",
   "execution_count": 37,
   "metadata": {},
   "outputs": [
    {
     "data": {
      "text/plain": [
       "((100, 77, 153, 5, 200), (100, 77, 153, 2))"
      ]
     },
     "execution_count": 37,
     "metadata": {},
     "output_type": "execute_result"
    }
   ],
   "source": [
    "test = generator.msg_batch(0, 100)\n",
    "test[0].shape, test[1].shape"
   ]
  },
  {
   "cell_type": "code",
   "execution_count": 39,
   "metadata": {},
   "outputs": [
    {
     "name": "stdout",
     "output_type": "stream",
     "text": [
      "34 ms ± 943 µs per loop (mean ± std. dev. of 7 runs, 10 loops each)\n"
     ]
    }
   ],
   "source": [
    "%timeit generator.msg_batch(0, 100)"
   ]
  },
  {
   "cell_type": "code",
   "execution_count": 25,
   "metadata": {},
   "outputs": [],
   "source": [
    "model = nlp_model.NLP_Model(2, dim_errors, dim_sites, padding_size, max_msg, debug=True)"
   ]
  },
  {
   "cell_type": "code",
   "execution_count": 26,
   "metadata": {},
   "outputs": [
    {
     "name": "stderr",
     "output_type": "stream",
     "text": [
      "WARNING: Logging before flag parsing goes to stderr.\n",
      "W0813 01:15:13.035640 139849874995008 deprecation_wrapper.py:119] From /usr/local/lib/python3.6/site-packages/keras/backend/tensorflow_backend.py:74: The name tf.get_default_graph is deprecated. Please use tf.compat.v1.get_default_graph instead.\n",
      "\n",
      "W0813 01:15:13.091596 139849874995008 deprecation_wrapper.py:119] From /usr/local/lib/python3.6/site-packages/keras/backend/tensorflow_backend.py:517: The name tf.placeholder is deprecated. Please use tf.compat.v1.placeholder instead.\n",
      "\n",
      "W0813 01:15:13.112013 139849874995008 deprecation_wrapper.py:119] From /usr/local/lib/python3.6/site-packages/keras/backend/tensorflow_backend.py:4138: The name tf.random_uniform is deprecated. Please use tf.random.uniform instead.\n",
      "\n",
      "W0813 01:15:13.120683 139849874995008 deprecation_wrapper.py:119] From /usr/local/lib/python3.6/site-packages/keras/backend/tensorflow_backend.py:174: The name tf.get_default_session is deprecated. Please use tf.compat.v1.get_default_session instead.\n",
      "\n",
      "W0813 01:15:13.121259 139849874995008 deprecation_wrapper.py:119] From /usr/local/lib/python3.6/site-packages/keras/backend/tensorflow_backend.py:181: The name tf.ConfigProto is deprecated. Please use tf.compat.v1.ConfigProto instead.\n",
      "\n"
     ]
    },
    {
     "name": "stdout",
     "output_type": "stream",
     "text": [
      "Tensor(\"input_2:0\", shape=(?, 77, 153, 5, 200), dtype=float32)\n",
      "Tensor(\"reshape_1/Reshape:0\", shape=(?, 58905, 200), dtype=float32)\n"
     ]
    },
    {
     "name": "stderr",
     "output_type": "stream",
     "text": [
      "W0813 01:15:18.158759 139849874995008 deprecation_wrapper.py:119] From /usr/local/lib/python3.6/site-packages/keras/optimizers.py:790: The name tf.train.Optimizer is deprecated. Please use tf.compat.v1.train.Optimizer instead.\n",
      "\n",
      "W0813 01:15:18.167778 139849874995008 deprecation.py:323] From /usr/local/lib/python3.6/site-packages/tensorflow/python/ops/nn_impl.py:180: add_dispatch_support.<locals>.wrapper (from tensorflow.python.ops.array_ops) is deprecated and will be removed in a future version.\n",
      "Instructions for updating:\n",
      "Use tf.where in 2.0, which has the same broadcast rule as np.where\n"
     ]
    },
    {
     "name": "stdout",
     "output_type": "stream",
     "text": [
      "Tensor(\"time_distributed_1/Reshape_1:0\", shape=(?, 58905, 10), dtype=float32)\n",
      "Tensor(\"reshape_2/Reshape:0\", shape=(?, 11781, 5, 10), dtype=float32)\n",
      "Tensor(\"lambda_1/Mean:0\", shape=(?, 11781, 10), dtype=float32)\n",
      "Tensor(\"reshape_3/Reshape:0\", shape=(?, 77, 153, 10), dtype=float32)\n",
      "Tensor(\"input_1:0\", shape=(?, 77, 153, 2), dtype=float32)\n",
      "Tensor(\"concatenate_1/concat:0\", shape=(?, 77, 153, 12), dtype=float32)\n",
      "Tensor(\"time_distributed_2/Reshape_1:0\", shape=(?, 77, 10), dtype=float32)\n",
      "Tensor(\"flatten_2/Reshape:0\", shape=(?, ?), dtype=float32)\n",
      "Tensor(\"dense_2/Relu:0\", shape=(?, 10), dtype=float32)\n",
      "Tensor(\"dense_3/Sigmoid:0\", shape=(?, 1), dtype=float32)\n"
     ]
    },
    {
     "data": {
      "text/plain": [
       "<keras.engine.training.Model at 0x7f3078640470>"
      ]
     },
     "execution_count": 26,
     "metadata": {},
     "output_type": "execute_result"
    }
   ],
   "source": [
    "model.create_model(**model.model_params)"
   ]
  },
  {
   "cell_type": "code",
   "execution_count": 28,
   "metadata": {},
   "outputs": [
    {
     "name": "stdout",
     "output_type": "stream",
     "text": [
      "Word encoder model\n",
      "\n",
      "_________________________________________________________________\n",
      "Layer (type)                 Output Shape              Param #   \n",
      "=================================================================\n",
      "input_5 (InputLayer)         (None, 200)               0         \n",
      "_________________________________________________________________\n",
      "embedding_2 (Embedding)      (None, 200, 50)           1633300   \n",
      "_________________________________________________________________\n",
      "lstm_2 (LSTM)                (None, 10)                2440      \n",
      "=================================================================\n",
      "Total params: 1,635,740\n",
      "Trainable params: 2,440\n",
      "Non-trainable params: 1,633,300\n",
      "_________________________________________________________________\n",
      "\n",
      "\n",
      "Site encoder model\n",
      "_________________________________________________________________\n",
      "Layer (type)                 Output Shape              Param #   \n",
      "=================================================================\n",
      "input_6 (InputLayer)         (None, 153, 12)           0         \n",
      "_________________________________________________________________\n",
      "flatten_3 (Flatten)          (None, 1836)              0         \n",
      "_________________________________________________________________\n",
      "dense_4 (Dense)              (None, 10)                18370     \n",
      "=================================================================\n",
      "Total params: 18,370\n",
      "Trainable params: 18,370\n",
      "Non-trainable params: 0\n",
      "_________________________________________________________________\n",
      "\n",
      "\n",
      "Full model\n",
      "__________________________________________________________________________________________________\n",
      "Layer (type)                    Output Shape         Param #     Connected to                     \n",
      "==================================================================================================\n",
      "input_2 (InputLayer)            (None, 77, 153, 5, 2 0                                            \n",
      "__________________________________________________________________________________________________\n",
      "reshape_1 (Reshape)             (None, 58905, 200)   0           input_2[0][0]                    \n",
      "__________________________________________________________________________________________________\n",
      "time_distributed_1 (TimeDistrib (None, 58905, 10)    1635740     reshape_1[0][0]                  \n",
      "__________________________________________________________________________________________________\n",
      "reshape_2 (Reshape)             (None, 11781, 5, 10) 0           time_distributed_1[0][0]         \n",
      "__________________________________________________________________________________________________\n",
      "lambda_1 (Lambda)               (None, 11781, 10)    0           reshape_2[0][0]                  \n",
      "__________________________________________________________________________________________________\n",
      "reshape_3 (Reshape)             (None, 77, 153, 10)  0           lambda_1[0][0]                   \n",
      "__________________________________________________________________________________________________\n",
      "input_1 (InputLayer)            (None, 77, 153, 2)   0                                            \n",
      "__________________________________________________________________________________________________\n",
      "concatenate_1 (Concatenate)     (None, 77, 153, 12)  0           reshape_3[0][0]                  \n",
      "                                                                 input_1[0][0]                    \n",
      "__________________________________________________________________________________________________\n",
      "time_distributed_2 (TimeDistrib (None, 77, 10)       18370       concatenate_1[0][0]              \n",
      "__________________________________________________________________________________________________\n",
      "flatten_2 (Flatten)             (None, 770)          0           time_distributed_2[0][0]         \n",
      "__________________________________________________________________________________________________\n",
      "dense_2 (Dense)                 (None, 10)           7710        flatten_2[0][0]                  \n",
      "__________________________________________________________________________________________________\n",
      "dense_3 (Dense)                 (None, 1)            11          dense_2[0][0]                    \n",
      "==================================================================================================\n",
      "Total params: 1,661,831\n",
      "Trainable params: 28,531\n",
      "Non-trainable params: 1,633,300\n",
      "__________________________________________________________________________________________________\n",
      "\n",
      "\n"
     ]
    }
   ],
   "source": [
    "model.print_summary()"
   ]
  },
  {
   "cell_type": "code",
   "execution_count": 17,
   "metadata": {},
   "outputs": [],
   "source": [
    "steps_per_epoch = int(len(actionshist) / batch_size)"
   ]
  },
  {
   "cell_type": "code",
   "execution_count": 18,
   "metadata": {},
   "outputs": [
    {
     "data": {
      "text/plain": [
       "33586"
      ]
     },
     "execution_count": 18,
     "metadata": {},
     "output_type": "execute_result"
    }
   ],
   "source": [
    "steps_per_epoch"
   ]
  },
  {
   "cell_type": "code",
   "execution_count": 19,
   "metadata": {},
   "outputs": [
    {
     "data": {
      "text/plain": [
       "(4.8,\n",
       " svmem(total=101089452032, available=93577891840, percent=7.4, used=6936924160, free=9593868288, active=22818115584, inactive=63833616384, buffers=462155776, cached=84096503808, shared=65699840, slab=3015208960))"
      ]
     },
     "execution_count": 19,
     "metadata": {},
     "output_type": "execute_result"
    }
   ],
   "source": [
    "psutil.cpu_percent(), psutil.virtual_memory()"
   ]
  },
  {
   "cell_type": "code",
   "execution_count": null,
   "metadata": {},
   "outputs": [],
   "source": [
    "psutil."
   ]
  },
  {
   "cell_type": "code",
   "execution_count": null,
   "metadata": {},
   "outputs": [],
   "source": []
  },
  {
   "cell_type": "code",
   "execution_count": 20,
   "metadata": {},
   "outputs": [
    {
     "name": "stdout",
     "output_type": "stream",
     "text": [
      "Epoch 1/1\n",
      "   36/33586 [..............................] - ETA: 11:44:31 - loss: 0.0096"
     ]
    },
    {
     "ename": "KeyboardInterrupt",
     "evalue": "",
     "output_type": "error",
     "traceback": [
      "\u001b[0;31m---------------------------------------------------------------------------\u001b[0m",
      "\u001b[0;31mKeyboardInterrupt\u001b[0m                         Traceback (most recent call last)",
      "\u001b[0;32m<ipython-input-20-77eaf5caf7ad>\u001b[0m in \u001b[0;36m<module>\u001b[0;34m\u001b[0m\n\u001b[0;32m----> 1\u001b[0;31m \u001b[0mmodel\u001b[0m\u001b[0;34m.\u001b[0m\u001b[0mmodel\u001b[0m\u001b[0;34m.\u001b[0m\u001b[0mfit_generator\u001b[0m\u001b[0;34m(\u001b[0m\u001b[0mgenerator\u001b[0m \u001b[0;34m=\u001b[0m \u001b[0mgenerator\u001b[0m\u001b[0;34m.\u001b[0m\u001b[0mgen_batches\u001b[0m\u001b[0;34m(\u001b[0m\u001b[0;34m)\u001b[0m\u001b[0;34m,\u001b[0m \u001b[0msteps_per_epoch\u001b[0m \u001b[0;34m=\u001b[0m \u001b[0msteps_per_epoch\u001b[0m\u001b[0;34m)\u001b[0m\u001b[0;34m\u001b[0m\u001b[0;34m\u001b[0m\u001b[0m\n\u001b[0m",
      "\u001b[0;32m/usr/local/lib/python3.6/site-packages/keras/legacy/interfaces.py\u001b[0m in \u001b[0;36mwrapper\u001b[0;34m(*args, **kwargs)\u001b[0m\n\u001b[1;32m     89\u001b[0m                 warnings.warn('Update your `' + object_name + '` call to the ' +\n\u001b[1;32m     90\u001b[0m                               'Keras 2 API: ' + signature, stacklevel=2)\n\u001b[0;32m---> 91\u001b[0;31m             \u001b[0;32mreturn\u001b[0m \u001b[0mfunc\u001b[0m\u001b[0;34m(\u001b[0m\u001b[0;34m*\u001b[0m\u001b[0margs\u001b[0m\u001b[0;34m,\u001b[0m \u001b[0;34m**\u001b[0m\u001b[0mkwargs\u001b[0m\u001b[0;34m)\u001b[0m\u001b[0;34m\u001b[0m\u001b[0;34m\u001b[0m\u001b[0m\n\u001b[0m\u001b[1;32m     92\u001b[0m         \u001b[0mwrapper\u001b[0m\u001b[0;34m.\u001b[0m\u001b[0m_original_function\u001b[0m \u001b[0;34m=\u001b[0m \u001b[0mfunc\u001b[0m\u001b[0;34m\u001b[0m\u001b[0;34m\u001b[0m\u001b[0m\n\u001b[1;32m     93\u001b[0m         \u001b[0;32mreturn\u001b[0m \u001b[0mwrapper\u001b[0m\u001b[0;34m\u001b[0m\u001b[0;34m\u001b[0m\u001b[0m\n",
      "\u001b[0;32m/usr/local/lib/python3.6/site-packages/keras/engine/training.py\u001b[0m in \u001b[0;36mfit_generator\u001b[0;34m(self, generator, steps_per_epoch, epochs, verbose, callbacks, validation_data, validation_steps, class_weight, max_queue_size, workers, use_multiprocessing, shuffle, initial_epoch)\u001b[0m\n\u001b[1;32m   1416\u001b[0m             \u001b[0muse_multiprocessing\u001b[0m\u001b[0;34m=\u001b[0m\u001b[0muse_multiprocessing\u001b[0m\u001b[0;34m,\u001b[0m\u001b[0;34m\u001b[0m\u001b[0;34m\u001b[0m\u001b[0m\n\u001b[1;32m   1417\u001b[0m             \u001b[0mshuffle\u001b[0m\u001b[0;34m=\u001b[0m\u001b[0mshuffle\u001b[0m\u001b[0;34m,\u001b[0m\u001b[0;34m\u001b[0m\u001b[0;34m\u001b[0m\u001b[0m\n\u001b[0;32m-> 1418\u001b[0;31m             initial_epoch=initial_epoch)\n\u001b[0m\u001b[1;32m   1419\u001b[0m \u001b[0;34m\u001b[0m\u001b[0m\n\u001b[1;32m   1420\u001b[0m     \u001b[0;34m@\u001b[0m\u001b[0minterfaces\u001b[0m\u001b[0;34m.\u001b[0m\u001b[0mlegacy_generator_methods_support\u001b[0m\u001b[0;34m\u001b[0m\u001b[0;34m\u001b[0m\u001b[0m\n",
      "\u001b[0;32m/usr/local/lib/python3.6/site-packages/keras/engine/training_generator.py\u001b[0m in \u001b[0;36mfit_generator\u001b[0;34m(model, generator, steps_per_epoch, epochs, verbose, callbacks, validation_data, validation_steps, class_weight, max_queue_size, workers, use_multiprocessing, shuffle, initial_epoch)\u001b[0m\n\u001b[1;32m    215\u001b[0m                 outs = model.train_on_batch(x, y,\n\u001b[1;32m    216\u001b[0m                                             \u001b[0msample_weight\u001b[0m\u001b[0;34m=\u001b[0m\u001b[0msample_weight\u001b[0m\u001b[0;34m,\u001b[0m\u001b[0;34m\u001b[0m\u001b[0;34m\u001b[0m\u001b[0m\n\u001b[0;32m--> 217\u001b[0;31m                                             class_weight=class_weight)\n\u001b[0m\u001b[1;32m    218\u001b[0m \u001b[0;34m\u001b[0m\u001b[0m\n\u001b[1;32m    219\u001b[0m                 \u001b[0mouts\u001b[0m \u001b[0;34m=\u001b[0m \u001b[0mto_list\u001b[0m\u001b[0;34m(\u001b[0m\u001b[0mouts\u001b[0m\u001b[0;34m)\u001b[0m\u001b[0;34m\u001b[0m\u001b[0;34m\u001b[0m\u001b[0m\n",
      "\u001b[0;32m/usr/local/lib/python3.6/site-packages/keras/engine/training.py\u001b[0m in \u001b[0;36mtrain_on_batch\u001b[0;34m(self, x, y, sample_weight, class_weight)\u001b[0m\n\u001b[1;32m   1215\u001b[0m             \u001b[0mins\u001b[0m \u001b[0;34m=\u001b[0m \u001b[0mx\u001b[0m \u001b[0;34m+\u001b[0m \u001b[0my\u001b[0m \u001b[0;34m+\u001b[0m \u001b[0msample_weights\u001b[0m\u001b[0;34m\u001b[0m\u001b[0;34m\u001b[0m\u001b[0m\n\u001b[1;32m   1216\u001b[0m         \u001b[0mself\u001b[0m\u001b[0;34m.\u001b[0m\u001b[0m_make_train_function\u001b[0m\u001b[0;34m(\u001b[0m\u001b[0;34m)\u001b[0m\u001b[0;34m\u001b[0m\u001b[0;34m\u001b[0m\u001b[0m\n\u001b[0;32m-> 1217\u001b[0;31m         \u001b[0moutputs\u001b[0m \u001b[0;34m=\u001b[0m \u001b[0mself\u001b[0m\u001b[0;34m.\u001b[0m\u001b[0mtrain_function\u001b[0m\u001b[0;34m(\u001b[0m\u001b[0mins\u001b[0m\u001b[0;34m)\u001b[0m\u001b[0;34m\u001b[0m\u001b[0;34m\u001b[0m\u001b[0m\n\u001b[0m\u001b[1;32m   1218\u001b[0m         \u001b[0;32mreturn\u001b[0m \u001b[0munpack_singleton\u001b[0m\u001b[0;34m(\u001b[0m\u001b[0moutputs\u001b[0m\u001b[0;34m)\u001b[0m\u001b[0;34m\u001b[0m\u001b[0;34m\u001b[0m\u001b[0m\n\u001b[1;32m   1219\u001b[0m \u001b[0;34m\u001b[0m\u001b[0m\n",
      "\u001b[0;32m/usr/local/lib/python3.6/site-packages/keras/backend/tensorflow_backend.py\u001b[0m in \u001b[0;36m__call__\u001b[0;34m(self, inputs)\u001b[0m\n\u001b[1;32m   2713\u001b[0m                 \u001b[0;32mreturn\u001b[0m \u001b[0mself\u001b[0m\u001b[0;34m.\u001b[0m\u001b[0m_legacy_call\u001b[0m\u001b[0;34m(\u001b[0m\u001b[0minputs\u001b[0m\u001b[0;34m)\u001b[0m\u001b[0;34m\u001b[0m\u001b[0;34m\u001b[0m\u001b[0m\n\u001b[1;32m   2714\u001b[0m \u001b[0;34m\u001b[0m\u001b[0m\n\u001b[0;32m-> 2715\u001b[0;31m             \u001b[0;32mreturn\u001b[0m \u001b[0mself\u001b[0m\u001b[0;34m.\u001b[0m\u001b[0m_call\u001b[0m\u001b[0;34m(\u001b[0m\u001b[0minputs\u001b[0m\u001b[0;34m)\u001b[0m\u001b[0;34m\u001b[0m\u001b[0;34m\u001b[0m\u001b[0m\n\u001b[0m\u001b[1;32m   2716\u001b[0m         \u001b[0;32melse\u001b[0m\u001b[0;34m:\u001b[0m\u001b[0;34m\u001b[0m\u001b[0;34m\u001b[0m\u001b[0m\n\u001b[1;32m   2717\u001b[0m             \u001b[0;32mif\u001b[0m \u001b[0mpy_any\u001b[0m\u001b[0;34m(\u001b[0m\u001b[0mis_tensor\u001b[0m\u001b[0;34m(\u001b[0m\u001b[0mx\u001b[0m\u001b[0;34m)\u001b[0m \u001b[0;32mfor\u001b[0m \u001b[0mx\u001b[0m \u001b[0;32min\u001b[0m \u001b[0minputs\u001b[0m\u001b[0;34m)\u001b[0m\u001b[0;34m:\u001b[0m\u001b[0;34m\u001b[0m\u001b[0;34m\u001b[0m\u001b[0m\n",
      "\u001b[0;32m/usr/local/lib/python3.6/site-packages/keras/backend/tensorflow_backend.py\u001b[0m in \u001b[0;36m_call\u001b[0;34m(self, inputs)\u001b[0m\n\u001b[1;32m   2673\u001b[0m             \u001b[0mfetched\u001b[0m \u001b[0;34m=\u001b[0m \u001b[0mself\u001b[0m\u001b[0;34m.\u001b[0m\u001b[0m_callable_fn\u001b[0m\u001b[0;34m(\u001b[0m\u001b[0;34m*\u001b[0m\u001b[0marray_vals\u001b[0m\u001b[0;34m,\u001b[0m \u001b[0mrun_metadata\u001b[0m\u001b[0;34m=\u001b[0m\u001b[0mself\u001b[0m\u001b[0;34m.\u001b[0m\u001b[0mrun_metadata\u001b[0m\u001b[0;34m)\u001b[0m\u001b[0;34m\u001b[0m\u001b[0;34m\u001b[0m\u001b[0m\n\u001b[1;32m   2674\u001b[0m         \u001b[0;32melse\u001b[0m\u001b[0;34m:\u001b[0m\u001b[0;34m\u001b[0m\u001b[0;34m\u001b[0m\u001b[0m\n\u001b[0;32m-> 2675\u001b[0;31m             \u001b[0mfetched\u001b[0m \u001b[0;34m=\u001b[0m \u001b[0mself\u001b[0m\u001b[0;34m.\u001b[0m\u001b[0m_callable_fn\u001b[0m\u001b[0;34m(\u001b[0m\u001b[0;34m*\u001b[0m\u001b[0marray_vals\u001b[0m\u001b[0;34m)\u001b[0m\u001b[0;34m\u001b[0m\u001b[0;34m\u001b[0m\u001b[0m\n\u001b[0m\u001b[1;32m   2676\u001b[0m         \u001b[0;32mreturn\u001b[0m \u001b[0mfetched\u001b[0m\u001b[0;34m[\u001b[0m\u001b[0;34m:\u001b[0m\u001b[0mlen\u001b[0m\u001b[0;34m(\u001b[0m\u001b[0mself\u001b[0m\u001b[0;34m.\u001b[0m\u001b[0moutputs\u001b[0m\u001b[0;34m)\u001b[0m\u001b[0;34m]\u001b[0m\u001b[0;34m\u001b[0m\u001b[0;34m\u001b[0m\u001b[0m\n\u001b[1;32m   2677\u001b[0m \u001b[0;34m\u001b[0m\u001b[0m\n",
      "\u001b[0;32m/usr/local/lib/python3.6/site-packages/tensorflow/python/client/session.py\u001b[0m in \u001b[0;36m__call__\u001b[0;34m(self, *args, **kwargs)\u001b[0m\n\u001b[1;32m   1456\u001b[0m         ret = tf_session.TF_SessionRunCallable(self._session._session,\n\u001b[1;32m   1457\u001b[0m                                                \u001b[0mself\u001b[0m\u001b[0;34m.\u001b[0m\u001b[0m_handle\u001b[0m\u001b[0;34m,\u001b[0m \u001b[0margs\u001b[0m\u001b[0;34m,\u001b[0m\u001b[0;34m\u001b[0m\u001b[0;34m\u001b[0m\u001b[0m\n\u001b[0;32m-> 1458\u001b[0;31m                                                run_metadata_ptr)\n\u001b[0m\u001b[1;32m   1459\u001b[0m         \u001b[0;32mif\u001b[0m \u001b[0mrun_metadata\u001b[0m\u001b[0;34m:\u001b[0m\u001b[0;34m\u001b[0m\u001b[0;34m\u001b[0m\u001b[0m\n\u001b[1;32m   1460\u001b[0m           \u001b[0mproto_data\u001b[0m \u001b[0;34m=\u001b[0m \u001b[0mtf_session\u001b[0m\u001b[0;34m.\u001b[0m\u001b[0mTF_GetBuffer\u001b[0m\u001b[0;34m(\u001b[0m\u001b[0mrun_metadata_ptr\u001b[0m\u001b[0;34m)\u001b[0m\u001b[0;34m\u001b[0m\u001b[0;34m\u001b[0m\u001b[0m\n",
      "\u001b[0;31mKeyboardInterrupt\u001b[0m: "
     ]
    }
   ],
   "source": [
    "model.model.fit_generator(generator = generator.gen_batches(), steps_per_epoch = steps_per_epoch)"
   ]
  },
  {
   "cell_type": "code",
   "execution_count": null,
   "metadata": {},
   "outputs": [],
   "source": []
  }
 ],
 "metadata": {
  "kernelspec": {
   "display_name": "Python 2",
   "language": "python",
   "name": "python2"
  },
  "language_info": {
   "codemirror_mode": {
    "name": "ipython",
    "version": 3
   },
   "file_extension": ".py",
   "mimetype": "text/x-python",
   "name": "python",
   "nbconvert_exporter": "python",
   "pygments_lexer": "ipython3",
   "version": "3.6.8"
  }
 },
 "nbformat": 4,
 "nbformat_minor": 2
}
