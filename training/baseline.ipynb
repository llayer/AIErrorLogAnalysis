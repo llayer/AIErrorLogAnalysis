{
 "cells": [
  {
   "cell_type": "markdown",
   "metadata": {},
   "source": [
    "# Fit the baseline model"
   ]
  },
  {
   "cell_type": "markdown",
   "metadata": {},
   "source": [
    "## 1. Load the data\n"
   ]
  },
  {
   "cell_type": "code",
   "execution_count": 1,
   "metadata": {},
   "outputs": [
    {
     "name": "stderr",
     "output_type": "stream",
     "text": [
      "Using TensorFlow backend.\n"
     ]
    }
   ],
   "source": [
    "import pandas as pd\n",
    "import keras\n",
    "import numpy as np\n",
    "from sklearn.model_selection import train_test_split"
   ]
  },
  {
   "cell_type": "code",
   "execution_count": 2,
   "metadata": {},
   "outputs": [
    {
     "name": "stdout",
     "output_type": "stream",
     "text": [
      "setGPU: Setting GPU to: 1\n"
     ]
    }
   ],
   "source": [
    "import setGPU"
   ]
  },
  {
   "cell_type": "code",
   "execution_count": 2,
   "metadata": {},
   "outputs": [],
   "source": [
    "data = pd.read_hdf('/bigdata/shared/AIErrorHandling/baseline_test.h5')\n",
    "# HACK!! DANGER!!\n",
    "#data = data.drop(data.index[16787]).drop(data.index[21352])"
   ]
  },
  {
   "cell_type": "code",
   "execution_count": 7,
   "metadata": {},
   "outputs": [],
   "source": [
    "X = data['table_good_sites']"
   ]
  },
  {
   "cell_type": "code",
   "execution_count": 141,
   "metadata": {},
   "outputs": [],
   "source": [
    "flt = data['tables_bad_sites_flatten']\n",
    "arr = np.array(flt)\n",
    "for counter, i in enumerate(flt):\n",
    "    if len(i) != 8232:\n",
    "        print 'OO'\n",
    "        print counter"
   ]
  },
  {
   "cell_type": "code",
   "execution_count": 12,
   "metadata": {},
   "outputs": [],
   "source": [
    "X = np.array(data['table_good_sites'].values.tolist())\n",
    "y = np.array(data['action_binary_encoded'].values.tolist())"
   ]
  },
  {
   "cell_type": "code",
   "execution_count": 13,
   "metadata": {},
   "outputs": [
    {
     "data": {
      "text/plain": [
       "((25090, 58, 69), (25090,))"
      ]
     },
     "execution_count": 13,
     "metadata": {},
     "output_type": "execute_result"
    }
   ],
   "source": [
    "X.shape, y.shape"
   ]
  },
  {
   "cell_type": "code",
   "execution_count": 158,
   "metadata": {},
   "outputs": [],
   "source": [
    "X_train, X_test, y_train, y_test = train_test_split(X, y, test_size=0.3)"
   ]
  },
  {
   "cell_type": "markdown",
   "metadata": {},
   "source": [
    "## 2. Set up the model"
   ]
  },
  {
   "cell_type": "code",
   "execution_count": 18,
   "metadata": {},
   "outputs": [],
   "source": [
    "from keras.models import Sequential\n",
    "from keras.layers import Dense\n",
    "from keras.layers import Dropout\n",
    "from keras.regularizers import l1, l2\n",
    "from keras.constraints import maxnorm\n",
    "from keras.models import model_from_json\n",
    "from keras.optimizers import Adam\n",
    "from keras.callbacks import EarlyStopping\n",
    "from keras.utils import np_utils\n",
    "from keras import backend as K\n",
    "import tensorflow as tf\n",
    "from sklearn.metrics import roc_auc_score\n",
    "\n",
    "def auroc(y_true, y_pred):\n",
    "    return tf.py_func(roc_auc_score, (y_true, y_pred), tf.double)\n",
    "\n",
    "# Define Multilayer Perceptron architecture\n",
    "def create_model(input_dim, nneurons, layers=[] , optimizer='adam' , loss='categorical_crossentropy' ):\n",
    "    \n",
    "    '''\n",
    "    create_model: build neural network architecture\n",
    "    '''\n",
    "\n",
    "    # create neural network model\n",
    "    model = Sequential()\n",
    "\n",
    "    # Add fully connected layer with an activation function (input layer)\n",
    "    #model.add(Dense(nneurons, input_dim=input_dim, init=kernel_initializer, activation='relu'))\n",
    "\n",
    "    model.add(Dense(nneurons, input_dim=input_dim, activation='relu'))\n",
    "    \n",
    "    for layer in layers :\n",
    "        nNeurons = layer[0]\n",
    "        regularizer = layer[1]\n",
    "        activation = layer[2]\n",
    "\n",
    "        model.add(Dense(nNeurons,    activation=activation ) )\n",
    "\n",
    "    model.add( Dense( 1 , activation='sigmoid' ) )\n",
    "\n",
    "\n",
    "    if optimizer == \"sgd\" :\n",
    "        Optimizer = SGD(lr=.5)\n",
    "    elif optimizer == \"adam\":\n",
    "        Optimizer =  Adam(lr=0.001, beta_1=0.9, beta_2=0.999, decay=0.0)\n",
    "    else :\n",
    "        Optimizer = optimizer\n",
    "    \n",
    "    model.compile(\n",
    "        loss=loss ,#'categorical_crossentropy', 'mean_squared_error', 'categorical_crossentropy' 'mean_absolute_error'\n",
    "        optimizer=Optimizer,\n",
    "        metrics=['accuracy', auroc]\n",
    "        # , 'categorical_accuracy' , top_first_categorical_accuracy(1,\"kfirst\"), top_first_categorical_accuracy(2,\"kfirsttwo\"),top_first_categorical_accuracy(3,\"kfirstthree\")]\n",
    "    )\n",
    "    \n",
    "    return model\n",
    "        \n",
    "    \n",
    "                                                                                          "
   ]
  },
  {
   "cell_type": "code",
   "execution_count": 182,
   "metadata": {},
   "outputs": [],
   "source": [
    "model = create_model(len(X[0]), 20, loss='binary_crossentropy' , layers=[(20,None,'relu'),(20,None,'relu')])"
   ]
  },
  {
   "cell_type": "code",
   "execution_count": 183,
   "metadata": {},
   "outputs": [
    {
     "name": "stdout",
     "output_type": "stream",
     "text": [
      "____________________________________________________________________________________________________\n",
      "Layer (type)                     Output Shape          Param #     Connected to                     \n",
      "====================================================================================================\n",
      "dense_82 (Dense)                 (None, 20)            244700      dense_input_19[0][0]             \n",
      "____________________________________________________________________________________________________\n",
      "dense_83 (Dense)                 (None, 20)            420         dense_82[0][0]                   \n",
      "____________________________________________________________________________________________________\n",
      "dense_84 (Dense)                 (None, 20)            420         dense_83[0][0]                   \n",
      "____________________________________________________________________________________________________\n",
      "dense_85 (Dense)                 (None, 1)             21          dense_84[0][0]                   \n",
      "====================================================================================================\n",
      "Total params: 245,561\n",
      "Trainable params: 245,561\n",
      "Non-trainable params: 0\n",
      "____________________________________________________________________________________________________\n"
     ]
    }
   ],
   "source": [
    "model.summary()"
   ]
  },
  {
   "cell_type": "markdown",
   "metadata": {},
   "source": [
    "## 3. Fit and evaluate model"
   ]
  },
  {
   "cell_type": "code",
   "execution_count": 184,
   "metadata": {},
   "outputs": [
    {
     "name": "stdout",
     "output_type": "stream",
     "text": [
      "Train on 13170 samples, validate on 4391 samples\n",
      "Epoch 1/20\n",
      "13170/13170 [==============================] - 2s - loss: 0.6192 - acc: 0.9304 - auroc: 0.4855 - val_loss: 0.5419 - val_acc: 0.9399 - val_auroc: 0.5329\n",
      "Epoch 2/20\n",
      "13170/13170 [==============================] - 2s - loss: 0.5318 - acc: 0.9421 - auroc: 0.5050 - val_loss: 0.4792 - val_acc: 0.9399 - val_auroc: 0.5403\n",
      "Epoch 3/20\n",
      "13170/13170 [==============================] - 2s - loss: 0.4794 - acc: 0.9421 - auroc: 0.5221 - val_loss: 0.4319 - val_acc: 0.9399 - val_auroc: 0.5462\n",
      "Epoch 4/20\n",
      "13170/13170 [==============================] - 2s - loss: 0.4332 - acc: 0.9421 - auroc: 0.5380 - val_loss: 0.3881 - val_acc: 0.9394 - val_auroc: 0.5589\n",
      "Epoch 5/20\n",
      "13170/13170 [==============================] - 2s - loss: 0.3862 - acc: 0.9424 - auroc: 0.5630 - val_loss: 0.3469 - val_acc: 0.9396 - val_auroc: 0.5822\n",
      "Epoch 6/20\n",
      "13170/13170 [==============================] - 2s - loss: 0.3392 - acc: 0.9427 - auroc: 0.5952 - val_loss: 0.3153 - val_acc: 0.9385 - val_auroc: 0.6001\n",
      "Epoch 7/20\n",
      "13170/13170 [==============================] - 2s - loss: 0.3027 - acc: 0.9435 - auroc: 0.6251 - val_loss: 0.2888 - val_acc: 0.9392 - val_auroc: 0.6157\n",
      "Epoch 8/20\n",
      "13170/13170 [==============================] - 2s - loss: 0.2718 - acc: 0.9437 - auroc: 0.6566 - val_loss: 0.2698 - val_acc: 0.9387 - val_auroc: 0.6404\n",
      "Epoch 9/20\n",
      "13170/13170 [==============================] - 2s - loss: 0.2464 - acc: 0.9440 - auroc: 0.6940 - val_loss: 0.2566 - val_acc: 0.9383 - val_auroc: 0.6640\n",
      "Epoch 10/20\n",
      "13170/13170 [==============================] - 2s - loss: 0.2241 - acc: 0.9445 - auroc: 0.7342 - val_loss: 0.2468 - val_acc: 0.9387 - val_auroc: 0.6837\n",
      "Epoch 11/20\n",
      "13170/13170 [==============================] - 2s - loss: 0.2052 - acc: 0.9448 - auroc: 0.7637 - val_loss: 0.2417 - val_acc: 0.9360 - val_auroc: 0.6975\n",
      "Epoch 12/20\n",
      "13170/13170 [==============================] - 2s - loss: 0.1960 - acc: 0.9443 - auroc: 0.7856 - val_loss: 0.2324 - val_acc: 0.9394 - val_auroc: 0.7062\n",
      "Epoch 13/20\n",
      "13170/13170 [==============================] - 2s - loss: 0.1851 - acc: 0.9457 - auroc: 0.8031 - val_loss: 0.2309 - val_acc: 0.9392 - val_auroc: 0.7153\n",
      "Epoch 14/20\n",
      "13170/13170 [==============================] - 2s - loss: 0.1793 - acc: 0.9467 - auroc: 0.8158 - val_loss: 0.2263 - val_acc: 0.9399 - val_auroc: 0.7276\n",
      "Epoch 15/20\n",
      "13170/13170 [==============================] - 2s - loss: 0.1759 - acc: 0.9469 - auroc: 0.8231 - val_loss: 0.2284 - val_acc: 0.9396 - val_auroc: 0.7289\n",
      "Epoch 16/20\n",
      "13170/13170 [==============================] - 2s - loss: 0.1741 - acc: 0.9462 - auroc: 0.8330 - val_loss: 0.2287 - val_acc: 0.9383 - val_auroc: 0.7326\n",
      "Epoch 17/20\n",
      "13170/13170 [==============================] - 2s - loss: 0.1712 - acc: 0.9477 - auroc: 0.8395 - val_loss: 0.2298 - val_acc: 0.9390 - val_auroc: 0.7351\n",
      "Epoch 18/20\n",
      "13170/13170 [==============================] - 2s - loss: 0.1677 - acc: 0.9480 - auroc: 0.8492 - val_loss: 0.2272 - val_acc: 0.9390 - val_auroc: 0.7383\n",
      "Epoch 19/20\n",
      "13170/13170 [==============================] - 2s - loss: 0.1640 - acc: 0.9487 - auroc: 0.8564 - val_loss: 0.2279 - val_acc: 0.9390 - val_auroc: 0.7433\n",
      "Epoch 20/20\n",
      "13170/13170 [==============================] - 2s - loss: 0.1620 - acc: 0.9493 - auroc: 0.8625 - val_loss: 0.2312 - val_acc: 0.9387 - val_auroc: 0.7443\n",
      "<keras.callbacks.History object at 0x7f09abc03f10>\n"
     ]
    }
   ],
   "source": [
    "batch_size=2000 \n",
    "epochs=20\n",
    "validation_split=0.25\n",
    "verbose=1\n",
    "\n",
    "\n",
    "res = model.fit(X_train, y_train, batch_size=batch_size, nb_epoch=epochs, validation_split=validation_split )\n",
    "print res"
   ]
  },
  {
   "cell_type": "code",
   "execution_count": 163,
   "metadata": {},
   "outputs": [],
   "source": [
    "y_pred = model.predict(X_test)\n",
    "y_train_pred = model.predict(X_train)"
   ]
  },
  {
   "cell_type": "code",
   "execution_count": 164,
   "metadata": {},
   "outputs": [],
   "source": [
    "import matplotlib.pyplot as plt\n",
    "from sklearn.metrics import roc_curve,auc\n",
    "def ROC(y_test, y_pred):\n",
    "    \"\"\"\n",
    "    plot ROC curve for test dataset\n",
    "    \"\"\"\n",
    "    roc_fpr, roc_tpr, roc_thresholds = roc_curve(y_test, y_pred.ravel() )\n",
    "    roc_auc = auc(roc_fpr , roc_tpr)\n",
    "\n",
    "    roc_plot = plt.figure(1)\n",
    "    plt.plot([0, 1], [0, 1], 'k--')\n",
    "    plt.plot(roc_fpr, roc_tpr, label='Keras (area = {:.3f})'.format(roc_auc))\n",
    "    plt.xlabel('False positive rate')\n",
    "    plt.ylabel('True positive rate')\n",
    "    plt.title('ROC curve')\n",
    "    plt.legend(loc='best')\n",
    "    plt.show()"
   ]
  },
  {
   "cell_type": "code",
   "execution_count": 165,
   "metadata": {},
   "outputs": [
    {
     "data": {
      "image/png": "[encoded data removed]",
      "text/plain": [
       "<Figure size 432x288 with 1 Axes>"
      ]
     },
     "metadata": {},
     "output_type": "display_data"
    }
   ],
   "source": [
    "ROC(y_train, y_train_pred)"
   ]
  },
  {
   "cell_type": "code",
   "execution_count": 166,
   "metadata": {},
   "outputs": [
    {
     "data": {
      "image/png": "[encoded data removed]",
      "text/plain": [
       "<Figure size 432x288 with 1 Axes>"
      ]
     },
     "metadata": {},
     "output_type": "display_data"
    }
   ],
   "source": [
    "ROC(y_test, y_pred)"
   ]
  },
  {
   "cell_type": "code",
   "execution_count": 59,
   "metadata": {},
   "outputs": [],
   "source": [
    "from keras.layers import Input, LSTM, Dense, merge\n",
    "from keras.models import Model\n",
    "#dim1 = len(features[0][0])\n",
    "#dim2 = len(features)\n",
    "dim1 = X.shape[2]\n",
    "\n",
    "dense = Dense(100, activation = \"relu\", init=\"normal\")\n",
    "ip_shapes = []\n",
    "op_shapes = []\n",
    "for i in range(X.shape[1]):\n",
    "    ip_shape = ( Input(shape=(dim1,)) )\n",
    "    ip_shapes.append(ip_shape)\n",
    "    op_shapes.append( dense(ip_shape))\n",
    "\n",
    "merged_vector = merge(op_shapes, mode='concat', concat_axis=-1)\n",
    "\n",
    "hidden1 = Dense(20, activation = \"relu\", init=\"normal\")(merged_vector)\n",
    "hidden2 = Dense(20, activation = \"relu\", init=\"normal\")(hidden1)\n",
    "#hidden3 = Dense(100, activation = \"relu\", init=\"normal\")(hidden2)\n",
    "#hidden4 = Dense(100, activation = \"relu\", init=\"normal\")(hidden3)\n",
    "# and add a logistic regression on top\n",
    "predictions = Dense(1, activation='sigmoid')(hidden1)\n",
    "\n",
    "# we define a trainable model linking the\n",
    "# tweet inputs to the predictions\n",
    "model = Model(input = ip_shapes, output=predictions)\n",
    "\n",
    "model.compile(loss='binary_crossentropy', \n",
    "              optimizer=Adam(lr=0.001, beta_1=0.9, beta_2=0.999, decay=0.0), \n",
    "              metrics=['accuracy', auroc])"
   ]
  },
  {
   "cell_type": "code",
   "execution_count": 60,
   "metadata": {},
   "outputs": [
    {
     "name": "stdout",
     "output_type": "stream",
     "text": [
      "____________________________________________________________________________________________________\n",
      "Layer (type)                     Output Shape          Param #     Connected to                     \n",
      "====================================================================================================\n",
      "input_465 (InputLayer)           (None, 69)            0                                            \n",
      "____________________________________________________________________________________________________\n",
      "input_466 (InputLayer)           (None, 69)            0                                            \n",
      "____________________________________________________________________________________________________\n",
      "input_467 (InputLayer)           (None, 69)            0                                            \n",
      "____________________________________________________________________________________________________\n",
      "input_468 (InputLayer)           (None, 69)            0                                            \n",
      "____________________________________________________________________________________________________\n",
      "input_469 (InputLayer)           (None, 69)            0                                            \n",
      "____________________________________________________________________________________________________\n",
      "input_470 (InputLayer)           (None, 69)            0                                            \n",
      "____________________________________________________________________________________________________\n",
      "input_471 (InputLayer)           (None, 69)            0                                            \n",
      "____________________________________________________________________________________________________\n",
      "input_472 (InputLayer)           (None, 69)            0                                            \n",
      "____________________________________________________________________________________________________\n",
      "input_473 (InputLayer)           (None, 69)            0                                            \n",
      "____________________________________________________________________________________________________\n",
      "input_474 (InputLayer)           (None, 69)            0                                            \n",
      "____________________________________________________________________________________________________\n",
      "input_475 (InputLayer)           (None, 69)            0                                            \n",
      "____________________________________________________________________________________________________\n",
      "input_476 (InputLayer)           (None, 69)            0                                            \n",
      "____________________________________________________________________________________________________\n",
      "input_477 (InputLayer)           (None, 69)            0                                            \n",
      "____________________________________________________________________________________________________\n",
      "input_478 (InputLayer)           (None, 69)            0                                            \n",
      "____________________________________________________________________________________________________\n",
      "input_479 (InputLayer)           (None, 69)            0                                            \n",
      "____________________________________________________________________________________________________\n",
      "input_480 (InputLayer)           (None, 69)            0                                            \n",
      "____________________________________________________________________________________________________\n",
      "input_481 (InputLayer)           (None, 69)            0                                            \n",
      "____________________________________________________________________________________________________\n",
      "input_482 (InputLayer)           (None, 69)            0                                            \n",
      "____________________________________________________________________________________________________\n",
      "input_483 (InputLayer)           (None, 69)            0                                            \n",
      "____________________________________________________________________________________________________\n",
      "input_484 (InputLayer)           (None, 69)            0                                            \n",
      "____________________________________________________________________________________________________\n",
      "input_485 (InputLayer)           (None, 69)            0                                            \n",
      "____________________________________________________________________________________________________\n",
      "input_486 (InputLayer)           (None, 69)            0                                            \n",
      "____________________________________________________________________________________________________\n",
      "input_487 (InputLayer)           (None, 69)            0                                            \n",
      "____________________________________________________________________________________________________\n",
      "input_488 (InputLayer)           (None, 69)            0                                            \n",
      "____________________________________________________________________________________________________\n",
      "input_489 (InputLayer)           (None, 69)            0                                            \n",
      "____________________________________________________________________________________________________\n",
      "input_490 (InputLayer)           (None, 69)            0                                            \n",
      "____________________________________________________________________________________________________\n",
      "input_491 (InputLayer)           (None, 69)            0                                            \n",
      "____________________________________________________________________________________________________\n",
      "input_492 (InputLayer)           (None, 69)            0                                            \n",
      "____________________________________________________________________________________________________\n",
      "input_493 (InputLayer)           (None, 69)            0                                            \n",
      "____________________________________________________________________________________________________\n",
      "input_494 (InputLayer)           (None, 69)            0                                            \n",
      "____________________________________________________________________________________________________\n",
      "input_495 (InputLayer)           (None, 69)            0                                            \n",
      "____________________________________________________________________________________________________\n",
      "input_496 (InputLayer)           (None, 69)            0                                            \n",
      "____________________________________________________________________________________________________\n",
      "input_497 (InputLayer)           (None, 69)            0                                            \n",
      "____________________________________________________________________________________________________\n",
      "input_498 (InputLayer)           (None, 69)            0                                            \n",
      "____________________________________________________________________________________________________\n",
      "input_499 (InputLayer)           (None, 69)            0                                            \n",
      "____________________________________________________________________________________________________\n",
      "input_500 (InputLayer)           (None, 69)            0                                            \n",
      "____________________________________________________________________________________________________\n",
      "input_501 (InputLayer)           (None, 69)            0                                            \n",
      "____________________________________________________________________________________________________\n",
      "input_502 (InputLayer)           (None, 69)            0                                            \n",
      "____________________________________________________________________________________________________\n",
      "input_503 (InputLayer)           (None, 69)            0                                            \n",
      "____________________________________________________________________________________________________\n",
      "input_504 (InputLayer)           (None, 69)            0                                            \n",
      "____________________________________________________________________________________________________\n",
      "input_505 (InputLayer)           (None, 69)            0                                            \n",
      "____________________________________________________________________________________________________\n",
      "input_506 (InputLayer)           (None, 69)            0                                            \n",
      "____________________________________________________________________________________________________\n",
      "input_507 (InputLayer)           (None, 69)            0                                            \n",
      "____________________________________________________________________________________________________\n",
      "input_508 (InputLayer)           (None, 69)            0                                            \n",
      "____________________________________________________________________________________________________\n",
      "input_509 (InputLayer)           (None, 69)            0                                            \n",
      "____________________________________________________________________________________________________\n",
      "input_510 (InputLayer)           (None, 69)            0                                            \n",
      "____________________________________________________________________________________________________\n",
      "input_511 (InputLayer)           (None, 69)            0                                            \n",
      "____________________________________________________________________________________________________\n",
      "input_512 (InputLayer)           (None, 69)            0                                            \n",
      "____________________________________________________________________________________________________\n",
      "input_513 (InputLayer)           (None, 69)            0                                            \n",
      "____________________________________________________________________________________________________\n",
      "input_514 (InputLayer)           (None, 69)            0                                            \n",
      "____________________________________________________________________________________________________\n",
      "input_515 (InputLayer)           (None, 69)            0                                            \n",
      "____________________________________________________________________________________________________\n",
      "input_516 (InputLayer)           (None, 69)            0                                            \n",
      "____________________________________________________________________________________________________\n",
      "input_517 (InputLayer)           (None, 69)            0                                            \n",
      "____________________________________________________________________________________________________\n",
      "input_518 (InputLayer)           (None, 69)            0                                            \n",
      "____________________________________________________________________________________________________\n",
      "input_519 (InputLayer)           (None, 69)            0                                            \n",
      "____________________________________________________________________________________________________\n",
      "input_520 (InputLayer)           (None, 69)            0                                            \n",
      "____________________________________________________________________________________________________\n",
      "input_521 (InputLayer)           (None, 69)            0                                            \n",
      "____________________________________________________________________________________________________\n",
      "input_522 (InputLayer)           (None, 69)            0                                            \n",
      "____________________________________________________________________________________________________\n",
      "dense_45 (Dense)                 (None, 100)           7000        input_465[0][0]                  \n",
      "                                                                   input_466[0][0]                  \n",
      "                                                                   input_467[0][0]                  \n",
      "                                                                   input_468[0][0]                  \n",
      "                                                                   input_469[0][0]                  \n",
      "                                                                   input_470[0][0]                  \n",
      "                                                                   input_471[0][0]                  \n",
      "                                                                   input_472[0][0]                  \n",
      "                                                                   input_473[0][0]                  \n",
      "                                                                   input_474[0][0]                  \n",
      "                                                                   input_475[0][0]                  \n",
      "                                                                   input_476[0][0]                  \n",
      "                                                                   input_477[0][0]                  \n",
      "                                                                   input_478[0][0]                  \n",
      "                                                                   input_479[0][0]                  \n",
      "                                                                   input_480[0][0]                  \n",
      "                                                                   input_481[0][0]                  \n",
      "                                                                   input_482[0][0]                  \n",
      "                                                                   input_483[0][0]                  \n",
      "                                                                   input_484[0][0]                  \n",
      "                                                                   input_485[0][0]                  \n",
      "                                                                   input_486[0][0]                  \n",
      "                                                                   input_487[0][0]                  \n",
      "                                                                   input_488[0][0]                  \n",
      "                                                                   input_489[0][0]                  \n",
      "                                                                   input_490[0][0]                  \n",
      "                                                                   input_491[0][0]                  \n",
      "                                                                   input_492[0][0]                  \n",
      "                                                                   input_493[0][0]                  \n",
      "                                                                   input_494[0][0]                  \n",
      "                                                                   input_495[0][0]                  \n",
      "                                                                   input_496[0][0]                  \n",
      "                                                                   input_497[0][0]                  \n",
      "                                                                   input_498[0][0]                  \n",
      "                                                                   input_499[0][0]                  \n",
      "                                                                   input_500[0][0]                  \n",
      "                                                                   input_501[0][0]                  \n",
      "                                                                   input_502[0][0]                  \n",
      "                                                                   input_503[0][0]                  \n",
      "                                                                   input_504[0][0]                  \n",
      "                                                                   input_505[0][0]                  \n",
      "                                                                   input_506[0][0]                  \n",
      "                                                                   input_507[0][0]                  \n",
      "                                                                   input_508[0][0]                  \n",
      "                                                                   input_509[0][0]                  \n",
      "                                                                   input_510[0][0]                  \n",
      "                                                                   input_511[0][0]                  \n",
      "                                                                   input_512[0][0]                  \n",
      "                                                                   input_513[0][0]                  \n",
      "                                                                   input_514[0][0]                  \n",
      "                                                                   input_515[0][0]                  \n",
      "                                                                   input_516[0][0]                  \n",
      "                                                                   input_517[0][0]                  \n",
      "                                                                   input_518[0][0]                  \n",
      "                                                                   input_519[0][0]                  \n",
      "                                                                   input_520[0][0]                  \n",
      "                                                                   input_521[0][0]                  \n",
      "                                                                   input_522[0][0]                  \n",
      "____________________________________________________________________________________________________\n",
      "merge_9 (Merge)                  (None, 5800)          0           dense_45[0][0]                   \n",
      "                                                                   dense_45[1][0]                   \n",
      "                                                                   dense_45[2][0]                   \n",
      "                                                                   dense_45[3][0]                   \n",
      "                                                                   dense_45[4][0]                   \n",
      "                                                                   dense_45[5][0]                   \n",
      "                                                                   dense_45[6][0]                   \n",
      "                                                                   dense_45[7][0]                   \n",
      "                                                                   dense_45[8][0]                   \n",
      "                                                                   dense_45[9][0]                   \n",
      "                                                                   dense_45[10][0]                  \n",
      "                                                                   dense_45[11][0]                  \n",
      "                                                                   dense_45[12][0]                  \n",
      "                                                                   dense_45[13][0]                  \n",
      "                                                                   dense_45[14][0]                  \n",
      "                                                                   dense_45[15][0]                  \n",
      "                                                                   dense_45[16][0]                  \n",
      "                                                                   dense_45[17][0]                  \n",
      "                                                                   dense_45[18][0]                  \n",
      "                                                                   dense_45[19][0]                  \n",
      "                                                                   dense_45[20][0]                  \n",
      "                                                                   dense_45[21][0]                  \n",
      "                                                                   dense_45[22][0]                  \n",
      "                                                                   dense_45[23][0]                  \n",
      "                                                                   dense_45[24][0]                  \n",
      "                                                                   dense_45[25][0]                  \n",
      "                                                                   dense_45[26][0]                  \n",
      "                                                                   dense_45[27][0]                  \n",
      "                                                                   dense_45[28][0]                  \n",
      "                                                                   dense_45[29][0]                  \n",
      "                                                                   dense_45[30][0]                  \n",
      "                                                                   dense_45[31][0]                  \n",
      "                                                                   dense_45[32][0]                  \n",
      "                                                                   dense_45[33][0]                  \n",
      "                                                                   dense_45[34][0]                  \n",
      "                                                                   dense_45[35][0]                  \n",
      "                                                                   dense_45[36][0]                  \n",
      "                                                                   dense_45[37][0]                  \n",
      "                                                                   dense_45[38][0]                  \n",
      "                                                                   dense_45[39][0]                  \n",
      "                                                                   dense_45[40][0]                  \n",
      "                                                                   dense_45[41][0]                  \n",
      "                                                                   dense_45[42][0]                  \n",
      "                                                                   dense_45[43][0]                  \n",
      "                                                                   dense_45[44][0]                  \n",
      "                                                                   dense_45[45][0]                  \n",
      "                                                                   dense_45[46][0]                  \n",
      "                                                                   dense_45[47][0]                  \n",
      "                                                                   dense_45[48][0]                  \n",
      "                                                                   dense_45[49][0]                  \n",
      "                                                                   dense_45[50][0]                  \n",
      "                                                                   dense_45[51][0]                  \n",
      "                                                                   dense_45[52][0]                  \n",
      "                                                                   dense_45[53][0]                  \n",
      "                                                                   dense_45[54][0]                  \n",
      "                                                                   dense_45[55][0]                  \n",
      "                                                                   dense_45[56][0]                  \n",
      "                                                                   dense_45[57][0]                  \n",
      "____________________________________________________________________________________________________\n",
      "dense_46 (Dense)                 (None, 20)            116020      merge_9[0][0]                    \n",
      "____________________________________________________________________________________________________\n",
      "dense_48 (Dense)                 (None, 1)             21          dense_46[0][0]                   \n",
      "====================================================================================================\n",
      "Total params: 123,041\n",
      "Trainable params: 123,041\n",
      "Non-trainable params: 0\n",
      "____________________________________________________________________________________________________\n"
     ]
    }
   ],
   "source": [
    "model.summary()"
   ]
  },
  {
   "cell_type": "code",
   "execution_count": 61,
   "metadata": {},
   "outputs": [],
   "source": [
    "from sklearn.model_selection import train_test_split\n",
    "X_train, X_test, y_train, y_test = train_test_split(X, y, test_size=0.3)"
   ]
  },
  {
   "cell_type": "code",
   "execution_count": 62,
   "metadata": {},
   "outputs": [],
   "source": [
    "X_train_swp = np.swapaxes(X_train,0,1)\n",
    "#X_train_swp = np.swapaxes(X_train_swp,0,2)\n",
    "inputs = []\n",
    "for i in range(X_train_swp.shape[0]):\n",
    "    inputs.append(X_train_swp[i])"
   ]
  },
  {
   "cell_type": "code",
   "execution_count": 63,
   "metadata": {},
   "outputs": [
    {
     "data": {
      "text/plain": [
       "(58, 17563, 69)"
      ]
     },
     "execution_count": 63,
     "metadata": {},
     "output_type": "execute_result"
    }
   ],
   "source": [
    "X_train_swp.shape"
   ]
  },
  {
   "cell_type": "code",
   "execution_count": 64,
   "metadata": {},
   "outputs": [
    {
     "name": "stdout",
     "output_type": "stream",
     "text": [
      "Train on 13172 samples, validate on 4391 samples\n",
      "Epoch 1/20\n",
      "13172/13172 [==============================] - 3s - loss: 0.2997 - acc: 0.9287 - auroc: 0.5665 - val_loss: 0.2272 - val_acc: 0.9403 - val_auroc: 0.5547\n",
      "Epoch 2/20\n",
      " 7300/13172 [===============>..............] - ETA: 0s - loss: 0.2350 - acc: 0.9389 - auroc: 0.6313"
     ]
    },
    {
     "ename": "ValueError",
     "evalue": "Only one class present in y_true. ROC AUC score is not defined in that case.",
     "output_type": "error",
     "traceback": [
      "\u001b[0;31m---------------------------------------------------------------------------\u001b[0m",
      "\u001b[0;31mValueError\u001b[0m                                Traceback (most recent call last)",
      "\u001b[0;32m/usr/local/lib/python2.7/dist-packages/tensorflow/python/ops/script_ops.pyc\u001b[0m in \u001b[0;36m__call__\u001b[0;34m(self, token, args)\u001b[0m\n\u001b[1;32m     83\u001b[0m     \u001b[0;32mif\u001b[0m \u001b[0mfunc\u001b[0m \u001b[0;32mis\u001b[0m \u001b[0mNone\u001b[0m\u001b[0;34m:\u001b[0m\u001b[0;34m\u001b[0m\u001b[0m\n\u001b[1;32m     84\u001b[0m       \u001b[0;32mraise\u001b[0m \u001b[0mValueError\u001b[0m\u001b[0;34m(\u001b[0m\u001b[0;34m\"callback %s is not found\"\u001b[0m \u001b[0;34m%\u001b[0m \u001b[0mtoken\u001b[0m\u001b[0;34m)\u001b[0m\u001b[0;34m\u001b[0m\u001b[0m\n\u001b[0;32m---> 85\u001b[0;31m     \u001b[0mret\u001b[0m \u001b[0;34m=\u001b[0m \u001b[0mfunc\u001b[0m\u001b[0;34m(\u001b[0m\u001b[0;34m*\u001b[0m\u001b[0margs\u001b[0m\u001b[0;34m)\u001b[0m\u001b[0;34m\u001b[0m\u001b[0m\n\u001b[0m\u001b[1;32m     86\u001b[0m     \u001b[0;31m# Ensures that we return either a single numpy array or a list of numpy\u001b[0m\u001b[0;34m\u001b[0m\u001b[0;34m\u001b[0m\u001b[0m\n\u001b[1;32m     87\u001b[0m     \u001b[0;31m# arrays.\u001b[0m\u001b[0;34m\u001b[0m\u001b[0;34m\u001b[0m\u001b[0m\n",
      "\u001b[0;32m/nfshome/llayer/.local/lib/python2.7/site-packages/sklearn/metrics/ranking.pyc\u001b[0m in \u001b[0;36mroc_auc_score\u001b[0;34m(y_true, y_score, average, sample_weight, max_fpr)\u001b[0m\n\u001b[1;32m    354\u001b[0m     return _average_binary_score(\n\u001b[1;32m    355\u001b[0m         \u001b[0m_binary_roc_auc_score\u001b[0m\u001b[0;34m,\u001b[0m \u001b[0my_true\u001b[0m\u001b[0;34m,\u001b[0m \u001b[0my_score\u001b[0m\u001b[0;34m,\u001b[0m \u001b[0maverage\u001b[0m\u001b[0;34m,\u001b[0m\u001b[0;34m\u001b[0m\u001b[0m\n\u001b[0;32m--> 356\u001b[0;31m         sample_weight=sample_weight)\n\u001b[0m\u001b[1;32m    357\u001b[0m \u001b[0;34m\u001b[0m\u001b[0m\n\u001b[1;32m    358\u001b[0m \u001b[0;34m\u001b[0m\u001b[0m\n",
      "\u001b[0;32m/nfshome/llayer/.local/lib/python2.7/site-packages/sklearn/metrics/base.pyc\u001b[0m in \u001b[0;36m_average_binary_score\u001b[0;34m(binary_metric, y_true, y_score, average, sample_weight)\u001b[0m\n\u001b[1;32m     75\u001b[0m \u001b[0;34m\u001b[0m\u001b[0m\n\u001b[1;32m     76\u001b[0m     \u001b[0;32mif\u001b[0m \u001b[0my_type\u001b[0m \u001b[0;34m==\u001b[0m \u001b[0;34m\"binary\"\u001b[0m\u001b[0;34m:\u001b[0m\u001b[0;34m\u001b[0m\u001b[0m\n\u001b[0;32m---> 77\u001b[0;31m         \u001b[0;32mreturn\u001b[0m \u001b[0mbinary_metric\u001b[0m\u001b[0;34m(\u001b[0m\u001b[0my_true\u001b[0m\u001b[0;34m,\u001b[0m \u001b[0my_score\u001b[0m\u001b[0;34m,\u001b[0m \u001b[0msample_weight\u001b[0m\u001b[0;34m=\u001b[0m\u001b[0msample_weight\u001b[0m\u001b[0;34m)\u001b[0m\u001b[0;34m\u001b[0m\u001b[0m\n\u001b[0m\u001b[1;32m     78\u001b[0m \u001b[0;34m\u001b[0m\u001b[0m\n\u001b[1;32m     79\u001b[0m     \u001b[0mcheck_consistent_length\u001b[0m\u001b[0;34m(\u001b[0m\u001b[0my_true\u001b[0m\u001b[0;34m,\u001b[0m \u001b[0my_score\u001b[0m\u001b[0;34m,\u001b[0m \u001b[0msample_weight\u001b[0m\u001b[0;34m)\u001b[0m\u001b[0;34m\u001b[0m\u001b[0m\n",
      "\u001b[0;32m/nfshome/llayer/.local/lib/python2.7/site-packages/sklearn/metrics/ranking.pyc\u001b[0m in \u001b[0;36m_binary_roc_auc_score\u001b[0;34m(y_true, y_score, sample_weight)\u001b[0m\n\u001b[1;32m    322\u001b[0m     \u001b[0;32mdef\u001b[0m \u001b[0m_binary_roc_auc_score\u001b[0m\u001b[0;34m(\u001b[0m\u001b[0my_true\u001b[0m\u001b[0;34m,\u001b[0m \u001b[0my_score\u001b[0m\u001b[0;34m,\u001b[0m \u001b[0msample_weight\u001b[0m\u001b[0;34m=\u001b[0m\u001b[0mNone\u001b[0m\u001b[0;34m)\u001b[0m\u001b[0;34m:\u001b[0m\u001b[0;34m\u001b[0m\u001b[0m\n\u001b[1;32m    323\u001b[0m         \u001b[0;32mif\u001b[0m \u001b[0mlen\u001b[0m\u001b[0;34m(\u001b[0m\u001b[0mnp\u001b[0m\u001b[0;34m.\u001b[0m\u001b[0munique\u001b[0m\u001b[0;34m(\u001b[0m\u001b[0my_true\u001b[0m\u001b[0;34m)\u001b[0m\u001b[0;34m)\u001b[0m \u001b[0;34m!=\u001b[0m \u001b[0;36m2\u001b[0m\u001b[0;34m:\u001b[0m\u001b[0;34m\u001b[0m\u001b[0m\n\u001b[0;32m--> 324\u001b[0;31m             raise ValueError(\"Only one class present in y_true. ROC AUC score \"\n\u001b[0m\u001b[1;32m    325\u001b[0m                              \"is not defined in that case.\")\n\u001b[1;32m    326\u001b[0m \u001b[0;34m\u001b[0m\u001b[0m\n",
      "\u001b[0;31mValueError\u001b[0m: Only one class present in y_true. ROC AUC score is not defined in that case."
     ]
    },
    {
     "ename": "InternalError",
     "evalue": "Failed to run py callback pyfunc_0: see error log.\n\t [[Node: PyFunc = PyFunc[Tin=[DT_FLOAT, DT_FLOAT], Tout=[DT_DOUBLE], token=\"pyfunc_0\", _device=\"/job:localhost/replica:0/task:0/cpu:0\"](_recv_dense_48_target_0, Sigmoid_8/_1095)]]\n\t [[Node: PyFunc/_1124 = _Recv[client_terminated=false, recv_device=\"/job:localhost/replica:0/task:0/gpu:0\", send_device=\"/job:localhost/replica:0/task:0/cpu:0\", send_device_incarnation=1, tensor_name=\"edge_890_PyFunc\", tensor_type=DT_FLOAT, _device=\"/job:localhost/replica:0/task:0/gpu:0\"]()]]\n\nCaused by op u'PyFunc', defined at:\n  File \"/usr/lib/python2.7/runpy.py\", line 174, in _run_module_as_main\n    \"__main__\", fname, loader, pkg_name)\n  File \"/usr/lib/python2.7/runpy.py\", line 72, in _run_code\n    exec code in run_globals\n  File \"/usr/local/lib/python2.7/dist-packages/ipykernel_launcher.py\", line 16, in <module>\n    app.launch_new_instance()\n  File \"/usr/local/lib/python2.7/dist-packages/traitlets/config/application.py\", line 658, in launch_instance\n    app.start()\n  File \"/usr/local/lib/python2.7/dist-packages/ipykernel/kernelapp.py\", line 478, in start\n    self.io_loop.start()\n  File \"/usr/local/lib/python2.7/dist-packages/tornado/ioloop.py\", line 1073, in start\n    handler_func(fd_obj, events)\n  File \"/usr/local/lib/python2.7/dist-packages/tornado/stack_context.py\", line 300, in null_wrapper\n    return fn(*args, **kwargs)\n  File \"/usr/local/lib/python2.7/dist-packages/zmq/eventloop/zmqstream.py\", line 450, in _handle_events\n    self._handle_recv()\n  File \"/usr/local/lib/python2.7/dist-packages/zmq/eventloop/zmqstream.py\", line 480, in _handle_recv\n    self._run_callback(callback, msg)\n  File \"/usr/local/lib/python2.7/dist-packages/zmq/eventloop/zmqstream.py\", line 432, in _run_callback\n    callback(*args, **kwargs)\n  File \"/usr/local/lib/python2.7/dist-packages/tornado/stack_context.py\", line 300, in null_wrapper\n    return fn(*args, **kwargs)\n  File \"/usr/local/lib/python2.7/dist-packages/ipykernel/kernelbase.py\", line 281, in dispatcher\n    return self.dispatch_shell(stream, msg)\n  File \"/usr/local/lib/python2.7/dist-packages/ipykernel/kernelbase.py\", line 232, in dispatch_shell\n    handler(stream, idents, msg)\n  File \"/usr/local/lib/python2.7/dist-packages/ipykernel/kernelbase.py\", line 397, in execute_request\n    user_expressions, allow_stdin)\n  File \"/usr/local/lib/python2.7/dist-packages/ipykernel/ipkernel.py\", line 208, in do_execute\n    res = shell.run_cell(code, store_history=store_history, silent=silent)\n  File \"/usr/local/lib/python2.7/dist-packages/ipykernel/zmqshell.py\", line 533, in run_cell\n    return super(ZMQInteractiveShell, self).run_cell(*args, **kwargs)\n  File \"/usr/local/lib/python2.7/dist-packages/IPython/core/interactiveshell.py\", line 2717, in run_cell\n    interactivity=interactivity, compiler=compiler, result=result)\n  File \"/usr/local/lib/python2.7/dist-packages/IPython/core/interactiveshell.py\", line 2827, in run_ast_nodes\n    if self.run_code(code, result):\n  File \"/usr/local/lib/python2.7/dist-packages/IPython/core/interactiveshell.py\", line 2881, in run_code\n    exec(code_obj, self.user_global_ns, self.user_ns)\n  File \"<ipython-input-59-bfa429f00f5c>\", line 30, in <module>\n    metrics=['accuracy', auroc])\n  File \"/usr/local/lib/python2.7/dist-packages/keras/engine/training.py\", line 716, in compile\n    metric_result = metric_fn(y_true, y_pred)\n  File \"<ipython-input-18-3f29713c39ef>\", line 15, in auroc\n    return tf.py_func(roc_auc_score, (y_true, y_pred), tf.double)\n  File \"/usr/local/lib/python2.7/dist-packages/tensorflow/python/ops/script_ops.py\", line 192, in py_func\n    input=inp, token=token, Tout=Tout, name=name)\n  File \"/usr/local/lib/python2.7/dist-packages/tensorflow/python/ops/gen_script_ops.py\", line 40, in _py_func\n    name=name)\n  File \"/usr/local/lib/python2.7/dist-packages/tensorflow/python/framework/op_def_library.py\", line 763, in apply_op\n    op_def=op_def)\n  File \"/usr/local/lib/python2.7/dist-packages/tensorflow/python/framework/ops.py\", line 2395, in create_op\n    original_op=self._default_original_op, op_def=op_def)\n  File \"/usr/local/lib/python2.7/dist-packages/tensorflow/python/framework/ops.py\", line 1264, in __init__\n    self._traceback = _extract_stack()\n\nInternalError (see above for traceback): Failed to run py callback pyfunc_0: see error log.\n\t [[Node: PyFunc = PyFunc[Tin=[DT_FLOAT, DT_FLOAT], Tout=[DT_DOUBLE], token=\"pyfunc_0\", _device=\"/job:localhost/replica:0/task:0/cpu:0\"](_recv_dense_48_target_0, Sigmoid_8/_1095)]]\n\t [[Node: PyFunc/_1124 = _Recv[client_terminated=false, recv_device=\"/job:localhost/replica:0/task:0/gpu:0\", send_device=\"/job:localhost/replica:0/task:0/cpu:0\", send_device_incarnation=1, tensor_name=\"edge_890_PyFunc\", tensor_type=DT_FLOAT, _device=\"/job:localhost/replica:0/task:0/gpu:0\"]()]]\n",
     "output_type": "error",
     "traceback": [
      "\u001b[0;31m---------------------------------------------------------------------------\u001b[0m",
      "\u001b[0;31mInternalError\u001b[0m                             Traceback (most recent call last)",
      "\u001b[0;32m<ipython-input-64-8abbdc6ee156>\u001b[0m in \u001b[0;36m<module>\u001b[0;34m()\u001b[0m\n\u001b[1;32m      3\u001b[0m \u001b[0mvalidation_split\u001b[0m\u001b[0;34m=\u001b[0m\u001b[0;36m0.25\u001b[0m\u001b[0;34m\u001b[0m\u001b[0m\n\u001b[1;32m      4\u001b[0m \u001b[0mverbose\u001b[0m\u001b[0;34m=\u001b[0m\u001b[0;36m1\u001b[0m\u001b[0;34m\u001b[0m\u001b[0m\n\u001b[0;32m----> 5\u001b[0;31m \u001b[0mmodel\u001b[0m\u001b[0;34m.\u001b[0m\u001b[0mfit\u001b[0m\u001b[0;34m(\u001b[0m\u001b[0minputs\u001b[0m\u001b[0;34m,\u001b[0m \u001b[0my_train\u001b[0m\u001b[0;34m,\u001b[0m \u001b[0mbatch_size\u001b[0m \u001b[0;34m=\u001b[0m \u001b[0mbatch_size\u001b[0m\u001b[0;34m,\u001b[0m \u001b[0mnb_epoch\u001b[0m\u001b[0;34m=\u001b[0m\u001b[0mepochs\u001b[0m\u001b[0;34m,\u001b[0m \u001b[0mvalidation_split\u001b[0m \u001b[0;34m=\u001b[0m \u001b[0mvalidation_split\u001b[0m\u001b[0;34m)\u001b[0m\u001b[0;34m\u001b[0m\u001b[0m\n\u001b[0m",
      "\u001b[0;32m/usr/local/lib/python2.7/dist-packages/keras/engine/training.pyc\u001b[0m in \u001b[0;36mfit\u001b[0;34m(self, x, y, batch_size, nb_epoch, verbose, callbacks, validation_split, validation_data, shuffle, class_weight, sample_weight, initial_epoch)\u001b[0m\n\u001b[1;32m   1194\u001b[0m                               \u001b[0mval_f\u001b[0m\u001b[0;34m=\u001b[0m\u001b[0mval_f\u001b[0m\u001b[0;34m,\u001b[0m \u001b[0mval_ins\u001b[0m\u001b[0;34m=\u001b[0m\u001b[0mval_ins\u001b[0m\u001b[0;34m,\u001b[0m \u001b[0mshuffle\u001b[0m\u001b[0;34m=\u001b[0m\u001b[0mshuffle\u001b[0m\u001b[0;34m,\u001b[0m\u001b[0;34m\u001b[0m\u001b[0m\n\u001b[1;32m   1195\u001b[0m                               \u001b[0mcallback_metrics\u001b[0m\u001b[0;34m=\u001b[0m\u001b[0mcallback_metrics\u001b[0m\u001b[0;34m,\u001b[0m\u001b[0;34m\u001b[0m\u001b[0m\n\u001b[0;32m-> 1196\u001b[0;31m                               initial_epoch=initial_epoch)\n\u001b[0m\u001b[1;32m   1197\u001b[0m \u001b[0;34m\u001b[0m\u001b[0m\n\u001b[1;32m   1198\u001b[0m     \u001b[0;32mdef\u001b[0m \u001b[0mevaluate\u001b[0m\u001b[0;34m(\u001b[0m\u001b[0mself\u001b[0m\u001b[0;34m,\u001b[0m \u001b[0mx\u001b[0m\u001b[0;34m,\u001b[0m \u001b[0my\u001b[0m\u001b[0;34m,\u001b[0m \u001b[0mbatch_size\u001b[0m\u001b[0;34m=\u001b[0m\u001b[0;36m32\u001b[0m\u001b[0;34m,\u001b[0m \u001b[0mverbose\u001b[0m\u001b[0;34m=\u001b[0m\u001b[0;36m1\u001b[0m\u001b[0;34m,\u001b[0m \u001b[0msample_weight\u001b[0m\u001b[0;34m=\u001b[0m\u001b[0mNone\u001b[0m\u001b[0;34m)\u001b[0m\u001b[0;34m:\u001b[0m\u001b[0;34m\u001b[0m\u001b[0m\n",
      "\u001b[0;32m/usr/local/lib/python2.7/dist-packages/keras/engine/training.pyc\u001b[0m in \u001b[0;36m_fit_loop\u001b[0;34m(self, f, ins, out_labels, batch_size, nb_epoch, verbose, callbacks, val_f, val_ins, shuffle, callback_metrics, initial_epoch)\u001b[0m\n\u001b[1;32m    889\u001b[0m                 \u001b[0mbatch_logs\u001b[0m\u001b[0;34m[\u001b[0m\u001b[0;34m'size'\u001b[0m\u001b[0;34m]\u001b[0m \u001b[0;34m=\u001b[0m \u001b[0mlen\u001b[0m\u001b[0;34m(\u001b[0m\u001b[0mbatch_ids\u001b[0m\u001b[0;34m)\u001b[0m\u001b[0;34m\u001b[0m\u001b[0m\n\u001b[1;32m    890\u001b[0m                 \u001b[0mcallbacks\u001b[0m\u001b[0;34m.\u001b[0m\u001b[0mon_batch_begin\u001b[0m\u001b[0;34m(\u001b[0m\u001b[0mbatch_index\u001b[0m\u001b[0;34m,\u001b[0m \u001b[0mbatch_logs\u001b[0m\u001b[0;34m)\u001b[0m\u001b[0;34m\u001b[0m\u001b[0m\n\u001b[0;32m--> 891\u001b[0;31m                 \u001b[0mouts\u001b[0m \u001b[0;34m=\u001b[0m \u001b[0mf\u001b[0m\u001b[0;34m(\u001b[0m\u001b[0mins_batch\u001b[0m\u001b[0;34m)\u001b[0m\u001b[0;34m\u001b[0m\u001b[0m\n\u001b[0m\u001b[1;32m    892\u001b[0m                 \u001b[0;32mif\u001b[0m \u001b[0;32mnot\u001b[0m \u001b[0misinstance\u001b[0m\u001b[0;34m(\u001b[0m\u001b[0mouts\u001b[0m\u001b[0;34m,\u001b[0m \u001b[0mlist\u001b[0m\u001b[0;34m)\u001b[0m\u001b[0;34m:\u001b[0m\u001b[0;34m\u001b[0m\u001b[0m\n\u001b[1;32m    893\u001b[0m                     \u001b[0mouts\u001b[0m \u001b[0;34m=\u001b[0m \u001b[0;34m[\u001b[0m\u001b[0mouts\u001b[0m\u001b[0;34m]\u001b[0m\u001b[0;34m\u001b[0m\u001b[0m\n",
      "\u001b[0;32m/usr/local/lib/python2.7/dist-packages/keras/backend/tensorflow_backend.py\u001b[0m in \u001b[0;36m__call__\u001b[0;34m(self, inputs)\u001b[0m\n\u001b[1;32m   1941\u001b[0m         \u001b[0msession\u001b[0m \u001b[0;34m=\u001b[0m \u001b[0mget_session\u001b[0m\u001b[0;34m(\u001b[0m\u001b[0;34m)\u001b[0m\u001b[0;34m\u001b[0m\u001b[0m\n\u001b[1;32m   1942\u001b[0m         updated = session.run(self.outputs + [self.updates_op],\n\u001b[0;32m-> 1943\u001b[0;31m                               feed_dict=feed_dict)\n\u001b[0m\u001b[1;32m   1944\u001b[0m         \u001b[0;32mreturn\u001b[0m \u001b[0mupdated\u001b[0m\u001b[0;34m[\u001b[0m\u001b[0;34m:\u001b[0m\u001b[0mlen\u001b[0m\u001b[0;34m(\u001b[0m\u001b[0mself\u001b[0m\u001b[0;34m.\u001b[0m\u001b[0moutputs\u001b[0m\u001b[0;34m)\u001b[0m\u001b[0;34m]\u001b[0m\u001b[0;34m\u001b[0m\u001b[0m\n\u001b[1;32m   1945\u001b[0m \u001b[0;34m\u001b[0m\u001b[0m\n",
      "\u001b[0;32m/usr/local/lib/python2.7/dist-packages/tensorflow/python/client/session.pyc\u001b[0m in \u001b[0;36mrun\u001b[0;34m(self, fetches, feed_dict, options, run_metadata)\u001b[0m\n\u001b[1;32m    765\u001b[0m     \u001b[0;32mtry\u001b[0m\u001b[0;34m:\u001b[0m\u001b[0;34m\u001b[0m\u001b[0m\n\u001b[1;32m    766\u001b[0m       result = self._run(None, fetches, feed_dict, options_ptr,\n\u001b[0;32m--> 767\u001b[0;31m                          run_metadata_ptr)\n\u001b[0m\u001b[1;32m    768\u001b[0m       \u001b[0;32mif\u001b[0m \u001b[0mrun_metadata\u001b[0m\u001b[0;34m:\u001b[0m\u001b[0;34m\u001b[0m\u001b[0m\n\u001b[1;32m    769\u001b[0m         \u001b[0mproto_data\u001b[0m \u001b[0;34m=\u001b[0m \u001b[0mtf_session\u001b[0m\u001b[0;34m.\u001b[0m\u001b[0mTF_GetBuffer\u001b[0m\u001b[0;34m(\u001b[0m\u001b[0mrun_metadata_ptr\u001b[0m\u001b[0;34m)\u001b[0m\u001b[0;34m\u001b[0m\u001b[0m\n",
      "\u001b[0;32m/usr/local/lib/python2.7/dist-packages/tensorflow/python/client/session.pyc\u001b[0m in \u001b[0;36m_run\u001b[0;34m(self, handle, fetches, feed_dict, options, run_metadata)\u001b[0m\n\u001b[1;32m    963\u001b[0m     \u001b[0;32mif\u001b[0m \u001b[0mfinal_fetches\u001b[0m \u001b[0;32mor\u001b[0m \u001b[0mfinal_targets\u001b[0m\u001b[0;34m:\u001b[0m\u001b[0;34m\u001b[0m\u001b[0m\n\u001b[1;32m    964\u001b[0m       results = self._do_run(handle, final_targets, final_fetches,\n\u001b[0;32m--> 965\u001b[0;31m                              feed_dict_string, options, run_metadata)\n\u001b[0m\u001b[1;32m    966\u001b[0m     \u001b[0;32melse\u001b[0m\u001b[0;34m:\u001b[0m\u001b[0;34m\u001b[0m\u001b[0m\n\u001b[1;32m    967\u001b[0m       \u001b[0mresults\u001b[0m \u001b[0;34m=\u001b[0m \u001b[0;34m[\u001b[0m\u001b[0;34m]\u001b[0m\u001b[0;34m\u001b[0m\u001b[0m\n",
      "\u001b[0;32m/usr/local/lib/python2.7/dist-packages/tensorflow/python/client/session.pyc\u001b[0m in \u001b[0;36m_do_run\u001b[0;34m(self, handle, target_list, fetch_list, feed_dict, options, run_metadata)\u001b[0m\n\u001b[1;32m   1013\u001b[0m     \u001b[0;32mif\u001b[0m \u001b[0mhandle\u001b[0m \u001b[0;32mis\u001b[0m \u001b[0mNone\u001b[0m\u001b[0;34m:\u001b[0m\u001b[0;34m\u001b[0m\u001b[0m\n\u001b[1;32m   1014\u001b[0m       return self._do_call(_run_fn, self._session, feed_dict, fetch_list,\n\u001b[0;32m-> 1015\u001b[0;31m                            target_list, options, run_metadata)\n\u001b[0m\u001b[1;32m   1016\u001b[0m     \u001b[0;32melse\u001b[0m\u001b[0;34m:\u001b[0m\u001b[0;34m\u001b[0m\u001b[0m\n\u001b[1;32m   1017\u001b[0m       return self._do_call(_prun_fn, self._session, handle, feed_dict,\n",
      "\u001b[0;32m/usr/local/lib/python2.7/dist-packages/tensorflow/python/client/session.pyc\u001b[0m in \u001b[0;36m_do_call\u001b[0;34m(self, fn, *args)\u001b[0m\n\u001b[1;32m   1033\u001b[0m         \u001b[0;32mexcept\u001b[0m \u001b[0mKeyError\u001b[0m\u001b[0;34m:\u001b[0m\u001b[0;34m\u001b[0m\u001b[0m\n\u001b[1;32m   1034\u001b[0m           \u001b[0;32mpass\u001b[0m\u001b[0;34m\u001b[0m\u001b[0m\n\u001b[0;32m-> 1035\u001b[0;31m       \u001b[0;32mraise\u001b[0m \u001b[0mtype\u001b[0m\u001b[0;34m(\u001b[0m\u001b[0me\u001b[0m\u001b[0;34m)\u001b[0m\u001b[0;34m(\u001b[0m\u001b[0mnode_def\u001b[0m\u001b[0;34m,\u001b[0m \u001b[0mop\u001b[0m\u001b[0;34m,\u001b[0m \u001b[0mmessage\u001b[0m\u001b[0;34m)\u001b[0m\u001b[0;34m\u001b[0m\u001b[0m\n\u001b[0m\u001b[1;32m   1036\u001b[0m \u001b[0;34m\u001b[0m\u001b[0m\n\u001b[1;32m   1037\u001b[0m   \u001b[0;32mdef\u001b[0m \u001b[0m_extend_graph\u001b[0m\u001b[0;34m(\u001b[0m\u001b[0mself\u001b[0m\u001b[0;34m)\u001b[0m\u001b[0;34m:\u001b[0m\u001b[0;34m\u001b[0m\u001b[0m\n",
      "\u001b[0;31mInternalError\u001b[0m: Failed to run py callback pyfunc_0: see error log.\n\t [[Node: PyFunc = PyFunc[Tin=[DT_FLOAT, DT_FLOAT], Tout=[DT_DOUBLE], token=\"pyfunc_0\", _device=\"/job:localhost/replica:0/task:0/cpu:0\"](_recv_dense_48_target_0, Sigmoid_8/_1095)]]\n\t [[Node: PyFunc/_1124 = _Recv[client_terminated=false, recv_device=\"/job:localhost/replica:0/task:0/gpu:0\", send_device=\"/job:localhost/replica:0/task:0/cpu:0\", send_device_incarnation=1, tensor_name=\"edge_890_PyFunc\", tensor_type=DT_FLOAT, _device=\"/job:localhost/replica:0/task:0/gpu:0\"]()]]\n\nCaused by op u'PyFunc', defined at:\n  File \"/usr/lib/python2.7/runpy.py\", line 174, in _run_module_as_main\n    \"__main__\", fname, loader, pkg_name)\n  File \"/usr/lib/python2.7/runpy.py\", line 72, in _run_code\n    exec code in run_globals\n  File \"/usr/local/lib/python2.7/dist-packages/ipykernel_launcher.py\", line 16, in <module>\n    app.launch_new_instance()\n  File \"/usr/local/lib/python2.7/dist-packages/traitlets/config/application.py\", line 658, in launch_instance\n    app.start()\n  File \"/usr/local/lib/python2.7/dist-packages/ipykernel/kernelapp.py\", line 478, in start\n    self.io_loop.start()\n  File \"/usr/local/lib/python2.7/dist-packages/tornado/ioloop.py\", line 1073, in start\n    handler_func(fd_obj, events)\n  File \"/usr/local/lib/python2.7/dist-packages/tornado/stack_context.py\", line 300, in null_wrapper\n    return fn(*args, **kwargs)\n  File \"/usr/local/lib/python2.7/dist-packages/zmq/eventloop/zmqstream.py\", line 450, in _handle_events\n    self._handle_recv()\n  File \"/usr/local/lib/python2.7/dist-packages/zmq/eventloop/zmqstream.py\", line 480, in _handle_recv\n    self._run_callback(callback, msg)\n  File \"/usr/local/lib/python2.7/dist-packages/zmq/eventloop/zmqstream.py\", line 432, in _run_callback\n    callback(*args, **kwargs)\n  File \"/usr/local/lib/python2.7/dist-packages/tornado/stack_context.py\", line 300, in null_wrapper\n    return fn(*args, **kwargs)\n  File \"/usr/local/lib/python2.7/dist-packages/ipykernel/kernelbase.py\", line 281, in dispatcher\n    return self.dispatch_shell(stream, msg)\n  File \"/usr/local/lib/python2.7/dist-packages/ipykernel/kernelbase.py\", line 232, in dispatch_shell\n    handler(stream, idents, msg)\n  File \"/usr/local/lib/python2.7/dist-packages/ipykernel/kernelbase.py\", line 397, in execute_request\n    user_expressions, allow_stdin)\n  File \"/usr/local/lib/python2.7/dist-packages/ipykernel/ipkernel.py\", line 208, in do_execute\n    res = shell.run_cell(code, store_history=store_history, silent=silent)\n  File \"/usr/local/lib/python2.7/dist-packages/ipykernel/zmqshell.py\", line 533, in run_cell\n    return super(ZMQInteractiveShell, self).run_cell(*args, **kwargs)\n  File \"/usr/local/lib/python2.7/dist-packages/IPython/core/interactiveshell.py\", line 2717, in run_cell\n    interactivity=interactivity, compiler=compiler, result=result)\n  File \"/usr/local/lib/python2.7/dist-packages/IPython/core/interactiveshell.py\", line 2827, in run_ast_nodes\n    if self.run_code(code, result):\n  File \"/usr/local/lib/python2.7/dist-packages/IPython/core/interactiveshell.py\", line 2881, in run_code\n    exec(code_obj, self.user_global_ns, self.user_ns)\n  File \"<ipython-input-59-bfa429f00f5c>\", line 30, in <module>\n    metrics=['accuracy', auroc])\n  File \"/usr/local/lib/python2.7/dist-packages/keras/engine/training.py\", line 716, in compile\n    metric_result = metric_fn(y_true, y_pred)\n  File \"<ipython-input-18-3f29713c39ef>\", line 15, in auroc\n    return tf.py_func(roc_auc_score, (y_true, y_pred), tf.double)\n  File \"/usr/local/lib/python2.7/dist-packages/tensorflow/python/ops/script_ops.py\", line 192, in py_func\n    input=inp, token=token, Tout=Tout, name=name)\n  File \"/usr/local/lib/python2.7/dist-packages/tensorflow/python/ops/gen_script_ops.py\", line 40, in _py_func\n    name=name)\n  File \"/usr/local/lib/python2.7/dist-packages/tensorflow/python/framework/op_def_library.py\", line 763, in apply_op\n    op_def=op_def)\n  File \"/usr/local/lib/python2.7/dist-packages/tensorflow/python/framework/ops.py\", line 2395, in create_op\n    original_op=self._default_original_op, op_def=op_def)\n  File \"/usr/local/lib/python2.7/dist-packages/tensorflow/python/framework/ops.py\", line 1264, in __init__\n    self._traceback = _extract_stack()\n\nInternalError (see above for traceback): Failed to run py callback pyfunc_0: see error log.\n\t [[Node: PyFunc = PyFunc[Tin=[DT_FLOAT, DT_FLOAT], Tout=[DT_DOUBLE], token=\"pyfunc_0\", _device=\"/job:localhost/replica:0/task:0/cpu:0\"](_recv_dense_48_target_0, Sigmoid_8/_1095)]]\n\t [[Node: PyFunc/_1124 = _Recv[client_terminated=false, recv_device=\"/job:localhost/replica:0/task:0/gpu:0\", send_device=\"/job:localhost/replica:0/task:0/cpu:0\", send_device_incarnation=1, tensor_name=\"edge_890_PyFunc\", tensor_type=DT_FLOAT, _device=\"/job:localhost/replica:0/task:0/gpu:0\"]()]]\n"
     ]
    }
   ],
   "source": [
    "batch_size=100\n",
    "epochs=20\n",
    "validation_split=0.25\n",
    "verbose=1\n",
    "model.fit(inputs, y_train, batch_size = batch_size, nb_epoch=epochs, validation_split = validation_split)"
   ]
  },
  {
   "cell_type": "code",
   "execution_count": 56,
   "metadata": {},
   "outputs": [],
   "source": [
    "X_test_swp = np.swapaxes(X_test,0,1)\n",
    "inputs_test = []\n",
    "for i in range(X_test_swp.shape[0]):\n",
    "    inputs_test.append(X_test_swp[i])\n",
    "\n",
    "y_pred = model.predict(inputs_test)\n",
    "y_train_pred = model.predict(inputs)"
   ]
  },
  {
   "cell_type": "code",
   "execution_count": 57,
   "metadata": {},
   "outputs": [
    {
     "name": "stdout",
     "output_type": "stream",
     "text": [
      "0.709721019793\n",
      "0.846086609063\n"
     ]
    }
   ],
   "source": [
    "print roc_auc_score(y_test, y_pred)\n",
    "print roc_auc_score(y_train, y_train_pred)"
   ]
  },
  {
   "cell_type": "code",
   "execution_count": null,
   "metadata": {},
   "outputs": [],
   "source": []
  }
 ],
 "metadata": {
  "kernelspec": {
   "display_name": "Python 2",
   "language": "python",
   "name": "python2"
  },
  "language_info": {
   "codemirror_mode": {
    "name": "ipython",
    "version": 2
   },
   "file_extension": ".py",
   "mimetype": "text/x-python",
   "name": "python",
   "nbconvert_exporter": "python",
   "pygments_lexer": "ipython2",
   "version": "2.7.12"
  }
 },
 "nbformat": 4,
 "nbformat_minor": 2
}
