{
 "cells": [
  {
   "cell_type": "code",
   "execution_count": 13,
   "metadata": {},
   "outputs": [],
   "source": [
    "import test_generator\n",
    "import os\n",
    "import sys\n",
    "module_path = os.path.abspath(os.path.join('../../utils'))\n",
    "if module_path not in sys.path:\n",
    "    sys.path.append(module_path)\n",
    "from create_actionshist_keys import *\n",
    "from actionshist_utils import *"
   ]
  },
  {
   "cell_type": "code",
   "execution_count": 2,
   "metadata": {},
   "outputs": [],
   "source": [
    "%load_ext autoreload\n",
    "%autoreload 2"
   ]
  },
  {
   "cell_type": "code",
   "execution_count": 9,
   "metadata": {},
   "outputs": [],
   "source": [
    "input_path='/eos/user/l/llayer/AIErrorLogAnalysis/data/input/'\n",
    "actionshist_path = '/eos/user/l/llayer/AIErrorLogAnalysis/data/actionshist/actionshistory_300719.json'\n",
    "# Load the input\n",
    "mode='tokens'\n",
    "input_ml = pd.read_hdf(input_path + 'input_' + mode + '.h5', 'frame')\n",
    "sites = pd.read_hdf(input_path + 'input_' + mode + '.h5', 'frame2')\n",
    "codes = pd.read_hdf(input_path + 'input_' + mode + '.h5', 'frame3')\n",
    "sites_index, codes_index = index.to_index(list(sites['site']), list(codes['error']))\n",
    "\n",
    "# Load the actionshist\n",
    "actionshist = load_data(actionshist_path)"
   ]
  },
  {
   "cell_type": "code",
   "execution_count": 15,
   "metadata": {},
   "outputs": [
    {
     "name": "stdout",
     "output_type": "stream",
     "text": [
      "Matrix 0 passed\n",
      "Matrix 1 passed\n",
      "Matrix 2 passed\n",
      "Matrix 3 passed\n",
      "Matrix 4 passed\n",
      "Matrix 5 passed\n",
      "Matrix 6 passed\n",
      "Matrix 7 passed\n",
      "Matrix 8 passed\n",
      "Matrix 9 passed\n",
      "Pass matrix setup test\n"
     ]
    }
   ],
   "source": [
    "test_generator.test(input_ml, actionshist, codes_index, sites_index, matrix_setup_test = True)"
   ]
  },
  {
   "cell_type": "code",
   "execution_count": null,
   "metadata": {},
   "outputs": [],
   "source": []
  }
 ],
 "metadata": {
  "kernelspec": {
   "display_name": "Python 2",
   "language": "python",
   "name": "python2"
  },
  "language_info": {
   "codemirror_mode": {
    "name": "ipython",
    "version": 2
   },
   "file_extension": ".py",
   "mimetype": "text/x-python",
   "name": "python",
   "nbconvert_exporter": "python",
   "pygments_lexer": "ipython2",
   "version": "2.7.16"
  }
 },
 "nbformat": 4,
 "nbformat_minor": 2
}
