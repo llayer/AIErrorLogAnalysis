{
  "nbformat": 4,
  "nbformat_minor": 0,
  "metadata": {
    "kernelspec": {
      "name": "python3",
      "display_name": "Python 3"
    },
    "language_info": {
      "codemirror_mode": {
        "name": "ipython",
        "version": 3
      },
      "file_extension": ".py",
      "mimetype": "text/x-python",
      "name": "python",
      "nbconvert_exporter": "python",
      "pygments_lexer": "ipython3",
      "version": "3.6.5"
    },
    "colab": {
      "name": "Copy of Higgs.ipynb",
      "provenance": [],
      "collapsed_sections": [],
      "include_colab_link": true
    },
    "accelerator": "GPU"
  },
  "cells": [
    {
      "cell_type": "markdown",
      "metadata": {
        "id": "view-in-github",
        "colab_type": "text"
      },
      "source": [
        "<a href=\"https://colab.research.google.com/github/llayer/AIErrorLogAnalysis/blob/master/Higgs.ipynb\" target=\"_parent\"><img src=\"https://colab.research.google.com/assets/colab-badge.svg\" alt=\"Open In Colab\"/></a>"
      ]
    },
    {
      "cell_type": "markdown",
      "metadata": {
        "id": "FPBJ_Fkqatao",
        "colab_type": "text"
      },
      "source": [
        "# Higgs ML dataset studies"
      ]
    },
    {
      "cell_type": "code",
      "metadata": {
        "id": "ZYiLaejiY1wO",
        "colab_type": "code",
        "colab": {}
      },
      "source": [
        "import pandas as pd\n",
        "import numpy as np"
      ],
      "execution_count": 0,
      "outputs": []
    },
    {
      "cell_type": "code",
      "metadata": {
        "colab_type": "code",
        "outputId": "044bb556-d7b3-461d-fe09-b8068ef07ab6",
        "id": "7E8GpkJsZeeD",
        "colab": {
          "base_uri": "https://localhost:8080/",
          "height": 34
        }
      },
      "source": [
        "!git clone https://github.com/llayer/ml_exercise"
      ],
      "execution_count": 12,
      "outputs": [
        {
          "output_type": "stream",
          "text": [
            "fatal: destination path 'ml_exercise' already exists and is not an empty directory.\n"
          ],
          "name": "stdout"
        }
      ]
    },
    {
      "cell_type": "code",
      "metadata": {
        "id": "FMFxP9uzZzAi",
        "colab_type": "code",
        "colab": {
          "base_uri": "https://localhost:8080/",
          "height": 136
        },
        "outputId": "095c1508-76eb-43bd-d675-26d4221e2897"
      },
      "source": [
        "!pip3 install scikit-optimize"
      ],
      "execution_count": 13,
      "outputs": [
        {
          "output_type": "stream",
          "text": [
            "Requirement already satisfied: scikit-optimize in /usr/local/lib/python3.6/dist-packages (0.7.4)\n",
            "Requirement already satisfied: scikit-learn>=0.19.1 in /usr/local/lib/python3.6/dist-packages (from scikit-optimize) (0.22.1)\n",
            "Requirement already satisfied: scipy>=0.18.0 in /usr/local/lib/python3.6/dist-packages (from scikit-optimize) (1.4.1)\n",
            "Requirement already satisfied: joblib>=0.11 in /usr/local/lib/python3.6/dist-packages (from scikit-optimize) (0.14.1)\n",
            "Requirement already satisfied: numpy>=1.11.0 in /usr/local/lib/python3.6/dist-packages (from scikit-optimize) (1.17.5)\n",
            "Requirement already satisfied: pyaml>=16.9 in /usr/local/lib/python3.6/dist-packages (from scikit-optimize) (19.12.0)\n",
            "Requirement already satisfied: PyYAML in /usr/local/lib/python3.6/dist-packages (from pyaml>=16.9->scikit-optimize) (3.13)\n"
          ],
          "name": "stdout"
        }
      ]
    },
    {
      "cell_type": "markdown",
      "metadata": {
        "id": "WCPA968mZ4t8",
        "colab_type": "text"
      },
      "source": [
        "## 1. Load data"
      ]
    },
    {
      "cell_type": "code",
      "metadata": {
        "id": "Fgl4De_IY1wf",
        "colab_type": "code",
        "colab": {}
      },
      "source": [
        "sig = pd.read_hdf('ml_exercise/higgs_signal.h5')\n",
        "bkg = pd.read_hdf('ml_exercise/higgs_bkg.h5')"
      ],
      "execution_count": 0,
      "outputs": []
    },
    {
      "cell_type": "code",
      "metadata": {
        "id": "Sp7TCQ6OY1wp",
        "colab_type": "code",
        "outputId": "d65028e2-b5b6-4060-cc7c-9557288b4007",
        "colab": {
          "base_uri": "https://localhost:8080/",
          "height": 224
        }
      },
      "source": [
        "sig.head()"
      ],
      "execution_count": 18,
      "outputs": [
        {
          "output_type": "execute_result",
          "data": {
            "text/html": [
              "<div>\n",
              "<style scoped>\n",
              "    .dataframe tbody tr th:only-of-type {\n",
              "        vertical-align: middle;\n",
              "    }\n",
              "\n",
              "    .dataframe tbody tr th {\n",
              "        vertical-align: top;\n",
              "    }\n",
              "\n",
              "    .dataframe thead th {\n",
              "        text-align: right;\n",
              "    }\n",
              "</style>\n",
              "<table border=\"1\" class=\"dataframe\">\n",
              "  <thead>\n",
              "    <tr style=\"text-align: right;\">\n",
              "      <th></th>\n",
              "      <th>lepton_pT</th>\n",
              "      <th>lepton_eta</th>\n",
              "      <th>lepton_phi</th>\n",
              "      <th>missing_energy_magnitude</th>\n",
              "      <th>missing_energy_phi</th>\n",
              "      <th>jet1_pt</th>\n",
              "      <th>jet1_eta</th>\n",
              "      <th>jet1_phi</th>\n",
              "      <th>jet1_btag</th>\n",
              "      <th>jet2_pt</th>\n",
              "      <th>jet2_eta</th>\n",
              "      <th>jet2_phi</th>\n",
              "      <th>jet2_btag</th>\n",
              "      <th>jet3_pt</th>\n",
              "      <th>jet3_eta</th>\n",
              "      <th>jet3_phi</th>\n",
              "      <th>jet3_btag</th>\n",
              "      <th>jet4_pt</th>\n",
              "      <th>jet4_eta</th>\n",
              "      <th>jet4_phi</th>\n",
              "      <th>jet4_btag</th>\n",
              "      <th>m_jj</th>\n",
              "      <th>m_jjj</th>\n",
              "      <th>m_lv</th>\n",
              "      <th>m_jlv</th>\n",
              "      <th>m_bb</th>\n",
              "      <th>m_wbb</th>\n",
              "      <th>m_wwbb</th>\n",
              "      <th>label</th>\n",
              "    </tr>\n",
              "  </thead>\n",
              "  <tbody>\n",
              "    <tr>\n",
              "      <th>0</th>\n",
              "      <td>0.723801</td>\n",
              "      <td>-0.914611</td>\n",
              "      <td>0.910944</td>\n",
              "      <td>1.194830</td>\n",
              "      <td>-0.448292</td>\n",
              "      <td>0.839489</td>\n",
              "      <td>-0.871428</td>\n",
              "      <td>0.587799</td>\n",
              "      <td>0.000000</td>\n",
              "      <td>0.654446</td>\n",
              "      <td>1.159881</td>\n",
              "      <td>-0.725923</td>\n",
              "      <td>0.000000</td>\n",
              "      <td>0.422018</td>\n",
              "      <td>1.636800</td>\n",
              "      <td>-0.880565</td>\n",
              "      <td>0.000000</td>\n",
              "      <td>1.033994</td>\n",
              "      <td>-0.704196</td>\n",
              "      <td>-0.916982</td>\n",
              "      <td>3.101961</td>\n",
              "      <td>0.867059</td>\n",
              "      <td>1.127180</td>\n",
              "      <td>1.211664</td>\n",
              "      <td>0.695883</td>\n",
              "      <td>0.694068</td>\n",
              "      <td>0.755813</td>\n",
              "      <td>0.761658</td>\n",
              "      <td>0</td>\n",
              "    </tr>\n",
              "    <tr>\n",
              "      <th>1</th>\n",
              "      <td>1.974119</td>\n",
              "      <td>0.660297</td>\n",
              "      <td>-1.362428</td>\n",
              "      <td>1.234102</td>\n",
              "      <td>1.677716</td>\n",
              "      <td>1.478815</td>\n",
              "      <td>0.408940</td>\n",
              "      <td>-0.105273</td>\n",
              "      <td>0.000000</td>\n",
              "      <td>1.017048</td>\n",
              "      <td>-0.127190</td>\n",
              "      <td>0.363313</td>\n",
              "      <td>2.214872</td>\n",
              "      <td>0.918675</td>\n",
              "      <td>0.072083</td>\n",
              "      <td>1.162631</td>\n",
              "      <td>0.000000</td>\n",
              "      <td>0.961458</td>\n",
              "      <td>0.629154</td>\n",
              "      <td>1.604089</td>\n",
              "      <td>3.101961</td>\n",
              "      <td>1.938668</td>\n",
              "      <td>1.233898</td>\n",
              "      <td>0.990063</td>\n",
              "      <td>0.524871</td>\n",
              "      <td>0.900614</td>\n",
              "      <td>0.917613</td>\n",
              "      <td>1.083369</td>\n",
              "      <td>0</td>\n",
              "    </tr>\n",
              "    <tr>\n",
              "      <th>2</th>\n",
              "      <td>0.946889</td>\n",
              "      <td>0.169416</td>\n",
              "      <td>1.210014</td>\n",
              "      <td>0.343294</td>\n",
              "      <td>-1.579545</td>\n",
              "      <td>0.999435</td>\n",
              "      <td>1.030804</td>\n",
              "      <td>-0.475041</td>\n",
              "      <td>0.000000</td>\n",
              "      <td>0.435374</td>\n",
              "      <td>0.054457</td>\n",
              "      <td>-0.083982</td>\n",
              "      <td>0.000000</td>\n",
              "      <td>1.465033</td>\n",
              "      <td>0.613681</td>\n",
              "      <td>1.492698</td>\n",
              "      <td>2.548224</td>\n",
              "      <td>1.192695</td>\n",
              "      <td>0.190256</td>\n",
              "      <td>0.558635</td>\n",
              "      <td>3.101961</td>\n",
              "      <td>0.881641</td>\n",
              "      <td>0.845381</td>\n",
              "      <td>0.997408</td>\n",
              "      <td>0.695120</td>\n",
              "      <td>0.787132</td>\n",
              "      <td>0.657668</td>\n",
              "      <td>0.721147</td>\n",
              "      <td>0</td>\n",
              "    </tr>\n",
              "    <tr>\n",
              "      <th>3</th>\n",
              "      <td>1.298084</td>\n",
              "      <td>-0.897079</td>\n",
              "      <td>1.224441</td>\n",
              "      <td>0.618091</td>\n",
              "      <td>0.856746</td>\n",
              "      <td>0.493122</td>\n",
              "      <td>-0.021810</td>\n",
              "      <td>-1.520042</td>\n",
              "      <td>2.173076</td>\n",
              "      <td>0.973234</td>\n",
              "      <td>0.325470</td>\n",
              "      <td>-0.250431</td>\n",
              "      <td>2.214872</td>\n",
              "      <td>0.782569</td>\n",
              "      <td>-0.841807</td>\n",
              "      <td>-0.817325</td>\n",
              "      <td>0.000000</td>\n",
              "      <td>0.810789</td>\n",
              "      <td>-1.033162</td>\n",
              "      <td>0.581386</td>\n",
              "      <td>0.000000</td>\n",
              "      <td>0.848238</td>\n",
              "      <td>0.925814</td>\n",
              "      <td>0.973957</td>\n",
              "      <td>0.961469</td>\n",
              "      <td>0.946147</td>\n",
              "      <td>1.028120</td>\n",
              "      <td>0.848133</td>\n",
              "      <td>0</td>\n",
              "    </tr>\n",
              "    <tr>\n",
              "      <th>4</th>\n",
              "      <td>1.022289</td>\n",
              "      <td>-0.481195</td>\n",
              "      <td>0.169649</td>\n",
              "      <td>1.103255</td>\n",
              "      <td>0.744424</td>\n",
              "      <td>1.648197</td>\n",
              "      <td>-0.780327</td>\n",
              "      <td>-1.484007</td>\n",
              "      <td>2.173076</td>\n",
              "      <td>0.675472</td>\n",
              "      <td>0.507117</td>\n",
              "      <td>0.395493</td>\n",
              "      <td>0.000000</td>\n",
              "      <td>0.540036</td>\n",
              "      <td>0.139441</td>\n",
              "      <td>-0.549385</td>\n",
              "      <td>0.000000</td>\n",
              "      <td>0.802513</td>\n",
              "      <td>-1.164748</td>\n",
              "      <td>-0.284934</td>\n",
              "      <td>1.550981</td>\n",
              "      <td>0.717778</td>\n",
              "      <td>0.752909</td>\n",
              "      <td>0.996800</td>\n",
              "      <td>1.648921</td>\n",
              "      <td>1.138676</td>\n",
              "      <td>1.118826</td>\n",
              "      <td>0.977200</td>\n",
              "      <td>0</td>\n",
              "    </tr>\n",
              "  </tbody>\n",
              "</table>\n",
              "</div>"
            ],
            "text/plain": [
              "   lepton_pT  lepton_eta  lepton_phi  ...     m_wbb    m_wwbb  label\n",
              "0   0.723801   -0.914611    0.910944  ...  0.755813  0.761658      0\n",
              "1   1.974119    0.660297   -1.362428  ...  0.917613  1.083369      0\n",
              "2   0.946889    0.169416    1.210014  ...  0.657668  0.721147      0\n",
              "3   1.298084   -0.897079    1.224441  ...  1.028120  0.848133      0\n",
              "4   1.022289   -0.481195    0.169649  ...  1.118826  0.977200      0\n",
              "\n",
              "[5 rows x 29 columns]"
            ]
          },
          "metadata": {
            "tags": []
          },
          "execution_count": 18
        }
      ]
    },
    {
      "cell_type": "code",
      "metadata": {
        "id": "b4WBvBRsY1wy",
        "colab_type": "code",
        "colab": {}
      },
      "source": [
        "data = pd.concat([sig, bkg])"
      ],
      "execution_count": 0,
      "outputs": []
    },
    {
      "cell_type": "markdown",
      "metadata": {
        "id": "KnoSsoG8df2h",
        "colab_type": "text"
      },
      "source": [
        "### Split data in train and validation set"
      ]
    },
    {
      "cell_type": "code",
      "metadata": {
        "id": "7y4nYcXHde4t",
        "colab_type": "code",
        "colab": {}
      },
      "source": [
        "from sklearn.metrics import roc_auc_score\n",
        "from sklearn.model_selection import train_test_split\n",
        "\n",
        "def prep_data(data, val_size = 0.2):\n",
        "\n",
        "    features = data.drop(['label'], axis=1)\n",
        "    labels = data[['label']].values.ravel()\n",
        "    X_train, X_val, y_train, y_val = train_test_split(features, labels, test_size=val_size, random_state=42)\n",
        "\n",
        "    return X_train, X_val, y_train, y_val\n",
        "\n",
        "X_train, X_val, y_train, y_val = prep_data(data)"
      ],
      "execution_count": 0,
      "outputs": []
    },
    {
      "cell_type": "markdown",
      "metadata": {
        "id": "Fz6Kr_wHbLCn",
        "colab_type": "text"
      },
      "source": [
        "## 2. Feature importance with XGBoost"
      ]
    },
    {
      "cell_type": "code",
      "metadata": {
        "id": "1szgLItqcDqx",
        "colab_type": "code",
        "colab": {}
      },
      "source": [
        "import xgboost as xgb\n",
        "from xgboost import plot_importance\n",
        "\n",
        "def get_feature_importance(X, y):\n",
        "\n",
        "    X_train, X_test, y_train, y_test = train_test_split(X.values, y, test_size=0.33, random_state=42)\n",
        "\n",
        "    # Early stopping\n",
        "    early_stopping_rounds = 5\n",
        "\n",
        "    # Define model\n",
        "    model_bdt = xgb.XGBClassifier(n_jobs = 4)\n",
        "\n",
        "    # Last in list is used for early stopping\n",
        "    eval_set = [(X_train, y_train), (X_test, y_test)]\n",
        "\n",
        "    # Fit with early stopping\n",
        "    model_bdt.fit(X_train, y_train, eval_metric=[\"logloss\"], eval_set=eval_set, \n",
        "                early_stopping_rounds=early_stopping_rounds, verbose=False)\n",
        "    \n",
        "    plot_importance(model_bdt)\n",
        "    fscore = list(model_bdt.feature_importances_)\n",
        "    feature_importance = pd.DataFrame(list(data.drop(['label'], axis=1)))\n",
        "    feature_importance['f-score'] = fscore\n",
        "    feature_importance.columns = ['feature', 'fscore']\n",
        "    feature_importance = feature_importance.sort_values(by=['fscore'], ascending=False)\n",
        "\n",
        "    return feature_importance\n"
      ],
      "execution_count": 0,
      "outputs": []
    },
    {
      "cell_type": "code",
      "metadata": {
        "id": "UCyOAN21cgh-",
        "colab_type": "code",
        "colab": {
          "base_uri": "https://localhost:8080/",
          "height": 295
        },
        "outputId": "fbe175b7-dc6b-46ed-a604-a3b799000acd"
      },
      "source": [
        "feature_importance = get_feature_importance(X_train, y_train)"
      ],
      "execution_count": 29,
      "outputs": [
        {
          "output_type": "display_data",
          "data": {
            "image/png": "[encoded data removed]",
            "text/plain": [
              "<Figure size 432x288 with 1 Axes>"
            ]
          },
          "metadata": {
            "tags": []
          }
        }
      ]
    },
    {
      "cell_type": "code",
      "metadata": {
        "id": "_REzjOrwdDFd",
        "colab_type": "code",
        "colab": {
          "base_uri": "https://localhost:8080/",
          "height": 204
        },
        "outputId": "e06cbd3a-f019-40de-ae1f-c91d4aa27b21"
      },
      "source": [
        "feature_importance.head()"
      ],
      "execution_count": 30,
      "outputs": [
        {
          "output_type": "execute_result",
          "data": {
            "text/html": [
              "<div>\n",
              "<style scoped>\n",
              "    .dataframe tbody tr th:only-of-type {\n",
              "        vertical-align: middle;\n",
              "    }\n",
              "\n",
              "    .dataframe tbody tr th {\n",
              "        vertical-align: top;\n",
              "    }\n",
              "\n",
              "    .dataframe thead th {\n",
              "        text-align: right;\n",
              "    }\n",
              "</style>\n",
              "<table border=\"1\" class=\"dataframe\">\n",
              "  <thead>\n",
              "    <tr style=\"text-align: right;\">\n",
              "      <th></th>\n",
              "      <th>feature</th>\n",
              "      <th>fscore</th>\n",
              "    </tr>\n",
              "  </thead>\n",
              "  <tbody>\n",
              "    <tr>\n",
              "      <th>25</th>\n",
              "      <td>m_bb</td>\n",
              "      <td>0.139647</td>\n",
              "    </tr>\n",
              "    <tr>\n",
              "      <th>26</th>\n",
              "      <td>m_wbb</td>\n",
              "      <td>0.090148</td>\n",
              "    </tr>\n",
              "    <tr>\n",
              "      <th>27</th>\n",
              "      <td>m_wwbb</td>\n",
              "      <td>0.078791</td>\n",
              "    </tr>\n",
              "    <tr>\n",
              "      <th>22</th>\n",
              "      <td>m_jjj</td>\n",
              "      <td>0.075887</td>\n",
              "    </tr>\n",
              "    <tr>\n",
              "      <th>5</th>\n",
              "      <td>jet1_pt</td>\n",
              "      <td>0.072598</td>\n",
              "    </tr>\n",
              "  </tbody>\n",
              "</table>\n",
              "</div>"
            ],
            "text/plain": [
              "    feature    fscore\n",
              "25     m_bb  0.139647\n",
              "26    m_wbb  0.090148\n",
              "27   m_wwbb  0.078791\n",
              "22    m_jjj  0.075887\n",
              "5   jet1_pt  0.072598"
            ]
          },
          "metadata": {
            "tags": []
          },
          "execution_count": 30
        }
      ]
    },
    {
      "cell_type": "markdown",
      "metadata": {
        "id": "uWiqfCYZdxai",
        "colab_type": "text"
      },
      "source": [
        "## Test algorithms"
      ]
    },
    {
      "cell_type": "markdown",
      "metadata": {
        "id": "FTY8ZTRaeIbK",
        "colab_type": "text"
      },
      "source": [
        "### Set up Bayesian optimization"
      ]
    },
    {
      "cell_type": "code",
      "metadata": {
        "id": "JadlZZmLd7O-",
        "colab_type": "code",
        "colab": {}
      },
      "source": [
        "import xgboost as xgb\n",
        "import skopt\n",
        "from skopt.utils import use_named_args\n",
        "from skopt import gp_minimize\n",
        "from sklearn.model_selection import train_test_split\n",
        "from sklearn.metrics import roc_auc_score\n",
        "from keras.callbacks import EarlyStopping\n",
        "from sklearn.model_selection import KFold, StratifiedKFold\n",
        "from sklearn.linear_model import LogisticRegression\n",
        "\n",
        "def fit_lreg(X_train, y_train, X_test, y_test, p):\n",
        "\n",
        "    clf = LogisticRegression(random_state=0).fit(X_train, y_train)\n",
        "    predictions = model_bdt.clf(X_test)[:,1]\n",
        "    return roc_auc_score(y_test, predictions)\n",
        "\n",
        "\n",
        "def fit_xgboost(X_train, y_train, X_test, y_test, p):\n",
        "\n",
        "    # Early stopping\n",
        "    early_stopping_rounds = 10\n",
        "    # Define model\n",
        "    model_bdt = xgb.XGBClassifier(n_jobs = 4, n_estimators = 1000, learning_rate = p['learning_rate'],\n",
        "                            max_depth = p['max_depth'], min_child_weight = p['min_child_weight'])\n",
        "    # Last in list is used for early stopping\n",
        "    eval_set = [(X_train, y_train), (X_test, y_test)]\n",
        "    # Fit with early stopping\n",
        "    model_bdt.fit(X_train, y_train, eval_metric=[\"logloss\"], eval_set=eval_set, \n",
        "                    early_stopping_rounds=early_stopping_rounds, verbose=False)\n",
        "    predictions = model_bdt.predict_proba(X_test)[:,1]\n",
        "    return roc_auc_score(y_test, predictions)\n",
        "\n",
        "def fit_keras(X_train, y_train, X_test, y_test, p):\n",
        "\n",
        "    # Early stopping\n",
        "    patience = 5\n",
        "    es = EarlyStopping(monitor='val_loss', mode='min', verbose=0, patience=patience)\n",
        "    \n",
        "    # Define model\n",
        "    model = create_model(features.shape[1], p['dense_layers'], p['dense_units'], 0., \n",
        "                            #p['regulizer_value'], \n",
        "                            p['dropout_value'], \n",
        "                            p['learning_rate'])\n",
        "    \n",
        "    history = model.fit(X_train, y_train, validation_data=(X_test, y_test), batch_size = 100,# p['batch_size'], \n",
        "                        epochs=1000, verbose=0, callbacks=[es])\n",
        "\n",
        "    predictions = model.predict(X_test)\n",
        "    return roc_auc_score(y_test, predictions)\n",
        "\n",
        "\n",
        "def optimize( algo, dimensions, initial_param, data, cv = False, kfold_splits = 5, num_calls=12, random_state = 42): \n",
        "\n",
        "    prior_values = []\n",
        "    prior_names = []\n",
        "    for var in dimensions:\n",
        "        name = var.name\n",
        "        print( name )\n",
        "        prior_names.append(name)\n",
        "        prior_values.append(initial_param[name])\n",
        "\n",
        "    global num_skopt_call\n",
        "    num_skopt_call = 0\n",
        "    #errors = []\n",
        "\n",
        "    @use_named_args(dimensions)\n",
        "    def fitness(**p): \n",
        "\n",
        "        global num_skopt_call\n",
        "\n",
        "        print('\\n \\t ::: {} SKOPT CALL ::: \\n'.format(num_skopt_call+1))\n",
        "        print(p)\n",
        "\n",
        "        reduced_feat = feature_importance.iloc[0:p['n_feat']]\n",
        "        reduced_feat = list(reduced_feat['feature'])\n",
        "        data_red = data[reduced_feat]\n",
        "        features = data_red.values\n",
        "        labels = data[['label']].values.ravel()\n",
        "\n",
        "        if cv == False:\n",
        "            X_train, X_test, y_train, y_test = train_test_split(features, labels, test_size=0.33, random_state=random_state)\n",
        "            if algo == 'xgboost':\n",
        "                score = fit_xgboost(X_train, y_train, X_test, y_test, p)\n",
        "            if algo == 'keras':\n",
        "                score = fit_keras(X_train, y_train, X_test, y_test, p)\n",
        "            print(score)\n",
        "\n",
        "        else:\n",
        "            cv_scores = []    \n",
        "            enum = enumerate(KFold(n_splits=kfold_splits, shuffle=True, random_state=random_state).split(features,labels))\n",
        "            for i,(index_train, index_valid) in enum:\n",
        "                X_train, X_test = features[ index_train ], features[ index_valid ]\n",
        "                y_train, y_test = labels[ index_train ], labels[ index_valid ]   \n",
        "                if algo == 'xgboost':\n",
        "                    score = fit_xgboost(X_train, y_train, X_test, y_test, p)\n",
        "                if algo == 'keras':\n",
        "                    score = fit_keras(X_train, y_train, X_test, y_test, p)\n",
        "                cv_scores.append(score)\n",
        "                print( cv_scores )\n",
        "            score = np.mean(cv_scores)\n",
        "            print(score)\n",
        "            print(np.std(cv_scores))\n",
        "\n",
        "        num_skopt_call += 1\n",
        "\n",
        "        return -1*score\n",
        "\n",
        "    search_result = gp_minimize( func = fitness, dimensions = dimensions,\n",
        "                                 acq_func = 'EI', # Expected Improvement\n",
        "                                 n_calls = num_calls, x0 = prior_values )\n",
        "\n",
        "    params = pd.DataFrame(search_result['x_iters'])\n",
        "    params.columns = [*prior_names]\n",
        "    params = params.rename_axis('call').reset_index()\n",
        "    scores = pd.DataFrame(search_result['func_vals'])\n",
        "    scores.columns = ['score']\n",
        "    result = pd.concat([params, scores], axis=1)\n",
        "    result = result.sort_values(by=['score'])\n",
        "    #errors_frame = pd.DataFrame(errors, columns = ['call', 'q_error', 't_error'])\n",
        "    #result = pd.merge(result, errors_frame, on=['call'])   \n",
        "    \n",
        "    return result"
      ],
      "execution_count": 0,
      "outputs": []
    },
    {
      "cell_type": "markdown",
      "metadata": {
        "id": "r236T_l7d2AK",
        "colab_type": "text"
      },
      "source": [
        "### 1. XGBoost"
      ]
    },
    {
      "cell_type": "code",
      "metadata": {
        "id": "5Oz0bOrMdCs3",
        "colab_type": "code",
        "colab": {}
      },
      "source": [
        "from skopt.space import Real, Categorical, Integer\n",
        "\n",
        "# Skopt dimensions\n",
        "skopt_dims = [       \n",
        "    Real(        low=1e-2, high=1,     prior='log-uniform', name='learning_rate'     ),\n",
        "    Integer(        low=2,    high=20,                         name='max_depth'     ),\n",
        "    Integer(        low=1,    high=20,                         name='min_child_weight'     ),\n",
        "    Real(        low=1e-6, high=1e-2,     prior='log-uniform', name='reg_alpha'     ),\n",
        "    Integer(     low=5,    high=27,                        name='n_feat'       )\n",
        "\n",
        "]\n",
        "\n",
        "# Initial parameters\n",
        "init_param = {'learning_rate' : 0.3, 'reg_alpha' : 1e-5, 'max_depth' : 6, 'min_child_weight' : 1, 'n_feat':12 }"
      ],
      "execution_count": 0,
      "outputs": []
    },
    {
      "cell_type": "code",
      "metadata": {
        "id": "ZUaHPgdeevWs",
        "colab_type": "code",
        "colab": {
          "base_uri": "https://localhost:8080/",
          "height": 698
        },
        "outputId": "0c8d5b9a-4517-4461-dc68-0cbf1f7c94a9"
      },
      "source": [
        "search_result = optimize('xgboost', skopt_dims, init_param, data, cv = True, num_calls=20, random_state = 42)"
      ],
      "execution_count": 39,
      "outputs": [
        {
          "output_type": "stream",
          "text": [
            "learning_rate\n",
            "max_depth\n",
            "min_child_weight\n",
            "reg_alpha\n",
            "n_feat\n",
            "\n",
            " \t ::: 1 SKOPT CALL ::: \n",
            "\n",
            "{'learning_rate': 0.3, 'max_depth': 6, 'min_child_weight': 1, 'reg_alpha': 1e-05, 'n_feat': 12}\n",
            "[0.7754328578154179]\n",
            "[0.7754328578154179, 0.7919428262996222]\n",
            "[0.7754328578154179, 0.7919428262996222, 0.779414937729251]\n",
            "[0.7754328578154179, 0.7919428262996222, 0.779414937729251, 0.7957423210858326]\n",
            "[0.7754328578154179, 0.7919428262996222, 0.779414937729251, 0.7957423210858326, 0.7997038066424149]\n",
            "0.7884473499145077\n",
            "0.00941386479718343\n",
            "\n",
            " \t ::: 2 SKOPT CALL ::: \n",
            "\n",
            "{'learning_rate': 0.018860930104911692, 'max_depth': 3, 'min_child_weight': 9, 'reg_alpha': 1.68374180887052e-05, 'n_feat': 15}\n",
            "[0.7830459198942705]\n",
            "[0.7830459198942705, 0.7926927104857034]\n",
            "[0.7830459198942705, 0.7926927104857034, 0.7865555786405567]\n"
          ],
          "name": "stdout"
        },
        {
          "output_type": "error",
          "ename": "KeyboardInterrupt",
          "evalue": "ignored",
          "traceback": [
            "\u001b[0;31m---------------------------------------------------------------------------\u001b[0m",
            "\u001b[0;31mKeyboardInterrupt\u001b[0m                         Traceback (most recent call last)",
            "\u001b[0;32m<ipython-input-39-843146852495>\u001b[0m in \u001b[0;36m<module>\u001b[0;34m()\u001b[0m\n\u001b[0;32m----> 1\u001b[0;31m \u001b[0msearch_result\u001b[0m \u001b[0;34m=\u001b[0m \u001b[0moptimize\u001b[0m\u001b[0;34m(\u001b[0m\u001b[0;34m'xgboost'\u001b[0m\u001b[0;34m,\u001b[0m \u001b[0mskopt_dims\u001b[0m\u001b[0;34m,\u001b[0m \u001b[0minit_param\u001b[0m\u001b[0;34m,\u001b[0m \u001b[0mdata\u001b[0m\u001b[0;34m,\u001b[0m \u001b[0mcv\u001b[0m \u001b[0;34m=\u001b[0m \u001b[0;32mTrue\u001b[0m\u001b[0;34m,\u001b[0m \u001b[0mnum_calls\u001b[0m\u001b[0;34m=\u001b[0m\u001b[0;36m20\u001b[0m\u001b[0;34m,\u001b[0m \u001b[0mrandom_state\u001b[0m \u001b[0;34m=\u001b[0m \u001b[0;36m42\u001b[0m\u001b[0;34m)\u001b[0m\u001b[0;34m\u001b[0m\u001b[0;34m\u001b[0m\u001b[0m\n\u001b[0m",
            "\u001b[0;32m<ipython-input-37-e25da49e73cf>\u001b[0m in \u001b[0;36moptimize\u001b[0;34m(algo, dimensions, initial_param, data, cv, kfold_splits, num_calls, random_state)\u001b[0m\n\u001b[1;32m    101\u001b[0m     search_result = gp_minimize( func = fitness, dimensions = dimensions,\n\u001b[1;32m    102\u001b[0m                                  \u001b[0macq_func\u001b[0m \u001b[0;34m=\u001b[0m \u001b[0;34m'EI'\u001b[0m\u001b[0;34m,\u001b[0m \u001b[0;31m# Expected Improvement\u001b[0m\u001b[0;34m\u001b[0m\u001b[0;34m\u001b[0m\u001b[0m\n\u001b[0;32m--> 103\u001b[0;31m                                  n_calls = num_calls, x0 = prior_values )\n\u001b[0m\u001b[1;32m    104\u001b[0m \u001b[0;34m\u001b[0m\u001b[0m\n\u001b[1;32m    105\u001b[0m     \u001b[0mparams\u001b[0m \u001b[0;34m=\u001b[0m \u001b[0mpd\u001b[0m\u001b[0;34m.\u001b[0m\u001b[0mDataFrame\u001b[0m\u001b[0;34m(\u001b[0m\u001b[0msearch_result\u001b[0m\u001b[0;34m[\u001b[0m\u001b[0;34m'x_iters'\u001b[0m\u001b[0;34m]\u001b[0m\u001b[0;34m)\u001b[0m\u001b[0;34m\u001b[0m\u001b[0;34m\u001b[0m\u001b[0m\n",
            "\u001b[0;32m/usr/local/lib/python3.6/dist-packages/skopt/optimizer/gp.py\u001b[0m in \u001b[0;36mgp_minimize\u001b[0;34m(func, dimensions, base_estimator, n_calls, n_random_starts, acq_func, acq_optimizer, x0, y0, random_state, verbose, callback, n_points, n_restarts_optimizer, xi, kappa, noise, n_jobs, model_queue_size)\u001b[0m\n\u001b[1;32m    269\u001b[0m         \u001b[0mn_restarts_optimizer\u001b[0m\u001b[0;34m=\u001b[0m\u001b[0mn_restarts_optimizer\u001b[0m\u001b[0;34m,\u001b[0m\u001b[0;34m\u001b[0m\u001b[0;34m\u001b[0m\u001b[0m\n\u001b[1;32m    270\u001b[0m         \u001b[0mx0\u001b[0m\u001b[0;34m=\u001b[0m\u001b[0mx0\u001b[0m\u001b[0;34m,\u001b[0m \u001b[0my0\u001b[0m\u001b[0;34m=\u001b[0m\u001b[0my0\u001b[0m\u001b[0;34m,\u001b[0m \u001b[0mrandom_state\u001b[0m\u001b[0;34m=\u001b[0m\u001b[0mrng\u001b[0m\u001b[0;34m,\u001b[0m \u001b[0mverbose\u001b[0m\u001b[0;34m=\u001b[0m\u001b[0mverbose\u001b[0m\u001b[0;34m,\u001b[0m\u001b[0;34m\u001b[0m\u001b[0;34m\u001b[0m\u001b[0m\n\u001b[0;32m--> 271\u001b[0;31m         callback=callback, n_jobs=n_jobs, model_queue_size=model_queue_size)\n\u001b[0m",
            "\u001b[0;32m/usr/local/lib/python3.6/dist-packages/skopt/optimizer/base.py\u001b[0m in \u001b[0;36mbase_minimize\u001b[0;34m(func, dimensions, base_estimator, n_calls, n_random_starts, acq_func, acq_optimizer, x0, y0, random_state, verbose, callback, n_points, n_restarts_optimizer, xi, kappa, n_jobs, model_queue_size)\u001b[0m\n\u001b[1;32m    270\u001b[0m     \u001b[0;32mfor\u001b[0m \u001b[0mn\u001b[0m \u001b[0;32min\u001b[0m \u001b[0mrange\u001b[0m\u001b[0;34m(\u001b[0m\u001b[0mn_calls\u001b[0m\u001b[0;34m)\u001b[0m\u001b[0;34m:\u001b[0m\u001b[0;34m\u001b[0m\u001b[0;34m\u001b[0m\u001b[0m\n\u001b[1;32m    271\u001b[0m         \u001b[0mnext_x\u001b[0m \u001b[0;34m=\u001b[0m \u001b[0moptimizer\u001b[0m\u001b[0;34m.\u001b[0m\u001b[0mask\u001b[0m\u001b[0;34m(\u001b[0m\u001b[0;34m)\u001b[0m\u001b[0;34m\u001b[0m\u001b[0;34m\u001b[0m\u001b[0m\n\u001b[0;32m--> 272\u001b[0;31m         \u001b[0mnext_y\u001b[0m \u001b[0;34m=\u001b[0m \u001b[0mfunc\u001b[0m\u001b[0;34m(\u001b[0m\u001b[0mnext_x\u001b[0m\u001b[0;34m)\u001b[0m\u001b[0;34m\u001b[0m\u001b[0;34m\u001b[0m\u001b[0m\n\u001b[0m\u001b[1;32m    273\u001b[0m         \u001b[0mresult\u001b[0m \u001b[0;34m=\u001b[0m \u001b[0moptimizer\u001b[0m\u001b[0;34m.\u001b[0m\u001b[0mtell\u001b[0m\u001b[0;34m(\u001b[0m\u001b[0mnext_x\u001b[0m\u001b[0;34m,\u001b[0m \u001b[0mnext_y\u001b[0m\u001b[0;34m)\u001b[0m\u001b[0;34m\u001b[0m\u001b[0;34m\u001b[0m\u001b[0m\n\u001b[1;32m    274\u001b[0m         \u001b[0mresult\u001b[0m\u001b[0;34m.\u001b[0m\u001b[0mspecs\u001b[0m \u001b[0;34m=\u001b[0m \u001b[0mspecs\u001b[0m\u001b[0;34m\u001b[0m\u001b[0;34m\u001b[0m\u001b[0m\n",
            "\u001b[0;32m/usr/local/lib/python3.6/dist-packages/skopt/utils.py\u001b[0m in \u001b[0;36mwrapper\u001b[0;34m(x)\u001b[0m\n\u001b[1;32m    762\u001b[0m \u001b[0;34m\u001b[0m\u001b[0m\n\u001b[1;32m    763\u001b[0m             \u001b[0;31m# Call the wrapped objective function with the named arguments.\u001b[0m\u001b[0;34m\u001b[0m\u001b[0;34m\u001b[0m\u001b[0;34m\u001b[0m\u001b[0m\n\u001b[0;32m--> 764\u001b[0;31m             \u001b[0mobjective_value\u001b[0m \u001b[0;34m=\u001b[0m \u001b[0mfunc\u001b[0m\u001b[0;34m(\u001b[0m\u001b[0;34m**\u001b[0m\u001b[0marg_dict\u001b[0m\u001b[0;34m)\u001b[0m\u001b[0;34m\u001b[0m\u001b[0;34m\u001b[0m\u001b[0m\n\u001b[0m\u001b[1;32m    765\u001b[0m \u001b[0;34m\u001b[0m\u001b[0m\n\u001b[1;32m    766\u001b[0m             \u001b[0;32mreturn\u001b[0m \u001b[0mobjective_value\u001b[0m\u001b[0;34m\u001b[0m\u001b[0;34m\u001b[0m\u001b[0m\n",
            "\u001b[0;32m<ipython-input-37-e25da49e73cf>\u001b[0m in \u001b[0;36mfitness\u001b[0;34m(**p)\u001b[0m\n\u001b[1;32m     86\u001b[0m                 \u001b[0my_train\u001b[0m\u001b[0;34m,\u001b[0m \u001b[0my_test\u001b[0m \u001b[0;34m=\u001b[0m \u001b[0mlabels\u001b[0m\u001b[0;34m[\u001b[0m \u001b[0mindex_train\u001b[0m \u001b[0;34m]\u001b[0m\u001b[0;34m,\u001b[0m \u001b[0mlabels\u001b[0m\u001b[0;34m[\u001b[0m \u001b[0mindex_valid\u001b[0m \u001b[0;34m]\u001b[0m\u001b[0;34m\u001b[0m\u001b[0;34m\u001b[0m\u001b[0m\n\u001b[1;32m     87\u001b[0m                 \u001b[0;32mif\u001b[0m \u001b[0malgo\u001b[0m \u001b[0;34m==\u001b[0m \u001b[0;34m'xgboost'\u001b[0m\u001b[0;34m:\u001b[0m\u001b[0;34m\u001b[0m\u001b[0;34m\u001b[0m\u001b[0m\n\u001b[0;32m---> 88\u001b[0;31m                     \u001b[0mscore\u001b[0m \u001b[0;34m=\u001b[0m \u001b[0mfit_xgboost\u001b[0m\u001b[0;34m(\u001b[0m\u001b[0mX_train\u001b[0m\u001b[0;34m,\u001b[0m \u001b[0my_train\u001b[0m\u001b[0;34m,\u001b[0m \u001b[0mX_test\u001b[0m\u001b[0;34m,\u001b[0m \u001b[0my_test\u001b[0m\u001b[0;34m,\u001b[0m \u001b[0mp\u001b[0m\u001b[0;34m)\u001b[0m\u001b[0;34m\u001b[0m\u001b[0;34m\u001b[0m\u001b[0m\n\u001b[0m\u001b[1;32m     89\u001b[0m                 \u001b[0;32mif\u001b[0m \u001b[0malgo\u001b[0m \u001b[0;34m==\u001b[0m \u001b[0;34m'keras'\u001b[0m\u001b[0;34m:\u001b[0m\u001b[0;34m\u001b[0m\u001b[0;34m\u001b[0m\u001b[0m\n\u001b[1;32m     90\u001b[0m                     \u001b[0mscore\u001b[0m \u001b[0;34m=\u001b[0m \u001b[0mfit_keras\u001b[0m\u001b[0;34m(\u001b[0m\u001b[0mX_train\u001b[0m\u001b[0;34m,\u001b[0m \u001b[0my_train\u001b[0m\u001b[0;34m,\u001b[0m \u001b[0mX_test\u001b[0m\u001b[0;34m,\u001b[0m \u001b[0my_test\u001b[0m\u001b[0;34m,\u001b[0m \u001b[0mp\u001b[0m\u001b[0;34m)\u001b[0m\u001b[0;34m\u001b[0m\u001b[0;34m\u001b[0m\u001b[0m\n",
            "\u001b[0;32m<ipython-input-37-e25da49e73cf>\u001b[0m in \u001b[0;36mfit_xgboost\u001b[0;34m(X_train, y_train, X_test, y_test, p)\u001b[0m\n\u001b[1;32m     20\u001b[0m     \u001b[0;31m# Fit with early stopping\u001b[0m\u001b[0;34m\u001b[0m\u001b[0;34m\u001b[0m\u001b[0;34m\u001b[0m\u001b[0m\n\u001b[1;32m     21\u001b[0m     model_bdt.fit(X_train, y_train, eval_metric=[\"logloss\"], eval_set=eval_set, \n\u001b[0;32m---> 22\u001b[0;31m                     early_stopping_rounds=early_stopping_rounds, verbose=False)\n\u001b[0m\u001b[1;32m     23\u001b[0m     \u001b[0mpredictions\u001b[0m \u001b[0;34m=\u001b[0m \u001b[0mmodel_bdt\u001b[0m\u001b[0;34m.\u001b[0m\u001b[0mpredict_proba\u001b[0m\u001b[0;34m(\u001b[0m\u001b[0mX_test\u001b[0m\u001b[0;34m)\u001b[0m\u001b[0;34m[\u001b[0m\u001b[0;34m:\u001b[0m\u001b[0;34m,\u001b[0m\u001b[0;36m1\u001b[0m\u001b[0;34m]\u001b[0m\u001b[0;34m\u001b[0m\u001b[0;34m\u001b[0m\u001b[0m\n\u001b[1;32m     24\u001b[0m     \u001b[0;32mreturn\u001b[0m \u001b[0mroc_auc_score\u001b[0m\u001b[0;34m(\u001b[0m\u001b[0my_test\u001b[0m\u001b[0;34m,\u001b[0m \u001b[0mpredictions\u001b[0m\u001b[0;34m)\u001b[0m\u001b[0;34m\u001b[0m\u001b[0;34m\u001b[0m\u001b[0m\n",
            "\u001b[0;32m/usr/local/lib/python3.6/dist-packages/xgboost/sklearn.py\u001b[0m in \u001b[0;36mfit\u001b[0;34m(self, X, y, sample_weight, eval_set, eval_metric, early_stopping_rounds, verbose, xgb_model, sample_weight_eval_set, callbacks)\u001b[0m\n\u001b[1;32m    730\u001b[0m                               \u001b[0mevals_result\u001b[0m\u001b[0;34m=\u001b[0m\u001b[0mevals_result\u001b[0m\u001b[0;34m,\u001b[0m \u001b[0mobj\u001b[0m\u001b[0;34m=\u001b[0m\u001b[0mobj\u001b[0m\u001b[0;34m,\u001b[0m \u001b[0mfeval\u001b[0m\u001b[0;34m=\u001b[0m\u001b[0mfeval\u001b[0m\u001b[0;34m,\u001b[0m\u001b[0;34m\u001b[0m\u001b[0;34m\u001b[0m\u001b[0m\n\u001b[1;32m    731\u001b[0m                               \u001b[0mverbose_eval\u001b[0m\u001b[0;34m=\u001b[0m\u001b[0mverbose\u001b[0m\u001b[0;34m,\u001b[0m \u001b[0mxgb_model\u001b[0m\u001b[0;34m=\u001b[0m\u001b[0mxgb_model\u001b[0m\u001b[0;34m,\u001b[0m\u001b[0;34m\u001b[0m\u001b[0;34m\u001b[0m\u001b[0m\n\u001b[0;32m--> 732\u001b[0;31m                               callbacks=callbacks)\n\u001b[0m\u001b[1;32m    733\u001b[0m \u001b[0;34m\u001b[0m\u001b[0m\n\u001b[1;32m    734\u001b[0m         \u001b[0mself\u001b[0m\u001b[0;34m.\u001b[0m\u001b[0mobjective\u001b[0m \u001b[0;34m=\u001b[0m \u001b[0mxgb_options\u001b[0m\u001b[0;34m[\u001b[0m\u001b[0;34m\"objective\"\u001b[0m\u001b[0;34m]\u001b[0m\u001b[0;34m\u001b[0m\u001b[0;34m\u001b[0m\u001b[0m\n",
            "\u001b[0;32m/usr/local/lib/python3.6/dist-packages/xgboost/training.py\u001b[0m in \u001b[0;36mtrain\u001b[0;34m(params, dtrain, num_boost_round, evals, obj, feval, maximize, early_stopping_rounds, evals_result, verbose_eval, xgb_model, callbacks, learning_rates)\u001b[0m\n\u001b[1;32m    214\u001b[0m                            \u001b[0mevals\u001b[0m\u001b[0;34m=\u001b[0m\u001b[0mevals\u001b[0m\u001b[0;34m,\u001b[0m\u001b[0;34m\u001b[0m\u001b[0;34m\u001b[0m\u001b[0m\n\u001b[1;32m    215\u001b[0m                            \u001b[0mobj\u001b[0m\u001b[0;34m=\u001b[0m\u001b[0mobj\u001b[0m\u001b[0;34m,\u001b[0m \u001b[0mfeval\u001b[0m\u001b[0;34m=\u001b[0m\u001b[0mfeval\u001b[0m\u001b[0;34m,\u001b[0m\u001b[0;34m\u001b[0m\u001b[0;34m\u001b[0m\u001b[0m\n\u001b[0;32m--> 216\u001b[0;31m                            xgb_model=xgb_model, callbacks=callbacks)\n\u001b[0m\u001b[1;32m    217\u001b[0m \u001b[0;34m\u001b[0m\u001b[0m\n\u001b[1;32m    218\u001b[0m \u001b[0;34m\u001b[0m\u001b[0m\n",
            "\u001b[0;32m/usr/local/lib/python3.6/dist-packages/xgboost/training.py\u001b[0m in \u001b[0;36m_train_internal\u001b[0;34m(params, dtrain, num_boost_round, evals, obj, feval, xgb_model, callbacks)\u001b[0m\n\u001b[1;32m     72\u001b[0m         \u001b[0;31m# Skip the first update if it is a recovery step.\u001b[0m\u001b[0;34m\u001b[0m\u001b[0;34m\u001b[0m\u001b[0;34m\u001b[0m\u001b[0m\n\u001b[1;32m     73\u001b[0m         \u001b[0;32mif\u001b[0m \u001b[0mversion\u001b[0m \u001b[0;34m%\u001b[0m \u001b[0;36m2\u001b[0m \u001b[0;34m==\u001b[0m \u001b[0;36m0\u001b[0m\u001b[0;34m:\u001b[0m\u001b[0;34m\u001b[0m\u001b[0;34m\u001b[0m\u001b[0m\n\u001b[0;32m---> 74\u001b[0;31m             \u001b[0mbst\u001b[0m\u001b[0;34m.\u001b[0m\u001b[0mupdate\u001b[0m\u001b[0;34m(\u001b[0m\u001b[0mdtrain\u001b[0m\u001b[0;34m,\u001b[0m \u001b[0mi\u001b[0m\u001b[0;34m,\u001b[0m \u001b[0mobj\u001b[0m\u001b[0;34m)\u001b[0m\u001b[0;34m\u001b[0m\u001b[0;34m\u001b[0m\u001b[0m\n\u001b[0m\u001b[1;32m     75\u001b[0m             \u001b[0mbst\u001b[0m\u001b[0;34m.\u001b[0m\u001b[0msave_rabit_checkpoint\u001b[0m\u001b[0;34m(\u001b[0m\u001b[0;34m)\u001b[0m\u001b[0;34m\u001b[0m\u001b[0;34m\u001b[0m\u001b[0m\n\u001b[1;32m     76\u001b[0m             \u001b[0mversion\u001b[0m \u001b[0;34m+=\u001b[0m \u001b[0;36m1\u001b[0m\u001b[0;34m\u001b[0m\u001b[0;34m\u001b[0m\u001b[0m\n",
            "\u001b[0;32m/usr/local/lib/python3.6/dist-packages/xgboost/core.py\u001b[0m in \u001b[0;36mupdate\u001b[0;34m(self, dtrain, iteration, fobj)\u001b[0m\n\u001b[1;32m   1107\u001b[0m         \u001b[0;32mif\u001b[0m \u001b[0mfobj\u001b[0m \u001b[0;32mis\u001b[0m \u001b[0;32mNone\u001b[0m\u001b[0;34m:\u001b[0m\u001b[0;34m\u001b[0m\u001b[0;34m\u001b[0m\u001b[0m\n\u001b[1;32m   1108\u001b[0m             _check_call(_LIB.XGBoosterUpdateOneIter(self.handle, ctypes.c_int(iteration),\n\u001b[0;32m-> 1109\u001b[0;31m                                                     dtrain.handle))\n\u001b[0m\u001b[1;32m   1110\u001b[0m         \u001b[0;32melse\u001b[0m\u001b[0;34m:\u001b[0m\u001b[0;34m\u001b[0m\u001b[0;34m\u001b[0m\u001b[0m\n\u001b[1;32m   1111\u001b[0m             \u001b[0mpred\u001b[0m \u001b[0;34m=\u001b[0m \u001b[0mself\u001b[0m\u001b[0;34m.\u001b[0m\u001b[0mpredict\u001b[0m\u001b[0;34m(\u001b[0m\u001b[0mdtrain\u001b[0m\u001b[0;34m)\u001b[0m\u001b[0;34m\u001b[0m\u001b[0;34m\u001b[0m\u001b[0m\n",
            "\u001b[0;31mKeyboardInterrupt\u001b[0m: "
          ]
        }
      ]
    },
    {
      "cell_type": "markdown",
      "metadata": {
        "id": "TaC2QkDngdWI",
        "colab_type": "text"
      },
      "source": [
        "### 2. Keras"
      ]
    },
    {
      "cell_type": "code",
      "metadata": {
        "id": "zMJ02LakiRc8",
        "colab_type": "code",
        "colab": {}
      },
      "source": [
        "import keras\n",
        "from keras.layers import Input, Flatten, Dense, Dropout, Reshape\n",
        "\n",
        "def create_model( n_features, dense_layers, dense_units, regulizer_value, dropout_value, learning_rate ):\n",
        "\n",
        "    m_input = Input(shape = (n_features, ))\n",
        "    m = m_input\n",
        "    \n",
        "    for _ in range(dense_layers):\n",
        "        m = Dense( units=dense_units, activation='relu', \n",
        "                   kernel_initializer='lecun_normal',\n",
        "                   kernel_regularizer=keras.regularizers.l2(regulizer_value) )(m)\n",
        "        m = Dropout(dropout_value)(m)\n",
        "\n",
        "    m_output = Dense( units=1, activation='sigmoid', \n",
        "                      kernel_initializer='lecun_normal',\n",
        "                      kernel_regularizer=keras.regularizers.l2(regulizer_value) )(m)\n",
        "\n",
        "    model = keras.models.Model(inputs=m_input, outputs=m_output)\n",
        "    model.compile( loss = 'binary_crossentropy',\n",
        "                        optimizer = keras.optimizers.Adam(lr=learning_rate) )\n",
        "    return model"
      ],
      "execution_count": 0,
      "outputs": []
    },
    {
      "cell_type": "code",
      "metadata": {
        "id": "UqB7c3v4ipkw",
        "colab_type": "code",
        "colab": {}
      },
      "source": [
        "dimensions = [\n",
        "    Integer(     low=1,    high=5,                        name='dense_layers'      ),\n",
        "    #Integer(     low=100,    high=1000,                    name='batch_size'      ),\n",
        "    Integer(     low=5,    high=200,                        name='dense_units'       ),\n",
        "    #Real(        low=1e-3, high=0.9,  prior=\"log-uniform\", name='regulizer_value'   ),\n",
        "    Real(        low=1e-3, high=0.5,   prior=\"log-uniform\",                    name='dropout_value'     ),\n",
        "    Real(        low=1e-4, high=1e-1, prior='log-uniform', name='learning_rate'     ),\n",
        "    Integer(     low=5,    high=27,                        name='n_feat'       )\n",
        "\n",
        "]\n",
        "\n",
        "\n",
        "# Initial parameters\n",
        "init_param = {'learning_rate' : 1e-2, 'dense_layers' : 3, 'regulizer_value' : 1e-2, 'dropout_value': 0.02, \n",
        "             'dense_units' : 20, 'batch_size' : 100, 'n_feat': 20}"
      ],
      "execution_count": 0,
      "outputs": []
    },
    {
      "cell_type": "code",
      "metadata": {
        "id": "f7oIVki7gT9T",
        "colab_type": "code",
        "colab": {
          "base_uri": "https://localhost:8080/",
          "height": 1000
        },
        "outputId": "2f01aaba-290b-4c5d-a476-b1678c0353b4"
      },
      "source": [
        "search_result = optimize('keras', dimensions, init_param, data, \n",
        "                             num_calls=100, random_seed = 1)"
      ],
      "execution_count": 20,
      "outputs": [
        {
          "output_type": "stream",
          "text": [
            "dense_layers\n",
            "dense_units\n",
            "dropout_value\n",
            "learning_rate\n",
            "n_feat\n",
            "\n",
            " \t ::: 1 SKOPT CALL ::: \n",
            "\n",
            "{'dense_layers': 3, 'dense_units': 20, 'dropout_value': 0.02, 'learning_rate': 0.01, 'n_feat': 20}\n",
            "WARNING:tensorflow:From /usr/local/lib/python3.6/dist-packages/keras/backend/tensorflow_backend.py:66: The name tf.get_default_graph is deprecated. Please use tf.compat.v1.get_default_graph instead.\n",
            "\n",
            "WARNING:tensorflow:From /usr/local/lib/python3.6/dist-packages/keras/backend/tensorflow_backend.py:541: The name tf.placeholder is deprecated. Please use tf.compat.v1.placeholder instead.\n",
            "\n",
            "WARNING:tensorflow:From /usr/local/lib/python3.6/dist-packages/keras/backend/tensorflow_backend.py:4479: The name tf.truncated_normal is deprecated. Please use tf.random.truncated_normal instead.\n",
            "\n",
            "WARNING:tensorflow:From /usr/local/lib/python3.6/dist-packages/keras/backend/tensorflow_backend.py:148: The name tf.placeholder_with_default is deprecated. Please use tf.compat.v1.placeholder_with_default instead.\n",
            "\n",
            "WARNING:tensorflow:From /usr/local/lib/python3.6/dist-packages/keras/backend/tensorflow_backend.py:3733: calling dropout (from tensorflow.python.ops.nn_ops) with keep_prob is deprecated and will be removed in a future version.\n",
            "Instructions for updating:\n",
            "Please use `rate` instead of `keep_prob`. Rate should be set to `rate = 1 - keep_prob`.\n",
            "WARNING:tensorflow:From /usr/local/lib/python3.6/dist-packages/keras/optimizers.py:793: The name tf.train.Optimizer is deprecated. Please use tf.compat.v1.train.Optimizer instead.\n",
            "\n",
            "WARNING:tensorflow:From /usr/local/lib/python3.6/dist-packages/keras/backend/tensorflow_backend.py:3657: The name tf.log is deprecated. Please use tf.math.log instead.\n",
            "\n",
            "WARNING:tensorflow:From /usr/local/lib/python3.6/dist-packages/tensorflow_core/python/ops/nn_impl.py:183: where (from tensorflow.python.ops.array_ops) is deprecated and will be removed in a future version.\n",
            "Instructions for updating:\n",
            "Use tf.where in 2.0, which has the same broadcast rule as np.where\n",
            "WARNING:tensorflow:From /usr/local/lib/python3.6/dist-packages/keras/backend/tensorflow_backend.py:1033: The name tf.assign_add is deprecated. Please use tf.compat.v1.assign_add instead.\n",
            "\n",
            "WARNING:tensorflow:From /usr/local/lib/python3.6/dist-packages/keras/backend/tensorflow_backend.py:1020: The name tf.assign is deprecated. Please use tf.compat.v1.assign instead.\n",
            "\n",
            "WARNING:tensorflow:From /usr/local/lib/python3.6/dist-packages/keras/backend/tensorflow_backend.py:3005: The name tf.Session is deprecated. Please use tf.compat.v1.Session instead.\n",
            "\n",
            "WARNING:tensorflow:From /usr/local/lib/python3.6/dist-packages/keras/backend/tensorflow_backend.py:190: The name tf.get_default_session is deprecated. Please use tf.compat.v1.get_default_session instead.\n",
            "\n",
            "WARNING:tensorflow:From /usr/local/lib/python3.6/dist-packages/keras/backend/tensorflow_backend.py:197: The name tf.ConfigProto is deprecated. Please use tf.compat.v1.ConfigProto instead.\n",
            "\n",
            "WARNING:tensorflow:From /usr/local/lib/python3.6/dist-packages/keras/backend/tensorflow_backend.py:207: The name tf.global_variables is deprecated. Please use tf.compat.v1.global_variables instead.\n",
            "\n",
            "WARNING:tensorflow:From /usr/local/lib/python3.6/dist-packages/keras/backend/tensorflow_backend.py:216: The name tf.is_variable_initialized is deprecated. Please use tf.compat.v1.is_variable_initialized instead.\n",
            "\n",
            "WARNING:tensorflow:From /usr/local/lib/python3.6/dist-packages/keras/backend/tensorflow_backend.py:223: The name tf.variables_initializer is deprecated. Please use tf.compat.v1.variables_initializer instead.\n",
            "\n",
            "0.7508112593510607\n",
            "0.732589679331526\n",
            "\n",
            " \t ::: 2 SKOPT CALL ::: \n",
            "\n",
            "{'dense_layers': 3, 'dense_units': 118, 'dropout_value': 0.17048057837730596, 'learning_rate': 0.015821751648560967, 'n_feat': 25}\n",
            "0.7351910179471172\n",
            "0.7067717534476262\n",
            "\n",
            " \t ::: 3 SKOPT CALL ::: \n",
            "\n",
            "{'dense_layers': 2, 'dense_units': 28, 'dropout_value': 0.002301067637042528, 'learning_rate': 0.01276450744457826, 'n_feat': 18}\n",
            "0.7654692973864804\n",
            "0.7398850085667772\n",
            "\n",
            " \t ::: 4 SKOPT CALL ::: \n",
            "\n",
            "{'dense_layers': 4, 'dense_units': 23, 'dropout_value': 0.010938015249127688, 'learning_rate': 0.00010303403289138984, 'n_feat': 24}\n"
          ],
          "name": "stdout"
        },
        {
          "output_type": "error",
          "ename": "KeyboardInterrupt",
          "evalue": "ignored",
          "traceback": [
            "\u001b[0;31m---------------------------------------------------------------------------\u001b[0m",
            "\u001b[0;31mKeyboardInterrupt\u001b[0m                         Traceback (most recent call last)",
            "\u001b[0;32m<ipython-input-20-cb6409180785>\u001b[0m in \u001b[0;36m<module>\u001b[0;34m()\u001b[0m\n\u001b[1;32m      1\u001b[0m search_result = optimize('keras', dimensions, init_param, data, \n\u001b[0;32m----> 2\u001b[0;31m                              num_calls=100, random_seed = 1)\n\u001b[0m",
            "\u001b[0;32m<ipython-input-16-ee468d61ffcf>\u001b[0m in \u001b[0;36moptimize\u001b[0;34m(algo, dimensions, initial_param, data, num_calls, random_seed)\u001b[0m\n\u001b[1;32m     84\u001b[0m     search_result = gp_minimize( func = fitness, dimensions = dimensions,\n\u001b[1;32m     85\u001b[0m                                  \u001b[0macq_func\u001b[0m \u001b[0;34m=\u001b[0m \u001b[0;34m'EI'\u001b[0m\u001b[0;34m,\u001b[0m \u001b[0;31m# Expected Improvement\u001b[0m\u001b[0;34m\u001b[0m\u001b[0;34m\u001b[0m\u001b[0m\n\u001b[0;32m---> 86\u001b[0;31m                                  n_calls = num_calls, x0 = prior_values )\n\u001b[0m\u001b[1;32m     87\u001b[0m \u001b[0;34m\u001b[0m\u001b[0m\n\u001b[1;32m     88\u001b[0m     \u001b[0mparams\u001b[0m \u001b[0;34m=\u001b[0m \u001b[0mpd\u001b[0m\u001b[0;34m.\u001b[0m\u001b[0mDataFrame\u001b[0m\u001b[0;34m(\u001b[0m\u001b[0msearch_result\u001b[0m\u001b[0;34m[\u001b[0m\u001b[0;34m'x_iters'\u001b[0m\u001b[0;34m]\u001b[0m\u001b[0;34m)\u001b[0m\u001b[0;34m\u001b[0m\u001b[0;34m\u001b[0m\u001b[0m\n",
            "\u001b[0;32m/usr/local/lib/python3.6/dist-packages/skopt/optimizer/gp.py\u001b[0m in \u001b[0;36mgp_minimize\u001b[0;34m(func, dimensions, base_estimator, n_calls, n_random_starts, acq_func, acq_optimizer, x0, y0, random_state, verbose, callback, n_points, n_restarts_optimizer, xi, kappa, noise, n_jobs, model_queue_size)\u001b[0m\n\u001b[1;32m    269\u001b[0m         \u001b[0mn_restarts_optimizer\u001b[0m\u001b[0;34m=\u001b[0m\u001b[0mn_restarts_optimizer\u001b[0m\u001b[0;34m,\u001b[0m\u001b[0;34m\u001b[0m\u001b[0;34m\u001b[0m\u001b[0m\n\u001b[1;32m    270\u001b[0m         \u001b[0mx0\u001b[0m\u001b[0;34m=\u001b[0m\u001b[0mx0\u001b[0m\u001b[0;34m,\u001b[0m \u001b[0my0\u001b[0m\u001b[0;34m=\u001b[0m\u001b[0my0\u001b[0m\u001b[0;34m,\u001b[0m \u001b[0mrandom_state\u001b[0m\u001b[0;34m=\u001b[0m\u001b[0mrng\u001b[0m\u001b[0;34m,\u001b[0m \u001b[0mverbose\u001b[0m\u001b[0;34m=\u001b[0m\u001b[0mverbose\u001b[0m\u001b[0;34m,\u001b[0m\u001b[0;34m\u001b[0m\u001b[0;34m\u001b[0m\u001b[0m\n\u001b[0;32m--> 271\u001b[0;31m         callback=callback, n_jobs=n_jobs, model_queue_size=model_queue_size)\n\u001b[0m",
            "\u001b[0;32m/usr/local/lib/python3.6/dist-packages/skopt/optimizer/base.py\u001b[0m in \u001b[0;36mbase_minimize\u001b[0;34m(func, dimensions, base_estimator, n_calls, n_random_starts, acq_func, acq_optimizer, x0, y0, random_state, verbose, callback, n_points, n_restarts_optimizer, xi, kappa, n_jobs, model_queue_size)\u001b[0m\n\u001b[1;32m    270\u001b[0m     \u001b[0;32mfor\u001b[0m \u001b[0mn\u001b[0m \u001b[0;32min\u001b[0m \u001b[0mrange\u001b[0m\u001b[0;34m(\u001b[0m\u001b[0mn_calls\u001b[0m\u001b[0;34m)\u001b[0m\u001b[0;34m:\u001b[0m\u001b[0;34m\u001b[0m\u001b[0;34m\u001b[0m\u001b[0m\n\u001b[1;32m    271\u001b[0m         \u001b[0mnext_x\u001b[0m \u001b[0;34m=\u001b[0m \u001b[0moptimizer\u001b[0m\u001b[0;34m.\u001b[0m\u001b[0mask\u001b[0m\u001b[0;34m(\u001b[0m\u001b[0;34m)\u001b[0m\u001b[0;34m\u001b[0m\u001b[0;34m\u001b[0m\u001b[0m\n\u001b[0;32m--> 272\u001b[0;31m         \u001b[0mnext_y\u001b[0m \u001b[0;34m=\u001b[0m \u001b[0mfunc\u001b[0m\u001b[0;34m(\u001b[0m\u001b[0mnext_x\u001b[0m\u001b[0;34m)\u001b[0m\u001b[0;34m\u001b[0m\u001b[0;34m\u001b[0m\u001b[0m\n\u001b[0m\u001b[1;32m    273\u001b[0m         \u001b[0mresult\u001b[0m \u001b[0;34m=\u001b[0m \u001b[0moptimizer\u001b[0m\u001b[0;34m.\u001b[0m\u001b[0mtell\u001b[0m\u001b[0;34m(\u001b[0m\u001b[0mnext_x\u001b[0m\u001b[0;34m,\u001b[0m \u001b[0mnext_y\u001b[0m\u001b[0;34m)\u001b[0m\u001b[0;34m\u001b[0m\u001b[0;34m\u001b[0m\u001b[0m\n\u001b[1;32m    274\u001b[0m         \u001b[0mresult\u001b[0m\u001b[0;34m.\u001b[0m\u001b[0mspecs\u001b[0m \u001b[0;34m=\u001b[0m \u001b[0mspecs\u001b[0m\u001b[0;34m\u001b[0m\u001b[0;34m\u001b[0m\u001b[0m\n",
            "\u001b[0;32m/usr/local/lib/python3.6/dist-packages/skopt/utils.py\u001b[0m in \u001b[0;36mwrapper\u001b[0;34m(x)\u001b[0m\n\u001b[1;32m    762\u001b[0m \u001b[0;34m\u001b[0m\u001b[0m\n\u001b[1;32m    763\u001b[0m             \u001b[0;31m# Call the wrapped objective function with the named arguments.\u001b[0m\u001b[0;34m\u001b[0m\u001b[0;34m\u001b[0m\u001b[0;34m\u001b[0m\u001b[0m\n\u001b[0;32m--> 764\u001b[0;31m             \u001b[0mobjective_value\u001b[0m \u001b[0;34m=\u001b[0m \u001b[0mfunc\u001b[0m\u001b[0;34m(\u001b[0m\u001b[0;34m**\u001b[0m\u001b[0marg_dict\u001b[0m\u001b[0;34m)\u001b[0m\u001b[0;34m\u001b[0m\u001b[0;34m\u001b[0m\u001b[0m\n\u001b[0m\u001b[1;32m    765\u001b[0m \u001b[0;34m\u001b[0m\u001b[0m\n\u001b[1;32m    766\u001b[0m             \u001b[0;32mreturn\u001b[0m \u001b[0mobjective_value\u001b[0m\u001b[0;34m\u001b[0m\u001b[0;34m\u001b[0m\u001b[0m\n",
            "\u001b[0;32m<ipython-input-16-ee468d61ffcf>\u001b[0m in \u001b[0;36mfitness\u001b[0;34m(**p)\u001b[0m\n\u001b[1;32m     69\u001b[0m \u001b[0;34m\u001b[0m\u001b[0m\n\u001b[1;32m     70\u001b[0m             history = model.fit(X_train, y_train, validation_data=(X_test, y_test), batch_size = 100,# p['batch_size'], \n\u001b[0;32m---> 71\u001b[0;31m                                 epochs=1000, verbose=0, callbacks=[es])\n\u001b[0m\u001b[1;32m     72\u001b[0m \u001b[0;34m\u001b[0m\u001b[0m\n\u001b[1;32m     73\u001b[0m             \u001b[0mpredictions\u001b[0m \u001b[0;34m=\u001b[0m \u001b[0mmodel\u001b[0m\u001b[0;34m.\u001b[0m\u001b[0mpredict\u001b[0m\u001b[0;34m(\u001b[0m\u001b[0mX_test\u001b[0m\u001b[0;34m)\u001b[0m\u001b[0;34m\u001b[0m\u001b[0;34m\u001b[0m\u001b[0m\n",
            "\u001b[0;32m/usr/local/lib/python3.6/dist-packages/keras/engine/training.py\u001b[0m in \u001b[0;36mfit\u001b[0;34m(self, x, y, batch_size, epochs, verbose, callbacks, validation_split, validation_data, shuffle, class_weight, sample_weight, initial_epoch, steps_per_epoch, validation_steps, validation_freq, max_queue_size, workers, use_multiprocessing, **kwargs)\u001b[0m\n\u001b[1;32m   1176\u001b[0m                                         \u001b[0msteps_per_epoch\u001b[0m\u001b[0;34m=\u001b[0m\u001b[0msteps_per_epoch\u001b[0m\u001b[0;34m,\u001b[0m\u001b[0;34m\u001b[0m\u001b[0;34m\u001b[0m\u001b[0m\n\u001b[1;32m   1177\u001b[0m                                         \u001b[0mvalidation_steps\u001b[0m\u001b[0;34m=\u001b[0m\u001b[0mvalidation_steps\u001b[0m\u001b[0;34m,\u001b[0m\u001b[0;34m\u001b[0m\u001b[0;34m\u001b[0m\u001b[0m\n\u001b[0;32m-> 1178\u001b[0;31m                                         validation_freq=validation_freq)\n\u001b[0m\u001b[1;32m   1179\u001b[0m \u001b[0;34m\u001b[0m\u001b[0m\n\u001b[1;32m   1180\u001b[0m     def evaluate(self,\n",
            "\u001b[0;32m/usr/local/lib/python3.6/dist-packages/keras/engine/training_arrays.py\u001b[0m in \u001b[0;36mfit_loop\u001b[0;34m(model, fit_function, fit_inputs, out_labels, batch_size, epochs, verbose, callbacks, val_function, val_inputs, shuffle, callback_metrics, initial_epoch, steps_per_epoch, validation_steps, validation_freq)\u001b[0m\n\u001b[1;32m    202\u001b[0m                     \u001b[0mins_batch\u001b[0m\u001b[0;34m[\u001b[0m\u001b[0mi\u001b[0m\u001b[0;34m]\u001b[0m \u001b[0;34m=\u001b[0m \u001b[0mins_batch\u001b[0m\u001b[0;34m[\u001b[0m\u001b[0mi\u001b[0m\u001b[0;34m]\u001b[0m\u001b[0;34m.\u001b[0m\u001b[0mtoarray\u001b[0m\u001b[0;34m(\u001b[0m\u001b[0;34m)\u001b[0m\u001b[0;34m\u001b[0m\u001b[0;34m\u001b[0m\u001b[0m\n\u001b[1;32m    203\u001b[0m \u001b[0;34m\u001b[0m\u001b[0m\n\u001b[0;32m--> 204\u001b[0;31m                 \u001b[0mouts\u001b[0m \u001b[0;34m=\u001b[0m \u001b[0mfit_function\u001b[0m\u001b[0;34m(\u001b[0m\u001b[0mins_batch\u001b[0m\u001b[0;34m)\u001b[0m\u001b[0;34m\u001b[0m\u001b[0;34m\u001b[0m\u001b[0m\n\u001b[0m\u001b[1;32m    205\u001b[0m                 \u001b[0mouts\u001b[0m \u001b[0;34m=\u001b[0m \u001b[0mto_list\u001b[0m\u001b[0;34m(\u001b[0m\u001b[0mouts\u001b[0m\u001b[0;34m)\u001b[0m\u001b[0;34m\u001b[0m\u001b[0;34m\u001b[0m\u001b[0m\n\u001b[1;32m    206\u001b[0m                 \u001b[0;32mfor\u001b[0m \u001b[0ml\u001b[0m\u001b[0;34m,\u001b[0m \u001b[0mo\u001b[0m \u001b[0;32min\u001b[0m \u001b[0mzip\u001b[0m\u001b[0;34m(\u001b[0m\u001b[0mout_labels\u001b[0m\u001b[0;34m,\u001b[0m \u001b[0mouts\u001b[0m\u001b[0;34m)\u001b[0m\u001b[0;34m:\u001b[0m\u001b[0;34m\u001b[0m\u001b[0;34m\u001b[0m\u001b[0m\n",
            "\u001b[0;32m/usr/local/lib/python3.6/dist-packages/keras/backend/tensorflow_backend.py\u001b[0m in \u001b[0;36m__call__\u001b[0;34m(self, inputs)\u001b[0m\n\u001b[1;32m   2977\u001b[0m                     \u001b[0;32mreturn\u001b[0m \u001b[0mself\u001b[0m\u001b[0;34m.\u001b[0m\u001b[0m_legacy_call\u001b[0m\u001b[0;34m(\u001b[0m\u001b[0minputs\u001b[0m\u001b[0;34m)\u001b[0m\u001b[0;34m\u001b[0m\u001b[0;34m\u001b[0m\u001b[0m\n\u001b[1;32m   2978\u001b[0m \u001b[0;34m\u001b[0m\u001b[0m\n\u001b[0;32m-> 2979\u001b[0;31m             \u001b[0;32mreturn\u001b[0m \u001b[0mself\u001b[0m\u001b[0;34m.\u001b[0m\u001b[0m_call\u001b[0m\u001b[0;34m(\u001b[0m\u001b[0minputs\u001b[0m\u001b[0;34m)\u001b[0m\u001b[0;34m\u001b[0m\u001b[0;34m\u001b[0m\u001b[0m\n\u001b[0m\u001b[1;32m   2980\u001b[0m         \u001b[0;32melse\u001b[0m\u001b[0;34m:\u001b[0m\u001b[0;34m\u001b[0m\u001b[0;34m\u001b[0m\u001b[0m\n\u001b[1;32m   2981\u001b[0m             \u001b[0;32mif\u001b[0m \u001b[0mpy_any\u001b[0m\u001b[0;34m(\u001b[0m\u001b[0mis_tensor\u001b[0m\u001b[0;34m(\u001b[0m\u001b[0mx\u001b[0m\u001b[0;34m)\u001b[0m \u001b[0;32mfor\u001b[0m \u001b[0mx\u001b[0m \u001b[0;32min\u001b[0m \u001b[0minputs\u001b[0m\u001b[0;34m)\u001b[0m\u001b[0;34m:\u001b[0m\u001b[0;34m\u001b[0m\u001b[0;34m\u001b[0m\u001b[0m\n",
            "\u001b[0;32m/usr/local/lib/python3.6/dist-packages/keras/backend/tensorflow_backend.py\u001b[0m in \u001b[0;36m_call\u001b[0;34m(self, inputs)\u001b[0m\n\u001b[1;32m   2935\u001b[0m             \u001b[0mfetched\u001b[0m \u001b[0;34m=\u001b[0m \u001b[0mself\u001b[0m\u001b[0;34m.\u001b[0m\u001b[0m_callable_fn\u001b[0m\u001b[0;34m(\u001b[0m\u001b[0;34m*\u001b[0m\u001b[0marray_vals\u001b[0m\u001b[0;34m,\u001b[0m \u001b[0mrun_metadata\u001b[0m\u001b[0;34m=\u001b[0m\u001b[0mself\u001b[0m\u001b[0;34m.\u001b[0m\u001b[0mrun_metadata\u001b[0m\u001b[0;34m)\u001b[0m\u001b[0;34m\u001b[0m\u001b[0;34m\u001b[0m\u001b[0m\n\u001b[1;32m   2936\u001b[0m         \u001b[0;32melse\u001b[0m\u001b[0;34m:\u001b[0m\u001b[0;34m\u001b[0m\u001b[0;34m\u001b[0m\u001b[0m\n\u001b[0;32m-> 2937\u001b[0;31m             \u001b[0mfetched\u001b[0m \u001b[0;34m=\u001b[0m \u001b[0mself\u001b[0m\u001b[0;34m.\u001b[0m\u001b[0m_callable_fn\u001b[0m\u001b[0;34m(\u001b[0m\u001b[0;34m*\u001b[0m\u001b[0marray_vals\u001b[0m\u001b[0;34m)\u001b[0m\u001b[0;34m\u001b[0m\u001b[0;34m\u001b[0m\u001b[0m\n\u001b[0m\u001b[1;32m   2938\u001b[0m         \u001b[0;32mreturn\u001b[0m \u001b[0mfetched\u001b[0m\u001b[0;34m[\u001b[0m\u001b[0;34m:\u001b[0m\u001b[0mlen\u001b[0m\u001b[0;34m(\u001b[0m\u001b[0mself\u001b[0m\u001b[0;34m.\u001b[0m\u001b[0moutputs\u001b[0m\u001b[0;34m)\u001b[0m\u001b[0;34m]\u001b[0m\u001b[0;34m\u001b[0m\u001b[0;34m\u001b[0m\u001b[0m\n\u001b[1;32m   2939\u001b[0m \u001b[0;34m\u001b[0m\u001b[0m\n",
            "\u001b[0;32m/usr/local/lib/python3.6/dist-packages/tensorflow_core/python/client/session.py\u001b[0m in \u001b[0;36m__call__\u001b[0;34m(self, *args, **kwargs)\u001b[0m\n\u001b[1;32m   1470\u001b[0m         ret = tf_session.TF_SessionRunCallable(self._session._session,\n\u001b[1;32m   1471\u001b[0m                                                \u001b[0mself\u001b[0m\u001b[0;34m.\u001b[0m\u001b[0m_handle\u001b[0m\u001b[0;34m,\u001b[0m \u001b[0margs\u001b[0m\u001b[0;34m,\u001b[0m\u001b[0;34m\u001b[0m\u001b[0;34m\u001b[0m\u001b[0m\n\u001b[0;32m-> 1472\u001b[0;31m                                                run_metadata_ptr)\n\u001b[0m\u001b[1;32m   1473\u001b[0m         \u001b[0;32mif\u001b[0m \u001b[0mrun_metadata\u001b[0m\u001b[0;34m:\u001b[0m\u001b[0;34m\u001b[0m\u001b[0;34m\u001b[0m\u001b[0m\n\u001b[1;32m   1474\u001b[0m           \u001b[0mproto_data\u001b[0m \u001b[0;34m=\u001b[0m \u001b[0mtf_session\u001b[0m\u001b[0;34m.\u001b[0m\u001b[0mTF_GetBuffer\u001b[0m\u001b[0;34m(\u001b[0m\u001b[0mrun_metadata_ptr\u001b[0m\u001b[0;34m)\u001b[0m\u001b[0;34m\u001b[0m\u001b[0;34m\u001b[0m\u001b[0m\n",
            "\u001b[0;31mKeyboardInterrupt\u001b[0m: "
          ]
        }
      ]
    },
    {
      "cell_type": "markdown",
      "metadata": {
        "id": "cduM1_sxcsQP",
        "colab_type": "text"
      },
      "source": [
        "## Genetic Algorithm for feature selection"
      ]
    },
    {
      "cell_type": "code",
      "metadata": {
        "id": "4ycfTELvY1w9",
        "colab_type": "code",
        "colab": {}
      },
      "source": [
        "num_samples = features.shape[0]\n",
        "num_feature_elements = features.shape[1]"
      ],
      "execution_count": 0,
      "outputs": []
    },
    {
      "cell_type": "code",
      "metadata": {
        "id": "lXpnXamrY1xD",
        "colab_type": "code",
        "colab": {}
      },
      "source": [
        "sol_per_pop = 12 # Population size.\n",
        "num_parents_mating = 6 # Number of parents inside the mating pool.\n",
        "num_mutations = 3 # Number of elements to mutate.\n",
        "\n",
        "# Defining the population shape.\n",
        "pop_shape = (sol_per_pop, num_feature_elements)"
      ],
      "execution_count": 0,
      "outputs": []
    },
    {
      "cell_type": "code",
      "metadata": {
        "id": "Dd5XxoAiY1xF",
        "colab_type": "code",
        "outputId": "17b2d372-e843-40b0-ca13-42d9db3ce4d4",
        "colab": {}
      },
      "source": [
        "# Creating the initial population.\n",
        "new_population = np.random.randint(low=0, high=2, size=pop_shape)\n",
        "print(new_population.shape)\n",
        "\n",
        "best_outputs = []\n",
        "num_generations = 100"
      ],
      "execution_count": 0,
      "outputs": [
        {
          "output_type": "stream",
          "text": [
            "(12, 28)\n"
          ],
          "name": "stdout"
        }
      ]
    },
    {
      "cell_type": "code",
      "metadata": {
        "id": "8Out3kF2Y1xI",
        "colab_type": "code",
        "colab": {}
      },
      "source": [
        "import ga"
      ],
      "execution_count": 0,
      "outputs": []
    },
    {
      "cell_type": "code",
      "metadata": {
        "id": "wOj8smL2Y1xP",
        "colab_type": "code",
        "outputId": "8d7c37b8-cd67-4ebb-f24a-a08c8e0ec9ea",
        "colab": {}
      },
      "source": [
        "import importlib\n",
        "importlib.reload(ga)"
      ],
      "execution_count": 0,
      "outputs": [
        {
          "output_type": "execute_result",
          "data": {
            "text/plain": [
              "<module 'ga' from '/eos/home-l/llayer/Higgs/ga.py'>"
            ]
          },
          "metadata": {
            "tags": []
          },
          "execution_count": 10
        }
      ]
    },
    {
      "cell_type": "code",
      "metadata": {
        "scrolled": true,
        "id": "eUeEDUgRY1xT",
        "colab_type": "code",
        "colab": {}
      },
      "source": [
        "for generation in range(num_generations):\n",
        "    print(\"Generation : \", generation)\n",
        "    \n",
        "    # Measuring the fitness of each chromosome in the population.\n",
        "    fitness = ga.cal_pop_fitness(new_population, features, labels)\n",
        "\n",
        "    print( fitness )\n",
        "    \n",
        "    best_outputs.append(np.max(fitness))\n",
        "    # The best result in the current iteration.\n",
        "    print(\"Best result : \", best_outputs[-1])\n",
        "\n",
        "    # Selecting the best parents in the population for mating.\n",
        "    parents = ga.select_mating_pool(new_population, fitness, num_parents_mating)\n",
        "\n",
        "    # Generating next generation using crossover.\n",
        "    offspring_crossover = ga.crossover(parents, offspring_size=(pop_shape[0]-parents.shape[0], num_feature_elements))\n",
        "\n",
        "    # Adding some variations to the offspring using mutation.\n",
        "    offspring_mutation = ga.mutation(offspring_crossover, num_mutations=num_mutations)\n",
        "\n",
        "    # Creating the new population based on the parents and offspring.\n",
        "    new_population[0:parents.shape[0], :] = parents\n",
        "    new_population[parents.shape[0]:, :] = offspring_mutation"
      ],
      "execution_count": 0,
      "outputs": []
    },
    {
      "cell_type": "code",
      "metadata": {
        "id": "uFyEdZJAY1xW",
        "colab_type": "code",
        "colab": {}
      },
      "source": [
        "from matplotlib import pyplot as plt"
      ],
      "execution_count": 0,
      "outputs": []
    },
    {
      "cell_type": "code",
      "metadata": {
        "id": "S1lCk6djY1xY",
        "colab_type": "code",
        "outputId": "06179466-334e-46a6-d821-b80af41eb9fa",
        "colab": {}
      },
      "source": [
        "\n",
        "# Getting the best solution after iterating finishing all generations.\n",
        "# At first, the fitness is calculated for each solution in the final generation.\n",
        "fitness = ga.cal_pop_fitness(new_population, features, labels)\n",
        "# Then return the index of that solution corresponding to the best fitness.\n",
        "best_match_idx = np.where(fitness == np.max(fitness))[0]\n",
        "best_match_idx = best_match_idx[0]\n",
        "\n",
        "best_solution = new_population[best_match_idx, :]\n",
        "best_solution_indices = np.where(best_solution == 1)[0]\n",
        "best_solution_num_elements = best_solution_indices.shape[0]\n",
        "best_solution_fitness = fitness[best_match_idx]\n",
        "\n",
        "print(\"best_match_idx : \", best_match_idx)\n",
        "print(\"best_solution : \", best_solution)\n",
        "print(\"Selected indices : \", best_solution_indices)\n",
        "print(\"Number of selected elements : \", best_solution_num_elements)\n",
        "print(\"Best solution fitness : \", best_solution_fitness)\n",
        "\n",
        "plt.plot(best_outputs)"
      ],
      "execution_count": 0,
      "outputs": [
        {
          "output_type": "stream",
          "text": [
            "0.7822324019697021\n",
            "0.7819253075467076\n",
            "0.7818933032385696\n",
            "0.7818724568169131\n",
            "0.7818649263914688\n",
            "0.7818597836618972\n",
            "0.7717151526577948\n",
            "0.7714571437518729\n",
            "0.7712103386496606\n",
            "0.7722144565985307\n",
            "0.7714556284833383\n",
            "0.7720901127442441\n",
            "best_match_idx :  0\n",
            "best_solution :  [1 0 1 1 1 1 0 0 1 1 0 0 1 1 1 1 1 0 1 1 1 1 1 1 1 1 1 1]\n",
            "Selected indices :  [ 0  2  3  4  5  8  9 12 13 14 15 16 18 19 20 21 22 23 24 25 26 27]\n",
            "Number of selected elements :  22\n",
            "Best solution fitness :  0.7822324019697021\n"
          ],
          "name": "stdout"
        },
        {
          "output_type": "execute_result",
          "data": {
            "text/plain": [
              "[<matplotlib.lines.Line2D at 0x7f74e890a518>]"
            ]
          },
          "metadata": {
            "tags": []
          },
          "execution_count": 13
        },
        {
          "output_type": "display_data",
          "data": {
            "image/png": "[encoded data removed]",
            "text/plain": [
              "<Figure size 432x288 with 1 Axes>"
            ]
          },
          "metadata": {
            "tags": []
          }
        }
      ]
    },
    {
      "cell_type": "code",
      "metadata": {
        "id": "tphFZpHeY1xb",
        "colab_type": "code",
        "outputId": "b2451c9e-42e9-43f5-8282-1918722a9853",
        "colab": {}
      },
      "source": [
        "import numpy\n",
        "import sklearn.svm\n",
        "from sklearn.metrics import roc_auc_score\n",
        "from sklearn.model_selection import train_test_split\n",
        "\n",
        "X_train, X_test, y_train, y_test = train_test_split(features, labels, test_size=0.33, random_state=42)\n",
        "\n",
        "\"\"\"\n",
        "SV_classifier = sklearn.svm.SVC(gamma='scale')\n",
        "SV_classifier.fit(X=X_train, y=y_train)\n",
        "\n",
        "predictions = SV_classifier.decision_function(X_test)#.predict(X_test)\n",
        "score = roc_auc_score(y_test, predictions) # classification_accuracy(y_test, predictions)\n",
        "print(score)\n",
        "\"\"\""
      ],
      "execution_count": 0,
      "outputs": [
        {
          "output_type": "execute_result",
          "data": {
            "text/plain": [
              "\"\\nSV_classifier = sklearn.svm.SVC(gamma='scale')\\nSV_classifier.fit(X=X_train, y=y_train)\\n\\npredictions = SV_classifier.decision_function(X_test)#.predict(X_test)\\nscore = roc_auc_score(y_test, predictions) # classification_accuracy(y_test, predictions)\\nprint(score)\\n\""
            ]
          },
          "metadata": {
            "tags": []
          },
          "execution_count": 20
        }
      ]
    },
    {
      "cell_type": "code",
      "metadata": {
        "id": "tOdN441PY1xr",
        "colab_type": "code",
        "outputId": "6e5fd833-728c-4a73-dfff-49aae07f618a",
        "colab": {}
      },
      "source": [
        "predictions = model_bdt.predict_proba(X_test)[:,1]\n",
        "score = roc_auc_score(y_test, predictions)\n",
        "print(score)"
      ],
      "execution_count": 0,
      "outputs": [
        {
          "output_type": "stream",
          "text": [
            "0.7805039397441069\n"
          ],
          "name": "stdout"
        }
      ]
    },
    {
      "cell_type": "code",
      "metadata": {
        "id": "xtaCUF7uY1yA",
        "colab_type": "code",
        "colab": {}
      },
      "source": [
        "fitness = pd.DataFrame(best_outputs)"
      ],
      "execution_count": 0,
      "outputs": []
    },
    {
      "cell_type": "code",
      "metadata": {
        "id": "lwycEN_sY1yC",
        "colab_type": "code",
        "colab": {}
      },
      "source": [
        "fitness.to_hdf('xgb_sol_12_parents_6_mutations_3.h5', 'frame')"
      ],
      "execution_count": 0,
      "outputs": []
    },
    {
      "cell_type": "code",
      "metadata": {
        "id": "wsIUPtMRY1yL",
        "colab_type": "code",
        "colab": {}
      },
      "source": [
        ""
      ],
      "execution_count": 0,
      "outputs": []
    },
    {
      "cell_type": "code",
      "metadata": {
        "id": "YSW4s8suY1yY",
        "colab_type": "code",
        "colab": {}
      },
      "source": [
        ""
      ],
      "execution_count": 0,
      "outputs": []
    },
    {
      "cell_type": "code",
      "metadata": {
        "id": "3qDYdijsY1yb",
        "colab_type": "code",
        "colab": {}
      },
      "source": [
        ""
      ],
      "execution_count": 0,
      "outputs": []
    },
    {
      "cell_type": "code",
      "metadata": {
        "id": "NWHeuKCtY1yv",
        "colab_type": "code",
        "colab": {}
      },
      "source": [
        ""
      ],
      "execution_count": 0,
      "outputs": []
    }
  ]
}