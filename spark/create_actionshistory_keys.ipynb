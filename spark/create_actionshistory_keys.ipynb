{
 "cells": [
  {
   "cell_type": "code",
   "execution_count": 1,
   "metadata": {},
   "outputs": [],
   "source": [
    "import pandas as pd"
   ]
  },
  {
   "cell_type": "code",
   "execution_count": 5,
   "metadata": {},
   "outputs": [],
   "source": [
    "# Load the actionshistory\n",
    "data = pd.read_json('/eos/user/l/llayer/AIErrorHandling/actionshistory.json', orient='index')\n",
    "\n",
    "# Reset index\n",
    "data_index_reset = data.reset_index()\n",
    "data_index_reset = data_index_reset.rename(columns={'index': 'task_name'})"
   ]
  },
  {
   "cell_type": "code",
   "execution_count": 6,
   "metadata": {},
   "outputs": [
    {
     "data": {
      "text/html": [
       "<div>\n",
       "<style scoped>\n",
       "    .dataframe tbody tr th:only-of-type {\n",
       "        vertical-align: middle;\n",
       "    }\n",
       "\n",
       "    .dataframe tbody tr th {\n",
       "        vertical-align: top;\n",
       "    }\n",
       "\n",
       "    .dataframe thead th {\n",
       "        text-align: right;\n",
       "    }\n",
       "</style>\n",
       "<table border=\"1\" class=\"dataframe\">\n",
       "  <thead>\n",
       "    <tr style=\"text-align: right;\">\n",
       "      <th></th>\n",
       "      <th>task_name</th>\n",
       "      <th>errors</th>\n",
       "      <th>parameters</th>\n",
       "    </tr>\n",
       "  </thead>\n",
       "  <tbody>\n",
       "    <tr>\n",
       "      <th>0</th>\n",
       "      <td>/amaltaro_Run2016D-v2-DoubleMuonLowMass-07Aug1...</td>\n",
       "      <td>{u'good_sites': {}, u'bad_sites': {u'-1': {u'T...</td>\n",
       "      <td>{u'action': u'acdc', u'sites': [u'T1_US_FNAL']...</td>\n",
       "    </tr>\n",
       "    <tr>\n",
       "      <th>1</th>\n",
       "      <td>/amaltaro_Run2016D-v2-DoubleMuonLowMass-07Aug1...</td>\n",
       "      <td>{u'good_sites': {}, u'bad_sites': {u'-1': {u'T...</td>\n",
       "      <td>{u'action': u'acdc', u'sites': [u'T1_US_FNAL']...</td>\n",
       "    </tr>\n",
       "    <tr>\n",
       "      <th>2</th>\n",
       "      <td>/amaltaro_Run2016D-v2-DoubleMuonLowMass-07Aug1...</td>\n",
       "      <td>{u'good_sites': {}, u'bad_sites': {u'-1': {u'T...</td>\n",
       "      <td>{u'action': u'acdc', u'sites': [u'T1_US_FNAL']...</td>\n",
       "    </tr>\n",
       "    <tr>\n",
       "      <th>3</th>\n",
       "      <td>/amaltaro_Run2018A-v1-DoubleMuon-17Sep2018_102...</td>\n",
       "      <td>{u'good_sites': {u'85': {u'T1_UK_RAL': 1}}, u'...</td>\n",
       "      <td>{u'action': u'acdc', u'cores': u'', u'xrootd':...</td>\n",
       "    </tr>\n",
       "    <tr>\n",
       "      <th>4</th>\n",
       "      <td>/amaltaro_Run2018A-v1-DoubleMuon-17Sep2018_102...</td>\n",
       "      <td>{u'good_sites': {u'-1': {u'T2_DE_RWTH': 1, u'T...</td>\n",
       "      <td>{u'action': u'acdc', u'cores': u'', u'sites': ...</td>\n",
       "    </tr>\n",
       "  </tbody>\n",
       "</table>\n",
       "</div>"
      ],
      "text/plain": [
       "                                           task_name  \\\n",
       "0  /amaltaro_Run2016D-v2-DoubleMuonLowMass-07Aug1...   \n",
       "1  /amaltaro_Run2016D-v2-DoubleMuonLowMass-07Aug1...   \n",
       "2  /amaltaro_Run2016D-v2-DoubleMuonLowMass-07Aug1...   \n",
       "3  /amaltaro_Run2018A-v1-DoubleMuon-17Sep2018_102...   \n",
       "4  /amaltaro_Run2018A-v1-DoubleMuon-17Sep2018_102...   \n",
       "\n",
       "                                              errors  \\\n",
       "0  {u'good_sites': {}, u'bad_sites': {u'-1': {u'T...   \n",
       "1  {u'good_sites': {}, u'bad_sites': {u'-1': {u'T...   \n",
       "2  {u'good_sites': {}, u'bad_sites': {u'-1': {u'T...   \n",
       "3  {u'good_sites': {u'85': {u'T1_UK_RAL': 1}}, u'...   \n",
       "4  {u'good_sites': {u'-1': {u'T2_DE_RWTH': 1, u'T...   \n",
       "\n",
       "                                          parameters  \n",
       "0  {u'action': u'acdc', u'sites': [u'T1_US_FNAL']...  \n",
       "1  {u'action': u'acdc', u'sites': [u'T1_US_FNAL']...  \n",
       "2  {u'action': u'acdc', u'sites': [u'T1_US_FNAL']...  \n",
       "3  {u'action': u'acdc', u'cores': u'', u'xrootd':...  \n",
       "4  {u'action': u'acdc', u'cores': u'', u'sites': ...  "
      ]
     },
     "execution_count": 6,
     "metadata": {},
     "output_type": "execute_result"
    }
   ],
   "source": [
    "data_index_reset.head()"
   ]
  },
  {
   "cell_type": "code",
   "execution_count": 40,
   "metadata": {},
   "outputs": [],
   "source": [
    "def loop_over_sites(sites, task_name):\n",
    "    key = []\n",
    "    for exit_code, site_dict in zip(sites.keys(), sites.values()):\n",
    "        if int(exit_code) == -1:\n",
    "            continue\n",
    "        for site in site_dict:\n",
    "            key.append((task_name, exit_code, site))\n",
    "    return key\n",
    "        "
   ]
  },
  {
   "cell_type": "code",
   "execution_count": 65,
   "metadata": {},
   "outputs": [],
   "source": [
    "def map_to_key(row):\n",
    "    \n",
    "    task_name = row['task_name']\n",
    "    errors = row['errors']\n",
    "    good_sites = errors['good_sites']\n",
    "    bad_sites = errors['bad_sites']\n",
    "    \n",
    "    good_sites_key = loop_over_sites(good_sites, task_name)\n",
    "    bad_sites_key = loop_over_sites(bad_sites, task_name)\n",
    "    #return list(set(good_sites_key + bad_sites_key))\n",
    "    if len(list(set(good_sites_key + bad_sites_key))) < len(good_sites_key + bad_sites_key):\n",
    "        print\n",
    "        print good_sites_key\n",
    "        print bad_sites_key\n",
    "        print\n",
    "        \n",
    "    return list(set(good_sites_key + bad_sites_key))"
   ]
  },
  {
   "cell_type": "code",
   "execution_count": 66,
   "metadata": {},
   "outputs": [],
   "source": [
    "data_index_reset['non_zero_keys'] = data_index_reset.apply(lambda x: map_to_key(x), axis = 1)"
   ]
  },
  {
   "cell_type": "code",
   "execution_count": 67,
   "metadata": {},
   "outputs": [
    {
     "data": {
      "text/plain": [
       "0                                                    []\n",
       "1                                                    []\n",
       "2                                                    []\n",
       "3     [(/amaltaro_Run2018A-v1-DoubleMuon-17Sep2018_1...\n",
       "4     [(/amaltaro_Run2018A-v1-DoubleMuon-17Sep2018_1...\n",
       "5     [(/amaltaro_Run2018A-v1-DoubleMuon-17Sep2018_1...\n",
       "6                                                    []\n",
       "7                                                    []\n",
       "8     [(/amaltaro_Run2018A-v1-DoubleMuon-17Sep2018_1...\n",
       "9     [(/amaltaro_Run2018A-v1-DoubleMuon-17Sep2018_1...\n",
       "10                                                   []\n",
       "11    [(/amaltaro_Run2018A-v1-EGamma-17Sep2018_1024p...\n",
       "12                                                   []\n",
       "13                                                   []\n",
       "14                                                   []\n",
       "15    [(/amaltaro_Run2018A-v1-EGamma-17Sep2018_1024p...\n",
       "16                                                   []\n",
       "17                                                   []\n",
       "18    [(/amaltaro_Run2018A-v1-EGamma-17Sep2018_1024p...\n",
       "19                                                   []\n",
       "20                                                   []\n",
       "21                                                   []\n",
       "22    [(/amaltaro_Run2018A-v1-SingleMuon-17Sep2018_1...\n",
       "23                                                   []\n",
       "24    [(/amaltaro_Run2018A-v1-SingleMuon-17Sep2018_1...\n",
       "25    [(/amaltaro_Run2018A-v1-SingleMuon-17Sep2018_1...\n",
       "26    [(/amaltaro_Run2018A-v1-SingleMuon-17Sep2018_1...\n",
       "27    [(/amaltaro_Run2018A-v1-SingleMuon-17Sep2018_1...\n",
       "28                                                   []\n",
       "29                                                   []\n",
       "                            ...                        \n",
       "70    [(/fabozzi_Run2016B-v2-Charmonium-07Aug17_ver2...\n",
       "71                                                   []\n",
       "72    [(/fabozzi_Run2016B-v2-DisplacedJet-07Aug17_ve...\n",
       "73    [(/fabozzi_Run2016B-v2-DoubleMuon-07Aug17_ver2...\n",
       "74    [(/fabozzi_Run2016B-v2-DoubleMuon-07Aug17_ver2...\n",
       "75                                                   []\n",
       "76    [(/fabozzi_Run2016B-v2-DoubleMuon-07Aug17_ver2...\n",
       "77    [(/fabozzi_Run2016B-v2-DoubleMuon-07Aug17_ver2...\n",
       "78    [(/fabozzi_Run2016B-v2-DoubleMuon-07Aug17_ver2...\n",
       "79    [(/fabozzi_Run2016B-v2-DoubleMuon-07Aug17_ver2...\n",
       "80    [(/fabozzi_Run2016B-v2-DoubleMuonLowMass-07Aug...\n",
       "81                                                   []\n",
       "82                                                   []\n",
       "83    [(/fabozzi_Run2016B-v2-FSQJets-07Aug17_ver2_80...\n",
       "84    [(/fabozzi_Run2016B-v2-FSQJets-07Aug17_ver2_80...\n",
       "85                                                   []\n",
       "86    [(/fabozzi_Run2016B-v2-MET-07Aug17_ver2_8029_1...\n",
       "87                                                   []\n",
       "88                                                   []\n",
       "89                                                   []\n",
       "90                                                   []\n",
       "91                                                   []\n",
       "92    [(/fabozzi_Run2016B-v2-MuonEG-07Aug17_ver2_802...\n",
       "93    [(/fabozzi_Run2016B-v2-NoBPTX-07Aug17_ver2_802...\n",
       "94    [(/fabozzi_Run2016B-v2-NoBPTX-07Aug17_ver2_802...\n",
       "95    [(/fabozzi_Run2016B-v2-NoBPTX-07Aug17_ver2_802...\n",
       "96    [(/fabozzi_Run2016B-v2-NoBPTX-07Aug17_ver2_802...\n",
       "97    [(/fabozzi_Run2016B-v2-SinglePhoton-07Aug17_ve...\n",
       "98                                                   []\n",
       "99                                                   []\n",
       "Name: non_zero_keys, Length: 100, dtype: object"
      ]
     },
     "execution_count": 67,
     "metadata": {},
     "output_type": "execute_result"
    }
   ],
   "source": [
    "data_index_reset['non_zero_keys'].head(100)"
   ]
  },
  {
   "cell_type": "code",
   "execution_count": 68,
   "metadata": {},
   "outputs": [],
   "source": [
    "keys = data_index_reset['non_zero_keys'].apply(pd.Series).unstack().reset_index(drop=True).dropna()"
   ]
  },
  {
   "cell_type": "code",
   "execution_count": 69,
   "metadata": {},
   "outputs": [
    {
     "name": "stdout",
     "output_type": "stream",
     "text": [
      "114134\n"
     ]
    }
   ],
   "source": [
    "print len(keys)"
   ]
  },
  {
   "cell_type": "code",
   "execution_count": null,
   "metadata": {},
   "outputs": [],
   "source": []
  }
 ],
 "metadata": {
  "kernelspec": {
   "display_name": "Python 2",
   "language": "python",
   "name": "python2"
  },
  "language_info": {
   "codemirror_mode": {
    "name": "ipython",
    "version": 2
   },
   "file_extension": ".py",
   "mimetype": "text/x-python",
   "name": "python",
   "nbconvert_exporter": "python",
   "pygments_lexer": "ipython2",
   "version": "2.7.16"
  }
 },
 "nbformat": 4,
 "nbformat_minor": 2
}
