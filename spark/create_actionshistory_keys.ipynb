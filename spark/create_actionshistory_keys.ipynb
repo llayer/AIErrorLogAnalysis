{
 "cells": [
  {
   "cell_type": "code",
   "execution_count": 1,
   "metadata": {},
   "outputs": [],
   "source": [
    "import pandas as pd"
   ]
  },
  {
   "cell_type": "code",
   "execution_count": 2,
   "metadata": {},
   "outputs": [],
   "source": [
    "# Load the actionshistory\n",
    "data = pd.read_json('/eos/user/l/llayer/AIErrorHandling/actionshistory.json', orient='index')\n",
    "\n",
    "# Reset index\n",
    "data_index_reset = data.reset_index()\n",
    "data_index_reset = data_index_reset.rename(columns={'index': 'task_name'})"
   ]
  },
  {
   "cell_type": "code",
   "execution_count": 3,
   "metadata": {},
   "outputs": [
    {
     "data": {
      "text/html": [
       "<div>\n",
       "<style scoped>\n",
       "    .dataframe tbody tr th:only-of-type {\n",
       "        vertical-align: middle;\n",
       "    }\n",
       "\n",
       "    .dataframe tbody tr th {\n",
       "        vertical-align: top;\n",
       "    }\n",
       "\n",
       "    .dataframe thead th {\n",
       "        text-align: right;\n",
       "    }\n",
       "</style>\n",
       "<table border=\"1\" class=\"dataframe\">\n",
       "  <thead>\n",
       "    <tr style=\"text-align: right;\">\n",
       "      <th></th>\n",
       "      <th>task_name</th>\n",
       "      <th>errors</th>\n",
       "      <th>parameters</th>\n",
       "    </tr>\n",
       "  </thead>\n",
       "  <tbody>\n",
       "    <tr>\n",
       "      <th>0</th>\n",
       "      <td>/amaltaro_Run2016D-v2-DoubleMuonLowMass-07Aug1...</td>\n",
       "      <td>{u'good_sites': {}, u'bad_sites': {u'-1': {u'T...</td>\n",
       "      <td>{u'action': u'acdc', u'sites': [u'T1_US_FNAL']...</td>\n",
       "    </tr>\n",
       "    <tr>\n",
       "      <th>1</th>\n",
       "      <td>/amaltaro_Run2016D-v2-DoubleMuonLowMass-07Aug1...</td>\n",
       "      <td>{u'good_sites': {}, u'bad_sites': {u'-1': {u'T...</td>\n",
       "      <td>{u'action': u'acdc', u'sites': [u'T1_US_FNAL']...</td>\n",
       "    </tr>\n",
       "    <tr>\n",
       "      <th>2</th>\n",
       "      <td>/amaltaro_Run2016D-v2-DoubleMuonLowMass-07Aug1...</td>\n",
       "      <td>{u'good_sites': {}, u'bad_sites': {u'-1': {u'T...</td>\n",
       "      <td>{u'action': u'acdc', u'sites': [u'T1_US_FNAL']...</td>\n",
       "    </tr>\n",
       "    <tr>\n",
       "      <th>3</th>\n",
       "      <td>/amaltaro_Run2018A-v1-DoubleMuon-17Sep2018_102...</td>\n",
       "      <td>{u'good_sites': {u'85': {u'T1_UK_RAL': 1}}, u'...</td>\n",
       "      <td>{u'action': u'acdc', u'cores': u'', u'xrootd':...</td>\n",
       "    </tr>\n",
       "    <tr>\n",
       "      <th>4</th>\n",
       "      <td>/amaltaro_Run2018A-v1-DoubleMuon-17Sep2018_102...</td>\n",
       "      <td>{u'good_sites': {u'-1': {u'T2_DE_RWTH': 1, u'T...</td>\n",
       "      <td>{u'action': u'acdc', u'cores': u'', u'sites': ...</td>\n",
       "    </tr>\n",
       "  </tbody>\n",
       "</table>\n",
       "</div>"
      ],
      "text/plain": [
       "                                           task_name  \\\n",
       "0  /amaltaro_Run2016D-v2-DoubleMuonLowMass-07Aug1...   \n",
       "1  /amaltaro_Run2016D-v2-DoubleMuonLowMass-07Aug1...   \n",
       "2  /amaltaro_Run2016D-v2-DoubleMuonLowMass-07Aug1...   \n",
       "3  /amaltaro_Run2018A-v1-DoubleMuon-17Sep2018_102...   \n",
       "4  /amaltaro_Run2018A-v1-DoubleMuon-17Sep2018_102...   \n",
       "\n",
       "                                              errors  \\\n",
       "0  {u'good_sites': {}, u'bad_sites': {u'-1': {u'T...   \n",
       "1  {u'good_sites': {}, u'bad_sites': {u'-1': {u'T...   \n",
       "2  {u'good_sites': {}, u'bad_sites': {u'-1': {u'T...   \n",
       "3  {u'good_sites': {u'85': {u'T1_UK_RAL': 1}}, u'...   \n",
       "4  {u'good_sites': {u'-1': {u'T2_DE_RWTH': 1, u'T...   \n",
       "\n",
       "                                          parameters  \n",
       "0  {u'action': u'acdc', u'sites': [u'T1_US_FNAL']...  \n",
       "1  {u'action': u'acdc', u'sites': [u'T1_US_FNAL']...  \n",
       "2  {u'action': u'acdc', u'sites': [u'T1_US_FNAL']...  \n",
       "3  {u'action': u'acdc', u'cores': u'', u'xrootd':...  \n",
       "4  {u'action': u'acdc', u'cores': u'', u'sites': ...  "
      ]
     },
     "execution_count": 3,
     "metadata": {},
     "output_type": "execute_result"
    }
   ],
   "source": [
    "data_index_reset.head()"
   ]
  },
  {
   "cell_type": "code",
   "execution_count": 106,
   "metadata": {},
   "outputs": [],
   "source": [
    "def loop_over_sites(sites, task_name, ignore_neg_code):\n",
    "    key = []\n",
    "    for exit_code, site_dict in zip(sites.keys(), sites.values()):\n",
    "        if ignore_neg_code == True:\n",
    "            if int(exit_code) == -1:\n",
    "                continue\n",
    "        for site in site_dict:\n",
    "            #if site == 'Unknown' or site == 'NoReportedSite':\n",
    "            #    continue\n",
    "            key.append((task_name, exit_code, site))\n",
    "    return key\n",
    "        "
   ]
  },
  {
   "cell_type": "code",
   "execution_count": 107,
   "metadata": {},
   "outputs": [],
   "source": [
    "def map_to_key(row, ignore_neg_code):\n",
    "    \n",
    "    task_name = row['task_name']\n",
    "    errors = row['errors']\n",
    "    good_sites = errors['good_sites']\n",
    "    bad_sites = errors['bad_sites']\n",
    "    \n",
    "    good_sites_key = loop_over_sites(good_sites, task_name, ignore_neg_code)\n",
    "    bad_sites_key = loop_over_sites(bad_sites, task_name, ignore_neg_code)\n",
    "    #return list(set(good_sites_key + bad_sites_key))\n",
    "    if len(list(set(good_sites_key + bad_sites_key))) < len(good_sites_key + bad_sites_key):\n",
    "        print\n",
    "        print good_sites_key\n",
    "        print bad_sites_key\n",
    "        print\n",
    "        \n",
    "    return list(set(good_sites_key + bad_sites_key))"
   ]
  },
  {
   "cell_type": "code",
   "execution_count": 241,
   "metadata": {},
   "outputs": [],
   "source": [
    "data_index_reset['non_zero_keys'] = data_index_reset.apply(lambda x: map_to_key(x, ignore_neg_code = True), axis = 1)\n",
    "data_index_reset['all_keys'] = data_index_reset.apply(lambda x: map_to_key(x, ignore_neg_code = False), axis = 1)"
   ]
  },
  {
   "cell_type": "code",
   "execution_count": 234,
   "metadata": {},
   "outputs": [
    {
     "data": {
      "text/plain": [
       "0                                                   []\n",
       "1                                                   []\n",
       "2                                                   []\n",
       "3    [(/amaltaro_Run2018A-v1-DoubleMuon-17Sep2018_1...\n",
       "4    [(/amaltaro_Run2018A-v1-DoubleMuon-17Sep2018_1...\n",
       "Name: non_zero_keys, dtype: object"
      ]
     },
     "execution_count": 234,
     "metadata": {},
     "output_type": "execute_result"
    }
   ],
   "source": [
    "data_index_reset['non_zero_keys'].head()"
   ]
  },
  {
   "cell_type": "code",
   "execution_count": 243,
   "metadata": {},
   "outputs": [],
   "source": [
    "keys_non_zero = data_index_reset['non_zero_keys'].apply(pd.Series).unstack().reset_index(drop=True).dropna()\n",
    "keys_all = data_index_reset['all_keys'].apply(pd.Series).unstack().reset_index(drop=True).dropna()"
   ]
  },
  {
   "cell_type": "code",
   "execution_count": 244,
   "metadata": {},
   "outputs": [],
   "source": [
    "keys_non_zero = keys_non_zero.to_frame('key')\n",
    "keys_all = keys_all.to_frame('key')"
   ]
  },
  {
   "cell_type": "code",
   "execution_count": 245,
   "metadata": {},
   "outputs": [
    {
     "data": {
      "text/html": [
       "<div>\n",
       "<style scoped>\n",
       "    .dataframe tbody tr th:only-of-type {\n",
       "        vertical-align: middle;\n",
       "    }\n",
       "\n",
       "    .dataframe tbody tr th {\n",
       "        vertical-align: top;\n",
       "    }\n",
       "\n",
       "    .dataframe thead th {\n",
       "        text-align: right;\n",
       "    }\n",
       "</style>\n",
       "<table border=\"1\" class=\"dataframe\">\n",
       "  <thead>\n",
       "    <tr style=\"text-align: right;\">\n",
       "      <th></th>\n",
       "      <th>key</th>\n",
       "    </tr>\n",
       "  </thead>\n",
       "  <tbody>\n",
       "    <tr>\n",
       "      <th>3</th>\n",
       "      <td>(/amaltaro_Run2018A-v1-DoubleMuon-17Sep2018_10...</td>\n",
       "    </tr>\n",
       "    <tr>\n",
       "      <th>4</th>\n",
       "      <td>(/amaltaro_Run2018A-v1-DoubleMuon-17Sep2018_10...</td>\n",
       "    </tr>\n",
       "    <tr>\n",
       "      <th>5</th>\n",
       "      <td>(/amaltaro_Run2018A-v1-DoubleMuon-17Sep2018_10...</td>\n",
       "    </tr>\n",
       "    <tr>\n",
       "      <th>8</th>\n",
       "      <td>(/amaltaro_Run2018A-v1-DoubleMuon-17Sep2018_10...</td>\n",
       "    </tr>\n",
       "    <tr>\n",
       "      <th>9</th>\n",
       "      <td>(/amaltaro_Run2018A-v1-DoubleMuon-17Sep2018_10...</td>\n",
       "    </tr>\n",
       "  </tbody>\n",
       "</table>\n",
       "</div>"
      ],
      "text/plain": [
       "                                                 key\n",
       "3  (/amaltaro_Run2018A-v1-DoubleMuon-17Sep2018_10...\n",
       "4  (/amaltaro_Run2018A-v1-DoubleMuon-17Sep2018_10...\n",
       "5  (/amaltaro_Run2018A-v1-DoubleMuon-17Sep2018_10...\n",
       "8  (/amaltaro_Run2018A-v1-DoubleMuon-17Sep2018_10...\n",
       "9  (/amaltaro_Run2018A-v1-DoubleMuon-17Sep2018_10..."
      ]
     },
     "execution_count": 245,
     "metadata": {},
     "output_type": "execute_result"
    }
   ],
   "source": [
    "keys_non_zero.head()"
   ]
  },
  {
   "cell_type": "code",
   "execution_count": 239,
   "metadata": {},
   "outputs": [],
   "source": [
    "def expand_key(key):\n",
    "    return key[0], key[1], key[2]"
   ]
  },
  {
   "cell_type": "code",
   "execution_count": 257,
   "metadata": {},
   "outputs": [
    {
     "name": "stdout",
     "output_type": "stream",
     "text": [
      "\n"
     ]
    }
   ],
   "source": [
    "keys_non_zero['task_name'], keys_non_zero['error'], keys_non_zero['site'] = zip(*keys_non_zero['key'].map(expand_key))"
   ]
  },
  {
   "cell_type": "code",
   "execution_count": 252,
   "metadata": {},
   "outputs": [
    {
     "name": "stdout",
     "output_type": "stream",
     "text": [
      "\n"
     ]
    }
   ],
   "source": [
    "keys_all['task_name'], keys_all['error'], keys_all['site'] = zip(*keys_all['key'].map(expand_key))"
   ]
  },
  {
   "cell_type": "code",
   "execution_count": 246,
   "metadata": {},
   "outputs": [
    {
     "data": {
      "text/html": [
       "<div>\n",
       "<style scoped>\n",
       "    .dataframe tbody tr th:only-of-type {\n",
       "        vertical-align: middle;\n",
       "    }\n",
       "\n",
       "    .dataframe tbody tr th {\n",
       "        vertical-align: top;\n",
       "    }\n",
       "\n",
       "    .dataframe thead th {\n",
       "        text-align: right;\n",
       "    }\n",
       "</style>\n",
       "<table border=\"1\" class=\"dataframe\">\n",
       "  <thead>\n",
       "    <tr style=\"text-align: right;\">\n",
       "      <th></th>\n",
       "      <th>key</th>\n",
       "    </tr>\n",
       "  </thead>\n",
       "  <tbody>\n",
       "    <tr>\n",
       "      <th>3</th>\n",
       "      <td>(/amaltaro_Run2018A-v1-DoubleMuon-17Sep2018_10...</td>\n",
       "    </tr>\n",
       "    <tr>\n",
       "      <th>4</th>\n",
       "      <td>(/amaltaro_Run2018A-v1-DoubleMuon-17Sep2018_10...</td>\n",
       "    </tr>\n",
       "    <tr>\n",
       "      <th>5</th>\n",
       "      <td>(/amaltaro_Run2018A-v1-DoubleMuon-17Sep2018_10...</td>\n",
       "    </tr>\n",
       "    <tr>\n",
       "      <th>8</th>\n",
       "      <td>(/amaltaro_Run2018A-v1-DoubleMuon-17Sep2018_10...</td>\n",
       "    </tr>\n",
       "    <tr>\n",
       "      <th>9</th>\n",
       "      <td>(/amaltaro_Run2018A-v1-DoubleMuon-17Sep2018_10...</td>\n",
       "    </tr>\n",
       "  </tbody>\n",
       "</table>\n",
       "</div>"
      ],
      "text/plain": [
       "                                                 key\n",
       "3  (/amaltaro_Run2018A-v1-DoubleMuon-17Sep2018_10...\n",
       "4  (/amaltaro_Run2018A-v1-DoubleMuon-17Sep2018_10...\n",
       "5  (/amaltaro_Run2018A-v1-DoubleMuon-17Sep2018_10...\n",
       "8  (/amaltaro_Run2018A-v1-DoubleMuon-17Sep2018_10...\n",
       "9  (/amaltaro_Run2018A-v1-DoubleMuon-17Sep2018_10..."
      ]
     },
     "execution_count": 246,
     "metadata": {},
     "output_type": "execute_result"
    }
   ],
   "source": [
    "keys_non_zero.head()"
   ]
  },
  {
   "cell_type": "code",
   "execution_count": 286,
   "metadata": {},
   "outputs": [],
   "source": [
    "counts = keys_non_zero['error'].value_counts().to_frame('counts')"
   ]
  },
  {
   "cell_type": "code",
   "execution_count": 287,
   "metadata": {},
   "outputs": [
    {
     "data": {
      "text/html": [
       "<div>\n",
       "<style scoped>\n",
       "    .dataframe tbody tr th:only-of-type {\n",
       "        vertical-align: middle;\n",
       "    }\n",
       "\n",
       "    .dataframe tbody tr th {\n",
       "        vertical-align: top;\n",
       "    }\n",
       "\n",
       "    .dataframe thead th {\n",
       "        text-align: right;\n",
       "    }\n",
       "</style>\n",
       "<table border=\"1\" class=\"dataframe\">\n",
       "  <thead>\n",
       "    <tr style=\"text-align: right;\">\n",
       "      <th></th>\n",
       "      <th>counts</th>\n",
       "    </tr>\n",
       "  </thead>\n",
       "  <tbody>\n",
       "    <tr>\n",
       "      <th>92</th>\n",
       "      <td>19933</td>\n",
       "    </tr>\n",
       "    <tr>\n",
       "      <th>85</th>\n",
       "      <td>16854</td>\n",
       "    </tr>\n",
       "    <tr>\n",
       "      <th>99303</th>\n",
       "      <td>11578</td>\n",
       "    </tr>\n",
       "    <tr>\n",
       "      <th>50660</th>\n",
       "      <td>10883</td>\n",
       "    </tr>\n",
       "    <tr>\n",
       "      <th>50664</th>\n",
       "      <td>8526</td>\n",
       "    </tr>\n",
       "    <tr>\n",
       "      <th>71104</th>\n",
       "      <td>8387</td>\n",
       "    </tr>\n",
       "    <tr>\n",
       "      <th>139</th>\n",
       "      <td>5700</td>\n",
       "    </tr>\n",
       "    <tr>\n",
       "      <th>8001</th>\n",
       "      <td>4734</td>\n",
       "    </tr>\n",
       "    <tr>\n",
       "      <th>71305</th>\n",
       "      <td>4510</td>\n",
       "    </tr>\n",
       "    <tr>\n",
       "      <th>99109</th>\n",
       "      <td>3884</td>\n",
       "    </tr>\n",
       "  </tbody>\n",
       "</table>\n",
       "</div>"
      ],
      "text/plain": [
       "       counts\n",
       "92      19933\n",
       "85      16854\n",
       "99303   11578\n",
       "50660   10883\n",
       "50664    8526\n",
       "71104    8387\n",
       "139      5700\n",
       "8001     4734\n",
       "71305    4510\n",
       "99109    3884"
      ]
     },
     "execution_count": 287,
     "metadata": {},
     "output_type": "execute_result"
    }
   ],
   "source": [
    "counts.head(10)"
   ]
  },
  {
   "cell_type": "code",
   "execution_count": 288,
   "metadata": {},
   "outputs": [
    {
     "data": {
      "image/png": "[encoded data removed]",
      "text/plain": [
       "<Figure size 864x360 with 1 Axes>"
      ]
     },
     "metadata": {
      "needs_background": "light"
     },
     "output_type": "display_data"
    }
   ],
   "source": [
    "labels = counts.index\n",
    "x = np.arange(len(labels))\n",
    "y = counts.counts\n",
    "width = 0.35  \n",
    "\n",
    "fig, ax = plt.subplots(figsize=(12,5))\n",
    "rects1 = ax.bar(x, y, width)\n",
    "\n",
    "# Add some text for labels, title and custom x-axis tick labels, etc.\n",
    "ax.set_xlabel('Error codes')\n",
    "ax.set_ylabel('Number')\n",
    "#ax.set_xticks(x)\n",
    "#ax.set_xticklabels(labels)\n",
    "plt.xticks(x, labels, rotation='vertical')\n",
    "ax.legend()\n",
    "\n",
    "fig.tight_layout()\n",
    "\n",
    "#plt.show()\n",
    "plt.savefig('number_errors.png')"
   ]
  },
  {
   "cell_type": "code",
   "execution_count": 279,
   "metadata": {},
   "outputs": [
    {
     "name": "stdout",
     "output_type": "stream",
     "text": [
      "       counts\n",
      "92      19933\n",
      "85      16854\n",
      "99303   11578\n",
      "50660   10883\n",
      "50664    8526\n"
     ]
    }
   ],
   "source": [
    "print counts.head()"
   ]
  },
  {
   "cell_type": "code",
   "execution_count": 289,
   "metadata": {},
   "outputs": [],
   "source": [
    "most_frequent_errors = list(counts.index)"
   ]
  },
  {
   "cell_type": "code",
   "execution_count": 290,
   "metadata": {},
   "outputs": [
    {
     "name": "stdout",
     "output_type": "stream",
     "text": [
      "[u'92', u'85', u'99303', u'50660', u'50664', u'71104', u'139', u'8001', u'71305', u'99109', u'99401', u'84', u'53', u'71304', u'134', u'8003', u'11003', u'73', u'99400', u'80', u'60450', u'70', u'61202', u'8002', u'50115', u'50513', u'71102', u'86', u'71302', u'137', u'8004', u'60307', u'135', u'70452', u'71', u'99996', u'50661', u'8021', u'50110', u'99999', u'99305', u'1', u'7002', u'8028', u'8026', u'76', u'132', u'0', u'87', u'8006', u'50111', u'71101', u'93', u'97', u'70318', u'60405', u'91', u'11001', u'136', u'71303', u'143', u'71103', u'75']\n"
     ]
    }
   ],
   "source": [
    "print most_frequent_errors"
   ]
  },
  {
   "cell_type": "markdown",
   "metadata": {},
   "source": [
    "## 2. Make summary statistics for the sites/errors"
   ]
  },
  {
   "cell_type": "code",
   "execution_count": 295,
   "metadata": {},
   "outputs": [
    {
     "name": "stdout",
     "output_type": "stream",
     "text": [
      "Number of workflows 25090\n",
      "\n",
      "All (task_name, site, error) keys\n",
      "Number of all unique keys: 545863\n",
      "Number of all unique sites: 151\n",
      "Number of all unique errors: 64\n",
      "\n",
      "All (task_name, site, error) keys with error != -1\n",
      "Number of all unique keys: 114134\n",
      "Number of all unique sites: 79\n",
      "Number of all unique errors: 63\n",
      "\n",
      "Most frequent error codes:\n",
      "[u'92', u'85', u'99303', u'50660', u'50664', u'71104']\n"
     ]
    }
   ],
   "source": [
    "# Number of workflows \n",
    "print 'Number of workflows', len(data_index_reset)\n",
    "print\n",
    "# Number of workflows\n",
    "print 'All (task_name, site, error) keys'\n",
    "print 'Number of all unique keys:', len(keys_all)\n",
    "print 'Number of all unique sites:', len(keys_all['site'].unique())\n",
    "print 'Number of all unique errors:', len(keys_all['error'].unique())\n",
    "print\n",
    "print 'All (task_name, site, error) keys with error != -1'\n",
    "print 'Number of all unique keys:', len(keys_non_zero)\n",
    "print 'Number of all unique sites:', len(keys_non_zero['site'].unique())\n",
    "print 'Number of all unique errors:', len(keys_non_zero['error'].unique())\n",
    "print\n",
    "print 'Most frequent error codes:'\n",
    "print most_frequent_errors[0:6]"
   ]
  },
  {
   "cell_type": "markdown",
   "metadata": {},
   "source": [
    "## 3. Load the error messages written out with spark and join with the keys"
   ]
  },
  {
   "cell_type": "code",
   "execution_count": 127,
   "metadata": {},
   "outputs": [],
   "source": [
    "df_msg = pd.read_csv('/eos/user/l/llayer/AIErrorHandling/df_error_msg_exitcodes.csv')"
   ]
  },
  {
   "cell_type": "code",
   "execution_count": 128,
   "metadata": {},
   "outputs": [
    {
     "name": "stdout",
     "output_type": "stream",
     "text": [
      "75 55\n"
     ]
    }
   ],
   "source": [
    "print len(df_msg['site'].unique()), len(df_msg['error'].unique())"
   ]
  },
  {
   "cell_type": "code",
   "execution_count": 129,
   "metadata": {},
   "outputs": [
    {
     "data": {
      "text/html": [
       "<div>\n",
       "<style scoped>\n",
       "    .dataframe tbody tr th:only-of-type {\n",
       "        vertical-align: middle;\n",
       "    }\n",
       "\n",
       "    .dataframe tbody tr th {\n",
       "        vertical-align: top;\n",
       "    }\n",
       "\n",
       "    .dataframe thead th {\n",
       "        text-align: right;\n",
       "    }\n",
       "</style>\n",
       "<table border=\"1\" class=\"dataframe\">\n",
       "  <thead>\n",
       "    <tr style=\"text-align: right;\">\n",
       "      <th></th>\n",
       "      <th>task_name</th>\n",
       "      <th>site</th>\n",
       "      <th>error</th>\n",
       "      <th>error_msg</th>\n",
       "      <th>side_state</th>\n",
       "      <th>action</th>\n",
       "      <th>memory</th>\n",
       "    </tr>\n",
       "  </thead>\n",
       "  <tbody>\n",
       "    <tr>\n",
       "      <th>0</th>\n",
       "      <td>/fabozzi_Run2016D-07Aug17-v1-SingleElectron-17...</td>\n",
       "      <td>T1_US_FNAL_Disk</td>\n",
       "      <td>85</td>\n",
       "      <td>Adding last 25 lines of CMSSW stdout:   775 fi...</td>\n",
       "      <td>bad_site</td>\n",
       "      <td>acdc</td>\n",
       "      <td>NaN</td>\n",
       "    </tr>\n",
       "    <tr>\n",
       "      <th>1</th>\n",
       "      <td>/fabozzi_Run2017B-v1-DoubleMuon-09Oct2017_940p...</td>\n",
       "      <td>T1_RU_JINR</td>\n",
       "      <td>92</td>\n",
       "      <td>Adding last 25 lines of CMSSW stdout: %MSG-w X...</td>\n",
       "      <td>good_site</td>\n",
       "      <td>acdc</td>\n",
       "      <td>NaN</td>\n",
       "    </tr>\n",
       "    <tr>\n",
       "      <th>2</th>\n",
       "      <td>/fabozzi_Run2017F-v1-DoubleEG-17Nov2017_940_17...</td>\n",
       "      <td>T2_UK_London_Brunel</td>\n",
       "      <td>99109</td>\n",
       "      <td>Error in StageOut: 99109 &lt;@========== WMExcept...</td>\n",
       "      <td>good_site</td>\n",
       "      <td>acdc</td>\n",
       "      <td>NaN</td>\n",
       "    </tr>\n",
       "    <tr>\n",
       "      <th>3</th>\n",
       "      <td>/fabozzi_Run2017F-v1-DoubleMuon-09May2018_947_...</td>\n",
       "      <td>T2_US_MIT</td>\n",
       "      <td>8004</td>\n",
       "      <td>An exception of category 'BadAlloc' occurred w...</td>\n",
       "      <td>good_site</td>\n",
       "      <td>acdc</td>\n",
       "      <td>180000.0</td>\n",
       "    </tr>\n",
       "    <tr>\n",
       "      <th>4</th>\n",
       "      <td>/fabozzi_Run2017H-v1-FSQJet2-17Nov2017_944_180...</td>\n",
       "      <td>T2_US_Nebraska</td>\n",
       "      <td>92</td>\n",
       "      <td>Adding last 25 lines of CMSSW stdout: [2018-04...</td>\n",
       "      <td>good_site</td>\n",
       "      <td>acdc</td>\n",
       "      <td>NaN</td>\n",
       "    </tr>\n",
       "  </tbody>\n",
       "</table>\n",
       "</div>"
      ],
      "text/plain": [
       "                                           task_name                 site  \\\n",
       "0  /fabozzi_Run2016D-07Aug17-v1-SingleElectron-17...      T1_US_FNAL_Disk   \n",
       "1  /fabozzi_Run2017B-v1-DoubleMuon-09Oct2017_940p...           T1_RU_JINR   \n",
       "2  /fabozzi_Run2017F-v1-DoubleEG-17Nov2017_940_17...  T2_UK_London_Brunel   \n",
       "3  /fabozzi_Run2017F-v1-DoubleMuon-09May2018_947_...            T2_US_MIT   \n",
       "4  /fabozzi_Run2017H-v1-FSQJet2-17Nov2017_944_180...       T2_US_Nebraska   \n",
       "\n",
       "   error                                          error_msg side_state action  \\\n",
       "0     85  Adding last 25 lines of CMSSW stdout:   775 fi...   bad_site   acdc   \n",
       "1     92  Adding last 25 lines of CMSSW stdout: %MSG-w X...  good_site   acdc   \n",
       "2  99109  Error in StageOut: 99109 <@========== WMExcept...  good_site   acdc   \n",
       "3   8004  An exception of category 'BadAlloc' occurred w...  good_site   acdc   \n",
       "4     92  Adding last 25 lines of CMSSW stdout: [2018-04...  good_site   acdc   \n",
       "\n",
       "     memory  \n",
       "0       NaN  \n",
       "1       NaN  \n",
       "2       NaN  \n",
       "3  180000.0  \n",
       "4       NaN  "
      ]
     },
     "execution_count": 129,
     "metadata": {},
     "output_type": "execute_result"
    }
   ],
   "source": [
    "df_msg.head()"
   ]
  },
  {
   "cell_type": "code",
   "execution_count": 130,
   "metadata": {},
   "outputs": [],
   "source": [
    "df_msg.error = df_msg.error.astype(int)"
   ]
  },
  {
   "cell_type": "code",
   "execution_count": 131,
   "metadata": {},
   "outputs": [],
   "source": [
    "keys_non_zero.error = keys_non_zero.error.astype(int)"
   ]
  },
  {
   "cell_type": "code",
   "execution_count": 139,
   "metadata": {},
   "outputs": [],
   "source": [
    "df = pd.merge(keys_non_zero , df_msg, on = ['task_name', 'site', 'error'], how='left')"
   ]
  },
  {
   "cell_type": "code",
   "execution_count": 140,
   "metadata": {},
   "outputs": [
    {
     "data": {
      "text/plain": [
       "94139"
      ]
     },
     "execution_count": 140,
     "metadata": {},
     "output_type": "execute_result"
    }
   ],
   "source": [
    "len(df_msg)"
   ]
  },
  {
   "cell_type": "code",
   "execution_count": 141,
   "metadata": {},
   "outputs": [
    {
     "data": {
      "text/plain": [
       "114282"
      ]
     },
     "execution_count": 141,
     "metadata": {},
     "output_type": "execute_result"
    }
   ],
   "source": [
    "len(df)"
   ]
  },
  {
   "cell_type": "code",
   "execution_count": 135,
   "metadata": {},
   "outputs": [
    {
     "data": {
      "text/html": [
       "<div>\n",
       "<style scoped>\n",
       "    .dataframe tbody tr th:only-of-type {\n",
       "        vertical-align: middle;\n",
       "    }\n",
       "\n",
       "    .dataframe tbody tr th {\n",
       "        vertical-align: top;\n",
       "    }\n",
       "\n",
       "    .dataframe thead th {\n",
       "        text-align: right;\n",
       "    }\n",
       "</style>\n",
       "<table border=\"1\" class=\"dataframe\">\n",
       "  <thead>\n",
       "    <tr style=\"text-align: right;\">\n",
       "      <th></th>\n",
       "      <th>key</th>\n",
       "      <th>task_name</th>\n",
       "      <th>error</th>\n",
       "      <th>site</th>\n",
       "      <th>error_msg</th>\n",
       "      <th>side_state</th>\n",
       "      <th>action</th>\n",
       "      <th>memory</th>\n",
       "    </tr>\n",
       "  </thead>\n",
       "  <tbody>\n",
       "    <tr>\n",
       "      <th>0</th>\n",
       "      <td>(/amaltaro_Run2018A-v1-DoubleMuon-17Sep2018_10...</td>\n",
       "      <td>/amaltaro_Run2018A-v1-DoubleMuon-17Sep2018_102...</td>\n",
       "      <td>85</td>\n",
       "      <td>T1_UK_RAL</td>\n",
       "      <td>Adding last 25 lines of CMSSW stdout:  - Min e...</td>\n",
       "      <td>good_site</td>\n",
       "      <td>acdc</td>\n",
       "      <td>NaN</td>\n",
       "    </tr>\n",
       "    <tr>\n",
       "      <th>1</th>\n",
       "      <td>(/amaltaro_Run2018A-v1-DoubleMuon-17Sep2018_10...</td>\n",
       "      <td>/amaltaro_Run2018A-v1-DoubleMuon-17Sep2018_102...</td>\n",
       "      <td>50664</td>\n",
       "      <td>T2_DE_RWTH</td>\n",
       "      <td>Error in CMSSW step cmsRun1 Number of Cores: 1...</td>\n",
       "      <td>good_site</td>\n",
       "      <td>acdc</td>\n",
       "      <td>NaN</td>\n",
       "    </tr>\n",
       "    <tr>\n",
       "      <th>2</th>\n",
       "      <td>(/amaltaro_Run2018A-v1-DoubleMuon-17Sep2018_10...</td>\n",
       "      <td>/amaltaro_Run2018A-v1-DoubleMuon-17Sep2018_102...</td>\n",
       "      <td>50664</td>\n",
       "      <td>T2_DE_RWTH</td>\n",
       "      <td>Error in CMSSW step cmsRun1 Number of Cores: 1...</td>\n",
       "      <td>good_site</td>\n",
       "      <td>acdc</td>\n",
       "      <td>NaN</td>\n",
       "    </tr>\n",
       "    <tr>\n",
       "      <th>3</th>\n",
       "      <td>(/amaltaro_Run2018A-v1-DoubleMuon-17Sep2018_10...</td>\n",
       "      <td>/amaltaro_Run2018A-v1-DoubleMuon-17Sep2018_102...</td>\n",
       "      <td>99400</td>\n",
       "      <td>NoReportedSite</td>\n",
       "      <td>Could not find jobReport  ========== condor.29...</td>\n",
       "      <td>bad_site</td>\n",
       "      <td>acdc</td>\n",
       "      <td>NaN</td>\n",
       "    </tr>\n",
       "    <tr>\n",
       "      <th>4</th>\n",
       "      <td>(/amaltaro_Run2018A-v1-DoubleMuon-17Sep2018_10...</td>\n",
       "      <td>/amaltaro_Run2018A-v1-DoubleMuon-17Sep2018_102...</td>\n",
       "      <td>50664</td>\n",
       "      <td>T2_DE_RWTH</td>\n",
       "      <td>Error in CMSSW step cmsRun1 Number of Cores: 1...</td>\n",
       "      <td>good_site</td>\n",
       "      <td>acdc</td>\n",
       "      <td>NaN</td>\n",
       "    </tr>\n",
       "  </tbody>\n",
       "</table>\n",
       "</div>"
      ],
      "text/plain": [
       "                                                 key  \\\n",
       "0  (/amaltaro_Run2018A-v1-DoubleMuon-17Sep2018_10...   \n",
       "1  (/amaltaro_Run2018A-v1-DoubleMuon-17Sep2018_10...   \n",
       "2  (/amaltaro_Run2018A-v1-DoubleMuon-17Sep2018_10...   \n",
       "3  (/amaltaro_Run2018A-v1-DoubleMuon-17Sep2018_10...   \n",
       "4  (/amaltaro_Run2018A-v1-DoubleMuon-17Sep2018_10...   \n",
       "\n",
       "                                           task_name  error            site  \\\n",
       "0  /amaltaro_Run2018A-v1-DoubleMuon-17Sep2018_102...     85       T1_UK_RAL   \n",
       "1  /amaltaro_Run2018A-v1-DoubleMuon-17Sep2018_102...  50664      T2_DE_RWTH   \n",
       "2  /amaltaro_Run2018A-v1-DoubleMuon-17Sep2018_102...  50664      T2_DE_RWTH   \n",
       "3  /amaltaro_Run2018A-v1-DoubleMuon-17Sep2018_102...  99400  NoReportedSite   \n",
       "4  /amaltaro_Run2018A-v1-DoubleMuon-17Sep2018_102...  50664      T2_DE_RWTH   \n",
       "\n",
       "                                           error_msg side_state action  memory  \n",
       "0  Adding last 25 lines of CMSSW stdout:  - Min e...  good_site   acdc     NaN  \n",
       "1  Error in CMSSW step cmsRun1 Number of Cores: 1...  good_site   acdc     NaN  \n",
       "2  Error in CMSSW step cmsRun1 Number of Cores: 1...  good_site   acdc     NaN  \n",
       "3  Could not find jobReport  ========== condor.29...   bad_site   acdc     NaN  \n",
       "4  Error in CMSSW step cmsRun1 Number of Cores: 1...  good_site   acdc     NaN  "
      ]
     },
     "execution_count": 135,
     "metadata": {},
     "output_type": "execute_result"
    }
   ],
   "source": [
    "df.head()"
   ]
  },
  {
   "cell_type": "code",
   "execution_count": 136,
   "metadata": {},
   "outputs": [
    {
     "name": "stdout",
     "output_type": "stream",
     "text": [
      "75 55\n"
     ]
    }
   ],
   "source": [
    "print len(df['site'].unique()), len(df['error'].unique())"
   ]
  },
  {
   "cell_type": "code",
   "execution_count": 215,
   "metadata": {},
   "outputs": [],
   "source": [
    "def plot_found_messages(df_merged, col):\n",
    "    \n",
    "    df_has_msg = df_merged[df_merged['error_msg'].isna() == False]\n",
    "    df_no_msg = df_merged[df_merged['error_msg'].isna() == True]\n",
    "\n",
    "    frac = float(len(df_has_msg)) / float(len(df_merged))\n",
    "    \n",
    "    error_has_msg = df_has_msg['task_name'].groupby([df_has_msg[col]]).size().to_frame('has_msg')\n",
    "    error_no_msg = df_no_msg['task_name'].groupby([df_no_msg[col]]).size().to_frame('no_msg')\n",
    "    \n",
    "    merged = pd.merge(error_has_msg , error_no_msg, on = [col], how='outer').fillna(0.).reset_index()\n",
    "    \n",
    "    def get_frac(row):\n",
    "        \n",
    "        has_msg = row['has_msg']\n",
    "        no_msg = row['no_msg']\n",
    "        return has_msg / float(has_msg + no_msg)\n",
    "    \n",
    "    merged['frac'] = merged.apply(lambda x: get_frac(x), axis=1)\n",
    "    return merged, frac"
   ]
  },
  {
   "cell_type": "code",
   "execution_count": 219,
   "metadata": {},
   "outputs": [],
   "source": [
    "error, frac = plot_found_messages(df, 'error')"
   ]
  },
  {
   "cell_type": "code",
   "execution_count": 261,
   "metadata": {},
   "outputs": [
    {
     "data": {
      "image/png": "[encoded data removed]",
      "text/plain": [
       "<Figure size 720x360 with 1 Axes>"
      ]
     },
     "metadata": {
      "needs_background": "light"
     },
     "output_type": "display_data"
    }
   ],
   "source": [
    "from matplotlib.pyplot import hist\n",
    "import matplotlib.pyplot as plt\n",
    "import numpy as np\n",
    "\n",
    "plt.rcParams.update({'font.size': 12})\n",
    "\n",
    "labels = error.error\n",
    "x = np.arange(len(labels))\n",
    "y = error.frac\n",
    "width = 0.35  \n",
    "\n",
    "fig, ax = plt.subplots(figsize=(10,5))\n",
    "rects1 = ax.bar(x, y, width)\n",
    "\n",
    "# Add some text for labels, title and custom x-axis tick labels, etc.\n",
    "ax.set_xlabel('Error codes')\n",
    "ax.set_ylabel('Fraction of found messages')\n",
    "ax.set_title('Total fraction of messages found: ' + str(frac))\n",
    "#ax.set_xticks(x)\n",
    "#ax.set_xticklabels(labels)\n",
    "plt.xticks(x, labels, rotation='vertical')\n",
    "ax.legend()\n",
    "\n",
    "fig.tight_layout()\n",
    "\n",
    "#plt.show()\n",
    "plt.savefig('errors.png')"
   ]
  },
  {
   "cell_type": "code",
   "execution_count": 224,
   "metadata": {},
   "outputs": [],
   "source": [
    "sites, frac = plot_found_messages(df, 'site')"
   ]
  },
  {
   "cell_type": "code",
   "execution_count": 262,
   "metadata": {},
   "outputs": [
    {
     "data": {
      "image/png": "[encoded data removed]",
      "text/plain": [
       "<Figure size 1080x720 with 1 Axes>"
      ]
     },
     "metadata": {
      "needs_background": "light"
     },
     "output_type": "display_data"
    }
   ],
   "source": [
    "labels = sites.site\n",
    "x = np.arange(len(labels))\n",
    "y = sites.frac\n",
    "width = 0.35  \n",
    "\n",
    "fig, ax = plt.subplots(figsize=(15,10))\n",
    "rects1 = ax.bar(x, y, width)\n",
    "\n",
    "# Add some text for labels, title and custom x-axis tick labels, etc.\n",
    "ax.set_xlabel('Sites')\n",
    "ax.set_ylabel('Fraction of found messages')\n",
    "ax.set_title('Total fraction of messages found: ' + str(frac))\n",
    "#ax.set_xticks(x)\n",
    "#ax.set_xticklabels(labels)\n",
    "plt.xticks(x, labels, rotation='vertical')\n",
    "ax.legend()\n",
    "\n",
    "fig.tight_layout()\n",
    "\n",
    "#plt.show()\n",
    "plt.savefig('sites.png')"
   ]
  },
  {
   "cell_type": "code",
   "execution_count": null,
   "metadata": {},
   "outputs": [],
   "source": []
  }
 ],
 "metadata": {
  "kernelspec": {
   "display_name": "Python 2",
   "language": "python",
   "name": "python2"
  },
  "language_info": {
   "codemirror_mode": {
    "name": "ipython",
    "version": 2
   },
   "file_extension": ".py",
   "mimetype": "text/x-python",
   "name": "python",
   "nbconvert_exporter": "python",
   "pygments_lexer": "ipython2",
   "version": "2.7.16"
  }
 },
 "nbformat": 4,
 "nbformat_minor": 2
}
