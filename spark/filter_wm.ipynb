{
 "cells": [
  {
   "cell_type": "markdown",
   "metadata": {},
   "source": [
    "# Write the messages to pandas frames"
   ]
  },
  {
   "cell_type": "markdown",
   "metadata": {},
   "source": [
    "## 1. Load data and filter "
   ]
  },
  {
   "cell_type": "code",
   "execution_count": 91,
   "metadata": {},
   "outputs": [
    {
     "name": "stdout",
     "output_type": "stream",
     "text": [
      "19/08/05 13:50:14 WARN ipc.Client: Exception encountered while connecting to the server : org.apache.hadoop.ipc.RemoteException(org.apache.hadoop.ipc.StandbyException): Operation category READ is not supported in state standby. Visit https://s.apache.org/sbnn-error\n",
      "Found 22 items\n",
      "-rw-r--r--   3 llayer zh   81467745 2019-05-08 17:46 hdfs:///cms/users/llayer/actionhist.csv\n",
      "-rw-r--r--   3 llayer zh   34737856 2019-05-08 16:47 hdfs:///cms/users/llayer/actionshist.h5\n",
      "-rw-r--r--   3 llayer zh   20926756 2019-03-06 14:07 hdfs:///cms/users/llayer/actionshistory.json\n",
      "drwxr-xr-x   - llayer zh          0 2019-05-19 18:47 hdfs:///cms/users/llayer/debug0.csv\n",
      "drwxr-xr-x   - llayer zh          0 2019-05-20 16:48 hdfs:///cms/users/llayer/debug1.csv\n",
      "drwxr-xr-x   - llayer zh          0 2019-05-20 19:05 hdfs:///cms/users/llayer/debug2.csv\n",
      "drwxr-xr-x   - llayer zh          0 2019-05-20 19:09 hdfs:///cms/users/llayer/debug3.csv\n",
      "drwxr-xr-x   - llayer zh          0 2019-05-20 19:23 hdfs:///cms/users/llayer/debug4.csv\n",
      "drwxr-xr-x   - llayer zh          0 2019-05-20 19:35 hdfs:///cms/users/llayer/debug5.csv\n",
      "drwxr-xr-x   - llayer zh          0 2019-05-20 18:30 hdfs:///cms/users/llayer/df_reduced_codes.csv\n",
      "drwxr-xr-x   - llayer zh          0 2019-05-20 18:47 hdfs:///cms/users/llayer/df_reduced_codes2.csv\n",
      "drwxr-xr-x   - llayer zh          0 2019-03-06 15:42 hdfs:///cms/users/llayer/example.csv\n",
      "drwxr-xr-x   - llayer zh          0 2019-04-25 00:25 hdfs:///cms/users/llayer/fail_test.csv\n",
      "-rw-r--r--   3 llayer zh        252 2019-03-06 15:27 hdfs:///cms/users/llayer/failing_log_0.spec\n",
      "-rw-r--r--   3 llayer zh    4159974 2019-03-08 15:49 hdfs:///cms/users/llayer/failing_tasks.csv\n",
      "drwxr-xr-x   - llayer zh          0 2019-08-04 19:08 hdfs:///cms/users/llayer/single_writeout_010117_101117.csv\n",
      "drwxr-xr-x   - llayer zh          0 2019-08-04 17:53 hdfs:///cms/users/llayer/single_writeout_020710_080119.csv\n",
      "drwxr-xr-x   - llayer zh          0 2019-08-04 18:10 hdfs:///cms/users/llayer/single_writeout_060118_020719.csv\n",
      "drwxr-xr-x   - llayer zh          0 2019-08-04 18:25 hdfs:///cms/users/llayer/single_writeout_101117_060118.csv\n",
      "drwxr-xr-x   - llayer zh          0 2019-08-04 17:10 hdfs:///cms/users/llayer/test_full_writeout.csv\n",
      "drwxr-xr-x   - llayer zh          0 2019-05-12 19:58 hdfs:///cms/users/llayer/test_word2vec.csv\n",
      "drwxr-xr-x   - llayer zh          0 2019-05-13 17:27 hdfs:///cms/users/llayer/test_word2vec2.csv\n"
     ]
    }
   ],
   "source": [
    "! hdfs dfs -ls hdfs:///cms/users/llayer/"
   ]
  },
  {
   "cell_type": "code",
   "execution_count": null,
   "metadata": {},
   "outputs": [],
   "source": [
    "! hdfs dfs -rm -r -skipTrash hdfs:///cms/users/llayer/output*"
   ]
  },
  {
   "cell_type": "code",
   "execution_count": 7,
   "metadata": {},
   "outputs": [],
   "source": [
    "import filter_messages"
   ]
  },
  {
   "cell_type": "code",
   "execution_count": 5,
   "metadata": {},
   "outputs": [
    {
     "data": {
      "text/plain": [
       "<module 'filter_messages' from 'filter_messages.pyc'>"
      ]
     },
     "execution_count": 5,
     "metadata": {},
     "output_type": "execute_result"
    }
   ],
   "source": [
    "reload(filter_messages)"
   ]
  },
  {
   "cell_type": "code",
   "execution_count": 1,
   "metadata": {},
   "outputs": [],
   "source": [
    "# Load the data\n",
    "timerange = [20170101, 20171009]\n",
    "#timerange = [20180601, 20181101]\n",
    "#timerange = [20181101, 20190207]\n",
    "#timerange = [20171011, 20180301]\n",
    "#timerange = [20180301, 20180601]\n",
    "#avro_rdd = filter_messages.load_data(sc, timerange)"
   ]
  },
  {
   "cell_type": "code",
   "execution_count": 2,
   "metadata": {},
   "outputs": [],
   "source": [
    "# filter the tasks - keep only failing \n",
    "def get_failing(row):\n",
    "    rec = row[0]\n",
    "    meta = rec.get('meta_data', {})\n",
    "    if meta.get('jobstate', '') != 'jobfailed':\n",
    "        return False\n",
    "    return True\n",
    "\n",
    "\n",
    "def map_to_KV(row):\n",
    "    \n",
    "    # Assume that the first error code per step is the correct one\n",
    "    rec = row[0]\n",
    "    task = rec[\"task\"]\n",
    "    steps = rec.get('steps', [])\n",
    "    \n",
    "    exit_code_first = []\n",
    "    sites = []\n",
    "    exit_codes = []\n",
    "    error_msg = []\n",
    "    error_type = []\n",
    "    steps_counter = []\n",
    "    names = []\n",
    "    peakvaluerss = []\n",
    "    peakvaluevsize = []\n",
    "    writeTotalMB = []\n",
    "    readPercentageOps = []\n",
    "    readAveragekB = []\n",
    "    readTotalMB = []\n",
    "    readNumOps = []\n",
    "    readCachePercentageOps = []\n",
    "    readMBSec = []\n",
    "    writeTotalSecs = []\n",
    "    readTotalSecs = []\n",
    "    readMaxMSec = []\n",
    "    TotalJobCPU = []\n",
    "    NumberOfStreams = []\n",
    "    TotalInitCPU = []\n",
    "    TotalEventCPU = []\n",
    "    AvgEventCPU = []\n",
    "    EventThroughput = []\n",
    "    TotalInitTime = []\n",
    "    AvgEventTime = []\n",
    "    NumberOfThreads = []\n",
    "    MinEventCPU = []\n",
    "    MaxEventTime = []\n",
    "    TotalJobTime = []\n",
    "    TotalLoopCPU = []\n",
    "    MinEventTime = []\n",
    "    MaxEventCPU = []\n",
    "    \n",
    "    \n",
    "    \n",
    "    for counter, step in enumerate(steps):\n",
    "        errors = step['errors']\n",
    "        \n",
    "        if len(errors) > 0:\n",
    "            # Save the first exit code per step\n",
    "            exit_code_first.append(errors[0]['exitCode'])\n",
    "            # Save the site\n",
    "            sites.append( step.get('site','') )\n",
    "            # Save the step number\n",
    "            #steps.append(counter)\n",
    "            # Save the name\n",
    "            #names.append( step.get('name', '') )\n",
    "            \n",
    "            # Loop over the errors\n",
    "            for error in errors:\n",
    "                                   \n",
    "                exit_codes.append(error['exitCode'])\n",
    "                steps_counter.append(counter)\n",
    "                names.append( step.get('name', '') )\n",
    "                error_type.append( error['type'] )\n",
    "                error_msg.append( error['details'].replace(\"\\n\", \" \").replace('\\r', ' ') )\n",
    "                \n",
    "                \n",
    "                # Save memory\n",
    "                for k,v in step['performance']['memory'].iteritems():\n",
    "                    \n",
    "                    value = -1. if v is None else v\n",
    "                    if k == 'PeakValueVsize':\n",
    "                        peakvaluevsize.append(value)\n",
    "                    if k == 'PeakValueRss':\n",
    "                        peakvaluerss.append(value)\n",
    "                \n",
    "                # Save storage\n",
    "                for k,v in step['performance']['storage'].iteritems():\n",
    "                    \n",
    "                    value = -1. if v is None else v\n",
    "                    if k == 'writeTotalMB':\n",
    "                        writeTotalMB.append(value)\n",
    "                    if k == 'readPercentageOps':\n",
    "                        readPercentageOps.append(value)                        \n",
    "                    if k == 'readAveragekB':\n",
    "                        readAveragekB.append(value)\n",
    "                    if k == 'readTotalMB':\n",
    "                        readTotalMB.append(value)                     \n",
    "                    if k == 'readNumOps':\n",
    "                        readNumOps.append(value)\n",
    "                    if k == 'readCachePercentageOps':\n",
    "                        readCachePercentageOps.append(value)                        \n",
    "                    if k == 'writeTotalSecs':\n",
    "                        writeTotalSecs.append(value)\n",
    "                    if k == 'readMBSec':\n",
    "                        readMBSec.append(value)                  \n",
    "                    if k == 'readTotalSecs':\n",
    "                        readTotalSecs.append(value)\n",
    "                    if k == 'readMaxMSec':\n",
    "                        readMaxMSec.append(value)                  \n",
    "\n",
    "                # Save cpu\n",
    "                for k,v in step['performance']['cpu'].iteritems():\n",
    "                    \n",
    "                    value = -1. if v is None else v\n",
    "                    if k == 'TotalJobCPU':\n",
    "                        TotalJobCPU.append(value)\n",
    "                    if k == 'NumberOfStreams':\n",
    "                        NumberOfStreams.append(value)  \n",
    "                    if k == 'TotalInitCPU':\n",
    "                        TotalInitCPU.append(value)\n",
    "                    if k == 'TotalEventCPU':\n",
    "                        TotalEventCPU.append(value)                 \n",
    "                    if k == 'AvgEventCPU':\n",
    "                        AvgEventCPU.append(value)\n",
    "                    if k == 'EventThroughput':\n",
    "                        EventThroughput.append(value)  \n",
    "                    if k == 'TotalInitTime':\n",
    "                        TotalInitTime.append(value)\n",
    "                    if k == 'AvgEventTime':\n",
    "                        AvgEventTime.append(value)                  \n",
    "                    if k == 'NumberOfThreads':\n",
    "                        NumberOfThreads.append(value)\n",
    "                    if k == 'MinEventCPU':\n",
    "                        MinEventCPU.append(value)  \n",
    "                    if k == 'MaxEventTime':\n",
    "                        MaxEventTime.append(value)\n",
    "                    if k == 'TotalJobTime':\n",
    "                        TotalJobTime.append(value)\n",
    "                    if k == 'TotalLoopCPU':\n",
    "                        TotalLoopCPU.append(value)  \n",
    "                    if k == 'MinEventTime':\n",
    "                        MinEventTime.append(value)\n",
    "                    if k == 'MaxEventCPU':\n",
    "                        MaxEventCPU.append(value)          \n",
    "                        \n",
    "                        \n",
    "    # Hack for the 2017 schema\n",
    "    if len(NumberOfStreams) == 0:\n",
    "        for i in range(len(AvgEventCPU)):\n",
    "            NumberOfStreams.append(-1.)\n",
    "            TotalInitCPU.append(-1.) \n",
    "            TotalInitTime.append(-1.) \n",
    "            NumberOfThreads.append(-1.)\n",
    "    \n",
    "    res = (exit_codes, error_msg, error_type, steps_counter, names, peakvaluerss, peakvaluevsize, writeTotalMB, \n",
    "           readPercentageOps, readAveragekB, readTotalMB, readNumOps, readCachePercentageOps, readMBSec, writeTotalSecs, \n",
    "           readTotalSecs, readMaxMSec, TotalJobCPU, NumberOfStreams, TotalInitCPU, TotalEventCPU, AvgEventCPU, \n",
    "           EventThroughput, TotalInitTime, AvgEventTime, NumberOfThreads, MinEventCPU, MaxEventTime, \n",
    "           TotalJobTime, TotalLoopCPU, MinEventTime,MaxEventCPU)\n",
    "        \n",
    "    return [((task, e, s), res) for e, s in zip(exit_codes, sites)]\n",
    "\n",
    "\n",
    "def map_to_frame_format(row):\n",
    "    keys = row[0]\n",
    "    rec = row[1]\n",
    "    \n",
    "    variables = zip(*rec)\n",
    "    \n",
    "    return [keys + var for var in variables]"
   ]
  },
  {
   "cell_type": "code",
   "execution_count": 3,
   "metadata": {},
   "outputs": [],
   "source": [
    "def filter_wmentries(wmarchive_entries):\n",
    "    \n",
    "    # Filter the data\n",
    "    failing_workflows = wmarchive_entries.filter(lambda x : get_failing(x)) \\\n",
    "                        .flatMap(lambda x : map_to_KV(x))\n",
    "    # Reduce redundant keys\n",
    "    one_message_per_key = failing_workflows.reduceByKey(lambda x,y: (x))\n",
    "    one_message_per_key_flat = one_message_per_key.flatMap(lambda x: map_to_frame_format(x))\n",
    "    \n",
    "    df_names = [\"task_name\", \"error\", \"site\", \"exit_codes\", \"error_msg\", \"error_type\", \"steps_counter\", \"names\",\n",
    "            \"peakvaluerss\", \"peakvaluevsize\" , \"writeTotalMB\", \"readPercentageOps\", \"readAveragekB\", \"readTotalMB\",\n",
    "            \"readNumOps\", \"readCachePercentageOps\", \"readMBSec\", \"writeTotalSecs\", \"readTotalSecs\", \"readMaxMSec\",\n",
    "            \"TotalJobCPU\", \"NumberOfStreams\", \"TotalInitCPU\", \"TotalEventCPU\", \"AvgEventCPU\", \"EventThroughput\", \n",
    "            \"TotalInitTime\", \"AvgEventTime\", \"NumberOfThreads\", \"MinEventCPU\", \"MaxEventTime\", \"TotalJobTime\",\n",
    "            \"TotalLoopCPU\", \"MinEventTime\", \"MaxEventCPU\" ]\n",
    "    \n",
    "    df = one_message_per_key_flat.toDF(df_names)\n",
    "    return df"
   ]
  },
  {
   "cell_type": "code",
   "execution_count": 19,
   "metadata": {},
   "outputs": [],
   "source": []
  },
  {
   "cell_type": "code",
   "execution_count": null,
   "metadata": {},
   "outputs": [],
   "source": []
  },
  {
   "cell_type": "code",
   "execution_count": null,
   "metadata": {},
   "outputs": [],
   "source": []
  },
  {
   "cell_type": "markdown",
   "metadata": {},
   "source": [
    "## 2. Join with the actionshistory keys and write do pandas"
   ]
  },
  {
   "cell_type": "code",
   "execution_count": 4,
   "metadata": {},
   "outputs": [],
   "source": [
    "from pyspark import SQLContext, StorageLevel\n",
    "sql = SQLContext(sc)\n",
    "labeled_failing_tasks = (sql.read\n",
    "     .format(\"com.databricks.spark.csv\")\n",
    "     .option(\"header\", \"true\")\n",
    "     .load(\"actionshistory_300719.csv\"))\n",
    "from pyspark.sql.types import IntegerType\n",
    "labeled_failing_tasks = labeled_failing_tasks.withColumn(\"error\", labeled_failing_tasks[\"error\"].cast(IntegerType()))"
   ]
  },
  {
   "cell_type": "code",
   "execution_count": 8,
   "metadata": {},
   "outputs": [],
   "source": [
    "def join_to_pandas( timerange, store = True):\n",
    "    \n",
    "    avro_rdd = filter_messages.load_data(sc, timerange)\n",
    "    df = filter_wmentries( avro_rdd )\n",
    "    df_pandas = df.join(labeled_failing_tasks, ['task_name', 'error', 'site']).toPandas()\n",
    "    \n",
    "    if store == True:\n",
    "        t1, t2 = str(timerange[0]), str(timerange[1])\n",
    "        df_pandas.to_hdf( 'messages_filtered_' + t1 + '_' + t2 + '.h5', 'frame' )\n",
    "        \n",
    "    return df_pandas"
   ]
  },
  {
   "cell_type": "code",
   "execution_count": 9,
   "metadata": {},
   "outputs": [
    {
     "name": "stdout",
     "output_type": "stream",
     "text": [
      "[20170101, 20171009]\n",
      "['hdfs:///cms/wmarchive/avro/fwjr/2017/01/01', 'hdfs:///cms/wmarchive/avro/fwjr/2017/01/02', 'hdfs:///cms/wmarchive/avro/fwjr/2017/01/03', 'hdfs:///cms/wmarchive/avro/fwjr/2017/01/04', 'hdfs:///cms/wmarchive/avro/fwjr/2017/01/05', 'hdfs:///cms/wmarchive/avro/fwjr/2017/01/06', 'hdfs:///cms/wmarchive/avro/fwjr/2017/01/07', 'hdfs:///cms/wmarchive/avro/fwjr/2017/01/08', 'hdfs:///cms/wmarchive/avro/fwjr/2017/01/09', 'hdfs:///cms/wmarchive/avro/fwjr/2017/01/10', 'hdfs:///cms/wmarchive/avro/fwjr/2017/01/11', 'hdfs:///cms/wmarchive/avro/fwjr/2017/01/12', 'hdfs:///cms/wmarchive/avro/fwjr/2017/01/13', 'hdfs:///cms/wmarchive/avro/fwjr/2017/01/14', 'hdfs:///cms/wmarchive/avro/fwjr/2017/01/15', 'hdfs:///cms/wmarchive/avro/fwjr/2017/01/16', 'hdfs:///cms/wmarchive/avro/fwjr/2017/01/17', 'hdfs:///cms/wmarchive/avro/fwjr/2017/01/18', 'hdfs:///cms/wmarchive/avro/fwjr/2017/01/19', 'hdfs:///cms/wmarchive/avro/fwjr/2017/01/20', 'hdfs:///cms/wmarchive/avro/fwjr/2017/01/21', 'hdfs:///cms/wmarchive/avro/fwjr/2017/01/22', 'hdfs:///cms/wmarchive/avro/fwjr/2017/01/23', 'hdfs:///cms/wmarchive/avro/fwjr/2017/01/24', 'hdfs:///cms/wmarchive/avro/fwjr/2017/01/25', 'hdfs:///cms/wmarchive/avro/fwjr/2017/01/26', 'hdfs:///cms/wmarchive/avro/fwjr/2017/01/27', 'hdfs:///cms/wmarchive/avro/fwjr/2017/01/28', 'hdfs:///cms/wmarchive/avro/fwjr/2017/01/29', 'hdfs:///cms/wmarchive/avro/fwjr/2017/01/30', 'hdfs:///cms/wmarchive/avro/fwjr/2017/01/31', 'hdfs:///cms/wmarchive/avro/fwjr/2017/02/01', 'hdfs:///cms/wmarchive/avro/fwjr/2017/02/02', 'hdfs:///cms/wmarchive/avro/fwjr/2017/02/03', 'hdfs:///cms/wmarchive/avro/fwjr/2017/02/04', 'hdfs:///cms/wmarchive/avro/fwjr/2017/02/07', 'hdfs:///cms/wmarchive/avro/fwjr/2017/02/08', 'hdfs:///cms/wmarchive/avro/fwjr/2017/02/09', 'hdfs:///cms/wmarchive/avro/fwjr/2017/02/10', 'hdfs:///cms/wmarchive/avro/fwjr/2017/02/11', 'hdfs:///cms/wmarchive/avro/fwjr/2017/02/12', 'hdfs:///cms/wmarchive/avro/fwjr/2017/02/13', 'hdfs:///cms/wmarchive/avro/fwjr/2017/02/14', 'hdfs:///cms/wmarchive/avro/fwjr/2017/02/15', 'hdfs:///cms/wmarchive/avro/fwjr/2017/02/16', 'hdfs:///cms/wmarchive/avro/fwjr/2017/02/17', 'hdfs:///cms/wmarchive/avro/fwjr/2017/02/18', 'hdfs:///cms/wmarchive/avro/fwjr/2017/02/19', 'hdfs:///cms/wmarchive/avro/fwjr/2017/02/20', 'hdfs:///cms/wmarchive/avro/fwjr/2017/02/21', 'hdfs:///cms/wmarchive/avro/fwjr/2017/02/22', 'hdfs:///cms/wmarchive/avro/fwjr/2017/02/23', 'hdfs:///cms/wmarchive/avro/fwjr/2017/02/24', 'hdfs:///cms/wmarchive/avro/fwjr/2017/02/25', 'hdfs:///cms/wmarchive/avro/fwjr/2017/02/26', 'hdfs:///cms/wmarchive/avro/fwjr/2017/02/27', 'hdfs:///cms/wmarchive/avro/fwjr/2017/02/28', 'hdfs:///cms/wmarchive/avro/fwjr/2017/03/01', 'hdfs:///cms/wmarchive/avro/fwjr/2017/03/02', 'hdfs:///cms/wmarchive/avro/fwjr/2017/03/03', 'hdfs:///cms/wmarchive/avro/fwjr/2017/03/04', 'hdfs:///cms/wmarchive/avro/fwjr/2017/03/05', 'hdfs:///cms/wmarchive/avro/fwjr/2017/03/06', 'hdfs:///cms/wmarchive/avro/fwjr/2017/03/07', 'hdfs:///cms/wmarchive/avro/fwjr/2017/03/08', 'hdfs:///cms/wmarchive/avro/fwjr/2017/03/09', 'hdfs:///cms/wmarchive/avro/fwjr/2017/03/10', 'hdfs:///cms/wmarchive/avro/fwjr/2017/03/11', 'hdfs:///cms/wmarchive/avro/fwjr/2017/03/12', 'hdfs:///cms/wmarchive/avro/fwjr/2017/03/13', 'hdfs:///cms/wmarchive/avro/fwjr/2017/03/14', 'hdfs:///cms/wmarchive/avro/fwjr/2017/03/15', 'hdfs:///cms/wmarchive/avro/fwjr/2017/03/16', 'hdfs:///cms/wmarchive/avro/fwjr/2017/03/17', 'hdfs:///cms/wmarchive/avro/fwjr/2017/03/18', 'hdfs:///cms/wmarchive/avro/fwjr/2017/03/19', 'hdfs:///cms/wmarchive/avro/fwjr/2017/03/20', 'hdfs:///cms/wmarchive/avro/fwjr/2017/03/21', 'hdfs:///cms/wmarchive/avro/fwjr/2017/03/22', 'hdfs:///cms/wmarchive/avro/fwjr/2017/03/23', 'hdfs:///cms/wmarchive/avro/fwjr/2017/03/24', 'hdfs:///cms/wmarchive/avro/fwjr/2017/03/25', 'hdfs:///cms/wmarchive/avro/fwjr/2017/03/26', 'hdfs:///cms/wmarchive/avro/fwjr/2017/03/27', 'hdfs:///cms/wmarchive/avro/fwjr/2017/03/28', 'hdfs:///cms/wmarchive/avro/fwjr/2017/03/29', 'hdfs:///cms/wmarchive/avro/fwjr/2017/03/30', 'hdfs:///cms/wmarchive/avro/fwjr/2017/03/31', 'hdfs:///cms/wmarchive/avro/fwjr/2017/04/01', 'hdfs:///cms/wmarchive/avro/fwjr/2017/04/02', 'hdfs:///cms/wmarchive/avro/fwjr/2017/04/03', 'hdfs:///cms/wmarchive/avro/fwjr/2017/04/04', 'hdfs:///cms/wmarchive/avro/fwjr/2017/04/05', 'hdfs:///cms/wmarchive/avro/fwjr/2017/04/06', 'hdfs:///cms/wmarchive/avro/fwjr/2017/04/07', 'hdfs:///cms/wmarchive/avro/fwjr/2017/04/08', 'hdfs:///cms/wmarchive/avro/fwjr/2017/04/09', 'hdfs:///cms/wmarchive/avro/fwjr/2017/04/10', 'hdfs:///cms/wmarchive/avro/fwjr/2017/04/11', 'hdfs:///cms/wmarchive/avro/fwjr/2017/04/12', 'hdfs:///cms/wmarchive/avro/fwjr/2017/04/13', 'hdfs:///cms/wmarchive/avro/fwjr/2017/04/14', 'hdfs:///cms/wmarchive/avro/fwjr/2017/04/15', 'hdfs:///cms/wmarchive/avro/fwjr/2017/04/16', 'hdfs:///cms/wmarchive/avro/fwjr/2017/04/17', 'hdfs:///cms/wmarchive/avro/fwjr/2017/04/18', 'hdfs:///cms/wmarchive/avro/fwjr/2017/04/19', 'hdfs:///cms/wmarchive/avro/fwjr/2017/04/20', 'hdfs:///cms/wmarchive/avro/fwjr/2017/04/21', 'hdfs:///cms/wmarchive/avro/fwjr/2017/04/22', 'hdfs:///cms/wmarchive/avro/fwjr/2017/04/23', 'hdfs:///cms/wmarchive/avro/fwjr/2017/04/24', 'hdfs:///cms/wmarchive/avro/fwjr/2017/04/25', 'hdfs:///cms/wmarchive/avro/fwjr/2017/04/26', 'hdfs:///cms/wmarchive/avro/fwjr/2017/04/27', 'hdfs:///cms/wmarchive/avro/fwjr/2017/04/28', 'hdfs:///cms/wmarchive/avro/fwjr/2017/04/29', 'hdfs:///cms/wmarchive/avro/fwjr/2017/04/30', 'hdfs:///cms/wmarchive/avro/fwjr/2017/05/01', 'hdfs:///cms/wmarchive/avro/fwjr/2017/05/02', 'hdfs:///cms/wmarchive/avro/fwjr/2017/05/03', 'hdfs:///cms/wmarchive/avro/fwjr/2017/05/04', 'hdfs:///cms/wmarchive/avro/fwjr/2017/05/05', 'hdfs:///cms/wmarchive/avro/fwjr/2017/05/06', 'hdfs:///cms/wmarchive/avro/fwjr/2017/05/07', 'hdfs:///cms/wmarchive/avro/fwjr/2017/05/08', 'hdfs:///cms/wmarchive/avro/fwjr/2017/05/09', 'hdfs:///cms/wmarchive/avro/fwjr/2017/05/10', 'hdfs:///cms/wmarchive/avro/fwjr/2017/05/11', 'hdfs:///cms/wmarchive/avro/fwjr/2017/05/12', 'hdfs:///cms/wmarchive/avro/fwjr/2017/05/13', 'hdfs:///cms/wmarchive/avro/fwjr/2017/05/14', 'hdfs:///cms/wmarchive/avro/fwjr/2017/05/15', 'hdfs:///cms/wmarchive/avro/fwjr/2017/05/16', 'hdfs:///cms/wmarchive/avro/fwjr/2017/05/17', 'hdfs:///cms/wmarchive/avro/fwjr/2017/05/18', 'hdfs:///cms/wmarchive/avro/fwjr/2017/05/19', 'hdfs:///cms/wmarchive/avro/fwjr/2017/05/23', 'hdfs:///cms/wmarchive/avro/fwjr/2017/05/24', 'hdfs:///cms/wmarchive/avro/fwjr/2017/05/25', 'hdfs:///cms/wmarchive/avro/fwjr/2017/05/26', 'hdfs:///cms/wmarchive/avro/fwjr/2017/05/27', 'hdfs:///cms/wmarchive/avro/fwjr/2017/05/28', 'hdfs:///cms/wmarchive/avro/fwjr/2017/05/29', 'hdfs:///cms/wmarchive/avro/fwjr/2017/05/30', 'hdfs:///cms/wmarchive/avro/fwjr/2017/05/31', 'hdfs:///cms/wmarchive/avro/fwjr/2017/06/01', 'hdfs:///cms/wmarchive/avro/fwjr/2017/06/02', 'hdfs:///cms/wmarchive/avro/fwjr/2017/06/03', 'hdfs:///cms/wmarchive/avro/fwjr/2017/06/04', 'hdfs:///cms/wmarchive/avro/fwjr/2017/06/05', 'hdfs:///cms/wmarchive/avro/fwjr/2017/06/06', 'hdfs:///cms/wmarchive/avro/fwjr/2017/06/07', 'hdfs:///cms/wmarchive/avro/fwjr/2017/06/08', 'hdfs:///cms/wmarchive/avro/fwjr/2017/06/09', 'hdfs:///cms/wmarchive/avro/fwjr/2017/06/10', 'hdfs:///cms/wmarchive/avro/fwjr/2017/06/11', 'hdfs:///cms/wmarchive/avro/fwjr/2017/06/12', 'hdfs:///cms/wmarchive/avro/fwjr/2017/06/13', 'hdfs:///cms/wmarchive/avro/fwjr/2017/06/14', 'hdfs:///cms/wmarchive/avro/fwjr/2017/06/15', 'hdfs:///cms/wmarchive/avro/fwjr/2017/06/16', 'hdfs:///cms/wmarchive/avro/fwjr/2017/06/17', 'hdfs:///cms/wmarchive/avro/fwjr/2017/06/18', 'hdfs:///cms/wmarchive/avro/fwjr/2017/06/19', 'hdfs:///cms/wmarchive/avro/fwjr/2017/06/20', 'hdfs:///cms/wmarchive/avro/fwjr/2017/06/21', 'hdfs:///cms/wmarchive/avro/fwjr/2017/06/23', 'hdfs:///cms/wmarchive/avro/fwjr/2017/06/24', 'hdfs:///cms/wmarchive/avro/fwjr/2017/06/25', 'hdfs:///cms/wmarchive/avro/fwjr/2017/06/26', 'hdfs:///cms/wmarchive/avro/fwjr/2017/06/27', 'hdfs:///cms/wmarchive/avro/fwjr/2017/06/28', 'hdfs:///cms/wmarchive/avro/fwjr/2017/06/29', 'hdfs:///cms/wmarchive/avro/fwjr/2017/06/30', 'hdfs:///cms/wmarchive/avro/fwjr/2017/07/06', 'hdfs:///cms/wmarchive/avro/fwjr/2017/07/07', 'hdfs:///cms/wmarchive/avro/fwjr/2017/07/08', 'hdfs:///cms/wmarchive/avro/fwjr/2017/07/09', 'hdfs:///cms/wmarchive/avro/fwjr/2017/07/10', 'hdfs:///cms/wmarchive/avro/fwjr/2017/07/11', 'hdfs:///cms/wmarchive/avro/fwjr/2017/07/12', 'hdfs:///cms/wmarchive/avro/fwjr/2017/07/13', 'hdfs:///cms/wmarchive/avro/fwjr/2017/07/14', 'hdfs:///cms/wmarchive/avro/fwjr/2017/07/15', 'hdfs:///cms/wmarchive/avro/fwjr/2017/07/16', 'hdfs:///cms/wmarchive/avro/fwjr/2017/07/17', 'hdfs:///cms/wmarchive/avro/fwjr/2017/07/18', 'hdfs:///cms/wmarchive/avro/fwjr/2017/07/19', 'hdfs:///cms/wmarchive/avro/fwjr/2017/07/20', 'hdfs:///cms/wmarchive/avro/fwjr/2017/07/21', 'hdfs:///cms/wmarchive/avro/fwjr/2017/07/22', 'hdfs:///cms/wmarchive/avro/fwjr/2017/07/23', 'hdfs:///cms/wmarchive/avro/fwjr/2017/07/24', 'hdfs:///cms/wmarchive/avro/fwjr/2017/07/25', 'hdfs:///cms/wmarchive/avro/fwjr/2017/07/26', 'hdfs:///cms/wmarchive/avro/fwjr/2017/07/27', 'hdfs:///cms/wmarchive/avro/fwjr/2017/07/28', 'hdfs:///cms/wmarchive/avro/fwjr/2017/07/29', 'hdfs:///cms/wmarchive/avro/fwjr/2017/07/30', 'hdfs:///cms/wmarchive/avro/fwjr/2017/07/31', 'hdfs:///cms/wmarchive/avro/fwjr/2017/08/01', 'hdfs:///cms/wmarchive/avro/fwjr/2017/08/02', 'hdfs:///cms/wmarchive/avro/fwjr/2017/08/03', 'hdfs:///cms/wmarchive/avro/fwjr/2017/08/04', 'hdfs:///cms/wmarchive/avro/fwjr/2017/08/05', 'hdfs:///cms/wmarchive/avro/fwjr/2017/08/06', 'hdfs:///cms/wmarchive/avro/fwjr/2017/08/07', 'hdfs:///cms/wmarchive/avro/fwjr/2017/08/08', 'hdfs:///cms/wmarchive/avro/fwjr/2017/08/09', 'hdfs:///cms/wmarchive/avro/fwjr/2017/08/10', 'hdfs:///cms/wmarchive/avro/fwjr/2017/08/11', 'hdfs:///cms/wmarchive/avro/fwjr/2017/08/12', 'hdfs:///cms/wmarchive/avro/fwjr/2017/08/13', 'hdfs:///cms/wmarchive/avro/fwjr/2017/08/14', 'hdfs:///cms/wmarchive/avro/fwjr/2017/08/15', 'hdfs:///cms/wmarchive/avro/fwjr/2017/08/16', 'hdfs:///cms/wmarchive/avro/fwjr/2017/08/17', 'hdfs:///cms/wmarchive/avro/fwjr/2017/08/18', 'hdfs:///cms/wmarchive/avro/fwjr/2017/08/19', 'hdfs:///cms/wmarchive/avro/fwjr/2017/08/20', 'hdfs:///cms/wmarchive/avro/fwjr/2017/08/21', 'hdfs:///cms/wmarchive/avro/fwjr/2017/08/22', 'hdfs:///cms/wmarchive/avro/fwjr/2017/08/23', 'hdfs:///cms/wmarchive/avro/fwjr/2017/08/24', 'hdfs:///cms/wmarchive/avro/fwjr/2017/08/25', 'hdfs:///cms/wmarchive/avro/fwjr/2017/08/26', 'hdfs:///cms/wmarchive/avro/fwjr/2017/08/27', 'hdfs:///cms/wmarchive/avro/fwjr/2017/08/28', 'hdfs:///cms/wmarchive/avro/fwjr/2017/08/29', 'hdfs:///cms/wmarchive/avro/fwjr/2017/08/30', 'hdfs:///cms/wmarchive/avro/fwjr/2017/08/31', 'hdfs:///cms/wmarchive/avro/fwjr/2017/09/01', 'hdfs:///cms/wmarchive/avro/fwjr/2017/09/02', 'hdfs:///cms/wmarchive/avro/fwjr/2017/09/03', 'hdfs:///cms/wmarchive/avro/fwjr/2017/09/04', 'hdfs:///cms/wmarchive/avro/fwjr/2017/09/05', 'hdfs:///cms/wmarchive/avro/fwjr/2017/09/07', 'hdfs:///cms/wmarchive/avro/fwjr/2017/09/08', 'hdfs:///cms/wmarchive/avro/fwjr/2017/09/09', 'hdfs:///cms/wmarchive/avro/fwjr/2017/09/10', 'hdfs:///cms/wmarchive/avro/fwjr/2017/09/11', 'hdfs:///cms/wmarchive/avro/fwjr/2017/09/12', 'hdfs:///cms/wmarchive/avro/fwjr/2017/09/13', 'hdfs:///cms/wmarchive/avro/fwjr/2017/09/14', 'hdfs:///cms/wmarchive/avro/fwjr/2017/09/15', 'hdfs:///cms/wmarchive/avro/fwjr/2017/09/16', 'hdfs:///cms/wmarchive/avro/fwjr/2017/09/17', 'hdfs:///cms/wmarchive/avro/fwjr/2017/09/18', 'hdfs:///cms/wmarchive/avro/fwjr/2017/09/19', 'hdfs:///cms/wmarchive/avro/fwjr/2017/09/20', 'hdfs:///cms/wmarchive/avro/fwjr/2017/09/21', 'hdfs:///cms/wmarchive/avro/fwjr/2017/09/22', 'hdfs:///cms/wmarchive/avro/fwjr/2017/09/23', 'hdfs:///cms/wmarchive/avro/fwjr/2017/09/24', 'hdfs:///cms/wmarchive/avro/fwjr/2017/09/25', 'hdfs:///cms/wmarchive/avro/fwjr/2017/09/26', 'hdfs:///cms/wmarchive/avro/fwjr/2017/09/27', 'hdfs:///cms/wmarchive/avro/fwjr/2017/09/28', 'hdfs:///cms/wmarchive/avro/fwjr/2017/10/03', 'hdfs:///cms/wmarchive/avro/fwjr/2017/10/04', 'hdfs:///cms/wmarchive/avro/fwjr/2017/10/05', 'hdfs:///cms/wmarchive/avro/fwjr/2017/10/06', 'hdfs:///cms/wmarchive/avro/fwjr/2017/10/07', 'hdfs:///cms/wmarchive/avro/fwjr/2017/10/09']\n"
     ]
    },
    {
     "name": "stderr",
     "output_type": "stream",
     "text": [
      "/cvmfs/sft-nightlies.cern.ch/lcg/views/dev3/Mon/x86_64-centos7-gcc8-opt/lib/python2.7/site-packages/pandas/core/generic.py:2377: PerformanceWarning: \n",
      "your performance may suffer as PyTables will pickle object types that it cannot\n",
      "map directly to c-types [inferred_type->unicode,key->block2_values] [items->['task_name', 'site', 'error_msg', 'error_type', 'names', '_c0']]\n",
      "\n",
      "  return pytables.to_hdf(path_or_buf, key, self, **kwargs)\n"
     ]
    }
   ],
   "source": [
    "df_pandas = join_to_pandas(timerange, store = True)"
   ]
  },
  {
   "cell_type": "code",
   "execution_count": 11,
   "metadata": {},
   "outputs": [],
   "source": [
    "#timerange = [20170101, 20171009]\n",
    "#timerange = [20180601, 20181101]\n",
    "#timerange = [20181101, 20190207]\n",
    "#timerange = [20171011, 20180301]\n",
    "#timerange = [20180301, 20180601]\n",
    "time_chunks =  [\n",
    "                #(20170101, 20171009),\n",
    "                (20171011, 20180301),\n",
    "                (20180301, 20180601),\n",
    "                (20180601, 20181101),\n",
    "                (20181101, 20190207),\n",
    "                (20190207, 20190801),   \n",
    "                ]"
   ]
  },
  {
   "cell_type": "code",
   "execution_count": 12,
   "metadata": {},
   "outputs": [
    {
     "name": "stdout",
     "output_type": "stream",
     "text": [
      "(20171011, 20180301)\n",
      "['hdfs:///cms/wmarchive/avro/fwjr/2017/10/11', 'hdfs:///cms/wmarchive/avro/fwjr/2017/10/12', 'hdfs:///cms/wmarchive/avro/fwjr/2017/10/13', 'hdfs:///cms/wmarchive/avro/fwjr/2017/10/14', 'hdfs:///cms/wmarchive/avro/fwjr/2017/10/15', 'hdfs:///cms/wmarchive/avro/fwjr/2017/10/16', 'hdfs:///cms/wmarchive/avro/fwjr/2017/10/17', 'hdfs:///cms/wmarchive/avro/fwjr/2017/10/18', 'hdfs:///cms/wmarchive/avro/fwjr/2017/10/19', 'hdfs:///cms/wmarchive/avro/fwjr/2017/10/20', 'hdfs:///cms/wmarchive/avro/fwjr/2017/10/21', 'hdfs:///cms/wmarchive/avro/fwjr/2017/10/22', 'hdfs:///cms/wmarchive/avro/fwjr/2017/10/23', 'hdfs:///cms/wmarchive/avro/fwjr/2017/10/24', 'hdfs:///cms/wmarchive/avro/fwjr/2017/10/25', 'hdfs:///cms/wmarchive/avro/fwjr/2017/10/26', 'hdfs:///cms/wmarchive/avro/fwjr/2017/10/27', 'hdfs:///cms/wmarchive/avro/fwjr/2017/10/28', 'hdfs:///cms/wmarchive/avro/fwjr/2017/10/29', 'hdfs:///cms/wmarchive/avro/fwjr/2017/10/30', 'hdfs:///cms/wmarchive/avro/fwjr/2017/10/31', 'hdfs:///cms/wmarchive/avro/fwjr/2017/11/01', 'hdfs:///cms/wmarchive/avro/fwjr/2017/11/02', 'hdfs:///cms/wmarchive/avro/fwjr/2017/11/06', 'hdfs:///cms/wmarchive/avro/fwjr/2017/11/07', 'hdfs:///cms/wmarchive/avro/fwjr/2017/11/08', 'hdfs:///cms/wmarchive/avro/fwjr/2017/11/09', 'hdfs:///cms/wmarchive/avro/fwjr/2017/11/10', 'hdfs:///cms/wmarchive/avro/fwjr/2017/11/13', 'hdfs:///cms/wmarchive/avro/fwjr/2017/11/14', 'hdfs:///cms/wmarchive/avro/fwjr/2017/11/15', 'hdfs:///cms/wmarchive/avro/fwjr/2017/11/16', 'hdfs:///cms/wmarchive/avro/fwjr/2017/11/17', 'hdfs:///cms/wmarchive/avro/fwjr/2017/11/18', 'hdfs:///cms/wmarchive/avro/fwjr/2017/11/19', 'hdfs:///cms/wmarchive/avro/fwjr/2017/11/20', 'hdfs:///cms/wmarchive/avro/fwjr/2017/11/21', 'hdfs:///cms/wmarchive/avro/fwjr/2017/11/22', 'hdfs:///cms/wmarchive/avro/fwjr/2017/11/23', 'hdfs:///cms/wmarchive/avro/fwjr/2017/11/24', 'hdfs:///cms/wmarchive/avro/fwjr/2017/11/25', 'hdfs:///cms/wmarchive/avro/fwjr/2017/11/26', 'hdfs:///cms/wmarchive/avro/fwjr/2017/11/27', 'hdfs:///cms/wmarchive/avro/fwjr/2017/11/28', 'hdfs:///cms/wmarchive/avro/fwjr/2017/11/29', 'hdfs:///cms/wmarchive/avro/fwjr/2017/11/30', 'hdfs:///cms/wmarchive/avro/fwjr/2017/12/01', 'hdfs:///cms/wmarchive/avro/fwjr/2017/12/02', 'hdfs:///cms/wmarchive/avro/fwjr/2017/12/03', 'hdfs:///cms/wmarchive/avro/fwjr/2017/12/04', 'hdfs:///cms/wmarchive/avro/fwjr/2017/12/05', 'hdfs:///cms/wmarchive/avro/fwjr/2017/12/06', 'hdfs:///cms/wmarchive/avro/fwjr/2017/12/07', 'hdfs:///cms/wmarchive/avro/fwjr/2017/12/08', 'hdfs:///cms/wmarchive/avro/fwjr/2017/12/09', 'hdfs:///cms/wmarchive/avro/fwjr/2017/12/10', 'hdfs:///cms/wmarchive/avro/fwjr/2017/12/11', 'hdfs:///cms/wmarchive/avro/fwjr/2017/12/12', 'hdfs:///cms/wmarchive/avro/fwjr/2017/12/13', 'hdfs:///cms/wmarchive/avro/fwjr/2017/12/14', 'hdfs:///cms/wmarchive/avro/fwjr/2017/12/15', 'hdfs:///cms/wmarchive/avro/fwjr/2017/12/16', 'hdfs:///cms/wmarchive/avro/fwjr/2017/12/17', 'hdfs:///cms/wmarchive/avro/fwjr/2017/12/18', 'hdfs:///cms/wmarchive/avro/fwjr/2017/12/19', 'hdfs:///cms/wmarchive/avro/fwjr/2017/12/20', 'hdfs:///cms/wmarchive/avro/fwjr/2017/12/21', 'hdfs:///cms/wmarchive/avro/fwjr/2017/12/22', 'hdfs:///cms/wmarchive/avro/fwjr/2017/12/23', 'hdfs:///cms/wmarchive/avro/fwjr/2017/12/24', 'hdfs:///cms/wmarchive/avro/fwjr/2017/12/25', 'hdfs:///cms/wmarchive/avro/fwjr/2017/12/26', 'hdfs:///cms/wmarchive/avro/fwjr/2017/12/27', 'hdfs:///cms/wmarchive/avro/fwjr/2017/12/28', 'hdfs:///cms/wmarchive/avro/fwjr/2017/12/29', 'hdfs:///cms/wmarchive/avro/fwjr/2017/12/30', 'hdfs:///cms/wmarchive/avro/fwjr/2017/12/31', 'hdfs:///cms/wmarchive/avro/fwjr/2018/01/01', 'hdfs:///cms/wmarchive/avro/fwjr/2018/01/02', 'hdfs:///cms/wmarchive/avro/fwjr/2018/01/03', 'hdfs:///cms/wmarchive/avro/fwjr/2018/01/04', 'hdfs:///cms/wmarchive/avro/fwjr/2018/01/05', 'hdfs:///cms/wmarchive/avro/fwjr/2018/01/06', 'hdfs:///cms/wmarchive/avro/fwjr/2018/01/07', 'hdfs:///cms/wmarchive/avro/fwjr/2018/01/08', 'hdfs:///cms/wmarchive/avro/fwjr/2018/01/09', 'hdfs:///cms/wmarchive/avro/fwjr/2018/01/10', 'hdfs:///cms/wmarchive/avro/fwjr/2018/01/11', 'hdfs:///cms/wmarchive/avro/fwjr/2018/01/12', 'hdfs:///cms/wmarchive/avro/fwjr/2018/01/13', 'hdfs:///cms/wmarchive/avro/fwjr/2018/01/14', 'hdfs:///cms/wmarchive/avro/fwjr/2018/01/15', 'hdfs:///cms/wmarchive/avro/fwjr/2018/01/16', 'hdfs:///cms/wmarchive/avro/fwjr/2018/01/17', 'hdfs:///cms/wmarchive/avro/fwjr/2018/01/18', 'hdfs:///cms/wmarchive/avro/fwjr/2018/01/19', 'hdfs:///cms/wmarchive/avro/fwjr/2018/01/20', 'hdfs:///cms/wmarchive/avro/fwjr/2018/01/21', 'hdfs:///cms/wmarchive/avro/fwjr/2018/01/22', 'hdfs:///cms/wmarchive/avro/fwjr/2018/01/23', 'hdfs:///cms/wmarchive/avro/fwjr/2018/01/24', 'hdfs:///cms/wmarchive/avro/fwjr/2018/01/25', 'hdfs:///cms/wmarchive/avro/fwjr/2018/01/26', 'hdfs:///cms/wmarchive/avro/fwjr/2018/01/27', 'hdfs:///cms/wmarchive/avro/fwjr/2018/01/28', 'hdfs:///cms/wmarchive/avro/fwjr/2018/01/29', 'hdfs:///cms/wmarchive/avro/fwjr/2018/01/30', 'hdfs:///cms/wmarchive/avro/fwjr/2018/01/31', 'hdfs:///cms/wmarchive/avro/fwjr/2018/02/01', 'hdfs:///cms/wmarchive/avro/fwjr/2018/02/02', 'hdfs:///cms/wmarchive/avro/fwjr/2018/02/03', 'hdfs:///cms/wmarchive/avro/fwjr/2018/02/04', 'hdfs:///cms/wmarchive/avro/fwjr/2018/02/05', 'hdfs:///cms/wmarchive/avro/fwjr/2018/02/06', 'hdfs:///cms/wmarchive/avro/fwjr/2018/02/07', 'hdfs:///cms/wmarchive/avro/fwjr/2018/02/08', 'hdfs:///cms/wmarchive/avro/fwjr/2018/02/09', 'hdfs:///cms/wmarchive/avro/fwjr/2018/02/10', 'hdfs:///cms/wmarchive/avro/fwjr/2018/02/11', 'hdfs:///cms/wmarchive/avro/fwjr/2018/02/12', 'hdfs:///cms/wmarchive/avro/fwjr/2018/02/13', 'hdfs:///cms/wmarchive/avro/fwjr/2018/02/14', 'hdfs:///cms/wmarchive/avro/fwjr/2018/02/15', 'hdfs:///cms/wmarchive/avro/fwjr/2018/02/16', 'hdfs:///cms/wmarchive/avro/fwjr/2018/02/17', 'hdfs:///cms/wmarchive/avro/fwjr/2018/02/18', 'hdfs:///cms/wmarchive/avro/fwjr/2018/02/19', 'hdfs:///cms/wmarchive/avro/fwjr/2018/02/20', 'hdfs:///cms/wmarchive/avro/fwjr/2018/02/21', 'hdfs:///cms/wmarchive/avro/fwjr/2018/02/22', 'hdfs:///cms/wmarchive/avro/fwjr/2018/02/23', 'hdfs:///cms/wmarchive/avro/fwjr/2018/02/24', 'hdfs:///cms/wmarchive/avro/fwjr/2018/02/25', 'hdfs:///cms/wmarchive/avro/fwjr/2018/02/26', 'hdfs:///cms/wmarchive/avro/fwjr/2018/02/27', 'hdfs:///cms/wmarchive/avro/fwjr/2018/02/28', 'hdfs:///cms/wmarchive/avro/fwjr/2018/03/01']\n",
      "(20180301, 20180601)\n",
      "['hdfs:///cms/wmarchive/avro/fwjr/2018/03/01', 'hdfs:///cms/wmarchive/avro/fwjr/2018/03/02', 'hdfs:///cms/wmarchive/avro/fwjr/2018/03/03', 'hdfs:///cms/wmarchive/avro/fwjr/2018/03/04', 'hdfs:///cms/wmarchive/avro/fwjr/2018/03/05', 'hdfs:///cms/wmarchive/avro/fwjr/2018/03/06', 'hdfs:///cms/wmarchive/avro/fwjr/2018/03/07', 'hdfs:///cms/wmarchive/avro/fwjr/2018/03/08', 'hdfs:///cms/wmarchive/avro/fwjr/2018/03/09', 'hdfs:///cms/wmarchive/avro/fwjr/2018/03/10', 'hdfs:///cms/wmarchive/avro/fwjr/2018/03/11', 'hdfs:///cms/wmarchive/avro/fwjr/2018/03/12', 'hdfs:///cms/wmarchive/avro/fwjr/2018/03/13', 'hdfs:///cms/wmarchive/avro/fwjr/2018/03/14', 'hdfs:///cms/wmarchive/avro/fwjr/2018/03/15', 'hdfs:///cms/wmarchive/avro/fwjr/2018/03/16', 'hdfs:///cms/wmarchive/avro/fwjr/2018/03/17', 'hdfs:///cms/wmarchive/avro/fwjr/2018/03/18', 'hdfs:///cms/wmarchive/avro/fwjr/2018/03/19', 'hdfs:///cms/wmarchive/avro/fwjr/2018/03/20', 'hdfs:///cms/wmarchive/avro/fwjr/2018/03/21', 'hdfs:///cms/wmarchive/avro/fwjr/2018/03/22', 'hdfs:///cms/wmarchive/avro/fwjr/2018/03/23', 'hdfs:///cms/wmarchive/avro/fwjr/2018/03/24', 'hdfs:///cms/wmarchive/avro/fwjr/2018/03/25', 'hdfs:///cms/wmarchive/avro/fwjr/2018/03/26', 'hdfs:///cms/wmarchive/avro/fwjr/2018/03/27', 'hdfs:///cms/wmarchive/avro/fwjr/2018/03/28', 'hdfs:///cms/wmarchive/avro/fwjr/2018/03/29', 'hdfs:///cms/wmarchive/avro/fwjr/2018/03/30', 'hdfs:///cms/wmarchive/avro/fwjr/2018/03/31', 'hdfs:///cms/wmarchive/avro/fwjr/2018/04/01', 'hdfs:///cms/wmarchive/avro/fwjr/2018/04/02', 'hdfs:///cms/wmarchive/avro/fwjr/2018/04/03', 'hdfs:///cms/wmarchive/avro/fwjr/2018/04/04', 'hdfs:///cms/wmarchive/avro/fwjr/2018/04/05', 'hdfs:///cms/wmarchive/avro/fwjr/2018/04/06', 'hdfs:///cms/wmarchive/avro/fwjr/2018/04/07', 'hdfs:///cms/wmarchive/avro/fwjr/2018/04/08', 'hdfs:///cms/wmarchive/avro/fwjr/2018/04/09', 'hdfs:///cms/wmarchive/avro/fwjr/2018/04/10', 'hdfs:///cms/wmarchive/avro/fwjr/2018/04/11', 'hdfs:///cms/wmarchive/avro/fwjr/2018/04/12', 'hdfs:///cms/wmarchive/avro/fwjr/2018/04/13', 'hdfs:///cms/wmarchive/avro/fwjr/2018/04/14', 'hdfs:///cms/wmarchive/avro/fwjr/2018/04/15', 'hdfs:///cms/wmarchive/avro/fwjr/2018/04/16', 'hdfs:///cms/wmarchive/avro/fwjr/2018/04/17', 'hdfs:///cms/wmarchive/avro/fwjr/2018/04/18', 'hdfs:///cms/wmarchive/avro/fwjr/2018/04/19', 'hdfs:///cms/wmarchive/avro/fwjr/2018/04/20', 'hdfs:///cms/wmarchive/avro/fwjr/2018/04/21', 'hdfs:///cms/wmarchive/avro/fwjr/2018/04/22', 'hdfs:///cms/wmarchive/avro/fwjr/2018/04/23', 'hdfs:///cms/wmarchive/avro/fwjr/2018/04/24', 'hdfs:///cms/wmarchive/avro/fwjr/2018/04/25', 'hdfs:///cms/wmarchive/avro/fwjr/2018/04/26', 'hdfs:///cms/wmarchive/avro/fwjr/2018/04/27', 'hdfs:///cms/wmarchive/avro/fwjr/2018/04/28', 'hdfs:///cms/wmarchive/avro/fwjr/2018/04/29', 'hdfs:///cms/wmarchive/avro/fwjr/2018/04/30', 'hdfs:///cms/wmarchive/avro/fwjr/2018/05/01', 'hdfs:///cms/wmarchive/avro/fwjr/2018/05/02', 'hdfs:///cms/wmarchive/avro/fwjr/2018/05/03', 'hdfs:///cms/wmarchive/avro/fwjr/2018/05/04', 'hdfs:///cms/wmarchive/avro/fwjr/2018/05/05', 'hdfs:///cms/wmarchive/avro/fwjr/2018/05/06', 'hdfs:///cms/wmarchive/avro/fwjr/2018/05/07', 'hdfs:///cms/wmarchive/avro/fwjr/2018/05/08', 'hdfs:///cms/wmarchive/avro/fwjr/2018/05/09', 'hdfs:///cms/wmarchive/avro/fwjr/2018/05/10', 'hdfs:///cms/wmarchive/avro/fwjr/2018/05/11', 'hdfs:///cms/wmarchive/avro/fwjr/2018/05/12', 'hdfs:///cms/wmarchive/avro/fwjr/2018/05/13', 'hdfs:///cms/wmarchive/avro/fwjr/2018/05/14', 'hdfs:///cms/wmarchive/avro/fwjr/2018/05/15', 'hdfs:///cms/wmarchive/avro/fwjr/2018/05/16', 'hdfs:///cms/wmarchive/avro/fwjr/2018/05/17', 'hdfs:///cms/wmarchive/avro/fwjr/2018/05/18', 'hdfs:///cms/wmarchive/avro/fwjr/2018/05/19', 'hdfs:///cms/wmarchive/avro/fwjr/2018/05/20', 'hdfs:///cms/wmarchive/avro/fwjr/2018/05/21', 'hdfs:///cms/wmarchive/avro/fwjr/2018/05/22', 'hdfs:///cms/wmarchive/avro/fwjr/2018/05/23', 'hdfs:///cms/wmarchive/avro/fwjr/2018/05/24', 'hdfs:///cms/wmarchive/avro/fwjr/2018/05/25', 'hdfs:///cms/wmarchive/avro/fwjr/2018/05/26', 'hdfs:///cms/wmarchive/avro/fwjr/2018/05/27', 'hdfs:///cms/wmarchive/avro/fwjr/2018/05/28', 'hdfs:///cms/wmarchive/avro/fwjr/2018/05/29', 'hdfs:///cms/wmarchive/avro/fwjr/2018/05/30', 'hdfs:///cms/wmarchive/avro/fwjr/2018/05/31', 'hdfs:///cms/wmarchive/avro/fwjr/2018/06/01']\n"
     ]
    },
    {
     "name": "stdout",
     "output_type": "stream",
     "text": [
      "(20180601, 20181101)\n",
      "['hdfs:///cms/wmarchive/avro/fwjr/2018/06/01', 'hdfs:///cms/wmarchive/avro/fwjr/2018/06/02', 'hdfs:///cms/wmarchive/avro/fwjr/2018/06/03', 'hdfs:///cms/wmarchive/avro/fwjr/2018/06/04', 'hdfs:///cms/wmarchive/avro/fwjr/2018/06/05', 'hdfs:///cms/wmarchive/avro/fwjr/2018/06/06', 'hdfs:///cms/wmarchive/avro/fwjr/2018/06/07', 'hdfs:///cms/wmarchive/avro/fwjr/2018/06/08', 'hdfs:///cms/wmarchive/avro/fwjr/2018/06/09', 'hdfs:///cms/wmarchive/avro/fwjr/2018/06/10', 'hdfs:///cms/wmarchive/avro/fwjr/2018/06/11', 'hdfs:///cms/wmarchive/avro/fwjr/2018/06/12', 'hdfs:///cms/wmarchive/avro/fwjr/2018/06/13', 'hdfs:///cms/wmarchive/avro/fwjr/2018/06/14', 'hdfs:///cms/wmarchive/avro/fwjr/2018/06/15', 'hdfs:///cms/wmarchive/avro/fwjr/2018/06/16', 'hdfs:///cms/wmarchive/avro/fwjr/2018/06/17', 'hdfs:///cms/wmarchive/avro/fwjr/2018/06/18', 'hdfs:///cms/wmarchive/avro/fwjr/2018/06/19', 'hdfs:///cms/wmarchive/avro/fwjr/2018/06/20', 'hdfs:///cms/wmarchive/avro/fwjr/2018/06/21', 'hdfs:///cms/wmarchive/avro/fwjr/2018/06/22', 'hdfs:///cms/wmarchive/avro/fwjr/2018/06/23', 'hdfs:///cms/wmarchive/avro/fwjr/2018/06/24', 'hdfs:///cms/wmarchive/avro/fwjr/2018/06/25', 'hdfs:///cms/wmarchive/avro/fwjr/2018/06/26', 'hdfs:///cms/wmarchive/avro/fwjr/2018/06/27', 'hdfs:///cms/wmarchive/avro/fwjr/2018/06/28', 'hdfs:///cms/wmarchive/avro/fwjr/2018/06/29', 'hdfs:///cms/wmarchive/avro/fwjr/2018/06/30', 'hdfs:///cms/wmarchive/avro/fwjr/2018/07/01', 'hdfs:///cms/wmarchive/avro/fwjr/2018/07/02', 'hdfs:///cms/wmarchive/avro/fwjr/2018/07/03', 'hdfs:///cms/wmarchive/avro/fwjr/2018/07/04', 'hdfs:///cms/wmarchive/avro/fwjr/2018/07/05', 'hdfs:///cms/wmarchive/avro/fwjr/2018/07/06', 'hdfs:///cms/wmarchive/avro/fwjr/2018/07/07', 'hdfs:///cms/wmarchive/avro/fwjr/2018/07/08', 'hdfs:///cms/wmarchive/avro/fwjr/2018/07/09', 'hdfs:///cms/wmarchive/avro/fwjr/2018/07/10', 'hdfs:///cms/wmarchive/avro/fwjr/2018/07/11', 'hdfs:///cms/wmarchive/avro/fwjr/2018/07/12', 'hdfs:///cms/wmarchive/avro/fwjr/2018/07/13', 'hdfs:///cms/wmarchive/avro/fwjr/2018/07/14', 'hdfs:///cms/wmarchive/avro/fwjr/2018/07/15', 'hdfs:///cms/wmarchive/avro/fwjr/2018/07/16', 'hdfs:///cms/wmarchive/avro/fwjr/2018/07/17', 'hdfs:///cms/wmarchive/avro/fwjr/2018/07/18', 'hdfs:///cms/wmarchive/avro/fwjr/2018/07/19', 'hdfs:///cms/wmarchive/avro/fwjr/2018/07/20', 'hdfs:///cms/wmarchive/avro/fwjr/2018/07/21', 'hdfs:///cms/wmarchive/avro/fwjr/2018/07/22', 'hdfs:///cms/wmarchive/avro/fwjr/2018/07/23', 'hdfs:///cms/wmarchive/avro/fwjr/2018/07/24', 'hdfs:///cms/wmarchive/avro/fwjr/2018/07/25', 'hdfs:///cms/wmarchive/avro/fwjr/2018/07/26', 'hdfs:///cms/wmarchive/avro/fwjr/2018/07/27', 'hdfs:///cms/wmarchive/avro/fwjr/2018/07/28', 'hdfs:///cms/wmarchive/avro/fwjr/2018/07/29', 'hdfs:///cms/wmarchive/avro/fwjr/2018/07/30', 'hdfs:///cms/wmarchive/avro/fwjr/2018/07/31', 'hdfs:///cms/wmarchive/avro/fwjr/2018/08/01', 'hdfs:///cms/wmarchive/avro/fwjr/2018/08/02', 'hdfs:///cms/wmarchive/avro/fwjr/2018/08/03', 'hdfs:///cms/wmarchive/avro/fwjr/2018/08/06', 'hdfs:///cms/wmarchive/avro/fwjr/2018/08/07', 'hdfs:///cms/wmarchive/avro/fwjr/2018/08/08', 'hdfs:///cms/wmarchive/avro/fwjr/2018/08/09', 'hdfs:///cms/wmarchive/avro/fwjr/2018/08/10', 'hdfs:///cms/wmarchive/avro/fwjr/2018/08/11', 'hdfs:///cms/wmarchive/avro/fwjr/2018/08/12', 'hdfs:///cms/wmarchive/avro/fwjr/2018/08/13', 'hdfs:///cms/wmarchive/avro/fwjr/2018/08/14', 'hdfs:///cms/wmarchive/avro/fwjr/2018/08/15', 'hdfs:///cms/wmarchive/avro/fwjr/2018/08/16', 'hdfs:///cms/wmarchive/avro/fwjr/2018/08/20', 'hdfs:///cms/wmarchive/avro/fwjr/2018/08/22', 'hdfs:///cms/wmarchive/avro/fwjr/2018/08/23', 'hdfs:///cms/wmarchive/avro/fwjr/2018/08/24', 'hdfs:///cms/wmarchive/avro/fwjr/2018/08/25', 'hdfs:///cms/wmarchive/avro/fwjr/2018/08/26', 'hdfs:///cms/wmarchive/avro/fwjr/2018/08/27', 'hdfs:///cms/wmarchive/avro/fwjr/2018/08/28', 'hdfs:///cms/wmarchive/avro/fwjr/2018/08/29', 'hdfs:///cms/wmarchive/avro/fwjr/2018/08/30', 'hdfs:///cms/wmarchive/avro/fwjr/2018/08/31', 'hdfs:///cms/wmarchive/avro/fwjr/2018/09/01', 'hdfs:///cms/wmarchive/avro/fwjr/2018/09/02', 'hdfs:///cms/wmarchive/avro/fwjr/2018/09/03', 'hdfs:///cms/wmarchive/avro/fwjr/2018/09/04', 'hdfs:///cms/wmarchive/avro/fwjr/2018/09/05', 'hdfs:///cms/wmarchive/avro/fwjr/2018/09/06', 'hdfs:///cms/wmarchive/avro/fwjr/2018/09/07', 'hdfs:///cms/wmarchive/avro/fwjr/2018/09/08', 'hdfs:///cms/wmarchive/avro/fwjr/2018/09/09', 'hdfs:///cms/wmarchive/avro/fwjr/2018/09/10', 'hdfs:///cms/wmarchive/avro/fwjr/2018/09/11', 'hdfs:///cms/wmarchive/avro/fwjr/2018/09/12', 'hdfs:///cms/wmarchive/avro/fwjr/2018/09/13', 'hdfs:///cms/wmarchive/avro/fwjr/2018/09/14', 'hdfs:///cms/wmarchive/avro/fwjr/2018/09/15', 'hdfs:///cms/wmarchive/avro/fwjr/2018/09/16', 'hdfs:///cms/wmarchive/avro/fwjr/2018/09/17', 'hdfs:///cms/wmarchive/avro/fwjr/2018/09/18', 'hdfs:///cms/wmarchive/avro/fwjr/2018/09/19', 'hdfs:///cms/wmarchive/avro/fwjr/2018/09/20', 'hdfs:///cms/wmarchive/avro/fwjr/2018/09/21', 'hdfs:///cms/wmarchive/avro/fwjr/2018/09/22', 'hdfs:///cms/wmarchive/avro/fwjr/2018/09/23', 'hdfs:///cms/wmarchive/avro/fwjr/2018/09/24', 'hdfs:///cms/wmarchive/avro/fwjr/2018/09/25', 'hdfs:///cms/wmarchive/avro/fwjr/2018/09/26', 'hdfs:///cms/wmarchive/avro/fwjr/2018/09/27', 'hdfs:///cms/wmarchive/avro/fwjr/2018/09/28', 'hdfs:///cms/wmarchive/avro/fwjr/2018/09/29', 'hdfs:///cms/wmarchive/avro/fwjr/2018/09/30', 'hdfs:///cms/wmarchive/avro/fwjr/2018/10/01', 'hdfs:///cms/wmarchive/avro/fwjr/2018/10/02', 'hdfs:///cms/wmarchive/avro/fwjr/2018/10/03', 'hdfs:///cms/wmarchive/avro/fwjr/2018/10/04', 'hdfs:///cms/wmarchive/avro/fwjr/2018/10/05', 'hdfs:///cms/wmarchive/avro/fwjr/2018/10/06', 'hdfs:///cms/wmarchive/avro/fwjr/2018/10/07', 'hdfs:///cms/wmarchive/avro/fwjr/2018/10/08', 'hdfs:///cms/wmarchive/avro/fwjr/2018/10/09', 'hdfs:///cms/wmarchive/avro/fwjr/2018/10/10', 'hdfs:///cms/wmarchive/avro/fwjr/2018/10/11', 'hdfs:///cms/wmarchive/avro/fwjr/2018/10/12', 'hdfs:///cms/wmarchive/avro/fwjr/2018/10/13', 'hdfs:///cms/wmarchive/avro/fwjr/2018/10/14', 'hdfs:///cms/wmarchive/avro/fwjr/2018/10/15', 'hdfs:///cms/wmarchive/avro/fwjr/2018/10/16', 'hdfs:///cms/wmarchive/avro/fwjr/2018/10/17', 'hdfs:///cms/wmarchive/avro/fwjr/2018/10/18', 'hdfs:///cms/wmarchive/avro/fwjr/2018/10/19', 'hdfs:///cms/wmarchive/avro/fwjr/2018/10/20', 'hdfs:///cms/wmarchive/avro/fwjr/2018/10/21', 'hdfs:///cms/wmarchive/avro/fwjr/2018/10/22', 'hdfs:///cms/wmarchive/avro/fwjr/2018/10/23', 'hdfs:///cms/wmarchive/avro/fwjr/2018/10/24', 'hdfs:///cms/wmarchive/avro/fwjr/2018/10/25', 'hdfs:///cms/wmarchive/avro/fwjr/2018/10/26', 'hdfs:///cms/wmarchive/avro/fwjr/2018/10/27', 'hdfs:///cms/wmarchive/avro/fwjr/2018/10/28', 'hdfs:///cms/wmarchive/avro/fwjr/2018/10/29', 'hdfs:///cms/wmarchive/avro/fwjr/2018/10/30', 'hdfs:///cms/wmarchive/avro/fwjr/2018/10/31', 'hdfs:///cms/wmarchive/avro/fwjr/2018/11/01']\n",
      "(20181101, 20190207)\n",
      "['hdfs:///cms/wmarchive/avro/fwjr/2018/11/01', 'hdfs:///cms/wmarchive/avro/fwjr/2018/11/02', 'hdfs:///cms/wmarchive/avro/fwjr/2018/11/03', 'hdfs:///cms/wmarchive/avro/fwjr/2018/11/04', 'hdfs:///cms/wmarchive/avro/fwjr/2018/11/05', 'hdfs:///cms/wmarchive/avro/fwjr/2018/11/06', 'hdfs:///cms/wmarchive/avro/fwjr/2018/11/07', 'hdfs:///cms/wmarchive/avro/fwjr/2018/11/08', 'hdfs:///cms/wmarchive/avro/fwjr/2018/11/09', 'hdfs:///cms/wmarchive/avro/fwjr/2018/11/10', 'hdfs:///cms/wmarchive/avro/fwjr/2018/11/11', 'hdfs:///cms/wmarchive/avro/fwjr/2018/11/12', 'hdfs:///cms/wmarchive/avro/fwjr/2018/11/13', 'hdfs:///cms/wmarchive/avro/fwjr/2018/11/14', 'hdfs:///cms/wmarchive/avro/fwjr/2018/11/15', 'hdfs:///cms/wmarchive/avro/fwjr/2018/11/16', 'hdfs:///cms/wmarchive/avro/fwjr/2018/11/17', 'hdfs:///cms/wmarchive/avro/fwjr/2018/11/18', 'hdfs:///cms/wmarchive/avro/fwjr/2018/11/19', 'hdfs:///cms/wmarchive/avro/fwjr/2018/11/20', 'hdfs:///cms/wmarchive/avro/fwjr/2018/11/21', 'hdfs:///cms/wmarchive/avro/fwjr/2018/11/22', 'hdfs:///cms/wmarchive/avro/fwjr/2018/11/23', 'hdfs:///cms/wmarchive/avro/fwjr/2018/11/24', 'hdfs:///cms/wmarchive/avro/fwjr/2018/11/25', 'hdfs:///cms/wmarchive/avro/fwjr/2018/11/26', 'hdfs:///cms/wmarchive/avro/fwjr/2018/11/27', 'hdfs:///cms/wmarchive/avro/fwjr/2018/11/28', 'hdfs:///cms/wmarchive/avro/fwjr/2018/11/29', 'hdfs:///cms/wmarchive/avro/fwjr/2018/11/30', 'hdfs:///cms/wmarchive/avro/fwjr/2018/12/01', 'hdfs:///cms/wmarchive/avro/fwjr/2018/12/02', 'hdfs:///cms/wmarchive/avro/fwjr/2018/12/03', 'hdfs:///cms/wmarchive/avro/fwjr/2018/12/04', 'hdfs:///cms/wmarchive/avro/fwjr/2018/12/05', 'hdfs:///cms/wmarchive/avro/fwjr/2018/12/06', 'hdfs:///cms/wmarchive/avro/fwjr/2018/12/07', 'hdfs:///cms/wmarchive/avro/fwjr/2018/12/08', 'hdfs:///cms/wmarchive/avro/fwjr/2018/12/09', 'hdfs:///cms/wmarchive/avro/fwjr/2018/12/10', 'hdfs:///cms/wmarchive/avro/fwjr/2018/12/11', 'hdfs:///cms/wmarchive/avro/fwjr/2018/12/12', 'hdfs:///cms/wmarchive/avro/fwjr/2018/12/13', 'hdfs:///cms/wmarchive/avro/fwjr/2018/12/14', 'hdfs:///cms/wmarchive/avro/fwjr/2018/12/15', 'hdfs:///cms/wmarchive/avro/fwjr/2018/12/16', 'hdfs:///cms/wmarchive/avro/fwjr/2018/12/17', 'hdfs:///cms/wmarchive/avro/fwjr/2018/12/18', 'hdfs:///cms/wmarchive/avro/fwjr/2018/12/19', 'hdfs:///cms/wmarchive/avro/fwjr/2018/12/20', 'hdfs:///cms/wmarchive/avro/fwjr/2018/12/21', 'hdfs:///cms/wmarchive/avro/fwjr/2018/12/22', 'hdfs:///cms/wmarchive/avro/fwjr/2018/12/23', 'hdfs:///cms/wmarchive/avro/fwjr/2018/12/24', 'hdfs:///cms/wmarchive/avro/fwjr/2018/12/25', 'hdfs:///cms/wmarchive/avro/fwjr/2018/12/26', 'hdfs:///cms/wmarchive/avro/fwjr/2018/12/27', 'hdfs:///cms/wmarchive/avro/fwjr/2018/12/28', 'hdfs:///cms/wmarchive/avro/fwjr/2018/12/29', 'hdfs:///cms/wmarchive/avro/fwjr/2018/12/30', 'hdfs:///cms/wmarchive/avro/fwjr/2018/12/31', 'hdfs:///cms/wmarchive/avro/fwjr/2019/01/01', 'hdfs:///cms/wmarchive/avro/fwjr/2019/01/02', 'hdfs:///cms/wmarchive/avro/fwjr/2019/01/03', 'hdfs:///cms/wmarchive/avro/fwjr/2019/01/04', 'hdfs:///cms/wmarchive/avro/fwjr/2019/01/05', 'hdfs:///cms/wmarchive/avro/fwjr/2019/01/06', 'hdfs:///cms/wmarchive/avro/fwjr/2019/01/07', 'hdfs:///cms/wmarchive/avro/fwjr/2019/01/08', 'hdfs:///cms/wmarchive/avro/fwjr/2019/01/09', 'hdfs:///cms/wmarchive/avro/fwjr/2019/01/10', 'hdfs:///cms/wmarchive/avro/fwjr/2019/01/11', 'hdfs:///cms/wmarchive/avro/fwjr/2019/01/12', 'hdfs:///cms/wmarchive/avro/fwjr/2019/01/13', 'hdfs:///cms/wmarchive/avro/fwjr/2019/01/14', 'hdfs:///cms/wmarchive/avro/fwjr/2019/01/15', 'hdfs:///cms/wmarchive/avro/fwjr/2019/01/16', 'hdfs:///cms/wmarchive/avro/fwjr/2019/01/17', 'hdfs:///cms/wmarchive/avro/fwjr/2019/01/18', 'hdfs:///cms/wmarchive/avro/fwjr/2019/01/19', 'hdfs:///cms/wmarchive/avro/fwjr/2019/01/20', 'hdfs:///cms/wmarchive/avro/fwjr/2019/01/21', 'hdfs:///cms/wmarchive/avro/fwjr/2019/01/22', 'hdfs:///cms/wmarchive/avro/fwjr/2019/01/23', 'hdfs:///cms/wmarchive/avro/fwjr/2019/01/24', 'hdfs:///cms/wmarchive/avro/fwjr/2019/01/25', 'hdfs:///cms/wmarchive/avro/fwjr/2019/01/26', 'hdfs:///cms/wmarchive/avro/fwjr/2019/01/27', 'hdfs:///cms/wmarchive/avro/fwjr/2019/01/28', 'hdfs:///cms/wmarchive/avro/fwjr/2019/01/29', 'hdfs:///cms/wmarchive/avro/fwjr/2019/01/30', 'hdfs:///cms/wmarchive/avro/fwjr/2019/01/31', 'hdfs:///cms/wmarchive/avro/fwjr/2019/02/01', 'hdfs:///cms/wmarchive/avro/fwjr/2019/02/02', 'hdfs:///cms/wmarchive/avro/fwjr/2019/02/03', 'hdfs:///cms/wmarchive/avro/fwjr/2019/02/04', 'hdfs:///cms/wmarchive/avro/fwjr/2019/02/05', 'hdfs:///cms/wmarchive/avro/fwjr/2019/02/06', 'hdfs:///cms/wmarchive/avro/fwjr/2019/02/07']\n"
     ]
    },
    {
     "name": "stdout",
     "output_type": "stream",
     "text": [
      "(20190207, 20190801)\n",
      "['hdfs:///cms/wmarchive/avro/fwjr/2019/02/07', 'hdfs:///cms/wmarchive/avro/fwjr/2019/02/08', 'hdfs:///cms/wmarchive/avro/fwjr/2019/02/09', 'hdfs:///cms/wmarchive/avro/fwjr/2019/02/10', 'hdfs:///cms/wmarchive/avro/fwjr/2019/02/11', 'hdfs:///cms/wmarchive/avro/fwjr/2019/02/12', 'hdfs:///cms/wmarchive/avro/fwjr/2019/02/13', 'hdfs:///cms/wmarchive/avro/fwjr/2019/02/14', 'hdfs:///cms/wmarchive/avro/fwjr/2019/02/15', 'hdfs:///cms/wmarchive/avro/fwjr/2019/02/16', 'hdfs:///cms/wmarchive/avro/fwjr/2019/02/17', 'hdfs:///cms/wmarchive/avro/fwjr/2019/02/18', 'hdfs:///cms/wmarchive/avro/fwjr/2019/02/19', 'hdfs:///cms/wmarchive/avro/fwjr/2019/02/20', 'hdfs:///cms/wmarchive/avro/fwjr/2019/02/21', 'hdfs:///cms/wmarchive/avro/fwjr/2019/02/22', 'hdfs:///cms/wmarchive/avro/fwjr/2019/02/23', 'hdfs:///cms/wmarchive/avro/fwjr/2019/02/24', 'hdfs:///cms/wmarchive/avro/fwjr/2019/02/25', 'hdfs:///cms/wmarchive/avro/fwjr/2019/02/26', 'hdfs:///cms/wmarchive/avro/fwjr/2019/02/27', 'hdfs:///cms/wmarchive/avro/fwjr/2019/02/28', 'hdfs:///cms/wmarchive/avro/fwjr/2019/03/01', 'hdfs:///cms/wmarchive/avro/fwjr/2019/03/02', 'hdfs:///cms/wmarchive/avro/fwjr/2019/03/03', 'hdfs:///cms/wmarchive/avro/fwjr/2019/03/04', 'hdfs:///cms/wmarchive/avro/fwjr/2019/03/05', 'hdfs:///cms/wmarchive/avro/fwjr/2019/03/06', 'hdfs:///cms/wmarchive/avro/fwjr/2019/03/07', 'hdfs:///cms/wmarchive/avro/fwjr/2019/03/08', 'hdfs:///cms/wmarchive/avro/fwjr/2019/03/09', 'hdfs:///cms/wmarchive/avro/fwjr/2019/03/10', 'hdfs:///cms/wmarchive/avro/fwjr/2019/03/11', 'hdfs:///cms/wmarchive/avro/fwjr/2019/03/12', 'hdfs:///cms/wmarchive/avro/fwjr/2019/03/13', 'hdfs:///cms/wmarchive/avro/fwjr/2019/03/14', 'hdfs:///cms/wmarchive/avro/fwjr/2019/03/15', 'hdfs:///cms/wmarchive/avro/fwjr/2019/03/16', 'hdfs:///cms/wmarchive/avro/fwjr/2019/03/17', 'hdfs:///cms/wmarchive/avro/fwjr/2019/03/18', 'hdfs:///cms/wmarchive/avro/fwjr/2019/03/19', 'hdfs:///cms/wmarchive/avro/fwjr/2019/03/20', 'hdfs:///cms/wmarchive/avro/fwjr/2019/03/21', 'hdfs:///cms/wmarchive/avro/fwjr/2019/03/22', 'hdfs:///cms/wmarchive/avro/fwjr/2019/03/23', 'hdfs:///cms/wmarchive/avro/fwjr/2019/03/24', 'hdfs:///cms/wmarchive/avro/fwjr/2019/03/25', 'hdfs:///cms/wmarchive/avro/fwjr/2019/03/26', 'hdfs:///cms/wmarchive/avro/fwjr/2019/03/27', 'hdfs:///cms/wmarchive/avro/fwjr/2019/03/28', 'hdfs:///cms/wmarchive/avro/fwjr/2019/03/29', 'hdfs:///cms/wmarchive/avro/fwjr/2019/03/30', 'hdfs:///cms/wmarchive/avro/fwjr/2019/03/31', 'hdfs:///cms/wmarchive/avro/fwjr/2019/04/01', 'hdfs:///cms/wmarchive/avro/fwjr/2019/04/02', 'hdfs:///cms/wmarchive/avro/fwjr/2019/04/03', 'hdfs:///cms/wmarchive/avro/fwjr/2019/04/04', 'hdfs:///cms/wmarchive/avro/fwjr/2019/04/05', 'hdfs:///cms/wmarchive/avro/fwjr/2019/04/06', 'hdfs:///cms/wmarchive/avro/fwjr/2019/04/07', 'hdfs:///cms/wmarchive/avro/fwjr/2019/04/08', 'hdfs:///cms/wmarchive/avro/fwjr/2019/04/09', 'hdfs:///cms/wmarchive/avro/fwjr/2019/04/10', 'hdfs:///cms/wmarchive/avro/fwjr/2019/04/11', 'hdfs:///cms/wmarchive/avro/fwjr/2019/04/12', 'hdfs:///cms/wmarchive/avro/fwjr/2019/04/13', 'hdfs:///cms/wmarchive/avro/fwjr/2019/04/14', 'hdfs:///cms/wmarchive/avro/fwjr/2019/04/15', 'hdfs:///cms/wmarchive/avro/fwjr/2019/04/16', 'hdfs:///cms/wmarchive/avro/fwjr/2019/04/17', 'hdfs:///cms/wmarchive/avro/fwjr/2019/04/18', 'hdfs:///cms/wmarchive/avro/fwjr/2019/04/19', 'hdfs:///cms/wmarchive/avro/fwjr/2019/04/20', 'hdfs:///cms/wmarchive/avro/fwjr/2019/04/21', 'hdfs:///cms/wmarchive/avro/fwjr/2019/04/22', 'hdfs:///cms/wmarchive/avro/fwjr/2019/04/23', 'hdfs:///cms/wmarchive/avro/fwjr/2019/04/24', 'hdfs:///cms/wmarchive/avro/fwjr/2019/04/25', 'hdfs:///cms/wmarchive/avro/fwjr/2019/04/26', 'hdfs:///cms/wmarchive/avro/fwjr/2019/04/27', 'hdfs:///cms/wmarchive/avro/fwjr/2019/04/28', 'hdfs:///cms/wmarchive/avro/fwjr/2019/04/29', 'hdfs:///cms/wmarchive/avro/fwjr/2019/04/30', 'hdfs:///cms/wmarchive/avro/fwjr/2019/05/01', 'hdfs:///cms/wmarchive/avro/fwjr/2019/05/02', 'hdfs:///cms/wmarchive/avro/fwjr/2019/05/03', 'hdfs:///cms/wmarchive/avro/fwjr/2019/05/04', 'hdfs:///cms/wmarchive/avro/fwjr/2019/05/05', 'hdfs:///cms/wmarchive/avro/fwjr/2019/05/06', 'hdfs:///cms/wmarchive/avro/fwjr/2019/05/07', 'hdfs:///cms/wmarchive/avro/fwjr/2019/05/08', 'hdfs:///cms/wmarchive/avro/fwjr/2019/05/09', 'hdfs:///cms/wmarchive/avro/fwjr/2019/05/10', 'hdfs:///cms/wmarchive/avro/fwjr/2019/05/11', 'hdfs:///cms/wmarchive/avro/fwjr/2019/05/12', 'hdfs:///cms/wmarchive/avro/fwjr/2019/05/13', 'hdfs:///cms/wmarchive/avro/fwjr/2019/05/14', 'hdfs:///cms/wmarchive/avro/fwjr/2019/05/15', 'hdfs:///cms/wmarchive/avro/fwjr/2019/05/16', 'hdfs:///cms/wmarchive/avro/fwjr/2019/05/17', 'hdfs:///cms/wmarchive/avro/fwjr/2019/05/18', 'hdfs:///cms/wmarchive/avro/fwjr/2019/05/19', 'hdfs:///cms/wmarchive/avro/fwjr/2019/05/20', 'hdfs:///cms/wmarchive/avro/fwjr/2019/05/21', 'hdfs:///cms/wmarchive/avro/fwjr/2019/05/22', 'hdfs:///cms/wmarchive/avro/fwjr/2019/05/23', 'hdfs:///cms/wmarchive/avro/fwjr/2019/05/24', 'hdfs:///cms/wmarchive/avro/fwjr/2019/05/25', 'hdfs:///cms/wmarchive/avro/fwjr/2019/05/26', 'hdfs:///cms/wmarchive/avro/fwjr/2019/05/27', 'hdfs:///cms/wmarchive/avro/fwjr/2019/05/28', 'hdfs:///cms/wmarchive/avro/fwjr/2019/05/29', 'hdfs:///cms/wmarchive/avro/fwjr/2019/05/30', 'hdfs:///cms/wmarchive/avro/fwjr/2019/05/31', 'hdfs:///cms/wmarchive/avro/fwjr/2019/06/01', 'hdfs:///cms/wmarchive/avro/fwjr/2019/06/02', 'hdfs:///cms/wmarchive/avro/fwjr/2019/06/03', 'hdfs:///cms/wmarchive/avro/fwjr/2019/06/04', 'hdfs:///cms/wmarchive/avro/fwjr/2019/06/05', 'hdfs:///cms/wmarchive/avro/fwjr/2019/06/06', 'hdfs:///cms/wmarchive/avro/fwjr/2019/06/07', 'hdfs:///cms/wmarchive/avro/fwjr/2019/06/08', 'hdfs:///cms/wmarchive/avro/fwjr/2019/06/09', 'hdfs:///cms/wmarchive/avro/fwjr/2019/06/10', 'hdfs:///cms/wmarchive/avro/fwjr/2019/06/11', 'hdfs:///cms/wmarchive/avro/fwjr/2019/06/12', 'hdfs:///cms/wmarchive/avro/fwjr/2019/06/13', 'hdfs:///cms/wmarchive/avro/fwjr/2019/06/14', 'hdfs:///cms/wmarchive/avro/fwjr/2019/06/15', 'hdfs:///cms/wmarchive/avro/fwjr/2019/06/16', 'hdfs:///cms/wmarchive/avro/fwjr/2019/06/17', 'hdfs:///cms/wmarchive/avro/fwjr/2019/06/18', 'hdfs:///cms/wmarchive/avro/fwjr/2019/06/19', 'hdfs:///cms/wmarchive/avro/fwjr/2019/06/20', 'hdfs:///cms/wmarchive/avro/fwjr/2019/06/21', 'hdfs:///cms/wmarchive/avro/fwjr/2019/06/22', 'hdfs:///cms/wmarchive/avro/fwjr/2019/06/23', 'hdfs:///cms/wmarchive/avro/fwjr/2019/06/24', 'hdfs:///cms/wmarchive/avro/fwjr/2019/06/25', 'hdfs:///cms/wmarchive/avro/fwjr/2019/06/26', 'hdfs:///cms/wmarchive/avro/fwjr/2019/06/27', 'hdfs:///cms/wmarchive/avro/fwjr/2019/06/28', 'hdfs:///cms/wmarchive/avro/fwjr/2019/06/29', 'hdfs:///cms/wmarchive/avro/fwjr/2019/06/30', 'hdfs:///cms/wmarchive/avro/fwjr/2019/07/01', 'hdfs:///cms/wmarchive/avro/fwjr/2019/07/02', 'hdfs:///cms/wmarchive/avro/fwjr/2019/07/03', 'hdfs:///cms/wmarchive/avro/fwjr/2019/07/04', 'hdfs:///cms/wmarchive/avro/fwjr/2019/07/05', 'hdfs:///cms/wmarchive/avro/fwjr/2019/07/06', 'hdfs:///cms/wmarchive/avro/fwjr/2019/07/07', 'hdfs:///cms/wmarchive/avro/fwjr/2019/07/08', 'hdfs:///cms/wmarchive/avro/fwjr/2019/07/09', 'hdfs:///cms/wmarchive/avro/fwjr/2019/07/10', 'hdfs:///cms/wmarchive/avro/fwjr/2019/07/11', 'hdfs:///cms/wmarchive/avro/fwjr/2019/07/12', 'hdfs:///cms/wmarchive/avro/fwjr/2019/07/13', 'hdfs:///cms/wmarchive/avro/fwjr/2019/07/14', 'hdfs:///cms/wmarchive/avro/fwjr/2019/07/15', 'hdfs:///cms/wmarchive/avro/fwjr/2019/07/16', 'hdfs:///cms/wmarchive/avro/fwjr/2019/07/17', 'hdfs:///cms/wmarchive/avro/fwjr/2019/07/18', 'hdfs:///cms/wmarchive/avro/fwjr/2019/07/19', 'hdfs:///cms/wmarchive/avro/fwjr/2019/07/20', 'hdfs:///cms/wmarchive/avro/fwjr/2019/07/21', 'hdfs:///cms/wmarchive/avro/fwjr/2019/07/22', 'hdfs:///cms/wmarchive/avro/fwjr/2019/07/23', 'hdfs:///cms/wmarchive/avro/fwjr/2019/07/24', 'hdfs:///cms/wmarchive/avro/fwjr/2019/07/25', 'hdfs:///cms/wmarchive/avro/fwjr/2019/07/26', 'hdfs:///cms/wmarchive/avro/fwjr/2019/07/27', 'hdfs:///cms/wmarchive/avro/fwjr/2019/07/28', 'hdfs:///cms/wmarchive/avro/fwjr/2019/07/29', 'hdfs:///cms/wmarchive/avro/fwjr/2019/07/30', 'hdfs:///cms/wmarchive/avro/fwjr/2019/07/31', 'hdfs:///cms/wmarchive/avro/fwjr/2019/08/01']\n"
     ]
    }
   ],
   "source": [
    "for time in time_chunks:\n",
    "    df_pandas = join_to_pandas(time, store = True)"
   ]
  },
  {
   "cell_type": "code",
   "execution_count": null,
   "metadata": {},
   "outputs": [],
   "source": [
    "\"\"\"\n",
    "https://gist.github.com/joshlk/871d58e01417478176e7import pandas as pd\n",
    "\n",
    "def _map_to_pandas(rdds):\n",
    "    #Needs to be here due to pickling issues \n",
    "    return [pd.DataFrame(list(rdds))]\n",
    "\n",
    "def toPandas(df, n_partitions=None):\n",
    "    \n",
    "    #Returns the contents of `df` as a local `pandas.DataFrame` in a speedy fashion. The DataFrame is\n",
    "    #repartitioned if `n_partitions` is passed.\n",
    "    #:param df:              pyspark.sql.DataFrame\n",
    "    #:param n_partitions:    int or None\n",
    "    #:return:                pandas.DataFrame\n",
    "    \n",
    "    if n_partitions is not None: df = df.repartition(n_partitions)\n",
    "    df_pand = df.rdd.mapPartitions(_map_to_pandas).collect()\n",
    "    df_pand = pd.concat(df_pand)\n",
    "    df_pand.columns = df.columns\n",
    "    return df_pand\n",
    "\n",
    "\"\"\""
   ]
  }
 ],
 "metadata": {
  "kernelspec": {
   "display_name": "Python 2",
   "language": "python",
   "name": "python2"
  },
  "language_info": {
   "codemirror_mode": {
    "name": "ipython",
    "version": 2
   },
   "file_extension": ".py",
   "mimetype": "text/x-python",
   "name": "python",
   "nbconvert_exporter": "python",
   "pygments_lexer": "ipython2",
   "version": "2.7.16"
  },
  "sparkconnect": {
   "bundled_options": [
    "CMSSpark"
   ],
   "list_of_options": []
  }
 },
 "nbformat": 4,
 "nbformat_minor": 2
}
