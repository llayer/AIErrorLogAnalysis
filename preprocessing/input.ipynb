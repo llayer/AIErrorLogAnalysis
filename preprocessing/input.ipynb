{
 "cells": [
  {
   "cell_type": "code",
   "execution_count": 61,
   "metadata": {},
   "outputs": [],
   "source": [
    "import InputGenerator"
   ]
  },
  {
   "cell_type": "code",
   "execution_count": 82,
   "metadata": {},
   "outputs": [
    {
     "data": {
      "text/plain": [
       "<module 'InputGenerator' from 'InputGenerator.py'>"
      ]
     },
     "execution_count": 82,
     "metadata": {},
     "output_type": "execute_result"
    }
   ],
   "source": [
    "reload(InputGenerator)"
   ]
  },
  {
   "cell_type": "code",
   "execution_count": 83,
   "metadata": {},
   "outputs": [],
   "source": [
    "gen = InputGenerator.InputGenerator('/nfshome/llayer/data/actionshistory.json')"
   ]
  },
  {
   "cell_type": "code",
   "execution_count": 32,
   "metadata": {},
   "outputs": [],
   "source": [
    "gen.generate_error_site_matrix('bad')\n",
    "gen.generate_error_site_matrix('good')"
   ]
  },
  {
   "cell_type": "code",
   "execution_count": 46,
   "metadata": {},
   "outputs": [],
   "source": [
    "gen.generate_error_site_matrix('merged')"
   ]
  },
  {
   "cell_type": "code",
   "execution_count": 84,
   "metadata": {},
   "outputs": [],
   "source": [
    "gen.generate_error_site_w2v_matrix('/nfshome/llayer/data/df_word2vec_exitcodes.csv')"
   ]
  },
  {
   "cell_type": "code",
   "execution_count": 65,
   "metadata": {},
   "outputs": [],
   "source": [
    "test = gen.inspect_single_task( 5 )"
   ]
  },
  {
   "cell_type": "code",
   "execution_count": 85,
   "metadata": {},
   "outputs": [
    {
     "name": "stdout",
     "output_type": "stream",
     "text": [
      "0 / 10\n",
      "Stored output\n",
      "1 / 10\n",
      "Stored output\n",
      "2 / 10\n",
      "Stored output\n",
      "3 / 10\n",
      "Stored output\n",
      "4 / 10\n",
      "Stored output\n",
      "5 / 10\n",
      "Stored output\n",
      "6 / 10\n",
      "Stored output\n",
      "7 / 10\n",
      "Stored output\n",
      "8 / 10\n",
      "Stored output\n",
      "9 / 10\n",
      "Stored output\n"
     ]
    }
   ],
   "source": [
    "gen.store('w2v_matrix_test', 10)"
   ]
  },
  {
   "cell_type": "code",
   "execution_count": 66,
   "metadata": {},
   "outputs": [
    {
     "data": {
      "text/plain": [
       "(64, 151, 11)"
      ]
     },
     "execution_count": 66,
     "metadata": {},
     "output_type": "execute_result"
    }
   ],
   "source": [
    "test['table_w2v'].shape"
   ]
  },
  {
   "cell_type": "code",
   "execution_count": 38,
   "metadata": {},
   "outputs": [
    {
     "data": {
      "text/plain": [
       "(56, 147)"
      ]
     },
     "execution_count": 38,
     "metadata": {},
     "output_type": "execute_result"
    }
   ],
   "source": [
    "test['table_bad_sites'].shape"
   ]
  },
  {
   "cell_type": "code",
   "execution_count": 22,
   "metadata": {},
   "outputs": [
    {
     "data": {
      "text/html": [
       "<div>\n",
       "<style scoped>\n",
       "    .dataframe tbody tr th:only-of-type {\n",
       "        vertical-align: middle;\n",
       "    }\n",
       "\n",
       "    .dataframe tbody tr th {\n",
       "        vertical-align: top;\n",
       "    }\n",
       "\n",
       "    .dataframe thead th {\n",
       "        text-align: right;\n",
       "    }\n",
       "</style>\n",
       "<table border=\"1\" class=\"dataframe\">\n",
       "  <thead>\n",
       "    <tr style=\"text-align: right;\">\n",
       "      <th></th>\n",
       "      <th>task_name</th>\n",
       "      <th>errors</th>\n",
       "      <th>parameters</th>\n",
       "      <th>splitting</th>\n",
       "      <th>splitting_encoded</th>\n",
       "      <th>xrootd</th>\n",
       "      <th>xrootd_encoded</th>\n",
       "      <th>memory</th>\n",
       "      <th>memory_encoded</th>\n",
       "      <th>action</th>\n",
       "      <th>action_encoded</th>\n",
       "      <th>action_split</th>\n",
       "      <th>action_split_encoded</th>\n",
       "      <th>action_binary</th>\n",
       "      <th>action_binary_encoded</th>\n",
       "      <th>table_bad_sites</th>\n",
       "    </tr>\n",
       "  </thead>\n",
       "  <tbody>\n",
       "    <tr>\n",
       "      <th>0</th>\n",
       "      <td>/amaltaro_Run2016D-v2-DoubleMuonLowMass-07Aug1...</td>\n",
       "      <td>{u'good_sites': {}, u'bad_sites': {u'-1': {u'T...</td>\n",
       "      <td>{u'action': u'acdc', u'sites': [u'T1_US_FNAL']...</td>\n",
       "      <td>1x</td>\n",
       "      <td>0</td>\n",
       "      <td>NaN</td>\n",
       "      <td>2</td>\n",
       "      <td></td>\n",
       "      <td>3</td>\n",
       "      <td>acdc</td>\n",
       "      <td>0</td>\n",
       "      <td>acdc_1x</td>\n",
       "      <td>2</td>\n",
       "      <td>acdc</td>\n",
       "      <td>0</td>\n",
       "      <td>[[0.0, 0.0, 0.0, 0.0, 0.0, 0.0, 0.0, 0.0, 0.0,...</td>\n",
       "    </tr>\n",
       "    <tr>\n",
       "      <th>1</th>\n",
       "      <td>/amaltaro_Run2016D-v2-DoubleMuonLowMass-07Aug1...</td>\n",
       "      <td>{u'good_sites': {}, u'bad_sites': {u'-1': {u'T...</td>\n",
       "      <td>{u'action': u'acdc', u'sites': [u'T1_US_FNAL']...</td>\n",
       "      <td>1x</td>\n",
       "      <td>0</td>\n",
       "      <td>NaN</td>\n",
       "      <td>2</td>\n",
       "      <td></td>\n",
       "      <td>3</td>\n",
       "      <td>acdc</td>\n",
       "      <td>0</td>\n",
       "      <td>acdc_1x</td>\n",
       "      <td>2</td>\n",
       "      <td>acdc</td>\n",
       "      <td>0</td>\n",
       "      <td>[[0.0, 0.0, 0.0, 0.0, 0.0, 0.0, 0.0, 0.0, 0.0,...</td>\n",
       "    </tr>\n",
       "    <tr>\n",
       "      <th>2</th>\n",
       "      <td>/amaltaro_Run2016D-v2-DoubleMuonLowMass-07Aug1...</td>\n",
       "      <td>{u'good_sites': {}, u'bad_sites': {u'-1': {u'T...</td>\n",
       "      <td>{u'action': u'acdc', u'sites': [u'T1_US_FNAL']...</td>\n",
       "      <td>1x</td>\n",
       "      <td>0</td>\n",
       "      <td>NaN</td>\n",
       "      <td>2</td>\n",
       "      <td></td>\n",
       "      <td>3</td>\n",
       "      <td>acdc</td>\n",
       "      <td>0</td>\n",
       "      <td>acdc_1x</td>\n",
       "      <td>2</td>\n",
       "      <td>acdc</td>\n",
       "      <td>0</td>\n",
       "      <td>[[0.0, 0.0, 0.0, 0.0, 0.0, 0.0, 0.0, 0.0, 0.0,...</td>\n",
       "    </tr>\n",
       "    <tr>\n",
       "      <th>3</th>\n",
       "      <td>/amaltaro_Run2018A-v1-DoubleMuon-17Sep2018_102...</td>\n",
       "      <td>{u'good_sites': {u'85': {u'T1_UK_RAL': 1}}, u'...</td>\n",
       "      <td>{u'action': u'acdc', u'cores': u'', u'xrootd':...</td>\n",
       "      <td>1x</td>\n",
       "      <td>0</td>\n",
       "      <td>enabled</td>\n",
       "      <td>0</td>\n",
       "      <td></td>\n",
       "      <td>3</td>\n",
       "      <td>acdc</td>\n",
       "      <td>0</td>\n",
       "      <td>acdc_1x</td>\n",
       "      <td>2</td>\n",
       "      <td>acdc</td>\n",
       "      <td>0</td>\n",
       "      <td>[[0.0, 0.0, 0.0, 1.0, 1.0, 0.0, 1.0, 1.0, 0.0,...</td>\n",
       "    </tr>\n",
       "    <tr>\n",
       "      <th>4</th>\n",
       "      <td>/amaltaro_Run2018A-v1-DoubleMuon-17Sep2018_102...</td>\n",
       "      <td>{u'good_sites': {u'-1': {u'T2_DE_RWTH': 1, u'T...</td>\n",
       "      <td>{u'action': u'acdc', u'cores': u'', u'sites': ...</td>\n",
       "      <td>1x</td>\n",
       "      <td>0</td>\n",
       "      <td>NaN</td>\n",
       "      <td>2</td>\n",
       "      <td></td>\n",
       "      <td>3</td>\n",
       "      <td>acdc</td>\n",
       "      <td>0</td>\n",
       "      <td>acdc_1x</td>\n",
       "      <td>2</td>\n",
       "      <td>acdc</td>\n",
       "      <td>0</td>\n",
       "      <td>[[0.0, 0.0, 0.0, 0.0, 0.0, 0.0, 0.0, 0.0, 0.0,...</td>\n",
       "    </tr>\n",
       "  </tbody>\n",
       "</table>\n",
       "</div>"
      ],
      "text/plain": [
       "                                           task_name  \\\n",
       "0  /amaltaro_Run2016D-v2-DoubleMuonLowMass-07Aug1...   \n",
       "1  /amaltaro_Run2016D-v2-DoubleMuonLowMass-07Aug1...   \n",
       "2  /amaltaro_Run2016D-v2-DoubleMuonLowMass-07Aug1...   \n",
       "3  /amaltaro_Run2018A-v1-DoubleMuon-17Sep2018_102...   \n",
       "4  /amaltaro_Run2018A-v1-DoubleMuon-17Sep2018_102...   \n",
       "\n",
       "                                              errors  \\\n",
       "0  {u'good_sites': {}, u'bad_sites': {u'-1': {u'T...   \n",
       "1  {u'good_sites': {}, u'bad_sites': {u'-1': {u'T...   \n",
       "2  {u'good_sites': {}, u'bad_sites': {u'-1': {u'T...   \n",
       "3  {u'good_sites': {u'85': {u'T1_UK_RAL': 1}}, u'...   \n",
       "4  {u'good_sites': {u'-1': {u'T2_DE_RWTH': 1, u'T...   \n",
       "\n",
       "                                          parameters splitting  \\\n",
       "0  {u'action': u'acdc', u'sites': [u'T1_US_FNAL']...        1x   \n",
       "1  {u'action': u'acdc', u'sites': [u'T1_US_FNAL']...        1x   \n",
       "2  {u'action': u'acdc', u'sites': [u'T1_US_FNAL']...        1x   \n",
       "3  {u'action': u'acdc', u'cores': u'', u'xrootd':...        1x   \n",
       "4  {u'action': u'acdc', u'cores': u'', u'sites': ...        1x   \n",
       "\n",
       "   splitting_encoded   xrootd  xrootd_encoded memory  memory_encoded action  \\\n",
       "0                  0      NaN               2                      3   acdc   \n",
       "1                  0      NaN               2                      3   acdc   \n",
       "2                  0      NaN               2                      3   acdc   \n",
       "3                  0  enabled               0                      3   acdc   \n",
       "4                  0      NaN               2                      3   acdc   \n",
       "\n",
       "   action_encoded action_split  action_split_encoded action_binary  \\\n",
       "0               0      acdc_1x                     2          acdc   \n",
       "1               0      acdc_1x                     2          acdc   \n",
       "2               0      acdc_1x                     2          acdc   \n",
       "3               0      acdc_1x                     2          acdc   \n",
       "4               0      acdc_1x                     2          acdc   \n",
       "\n",
       "   action_binary_encoded                                    table_bad_sites  \n",
       "0                      0  [[0.0, 0.0, 0.0, 0.0, 0.0, 0.0, 0.0, 0.0, 0.0,...  \n",
       "1                      0  [[0.0, 0.0, 0.0, 0.0, 0.0, 0.0, 0.0, 0.0, 0.0,...  \n",
       "2                      0  [[0.0, 0.0, 0.0, 0.0, 0.0, 0.0, 0.0, 0.0, 0.0,...  \n",
       "3                      0  [[0.0, 0.0, 0.0, 1.0, 1.0, 0.0, 1.0, 1.0, 0.0,...  \n",
       "4                      0  [[0.0, 0.0, 0.0, 0.0, 0.0, 0.0, 0.0, 0.0, 0.0,...  "
      ]
     },
     "execution_count": 22,
     "metadata": {},
     "output_type": "execute_result"
    }
   ],
   "source": [
    "gen.actionshistory.head()"
   ]
  },
  {
   "cell_type": "code",
   "execution_count": null,
   "metadata": {},
   "outputs": [],
   "source": []
  },
  {
   "cell_type": "code",
   "execution_count": 30,
   "metadata": {},
   "outputs": [
    {
     "name": "stderr",
     "output_type": "stream",
     "text": [
      "/usr/local/lib/python2.7/dist-packages/pandas/core/generic.py:1993: PerformanceWarning: \n",
      "your performance may suffer as PyTables will pickle object types that it cannot\n",
      "map directly to c-types [inferred_type->mixed,key->block0_values] [items->['splitting', 'xrootd', 'memory', 'action', 'action_split', 'action_binary', 'table_good_sites']]\n",
      "\n",
      "  return pytables.to_hdf(path_or_buf, key, self, **kwargs)\n"
     ]
    }
   ],
   "source": [
    "gen.store()"
   ]
  },
  {
   "cell_type": "code",
   "execution_count": null,
   "metadata": {},
   "outputs": [],
   "source": []
  }
 ],
 "metadata": {
  "kernelspec": {
   "display_name": "Python 2",
   "language": "python",
   "name": "python2"
  },
  "language_info": {
   "codemirror_mode": {
    "name": "ipython",
    "version": 2
   },
   "file_extension": ".py",
   "mimetype": "text/x-python",
   "name": "python",
   "nbconvert_exporter": "python",
   "pygments_lexer": "ipython2",
   "version": "2.7.12"
  }
 },
 "nbformat": 4,
 "nbformat_minor": 2
}
