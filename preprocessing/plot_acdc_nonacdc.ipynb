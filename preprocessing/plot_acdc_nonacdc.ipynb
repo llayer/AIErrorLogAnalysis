{
 "cells": [
  {
   "cell_type": "markdown",
   "metadata": {},
   "source": [
    "# Plot the input for the machine learning"
   ]
  },
  {
   "cell_type": "code",
   "execution_count": 1,
   "metadata": {},
   "outputs": [],
   "source": [
    "import os\n",
    "import sys\n",
    "module_path = os.path.abspath(os.path.join('..'))\n",
    "if module_path not in sys.path:\n",
    "    sys.path.append(module_path)"
   ]
  },
  {
   "cell_type": "code",
   "execution_count": 2,
   "metadata": {},
   "outputs": [],
   "source": [
    "import utils.create_actionshist_keys \n",
    "import utils.actionshist_utils"
   ]
  },
  {
   "cell_type": "code",
   "execution_count": 3,
   "metadata": {},
   "outputs": [],
   "source": [
    "import re\n",
    "from datetime import datetime\n",
    "import matplotlib.pyplot as plt\n",
    "import numpy as np\n",
    "import pandas as pd"
   ]
  },
  {
   "cell_type": "code",
   "execution_count": 5,
   "metadata": {},
   "outputs": [],
   "source": [
    "actionshist_path = '/eos/user/l/llayer/AIErrorLogAnalysis/spark/data/actionshistory_300719.json'\n",
    "data = utils.create_actionshist_keys.load_data(actionshist_path)"
   ]
  },
  {
   "cell_type": "code",
   "execution_count": 6,
   "metadata": {},
   "outputs": [],
   "source": [
    "utils.actionshist_utils.set_binary_labels(data)"
   ]
  },
  {
   "cell_type": "code",
   "execution_count": 7,
   "metadata": {},
   "outputs": [
    {
     "data": {
      "text/html": [
       "<div>\n",
       "<style scoped>\n",
       "    .dataframe tbody tr th:only-of-type {\n",
       "        vertical-align: middle;\n",
       "    }\n",
       "\n",
       "    .dataframe tbody tr th {\n",
       "        vertical-align: top;\n",
       "    }\n",
       "\n",
       "    .dataframe thead th {\n",
       "        text-align: right;\n",
       "    }\n",
       "</style>\n",
       "<table border=\"1\" class=\"dataframe\">\n",
       "  <thead>\n",
       "    <tr style=\"text-align: right;\">\n",
       "      <th></th>\n",
       "      <th>task_name</th>\n",
       "      <th>errors</th>\n",
       "      <th>parameters</th>\n",
       "      <th>action</th>\n",
       "      <th>action_binary_encoded</th>\n",
       "    </tr>\n",
       "  </thead>\n",
       "  <tbody>\n",
       "    <tr>\n",
       "      <th>0</th>\n",
       "      <td>/amaltaro_Run2016D-v2-DoubleMuonLowMass-07Aug1...</td>\n",
       "      <td>{u'good_sites': {}, u'bad_sites': {u'-1': {u'T...</td>\n",
       "      <td>{u'action': u'acdc', u'sites': [u'T1_US_FNAL']...</td>\n",
       "      <td>acdc</td>\n",
       "      <td>0</td>\n",
       "    </tr>\n",
       "    <tr>\n",
       "      <th>1</th>\n",
       "      <td>/amaltaro_Run2016D-v2-DoubleMuonLowMass-07Aug1...</td>\n",
       "      <td>{u'good_sites': {}, u'bad_sites': {u'-1': {u'T...</td>\n",
       "      <td>{u'action': u'acdc', u'sites': [u'T1_US_FNAL']...</td>\n",
       "      <td>acdc</td>\n",
       "      <td>0</td>\n",
       "    </tr>\n",
       "    <tr>\n",
       "      <th>2</th>\n",
       "      <td>/amaltaro_Run2016D-v2-DoubleMuonLowMass-07Aug1...</td>\n",
       "      <td>{u'good_sites': {}, u'bad_sites': {u'-1': {u'T...</td>\n",
       "      <td>{u'action': u'acdc', u'sites': [u'T1_US_FNAL']...</td>\n",
       "      <td>acdc</td>\n",
       "      <td>0</td>\n",
       "    </tr>\n",
       "    <tr>\n",
       "      <th>3</th>\n",
       "      <td>/amaltaro_Run2018A-v1-DoubleMuon-17Sep2018_102...</td>\n",
       "      <td>{u'good_sites': {u'85': {u'T1_UK_RAL': 1}}, u'...</td>\n",
       "      <td>{u'action': u'acdc', u'cores': u'', u'xrootd':...</td>\n",
       "      <td>acdc</td>\n",
       "      <td>0</td>\n",
       "    </tr>\n",
       "    <tr>\n",
       "      <th>4</th>\n",
       "      <td>/amaltaro_Run2018A-v1-DoubleMuon-17Sep2018_102...</td>\n",
       "      <td>{u'good_sites': {u'-1': {u'T2_DE_RWTH': 1, u'T...</td>\n",
       "      <td>{u'action': u'acdc', u'cores': u'', u'sites': ...</td>\n",
       "      <td>acdc</td>\n",
       "      <td>0</td>\n",
       "    </tr>\n",
       "  </tbody>\n",
       "</table>\n",
       "</div>"
      ],
      "text/plain": [
       "                                           task_name  \\\n",
       "0  /amaltaro_Run2016D-v2-DoubleMuonLowMass-07Aug1...   \n",
       "1  /amaltaro_Run2016D-v2-DoubleMuonLowMass-07Aug1...   \n",
       "2  /amaltaro_Run2016D-v2-DoubleMuonLowMass-07Aug1...   \n",
       "3  /amaltaro_Run2018A-v1-DoubleMuon-17Sep2018_102...   \n",
       "4  /amaltaro_Run2018A-v1-DoubleMuon-17Sep2018_102...   \n",
       "\n",
       "                                              errors  \\\n",
       "0  {u'good_sites': {}, u'bad_sites': {u'-1': {u'T...   \n",
       "1  {u'good_sites': {}, u'bad_sites': {u'-1': {u'T...   \n",
       "2  {u'good_sites': {}, u'bad_sites': {u'-1': {u'T...   \n",
       "3  {u'good_sites': {u'85': {u'T1_UK_RAL': 1}}, u'...   \n",
       "4  {u'good_sites': {u'-1': {u'T2_DE_RWTH': 1, u'T...   \n",
       "\n",
       "                                          parameters action  \\\n",
       "0  {u'action': u'acdc', u'sites': [u'T1_US_FNAL']...   acdc   \n",
       "1  {u'action': u'acdc', u'sites': [u'T1_US_FNAL']...   acdc   \n",
       "2  {u'action': u'acdc', u'sites': [u'T1_US_FNAL']...   acdc   \n",
       "3  {u'action': u'acdc', u'cores': u'', u'xrootd':...   acdc   \n",
       "4  {u'action': u'acdc', u'cores': u'', u'sites': ...   acdc   \n",
       "\n",
       "   action_binary_encoded  \n",
       "0                      0  \n",
       "1                      0  \n",
       "2                      0  \n",
       "3                      0  \n",
       "4                      0  "
      ]
     },
     "execution_count": 7,
     "metadata": {},
     "output_type": "execute_result"
    }
   ],
   "source": [
    "data.head()"
   ]
  },
  {
   "cell_type": "markdown",
   "metadata": {},
   "source": [
    "## 1. Plot the rough time distribution of the workflows"
   ]
  },
  {
   "cell_type": "code",
   "execution_count": 16,
   "metadata": {},
   "outputs": [],
   "source": [
    "def date(task_name):\n",
    "    \n",
    "    p = re.findall(r'_(\\d{6})', task_name)\n",
    "    date = p[0]\n",
    "    date = datetime.strptime(date, '%y%m%d')\n",
    "    return date"
   ]
  },
  {
   "cell_type": "code",
   "execution_count": 17,
   "metadata": {},
   "outputs": [],
   "source": [
    "data['date'] = data.apply(lambda x : date(x['task_name']),axis=1)"
   ]
  },
  {
   "cell_type": "code",
   "execution_count": 18,
   "metadata": {},
   "outputs": [
    {
     "data": {
      "text/plain": [
       "<matplotlib.axes._subplots.AxesSubplot at 0x7faa87bc7ad0>"
      ]
     },
     "execution_count": 18,
     "metadata": {},
     "output_type": "execute_result"
    },
    {
     "data": {
      "image/png": "[encoded data removed]",
      "text/plain": [
       "<Figure size 432x288 with 1 Axes>"
      ]
     },
     "metadata": {
      "needs_background": "light"
     },
     "output_type": "display_data"
    }
   ],
   "source": [
    "data['task_name'].drop_duplicates().groupby([data[\"date\"].dt.year, \n",
    "                                               data[\"date\"].dt.month]).count().plot(kind=\"bar\")"
   ]
  },
  {
   "cell_type": "markdown",
   "metadata": {},
   "source": [
    "## 2. Plot the ratio of acdc/non-acdc as a function of time"
   ]
  },
  {
   "cell_type": "code",
   "execution_count": 20,
   "metadata": {},
   "outputs": [],
   "source": [
    "def ratio( frame ):\n",
    "    \n",
    "    time_series = frame['action'].groupby([frame[\"date\"].dt.year, frame[\"date\"].dt.month])\n",
    "    \n",
    "    dates = []\n",
    "    counts = []\n",
    "    for name, group in time_series:\n",
    "        dates.append( name )\n",
    "        c = group.value_counts().to_frame()\n",
    "        ratio = [0,0,0,0,0]\n",
    "        for i in range(len(c)):\n",
    "            ratio[i] = c['action'].iloc[i]\n",
    "        counts.append(ratio)\n",
    "        \n",
    "    counts = np.array(counts)\n",
    "    non_acdc = counts[:,1:5].sum(axis=1)\n",
    "    acdc = counts[:,0]\n",
    "    \n",
    "    ratios = []\n",
    "    for i in range(len(acdc)):\n",
    "        ratios.append( ( float(non_acdc[i]) / float(non_acdc[i] + acdc[i]) ) )\n",
    "    x = np.linspace(0, len(ratios), len(ratios))\n",
    "    \n",
    "    plt.plot(x, ratios, 'o', color='red')\n",
    "    plt.xticks(x, dates, rotation='vertical')\n",
    "    plt.show()\n",
    "    "
   ]
  },
  {
   "cell_type": "code",
   "execution_count": 21,
   "metadata": {},
   "outputs": [
    {
     "data": {
      "image/png": "[encoded data removed]",
      "text/plain": [
       "<Figure size 432x288 with 1 Axes>"
      ]
     },
     "metadata": {
      "needs_background": "light"
     },
     "output_type": "display_data"
    }
   ],
   "source": [
    "ratio( data )"
   ]
  },
  {
   "cell_type": "markdown",
   "metadata": {},
   "source": [
    "## 3. Plot the acdc / non-acdc input distributions"
   ]
  },
  {
   "cell_type": "code",
   "execution_count": 30,
   "metadata": {},
   "outputs": [
    {
     "data": {
      "text/plain": [
       "<module 'create_actionshist_keys' from 'create_actionshist_keys.py'>"
      ]
     },
     "execution_count": 30,
     "metadata": {},
     "output_type": "execute_result"
    }
   ],
   "source": [
    "reload(create_actionshist_keys)"
   ]
  },
  {
   "cell_type": "code",
   "execution_count": 31,
   "metadata": {},
   "outputs": [],
   "source": [
    "keys = create_actionshist_keys.get_keys(data, ignore_neg_code = False)"
   ]
  },
  {
   "cell_type": "code",
   "execution_count": 32,
   "metadata": {},
   "outputs": [
    {
     "data": {
      "text/html": [
       "<div>\n",
       "<style scoped>\n",
       "    .dataframe tbody tr th:only-of-type {\n",
       "        vertical-align: middle;\n",
       "    }\n",
       "\n",
       "    .dataframe tbody tr th {\n",
       "        vertical-align: top;\n",
       "    }\n",
       "\n",
       "    .dataframe thead th {\n",
       "        text-align: right;\n",
       "    }\n",
       "</style>\n",
       "<table border=\"1\" class=\"dataframe\">\n",
       "  <thead>\n",
       "    <tr style=\"text-align: right;\">\n",
       "      <th></th>\n",
       "      <th>task_name</th>\n",
       "      <th>error</th>\n",
       "      <th>site</th>\n",
       "      <th>site_state</th>\n",
       "      <th>count</th>\n",
       "      <th>label</th>\n",
       "    </tr>\n",
       "  </thead>\n",
       "  <tbody>\n",
       "    <tr>\n",
       "      <th>0</th>\n",
       "      <td>/amaltaro_Run2016D-v2-DoubleMuonLowMass-07Aug1...</td>\n",
       "      <td>-1</td>\n",
       "      <td>T1_US_FNAL_Disk</td>\n",
       "      <td>bad</td>\n",
       "      <td>1</td>\n",
       "      <td>0</td>\n",
       "    </tr>\n",
       "    <tr>\n",
       "      <th>1</th>\n",
       "      <td>/amaltaro_Run2016D-v2-DoubleMuonLowMass-07Aug1...</td>\n",
       "      <td>-1</td>\n",
       "      <td>T3_US_FNALLPC</td>\n",
       "      <td>bad</td>\n",
       "      <td>1</td>\n",
       "      <td>0</td>\n",
       "    </tr>\n",
       "    <tr>\n",
       "      <th>2</th>\n",
       "      <td>/amaltaro_Run2016D-v2-DoubleMuonLowMass-07Aug1...</td>\n",
       "      <td>-1</td>\n",
       "      <td>T3_US_FNALLPC</td>\n",
       "      <td>bad</td>\n",
       "      <td>1</td>\n",
       "      <td>0</td>\n",
       "    </tr>\n",
       "    <tr>\n",
       "      <th>3</th>\n",
       "      <td>/amaltaro_Run2018A-v1-DoubleMuon-17Sep2018_102...</td>\n",
       "      <td>-1</td>\n",
       "      <td>T1_DE_KIT_Disk</td>\n",
       "      <td>bad</td>\n",
       "      <td>1</td>\n",
       "      <td>0</td>\n",
       "    </tr>\n",
       "    <tr>\n",
       "      <th>4</th>\n",
       "      <td>/amaltaro_Run2018A-v1-DoubleMuon-17Sep2018_102...</td>\n",
       "      <td>50664</td>\n",
       "      <td>T2_DE_RWTH</td>\n",
       "      <td>good</td>\n",
       "      <td>2</td>\n",
       "      <td>0</td>\n",
       "    </tr>\n",
       "  </tbody>\n",
       "</table>\n",
       "</div>"
      ],
      "text/plain": [
       "                                           task_name  error             site  \\\n",
       "0  /amaltaro_Run2016D-v2-DoubleMuonLowMass-07Aug1...     -1  T1_US_FNAL_Disk   \n",
       "1  /amaltaro_Run2016D-v2-DoubleMuonLowMass-07Aug1...     -1    T3_US_FNALLPC   \n",
       "2  /amaltaro_Run2016D-v2-DoubleMuonLowMass-07Aug1...     -1    T3_US_FNALLPC   \n",
       "3  /amaltaro_Run2018A-v1-DoubleMuon-17Sep2018_102...     -1   T1_DE_KIT_Disk   \n",
       "4  /amaltaro_Run2018A-v1-DoubleMuon-17Sep2018_102...  50664       T2_DE_RWTH   \n",
       "\n",
       "  site_state  count  label  \n",
       "0        bad      1      0  \n",
       "1        bad      1      0  \n",
       "2        bad      1      0  \n",
       "3        bad      1      0  \n",
       "4       good      2      0  "
      ]
     },
     "execution_count": 32,
     "metadata": {},
     "output_type": "execute_result"
    }
   ],
   "source": [
    "keys.head()"
   ]
  },
  {
   "cell_type": "markdown",
   "metadata": {},
   "source": [
    "### Plot the error code distributions"
   ]
  },
  {
   "cell_type": "code",
   "execution_count": 113,
   "metadata": {},
   "outputs": [],
   "source": [
    "def plot_discrimination_error(weighted = False, site_state='sum'):\n",
    "    \n",
    "    if site_state == 'sum':\n",
    "        mask_acdc = keys['label'] == 0\n",
    "        mask_nonacdc = keys['label'] == 1\n",
    "    if site_state == 'good':\n",
    "        mask_acdc = (keys['label'] == 0) & (keys['site_state'] == 'good')\n",
    "        mask_nonacdc = (keys['label'] == 1) & (keys['site_state'] == 'good')\n",
    "    if site_state == 'bad':\n",
    "        mask_acdc = (keys['label'] == 0) & (keys['site_state'] == 'bad')\n",
    "        mask_nonacdc = (keys['label'] == 1) & (keys['site_state'] == 'bad')\n",
    "    \n",
    "    if weighted == True:\n",
    "        counts_acdc = keys[mask_acdc].groupby('error')['count'].sum().to_frame('counts').reset_index().rename(columns={'counts': 'counts_acdc'})\n",
    "        counts_nonacdc = keys[mask_nonacdc].groupby('error')['count'].sum().to_frame('counts').reset_index().rename(columns={'counts': 'counts_nonacdc'})\n",
    "        #print counts_acdc\n",
    "        #labels = list(counts[key])\n",
    "    else:\n",
    "        counts_acdc = keys[mask_acdc]['error'].value_counts().to_frame('counts_acdc').reset_index().rename(columns={'index': 'error'})\n",
    "        counts_nonacdc = keys[mask_nonacdc]['error'].value_counts().to_frame('counts_nonacdc').reset_index().rename(columns={'index': 'error'})\n",
    "    join = pd.merge(counts_acdc, counts_nonacdc, on=['error'], how = 'outer')    \n",
    "    join['counts_acdc_norm'] = join['counts_acdc'] /  join['counts_acdc'].sum()\n",
    "    join['counts_nonacdc_norm'] = join['counts_nonacdc'] /  join['counts_nonacdc'].sum()\n",
    "\n",
    "    labels = join.error\n",
    "    \n",
    "    x = np.arange(len(join))\n",
    "    y_acdc = join.counts_acdc\n",
    "    y_nonacdc = join.counts_nonacdc\n",
    "    width = 0.4                      \n",
    "    \n",
    "    fig, ax = plt.subplots(figsize=(20,10))\n",
    "    #rects1 = ax.bar(x, y_acdc, width, alpha=0.5, position=0)\n",
    "    #rects2 = ax.bar(x, y_nonacdc, width, alpha=0.5, position=1)\n",
    "    \n",
    "    join.counts_acdc_norm.plot(kind='bar', color='red', ax=ax, width=width, position=1)\n",
    "    join.counts_nonacdc_norm.plot(kind='bar', color='blue', ax=ax, width=width, position=0)\n",
    "    \n",
    "    \n",
    "    # Add some text for labels, title and custom x-axis tick labels, etc.\n",
    "    ax.set_xlabel('error_codes')\n",
    "    ax.set_ylabel('Number')\n",
    "    ax.set_yscale(\"log\")\n",
    "    #ax.set_xticks(x)\n",
    "    #ax.set_xticklabels(labels)\n",
    "    plt.xticks(x, labels, rotation='vertical')\n",
    "    ax.legend()\n",
    "\n",
    "    fig.tight_layout()\n",
    "    "
   ]
  },
  {
   "cell_type": "code",
   "execution_count": 114,
   "metadata": {},
   "outputs": [
    {
     "data": {
      "image/png": "[encoded data removed]",
      "text/plain": [
       "<Figure size 1440x720 with 1 Axes>"
      ]
     },
     "metadata": {
      "needs_background": "light"
     },
     "output_type": "display_data"
    }
   ],
   "source": [
    "join = plot_discrimination_error(weighted = False)"
   ]
  },
  {
   "cell_type": "code",
   "execution_count": 97,
   "metadata": {},
   "outputs": [
    {
     "data": {
      "image/png": "[encoded data removed]",
      "text/plain": [
       "<Figure size 1440x720 with 1 Axes>"
      ]
     },
     "metadata": {
      "needs_background": "light"
     },
     "output_type": "display_data"
    }
   ],
   "source": [
    "join = plot_discrimination_error(weighted = True)"
   ]
  },
  {
   "cell_type": "markdown",
   "metadata": {},
   "source": [
    "### Plot the error message distributions"
   ]
  },
  {
   "cell_type": "code",
   "execution_count": null,
   "metadata": {},
   "outputs": [],
   "source": []
  },
  {
   "cell_type": "code",
   "execution_count": null,
   "metadata": {},
   "outputs": [],
   "source": []
  },
  {
   "cell_type": "code",
   "execution_count": null,
   "metadata": {},
   "outputs": [],
   "source": []
  },
  {
   "cell_type": "code",
   "execution_count": null,
   "metadata": {},
   "outputs": [],
   "source": []
  },
  {
   "cell_type": "code",
   "execution_count": null,
   "metadata": {},
   "outputs": [],
   "source": []
  }
 ],
 "metadata": {
  "kernelspec": {
   "display_name": "Python 2",
   "language": "python",
   "name": "python2"
  },
  "language_info": {
   "codemirror_mode": {
    "name": "ipython",
    "version": 2
   },
   "file_extension": ".py",
   "mimetype": "text/x-python",
   "name": "python",
   "nbconvert_exporter": "python",
   "pygments_lexer": "ipython2",
   "version": "2.7.16"
  }
 },
 "nbformat": 4,
 "nbformat_minor": 2
}
