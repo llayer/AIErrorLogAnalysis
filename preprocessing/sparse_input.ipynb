{
 "cells": [
  {
   "cell_type": "code",
   "execution_count": 1,
   "metadata": {},
   "outputs": [
    {
     "name": "stderr",
     "output_type": "stream",
     "text": [
      "Using TensorFlow backend.\n"
     ]
    }
   ],
   "source": [
    "import pandas as pd\n",
    "import input_generator"
   ]
  },
  {
   "cell_type": "code",
   "execution_count": 11,
   "metadata": {},
   "outputs": [
    {
     "data": {
      "text/plain": [
       "<module 'input_generator' from 'input_generator.py'>"
      ]
     },
     "execution_count": 11,
     "metadata": {},
     "output_type": "execute_result"
    }
   ],
   "source": [
    "reload(input_generator)"
   ]
  },
  {
   "cell_type": "code",
   "execution_count": 12,
   "metadata": {},
   "outputs": [],
   "source": [
    "path_tokens = '/eos/user/l/llayer/AIErrorLogAnalysis/data/word2vec/tokens_index_avg.h5'\n",
    "path_actionshist = '/eos/user/l/llayer/AIErrorLogAnalysis/data/actionshist/actionshistory_300719.json'"
   ]
  },
  {
   "cell_type": "code",
   "execution_count": 13,
   "metadata": {},
   "outputs": [
    {
     "name": "stdout",
     "output_type": "stream",
     "text": [
      "Loading actionshist and generating keys\n",
      "Loading tokens\n",
      "Aggregating tokens\n",
      "Merging the frames\n",
      "Aggregating the frames\n",
      "Storing the frame\n"
     ]
    }
   ],
   "source": [
    "frame, sites, codes = input_generator.create_input(path_actionshist, path_tokens)"
   ]
  },
  {
   "cell_type": "code",
   "execution_count": 37,
   "metadata": {},
   "outputs": [
    {
     "data": {
      "text/html": [
       "<div>\n",
       "<style scoped>\n",
       "    .dataframe tbody tr th:only-of-type {\n",
       "        vertical-align: middle;\n",
       "    }\n",
       "\n",
       "    .dataframe tbody tr th {\n",
       "        vertical-align: top;\n",
       "    }\n",
       "\n",
       "    .dataframe thead th {\n",
       "        text-align: right;\n",
       "    }\n",
       "</style>\n",
       "<table border=\"1\" class=\"dataframe\">\n",
       "  <thead>\n",
       "    <tr style=\"text-align: right;\">\n",
       "      <th></th>\n",
       "      <th>task_name</th>\n",
       "      <th>label</th>\n",
       "      <th>error</th>\n",
       "      <th>site</th>\n",
       "      <th>site_state</th>\n",
       "      <th>count</th>\n",
       "      <th>error_msg_tokenized</th>\n",
       "    </tr>\n",
       "  </thead>\n",
       "  <tbody>\n",
       "    <tr>\n",
       "      <th>0</th>\n",
       "      <td>/amaltaro_Run2016D-v2-DoubleMuonLowMass-07Aug1...</td>\n",
       "      <td>0</td>\n",
       "      <td>[-1, -1]</td>\n",
       "      <td>[T1_US_FNAL_Disk, T3_US_FNALLPC]</td>\n",
       "      <td>[bad, bad]</td>\n",
       "      <td>[1, 1]</td>\n",
       "      <td>[nan, nan]</td>\n",
       "    </tr>\n",
       "    <tr>\n",
       "      <th>1</th>\n",
       "      <td>/amaltaro_Run2016D-v2-DoubleMuonLowMass-07Aug1...</td>\n",
       "      <td>0</td>\n",
       "      <td>[-1, -1]</td>\n",
       "      <td>[T3_US_FNALLPC, T1_US_FNAL_Disk]</td>\n",
       "      <td>[bad, bad]</td>\n",
       "      <td>[1, 1]</td>\n",
       "      <td>[nan, nan]</td>\n",
       "    </tr>\n",
       "    <tr>\n",
       "      <th>2</th>\n",
       "      <td>/amaltaro_Run2016D-v2-DoubleMuonLowMass-07Aug1...</td>\n",
       "      <td>0</td>\n",
       "      <td>[-1, -1]</td>\n",
       "      <td>[T3_US_FNALLPC, T1_US_FNAL_Disk]</td>\n",
       "      <td>[bad, bad]</td>\n",
       "      <td>[1, 1]</td>\n",
       "      <td>[nan, nan]</td>\n",
       "    </tr>\n",
       "    <tr>\n",
       "      <th>3</th>\n",
       "      <td>/amaltaro_Run2018A-v1-DoubleMuon-17Sep2018_102...</td>\n",
       "      <td>0</td>\n",
       "      <td>[-1, -1, -1, -1, 85]</td>\n",
       "      <td>[T1_DE_KIT_Disk, T0_CH_CERN_MSS, T0_CH_CERN_Ex...</td>\n",
       "      <td>[bad, bad, bad, bad, good]</td>\n",
       "      <td>[1, 1, 1, 1, 1]</td>\n",
       "      <td>[nan, nan, nan, nan, [[14, 32, 67, 44, 7, 6, 8...</td>\n",
       "    </tr>\n",
       "    <tr>\n",
       "      <th>4</th>\n",
       "      <td>/amaltaro_Run2018A-v1-DoubleMuon-17Sep2018_102...</td>\n",
       "      <td>0</td>\n",
       "      <td>[50664, -1, -1]</td>\n",
       "      <td>[T2_DE_RWTH, T2_DE_RWTH, T2_CH_CERN]</td>\n",
       "      <td>[good, good, good]</td>\n",
       "      <td>[2, 1, 1]</td>\n",
       "      <td>[[[17, 1, 6, 189, 280, 179, 7, 341, 3, 140, 13...</td>\n",
       "    </tr>\n",
       "  </tbody>\n",
       "</table>\n",
       "</div>"
      ],
      "text/plain": [
       "                                           task_name  label  \\\n",
       "0  /amaltaro_Run2016D-v2-DoubleMuonLowMass-07Aug1...      0   \n",
       "1  /amaltaro_Run2016D-v2-DoubleMuonLowMass-07Aug1...      0   \n",
       "2  /amaltaro_Run2016D-v2-DoubleMuonLowMass-07Aug1...      0   \n",
       "3  /amaltaro_Run2018A-v1-DoubleMuon-17Sep2018_102...      0   \n",
       "4  /amaltaro_Run2018A-v1-DoubleMuon-17Sep2018_102...      0   \n",
       "\n",
       "                  error                                               site  \\\n",
       "0              [-1, -1]                   [T1_US_FNAL_Disk, T3_US_FNALLPC]   \n",
       "1              [-1, -1]                   [T3_US_FNALLPC, T1_US_FNAL_Disk]   \n",
       "2              [-1, -1]                   [T3_US_FNALLPC, T1_US_FNAL_Disk]   \n",
       "3  [-1, -1, -1, -1, 85]  [T1_DE_KIT_Disk, T0_CH_CERN_MSS, T0_CH_CERN_Ex...   \n",
       "4       [50664, -1, -1]               [T2_DE_RWTH, T2_DE_RWTH, T2_CH_CERN]   \n",
       "\n",
       "                   site_state            count  \\\n",
       "0                  [bad, bad]           [1, 1]   \n",
       "1                  [bad, bad]           [1, 1]   \n",
       "2                  [bad, bad]           [1, 1]   \n",
       "3  [bad, bad, bad, bad, good]  [1, 1, 1, 1, 1]   \n",
       "4          [good, good, good]        [2, 1, 1]   \n",
       "\n",
       "                                 error_msg_tokenized  \n",
       "0                                         [nan, nan]  \n",
       "1                                         [nan, nan]  \n",
       "2                                         [nan, nan]  \n",
       "3  [nan, nan, nan, nan, [[14, 32, 67, 44, 7, 6, 8...  \n",
       "4  [[[17, 1, 6, 189, 280, 179, 7, 341, 3, 140, 13...  "
      ]
     },
     "execution_count": 37,
     "metadata": {},
     "output_type": "execute_result"
    }
   ],
   "source": [
    "frame.head()"
   ]
  },
  {
   "cell_type": "code",
   "execution_count": 25,
   "metadata": {},
   "outputs": [],
   "source": [
    "def store():\n",
    "    \n",
    "    mode='tokens'\n",
    "    store_path='/eos/user/l/llayer/AIErrorLogAnalysis/data/input/'\n",
    "    outfile = store_path + 'input_' + mode + '.h5'\n",
    "\n",
    "    frame.to_hdf(store_path + 'input_' + mode + '.h5', 'frame')"
   ]
  },
  {
   "cell_type": "code",
   "execution_count": 16,
   "metadata": {},
   "outputs": [],
   "source": [
    "mode = 'tokens'\n",
    "store_path='/eos/user/l/llayer/AIErrorLogAnalysis/data/input/'\n",
    "outfile = store_path + 'input_' + mode + '.h5'\n",
    "test = pd.read_hdf( outfile , 'frame2')"
   ]
  },
  {
   "cell_type": "code",
   "execution_count": 17,
   "metadata": {},
   "outputs": [
    {
     "data": {
      "text/html": [
       "<div>\n",
       "<style scoped>\n",
       "    .dataframe tbody tr th:only-of-type {\n",
       "        vertical-align: middle;\n",
       "    }\n",
       "\n",
       "    .dataframe tbody tr th {\n",
       "        vertical-align: top;\n",
       "    }\n",
       "\n",
       "    .dataframe thead th {\n",
       "        text-align: right;\n",
       "    }\n",
       "</style>\n",
       "<table border=\"1\" class=\"dataframe\">\n",
       "  <thead>\n",
       "    <tr style=\"text-align: right;\">\n",
       "      <th></th>\n",
       "      <th>site</th>\n",
       "      <th>counts</th>\n",
       "      <th>frequency</th>\n",
       "      <th>only_unknown</th>\n",
       "    </tr>\n",
       "  </thead>\n",
       "  <tbody>\n",
       "    <tr>\n",
       "      <th>0</th>\n",
       "      <td>NoReportedSite</td>\n",
       "      <td>163866</td>\n",
       "      <td>1964</td>\n",
       "      <td>False</td>\n",
       "    </tr>\n",
       "    <tr>\n",
       "      <th>1</th>\n",
       "      <td>T0_CH_CERN</td>\n",
       "      <td>9175</td>\n",
       "      <td>930</td>\n",
       "      <td>False</td>\n",
       "    </tr>\n",
       "    <tr>\n",
       "      <th>2</th>\n",
       "      <td>T0_CH_CERN_Disk</td>\n",
       "      <td>1882</td>\n",
       "      <td>1882</td>\n",
       "      <td>True</td>\n",
       "    </tr>\n",
       "    <tr>\n",
       "      <th>3</th>\n",
       "      <td>T0_CH_CERN_Export</td>\n",
       "      <td>569</td>\n",
       "      <td>569</td>\n",
       "      <td>True</td>\n",
       "    </tr>\n",
       "    <tr>\n",
       "      <th>4</th>\n",
       "      <td>T0_CH_CERN_MSS</td>\n",
       "      <td>583</td>\n",
       "      <td>583</td>\n",
       "      <td>True</td>\n",
       "    </tr>\n",
       "  </tbody>\n",
       "</table>\n",
       "</div>"
      ],
      "text/plain": [
       "                site  counts  frequency  only_unknown\n",
       "0     NoReportedSite  163866       1964         False\n",
       "1         T0_CH_CERN    9175        930         False\n",
       "2    T0_CH_CERN_Disk    1882       1882          True\n",
       "3  T0_CH_CERN_Export     569        569          True\n",
       "4     T0_CH_CERN_MSS     583        583          True"
      ]
     },
     "execution_count": 17,
     "metadata": {},
     "output_type": "execute_result"
    }
   ],
   "source": [
    "test.head()"
   ]
  },
  {
   "cell_type": "code",
   "execution_count": null,
   "metadata": {},
   "outputs": [],
   "source": []
  }
 ],
 "metadata": {
  "kernelspec": {
   "display_name": "Python 2",
   "language": "python",
   "name": "python2"
  },
  "language_info": {
   "codemirror_mode": {
    "name": "ipython",
    "version": 2
   },
   "file_extension": ".py",
   "mimetype": "text/x-python",
   "name": "python",
   "nbconvert_exporter": "python",
   "pygments_lexer": "ipython2",
   "version": "2.7.16"
  }
 },
 "nbformat": 4,
 "nbformat_minor": 2
}
