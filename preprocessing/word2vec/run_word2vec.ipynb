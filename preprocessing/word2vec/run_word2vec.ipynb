{
 "cells": [
  {
   "cell_type": "markdown",
   "metadata": {},
   "source": [
    "# Create the word2vec embeddings"
   ]
  },
  {
   "cell_type": "code",
   "execution_count": 1,
   "metadata": {},
   "outputs": [],
   "source": [
    "import pandas as pd\n",
    "import numpy as np\n",
    "import word2vec"
   ]
  },
  {
   "cell_type": "code",
   "execution_count": 2,
   "metadata": {},
   "outputs": [
    {
     "name": "stdout",
     "output_type": "stream",
     "text": [
      "['tokens0.h5', 'tokens1.h5', 'tokens10.h5', 'tokens2.h5', 'tokens3.h5', 'tokens4.h5', 'tokens5.h5', 'tokens6.h5', 'tokens7.h5', 'tokens8.h5', 'tokens9.h5', 'vocab.h5']\n",
      "tokens0.h5\n",
      "tokens1.h5\n",
      "tokens10.h5\n",
      "tokens2.h5\n",
      "tokens3.h5\n",
      "tokens4.h5\n",
      "tokens5.h5\n",
      "tokens6.h5\n",
      "tokens7.h5\n",
      "tokens8.h5\n",
      "tokens9.h5\n"
     ]
    }
   ],
   "source": [
    "reload(word2vec)\n",
    "path = '/eos/user/l/llayer/AIErrorLogAnalysis/data/prefilter/'\n",
    "tokens = word2vec.load_tokens(path)\n",
    "tokens = pd.concat(tokens)"
   ]
  },
  {
   "cell_type": "code",
   "execution_count": 3,
   "metadata": {},
   "outputs": [
    {
     "data": {
      "text/html": [
       "<div>\n",
       "<style scoped>\n",
       "    .dataframe tbody tr th:only-of-type {\n",
       "        vertical-align: middle;\n",
       "    }\n",
       "\n",
       "    .dataframe tbody tr th {\n",
       "        vertical-align: top;\n",
       "    }\n",
       "\n",
       "    .dataframe thead th {\n",
       "        text-align: right;\n",
       "    }\n",
       "</style>\n",
       "<table border=\"1\" class=\"dataframe\">\n",
       "  <thead>\n",
       "    <tr style=\"text-align: right;\">\n",
       "      <th></th>\n",
       "      <th>task_name</th>\n",
       "      <th>error</th>\n",
       "      <th>site</th>\n",
       "      <th>exit_codes</th>\n",
       "      <th>error_msg</th>\n",
       "      <th>error_type</th>\n",
       "      <th>steps_counter</th>\n",
       "      <th>names</th>\n",
       "      <th>peakvaluerss</th>\n",
       "      <th>peakvaluevsize</th>\n",
       "      <th>...</th>\n",
       "      <th>TotalInitTime</th>\n",
       "      <th>AvgEventTime</th>\n",
       "      <th>NumberOfThreads</th>\n",
       "      <th>MinEventCPU</th>\n",
       "      <th>MaxEventTime</th>\n",
       "      <th>TotalJobTime</th>\n",
       "      <th>TotalLoopCPU</th>\n",
       "      <th>MinEventTime</th>\n",
       "      <th>MaxEventCPU</th>\n",
       "      <th>_c0</th>\n",
       "    </tr>\n",
       "  </thead>\n",
       "  <tbody>\n",
       "    <tr>\n",
       "      <th>0</th>\n",
       "      <td>/fabozzi_Run2016F-v1-MuonEG-07Aug17_8029_17083...</td>\n",
       "      <td>85</td>\n",
       "      <td>T2_US_Purdue</td>\n",
       "      <td>99999</td>\n",
       "      <td>[Could, not, find, report, file, for, step, st...</td>\n",
       "      <td>ReportManipulatingError</td>\n",
       "      <td>0</td>\n",
       "      <td>stageOut1</td>\n",
       "      <td>-1.0</td>\n",
       "      <td>-1.0</td>\n",
       "      <td>...</td>\n",
       "      <td>-1.0</td>\n",
       "      <td>-1.0</td>\n",
       "      <td>-1.0</td>\n",
       "      <td>-1.0</td>\n",
       "      <td>-1.0</td>\n",
       "      <td>-1.000</td>\n",
       "      <td>-1.000</td>\n",
       "      <td>-1.0</td>\n",
       "      <td>-1.0</td>\n",
       "      <td>101202</td>\n",
       "    </tr>\n",
       "    <tr>\n",
       "      <th>1</th>\n",
       "      <td>/fabozzi_Run2016F-v1-MuonEG-07Aug17_8029_17083...</td>\n",
       "      <td>85</td>\n",
       "      <td>T2_US_Purdue</td>\n",
       "      <td>85</td>\n",
       "      <td>[Adding, last, 25, lines, of, CMSSW, stdout, 3...</td>\n",
       "      <td>CMSSWStepFailure</td>\n",
       "      <td>2</td>\n",
       "      <td>cmsRun1</td>\n",
       "      <td>0.0</td>\n",
       "      <td>0.0</td>\n",
       "      <td>...</td>\n",
       "      <td>-1.0</td>\n",
       "      <td>-1.0</td>\n",
       "      <td>-1.0</td>\n",
       "      <td>-1.0</td>\n",
       "      <td>0.0</td>\n",
       "      <td>305.697</td>\n",
       "      <td>105.517</td>\n",
       "      <td>1000000.0</td>\n",
       "      <td>-1.0</td>\n",
       "      <td>101202</td>\n",
       "    </tr>\n",
       "    <tr>\n",
       "      <th>2</th>\n",
       "      <td>/fabozzi_Run2016F-v1-MuonEG-07Aug17_8029_17083...</td>\n",
       "      <td>85</td>\n",
       "      <td>T2_US_Purdue</td>\n",
       "      <td>8021</td>\n",
       "      <td>[An, exception, of, category, FileReadError, o...</td>\n",
       "      <td>Fatal Exception</td>\n",
       "      <td>2</td>\n",
       "      <td>cmsRun1</td>\n",
       "      <td>0.0</td>\n",
       "      <td>0.0</td>\n",
       "      <td>...</td>\n",
       "      <td>-1.0</td>\n",
       "      <td>-1.0</td>\n",
       "      <td>-1.0</td>\n",
       "      <td>-1.0</td>\n",
       "      <td>0.0</td>\n",
       "      <td>305.697</td>\n",
       "      <td>105.517</td>\n",
       "      <td>1000000.0</td>\n",
       "      <td>-1.0</td>\n",
       "      <td>101202</td>\n",
       "    </tr>\n",
       "    <tr>\n",
       "      <th>3</th>\n",
       "      <td>/fabozzi_Run2016F-v1-MuonEG-07Aug17_8029_17083...</td>\n",
       "      <td>85</td>\n",
       "      <td>T2_US_Purdue</td>\n",
       "      <td>99999</td>\n",
       "      <td>[Adding, extra, error, in, order, to, hold, er...</td>\n",
       "      <td>ErrorLoggingAddition</td>\n",
       "      <td>2</td>\n",
       "      <td>cmsRun1</td>\n",
       "      <td>0.0</td>\n",
       "      <td>0.0</td>\n",
       "      <td>...</td>\n",
       "      <td>-1.0</td>\n",
       "      <td>-1.0</td>\n",
       "      <td>-1.0</td>\n",
       "      <td>-1.0</td>\n",
       "      <td>0.0</td>\n",
       "      <td>305.697</td>\n",
       "      <td>105.517</td>\n",
       "      <td>1000000.0</td>\n",
       "      <td>-1.0</td>\n",
       "      <td>101202</td>\n",
       "    </tr>\n",
       "    <tr>\n",
       "      <th>4</th>\n",
       "      <td>/fabozzi_Run2016G-v1-DoubleMuonLowMass-07Aug17...</td>\n",
       "      <td>85</td>\n",
       "      <td>T2_US_Florida</td>\n",
       "      <td>99999</td>\n",
       "      <td>[Could, not, find, report, file, for, step, st...</td>\n",
       "      <td>ReportManipulatingError</td>\n",
       "      <td>0</td>\n",
       "      <td>stageOut1</td>\n",
       "      <td>-1.0</td>\n",
       "      <td>-1.0</td>\n",
       "      <td>...</td>\n",
       "      <td>-1.0</td>\n",
       "      <td>-1.0</td>\n",
       "      <td>-1.0</td>\n",
       "      <td>-1.0</td>\n",
       "      <td>-1.0</td>\n",
       "      <td>-1.000</td>\n",
       "      <td>-1.000</td>\n",
       "      <td>-1.0</td>\n",
       "      <td>-1.0</td>\n",
       "      <td>336353</td>\n",
       "    </tr>\n",
       "  </tbody>\n",
       "</table>\n",
       "<p>5 rows × 36 columns</p>\n",
       "</div>"
      ],
      "text/plain": [
       "                                           task_name  error           site  \\\n",
       "0  /fabozzi_Run2016F-v1-MuonEG-07Aug17_8029_17083...     85   T2_US_Purdue   \n",
       "1  /fabozzi_Run2016F-v1-MuonEG-07Aug17_8029_17083...     85   T2_US_Purdue   \n",
       "2  /fabozzi_Run2016F-v1-MuonEG-07Aug17_8029_17083...     85   T2_US_Purdue   \n",
       "3  /fabozzi_Run2016F-v1-MuonEG-07Aug17_8029_17083...     85   T2_US_Purdue   \n",
       "4  /fabozzi_Run2016G-v1-DoubleMuonLowMass-07Aug17...     85  T2_US_Florida   \n",
       "\n",
       "   exit_codes                                          error_msg  \\\n",
       "0       99999  [Could, not, find, report, file, for, step, st...   \n",
       "1          85  [Adding, last, 25, lines, of, CMSSW, stdout, 3...   \n",
       "2        8021  [An, exception, of, category, FileReadError, o...   \n",
       "3       99999  [Adding, extra, error, in, order, to, hold, er...   \n",
       "4       99999  [Could, not, find, report, file, for, step, st...   \n",
       "\n",
       "                error_type  steps_counter      names  peakvaluerss  \\\n",
       "0  ReportManipulatingError              0  stageOut1          -1.0   \n",
       "1         CMSSWStepFailure              2    cmsRun1           0.0   \n",
       "2          Fatal Exception              2    cmsRun1           0.0   \n",
       "3     ErrorLoggingAddition              2    cmsRun1           0.0   \n",
       "4  ReportManipulatingError              0  stageOut1          -1.0   \n",
       "\n",
       "   peakvaluevsize  ...  TotalInitTime  AvgEventTime  NumberOfThreads  \\\n",
       "0            -1.0  ...           -1.0          -1.0             -1.0   \n",
       "1             0.0  ...           -1.0          -1.0             -1.0   \n",
       "2             0.0  ...           -1.0          -1.0             -1.0   \n",
       "3             0.0  ...           -1.0          -1.0             -1.0   \n",
       "4            -1.0  ...           -1.0          -1.0             -1.0   \n",
       "\n",
       "   MinEventCPU  MaxEventTime  TotalJobTime  TotalLoopCPU  MinEventTime  \\\n",
       "0         -1.0          -1.0        -1.000        -1.000          -1.0   \n",
       "1         -1.0           0.0       305.697       105.517     1000000.0   \n",
       "2         -1.0           0.0       305.697       105.517     1000000.0   \n",
       "3         -1.0           0.0       305.697       105.517     1000000.0   \n",
       "4         -1.0          -1.0        -1.000        -1.000          -1.0   \n",
       "\n",
       "   MaxEventCPU     _c0  \n",
       "0         -1.0  101202  \n",
       "1         -1.0  101202  \n",
       "2         -1.0  101202  \n",
       "3         -1.0  101202  \n",
       "4         -1.0  336353  \n",
       "\n",
       "[5 rows x 36 columns]"
      ]
     },
     "execution_count": 3,
     "metadata": {},
     "output_type": "execute_result"
    }
   ],
   "source": [
    "tokens.head()"
   ]
  },
  {
   "cell_type": "code",
   "execution_count": 4,
   "metadata": {},
   "outputs": [
    {
     "data": {
      "text/plain": [
       "438866"
      ]
     },
     "execution_count": 4,
     "metadata": {},
     "output_type": "execute_result"
    }
   ],
   "source": [
    "len(tokens)"
   ]
  },
  {
   "cell_type": "code",
   "execution_count": 5,
   "metadata": {},
   "outputs": [
    {
     "name": "stdout",
     "output_type": "stream",
     "text": [
      "Run the word2vec\n"
     ]
    },
    {
     "ename": "NameError",
     "evalue": "global name 'word2index' is not defined",
     "output_type": "error",
     "traceback": [
      "\u001b[0;31m\u001b[0m",
      "\u001b[0;31mNameError\u001b[0mTraceback (most recent call last)",
      "\u001b[0;32m<ipython-input-5-d8d4fcb48fbb>\u001b[0m in \u001b[0;36m<module>\u001b[0;34m()\u001b[0m\n\u001b[1;32m      1\u001b[0m \u001b[0mreload\u001b[0m\u001b[0;34m(\u001b[0m\u001b[0mword2vec\u001b[0m\u001b[0;34m)\u001b[0m\u001b[0;34m\u001b[0m\u001b[0m\n\u001b[0;32m----> 2\u001b[0;31m \u001b[0mword2index\u001b[0m \u001b[0;34m=\u001b[0m \u001b[0mword2vec\u001b[0m\u001b[0;34m.\u001b[0m\u001b[0mrun_word2vec\u001b[0m\u001b[0;34m(\u001b[0m\u001b[0mtokens\u001b[0m\u001b[0;34m)\u001b[0m\u001b[0;34m\u001b[0m\u001b[0m\n\u001b[0m",
      "\u001b[0;32m/eos/home-l/llayer/AIErrorLogAnalysis/preprocessing/word2vec/word2vec.py\u001b[0m in \u001b[0;36mrun_word2vec\u001b[0;34m(tokens, minimum_count, max_words, algo, embedding_size, avg_vec, name, store)\u001b[0m\n\u001b[1;32m    125\u001b[0m         \u001b[0mtokens\u001b[0m\u001b[0;34m.\u001b[0m\u001b[0mto_hdf\u001b[0m\u001b[0;34m(\u001b[0m\u001b[0mpath\u001b[0m \u001b[0;34m+\u001b[0m \u001b[0;34m'tokens_index_'\u001b[0m \u001b[0;34m+\u001b[0m \u001b[0mname\u001b[0m \u001b[0;34m+\u001b[0m \u001b[0;34m'_'\u001b[0m \u001b[0;34m+\u001b[0m \u001b[0mstr\u001b[0m\u001b[0;34m(\u001b[0m\u001b[0membedding_size\u001b[0m\u001b[0;34m)\u001b[0m \u001b[0;34m+\u001b[0m \u001b[0;34m'.h5'\u001b[0m\u001b[0;34m,\u001b[0m \u001b[0;34m'frame'\u001b[0m\u001b[0;34m)\u001b[0m\u001b[0;34m\u001b[0m\u001b[0m\n\u001b[1;32m    126\u001b[0m     \"\"\"\n\u001b[0;32m--> 127\u001b[0;31m     \u001b[0;32mreturn\u001b[0m \u001b[0mword2index\u001b[0m\u001b[0;34m\u001b[0m\u001b[0m\n\u001b[0m\u001b[1;32m    128\u001b[0m \u001b[0;34m\u001b[0m\u001b[0m\n\u001b[1;32m    129\u001b[0m \u001b[0;34m\u001b[0m\u001b[0m\n",
      "\u001b[0;31mNameError\u001b[0m: global name 'word2index' is not defined"
     ]
    }
   ],
   "source": [
    "reload(word2vec)\n",
    "word2index = word2vec.run_word2vec(tokens)"
   ]
  },
  {
   "cell_type": "markdown",
   "metadata": {},
   "source": [
    "## Visualize the messages"
   ]
  },
  {
   "cell_type": "code",
   "execution_count": 40,
   "metadata": {},
   "outputs": [],
   "source": [
    "path = '/eos/user/l/llayer/AIErrorLogAnalysis/data/word2vec'\n",
    "tokens = pd.read_hdf(path + 'tokens_index_avg.h5')"
   ]
  },
  {
   "cell_type": "code",
   "execution_count": 6,
   "metadata": {},
   "outputs": [],
   "source": [
    "tokens = tokens.drop([ 'error_msg_tokenized' ], axis=1)"
   ]
  },
  {
   "cell_type": "code",
   "execution_count": 7,
   "metadata": {},
   "outputs": [
    {
     "data": {
      "text/html": [
       "<div>\n",
       "<style scoped>\n",
       "    .dataframe tbody tr th:only-of-type {\n",
       "        vertical-align: middle;\n",
       "    }\n",
       "\n",
       "    .dataframe tbody tr th {\n",
       "        vertical-align: top;\n",
       "    }\n",
       "\n",
       "    .dataframe thead th {\n",
       "        text-align: right;\n",
       "    }\n",
       "</style>\n",
       "<table border=\"1\" class=\"dataframe\">\n",
       "  <thead>\n",
       "    <tr style=\"text-align: right;\">\n",
       "      <th></th>\n",
       "      <th>task_name</th>\n",
       "      <th>error</th>\n",
       "      <th>site</th>\n",
       "      <th>exit_codes</th>\n",
       "      <th>error_type</th>\n",
       "      <th>steps_counter</th>\n",
       "      <th>names</th>\n",
       "      <th>avg_w2v</th>\n",
       "    </tr>\n",
       "  </thead>\n",
       "  <tbody>\n",
       "    <tr>\n",
       "      <th>0</th>\n",
       "      <td>/fabozzi_Run2016F-v1-MuonEG-07Aug17_8029_17083...</td>\n",
       "      <td>85</td>\n",
       "      <td>T2_US_Purdue</td>\n",
       "      <td>99999</td>\n",
       "      <td>ReportManipulatingError</td>\n",
       "      <td>0</td>\n",
       "      <td>stageOut1</td>\n",
       "      <td>[-0.6327675, 1.057197, 0.056380782, -0.3644849...</td>\n",
       "    </tr>\n",
       "    <tr>\n",
       "      <th>1</th>\n",
       "      <td>/fabozzi_Run2016F-v1-MuonEG-07Aug17_8029_17083...</td>\n",
       "      <td>85</td>\n",
       "      <td>T2_US_Purdue</td>\n",
       "      <td>85</td>\n",
       "      <td>CMSSWStepFailure</td>\n",
       "      <td>2</td>\n",
       "      <td>cmsRun1</td>\n",
       "      <td>[-0.43909624, 0.5063496, 0.60487694, -0.056146...</td>\n",
       "    </tr>\n",
       "    <tr>\n",
       "      <th>2</th>\n",
       "      <td>/fabozzi_Run2016F-v1-MuonEG-07Aug17_8029_17083...</td>\n",
       "      <td>85</td>\n",
       "      <td>T2_US_Purdue</td>\n",
       "      <td>8021</td>\n",
       "      <td>Fatal Exception</td>\n",
       "      <td>2</td>\n",
       "      <td>cmsRun1</td>\n",
       "      <td>[-1.0769646, 1.2356042, 0.88608974, 0.11158812...</td>\n",
       "    </tr>\n",
       "    <tr>\n",
       "      <th>3</th>\n",
       "      <td>/fabozzi_Run2016F-v1-MuonEG-07Aug17_8029_17083...</td>\n",
       "      <td>85</td>\n",
       "      <td>T2_US_Purdue</td>\n",
       "      <td>99999</td>\n",
       "      <td>ErrorLoggingAddition</td>\n",
       "      <td>2</td>\n",
       "      <td>cmsRun1</td>\n",
       "      <td>[-0.55738294, 0.87854844, 1.2031463, -0.585931...</td>\n",
       "    </tr>\n",
       "    <tr>\n",
       "      <th>4</th>\n",
       "      <td>/fabozzi_Run2016G-v1-DoubleMuonLowMass-07Aug17...</td>\n",
       "      <td>85</td>\n",
       "      <td>T2_US_Florida</td>\n",
       "      <td>99999</td>\n",
       "      <td>ReportManipulatingError</td>\n",
       "      <td>0</td>\n",
       "      <td>stageOut1</td>\n",
       "      <td>[-0.6327675, 1.057197, 0.056380782, -0.3644849...</td>\n",
       "    </tr>\n",
       "  </tbody>\n",
       "</table>\n",
       "</div>"
      ],
      "text/plain": [
       "                                           task_name  error           site  \\\n",
       "0  /fabozzi_Run2016F-v1-MuonEG-07Aug17_8029_17083...     85   T2_US_Purdue   \n",
       "1  /fabozzi_Run2016F-v1-MuonEG-07Aug17_8029_17083...     85   T2_US_Purdue   \n",
       "2  /fabozzi_Run2016F-v1-MuonEG-07Aug17_8029_17083...     85   T2_US_Purdue   \n",
       "3  /fabozzi_Run2016F-v1-MuonEG-07Aug17_8029_17083...     85   T2_US_Purdue   \n",
       "4  /fabozzi_Run2016G-v1-DoubleMuonLowMass-07Aug17...     85  T2_US_Florida   \n",
       "\n",
       "   exit_codes               error_type  steps_counter      names  \\\n",
       "0       99999  ReportManipulatingError              0  stageOut1   \n",
       "1          85         CMSSWStepFailure              2    cmsRun1   \n",
       "2        8021          Fatal Exception              2    cmsRun1   \n",
       "3       99999     ErrorLoggingAddition              2    cmsRun1   \n",
       "4       99999  ReportManipulatingError              0  stageOut1   \n",
       "\n",
       "                                             avg_w2v  \n",
       "0  [-0.6327675, 1.057197, 0.056380782, -0.3644849...  \n",
       "1  [-0.43909624, 0.5063496, 0.60487694, -0.056146...  \n",
       "2  [-1.0769646, 1.2356042, 0.88608974, 0.11158812...  \n",
       "3  [-0.55738294, 0.87854844, 1.2031463, -0.585931...  \n",
       "4  [-0.6327675, 1.057197, 0.056380782, -0.3644849...  "
      ]
     },
     "execution_count": 7,
     "metadata": {},
     "output_type": "execute_result"
    }
   ],
   "source": [
    "tokens.head()"
   ]
  },
  {
   "cell_type": "markdown",
   "metadata": {},
   "source": [
    "### T-SNE for the first message equal to the error code"
   ]
  },
  {
   "cell_type": "code",
   "execution_count": 17,
   "metadata": {},
   "outputs": [],
   "source": [
    "tokens_first = tokens.drop_duplicates(subset=['task_name', 'site', 'error', 'exit_codes'])"
   ]
  },
  {
   "cell_type": "code",
   "execution_count": 20,
   "metadata": {},
   "outputs": [],
   "source": [
    "tokens_first = tokens_first[tokens_first['exit_codes'] == tokens_first['error']]"
   ]
  },
  {
   "cell_type": "code",
   "execution_count": 32,
   "metadata": {},
   "outputs": [
    {
     "data": {
      "text/html": [
       "<div>\n",
       "<style scoped>\n",
       "    .dataframe tbody tr th:only-of-type {\n",
       "        vertical-align: middle;\n",
       "    }\n",
       "\n",
       "    .dataframe tbody tr th {\n",
       "        vertical-align: top;\n",
       "    }\n",
       "\n",
       "    .dataframe thead th {\n",
       "        text-align: right;\n",
       "    }\n",
       "</style>\n",
       "<table border=\"1\" class=\"dataframe\">\n",
       "  <thead>\n",
       "    <tr style=\"text-align: right;\">\n",
       "      <th></th>\n",
       "      <th>task_name</th>\n",
       "      <th>error</th>\n",
       "      <th>site</th>\n",
       "      <th>exit_codes</th>\n",
       "      <th>error_type</th>\n",
       "      <th>steps_counter</th>\n",
       "      <th>names</th>\n",
       "      <th>avg_w2v</th>\n",
       "    </tr>\n",
       "  </thead>\n",
       "  <tbody>\n",
       "    <tr>\n",
       "      <th>1</th>\n",
       "      <td>/fabozzi_Run2016F-v1-MuonEG-07Aug17_8029_17083...</td>\n",
       "      <td>85</td>\n",
       "      <td>T2_US_Purdue</td>\n",
       "      <td>85</td>\n",
       "      <td>CMSSWStepFailure</td>\n",
       "      <td>2</td>\n",
       "      <td>cmsRun1</td>\n",
       "      <td>[-0.43909624, 0.5063496, 0.60487694, -0.056146...</td>\n",
       "    </tr>\n",
       "    <tr>\n",
       "      <th>5</th>\n",
       "      <td>/fabozzi_Run2016G-v1-DoubleMuonLowMass-07Aug17...</td>\n",
       "      <td>85</td>\n",
       "      <td>T2_US_Florida</td>\n",
       "      <td>85</td>\n",
       "      <td>CMSSWStepFailure</td>\n",
       "      <td>2</td>\n",
       "      <td>cmsRun1</td>\n",
       "      <td>[-0.604826, 0.32655057, 0.6754886, 0.21510972,...</td>\n",
       "    </tr>\n",
       "    <tr>\n",
       "      <th>10</th>\n",
       "      <td>/fabozzi_Run2016G-v1-HTMHT-07Aug17_8029_170831...</td>\n",
       "      <td>50660</td>\n",
       "      <td>T0_CH_CERN</td>\n",
       "      <td>50660</td>\n",
       "      <td>PerformanceKill</td>\n",
       "      <td>0</td>\n",
       "      <td>PerformanceError</td>\n",
       "      <td>[-0.40143496, 1.3093921, 0.39181262, -0.071760...</td>\n",
       "    </tr>\n",
       "    <tr>\n",
       "      <th>17</th>\n",
       "      <td>/fabozzi_Run2016H-v1-DoubleEG-07Aug17_8029_170...</td>\n",
       "      <td>92</td>\n",
       "      <td>T2_UK_SGrid_RALPP</td>\n",
       "      <td>92</td>\n",
       "      <td>CMSSWStepFailure</td>\n",
       "      <td>2</td>\n",
       "      <td>cmsRun1</td>\n",
       "      <td>[-0.51902694, 0.35659862, 0.7152039, 0.2219644...</td>\n",
       "    </tr>\n",
       "    <tr>\n",
       "      <th>20</th>\n",
       "      <td>/fabozzi_Run2016H-v1-DoubleEG-07Aug17_8029_170...</td>\n",
       "      <td>50664</td>\n",
       "      <td>T2_IT_Rome</td>\n",
       "      <td>50664</td>\n",
       "      <td>PerformanceKill</td>\n",
       "      <td>0</td>\n",
       "      <td>PerformanceError</td>\n",
       "      <td>[-0.25350407, 1.6643413, 1.004998, 0.15279588,...</td>\n",
       "    </tr>\n",
       "  </tbody>\n",
       "</table>\n",
       "</div>"
      ],
      "text/plain": [
       "                                            task_name  error  \\\n",
       "1   /fabozzi_Run2016F-v1-MuonEG-07Aug17_8029_17083...     85   \n",
       "5   /fabozzi_Run2016G-v1-DoubleMuonLowMass-07Aug17...     85   \n",
       "10  /fabozzi_Run2016G-v1-HTMHT-07Aug17_8029_170831...  50660   \n",
       "17  /fabozzi_Run2016H-v1-DoubleEG-07Aug17_8029_170...     92   \n",
       "20  /fabozzi_Run2016H-v1-DoubleEG-07Aug17_8029_170...  50664   \n",
       "\n",
       "                 site  exit_codes        error_type  steps_counter  \\\n",
       "1        T2_US_Purdue          85  CMSSWStepFailure              2   \n",
       "5       T2_US_Florida          85  CMSSWStepFailure              2   \n",
       "10         T0_CH_CERN       50660   PerformanceKill              0   \n",
       "17  T2_UK_SGrid_RALPP          92  CMSSWStepFailure              2   \n",
       "20         T2_IT_Rome       50664   PerformanceKill              0   \n",
       "\n",
       "               names                                            avg_w2v  \n",
       "1            cmsRun1  [-0.43909624, 0.5063496, 0.60487694, -0.056146...  \n",
       "5            cmsRun1  [-0.604826, 0.32655057, 0.6754886, 0.21510972,...  \n",
       "10  PerformanceError  [-0.40143496, 1.3093921, 0.39181262, -0.071760...  \n",
       "17           cmsRun1  [-0.51902694, 0.35659862, 0.7152039, 0.2219644...  \n",
       "20  PerformanceError  [-0.25350407, 1.6643413, 1.004998, 0.15279588,...  "
      ]
     },
     "execution_count": 32,
     "metadata": {},
     "output_type": "execute_result"
    }
   ],
   "source": [
    "tokens_first.head()"
   ]
  },
  {
   "cell_type": "code",
   "execution_count": 25,
   "metadata": {},
   "outputs": [
    {
     "data": {
      "image/png": "[encoded data removed]",
      "text/plain": [
       "<Figure size 720x720 with 1 Axes>"
      ]
     },
     "metadata": {
      "needs_background": "light"
     },
     "output_type": "display_data"
    }
   ],
   "source": [
    "reload(w2v_analysis)\n",
    "w2v_analysis.plot_tsne_error(tokens_first, 'error',  5000)"
   ]
  },
  {
   "cell_type": "markdown",
   "metadata": {},
   "source": [
    "### T-SNE for the averaged messages per error code"
   ]
  },
  {
   "cell_type": "code",
   "execution_count": 41,
   "metadata": {},
   "outputs": [],
   "source": [
    "tokens = tokens.groupby(['task_name', 'error', 'site'], as_index=False)['avg_w2v', 'error_type'].agg(lambda x: list(x))"
   ]
  },
  {
   "cell_type": "code",
   "execution_count": 42,
   "metadata": {},
   "outputs": [
    {
     "data": {
      "text/html": [
       "<div>\n",
       "<style scoped>\n",
       "    .dataframe tbody tr th:only-of-type {\n",
       "        vertical-align: middle;\n",
       "    }\n",
       "\n",
       "    .dataframe tbody tr th {\n",
       "        vertical-align: top;\n",
       "    }\n",
       "\n",
       "    .dataframe thead th {\n",
       "        text-align: right;\n",
       "    }\n",
       "</style>\n",
       "<table border=\"1\" class=\"dataframe\">\n",
       "  <thead>\n",
       "    <tr style=\"text-align: right;\">\n",
       "      <th></th>\n",
       "      <th>task_name</th>\n",
       "      <th>error</th>\n",
       "      <th>site</th>\n",
       "      <th>avg_w2v</th>\n",
       "      <th>error_type</th>\n",
       "    </tr>\n",
       "  </thead>\n",
       "  <tbody>\n",
       "    <tr>\n",
       "      <th>0</th>\n",
       "      <td>/amaltaro_Run2018A-v1-DoubleMuon-17Sep2018_102...</td>\n",
       "      <td>85</td>\n",
       "      <td>T1_UK_RAL</td>\n",
       "      <td>[[-0.22462706, 0.29872724, 0.70934916, 0.11443...</td>\n",
       "      <td>[CMSSWStepFailure, Fatal Exception, ErrorLoggi...</td>\n",
       "    </tr>\n",
       "    <tr>\n",
       "      <th>1</th>\n",
       "      <td>/amaltaro_Run2018A-v1-DoubleMuon-17Sep2018_102...</td>\n",
       "      <td>50664</td>\n",
       "      <td>T2_DE_RWTH</td>\n",
       "      <td>[[-0.29832613, 1.5188409, 0.9002418, 0.0980547...</td>\n",
       "      <td>[PerformanceKill, CMSSWStepFailure, BadFWJRXML...</td>\n",
       "    </tr>\n",
       "    <tr>\n",
       "      <th>2</th>\n",
       "      <td>/amaltaro_Run2018A-v1-DoubleMuon-17Sep2018_102...</td>\n",
       "      <td>50664</td>\n",
       "      <td>T2_DE_RWTH</td>\n",
       "      <td>[[-0.29832613, 1.5188409, 0.9002418, 0.0980547...</td>\n",
       "      <td>[PerformanceKill, CMSSWStepFailure, BadFWJRXML...</td>\n",
       "    </tr>\n",
       "    <tr>\n",
       "      <th>3</th>\n",
       "      <td>/amaltaro_Run2018A-v1-DoubleMuon-17Sep2018_102...</td>\n",
       "      <td>50664</td>\n",
       "      <td>T2_DE_RWTH</td>\n",
       "      <td>[[-0.29832613, 1.5188409, 0.9002418, 0.0980547...</td>\n",
       "      <td>[PerformanceKill, CMSSWStepFailure, BadFWJRXML...</td>\n",
       "    </tr>\n",
       "    <tr>\n",
       "      <th>4</th>\n",
       "      <td>/amaltaro_Run2018A-v1-DoubleMuon-17Sep2018_102...</td>\n",
       "      <td>99400</td>\n",
       "      <td>NoReportedSite</td>\n",
       "      <td>[[-0.07633327, 1.014642, 0.13045293, 0.5291586...</td>\n",
       "      <td>[RemovedByGLIDEIN]</td>\n",
       "    </tr>\n",
       "  </tbody>\n",
       "</table>\n",
       "</div>"
      ],
      "text/plain": [
       "                                           task_name  error            site  \\\n",
       "0  /amaltaro_Run2018A-v1-DoubleMuon-17Sep2018_102...     85       T1_UK_RAL   \n",
       "1  /amaltaro_Run2018A-v1-DoubleMuon-17Sep2018_102...  50664      T2_DE_RWTH   \n",
       "2  /amaltaro_Run2018A-v1-DoubleMuon-17Sep2018_102...  50664      T2_DE_RWTH   \n",
       "3  /amaltaro_Run2018A-v1-DoubleMuon-17Sep2018_102...  50664      T2_DE_RWTH   \n",
       "4  /amaltaro_Run2018A-v1-DoubleMuon-17Sep2018_102...  99400  NoReportedSite   \n",
       "\n",
       "                                             avg_w2v  \\\n",
       "0  [[-0.22462706, 0.29872724, 0.70934916, 0.11443...   \n",
       "1  [[-0.29832613, 1.5188409, 0.9002418, 0.0980547...   \n",
       "2  [[-0.29832613, 1.5188409, 0.9002418, 0.0980547...   \n",
       "3  [[-0.29832613, 1.5188409, 0.9002418, 0.0980547...   \n",
       "4  [[-0.07633327, 1.014642, 0.13045293, 0.5291586...   \n",
       "\n",
       "                                          error_type  \n",
       "0  [CMSSWStepFailure, Fatal Exception, ErrorLoggi...  \n",
       "1  [PerformanceKill, CMSSWStepFailure, BadFWJRXML...  \n",
       "2  [PerformanceKill, CMSSWStepFailure, BadFWJRXML...  \n",
       "3  [PerformanceKill, CMSSWStepFailure, BadFWJRXML...  \n",
       "4                                 [RemovedByGLIDEIN]  "
      ]
     },
     "execution_count": 42,
     "metadata": {},
     "output_type": "execute_result"
    }
   ],
   "source": [
    "tokens.head()"
   ]
  },
  {
   "cell_type": "code",
   "execution_count": 27,
   "metadata": {},
   "outputs": [],
   "source": [
    "def average_message(message):\n",
    "    \n",
    "    return np.mean(np.array(message), axis = 0)"
   ]
  },
  {
   "cell_type": "code",
   "execution_count": 28,
   "metadata": {},
   "outputs": [],
   "source": [
    "tokens['avg_w2v'] = tokens['avg_w2v'].apply(average_message)"
   ]
  },
  {
   "cell_type": "code",
   "execution_count": 31,
   "metadata": {},
   "outputs": [
    {
     "data": {
      "text/html": [
       "<div>\n",
       "<style scoped>\n",
       "    .dataframe tbody tr th:only-of-type {\n",
       "        vertical-align: middle;\n",
       "    }\n",
       "\n",
       "    .dataframe tbody tr th {\n",
       "        vertical-align: top;\n",
       "    }\n",
       "\n",
       "    .dataframe thead th {\n",
       "        text-align: right;\n",
       "    }\n",
       "</style>\n",
       "<table border=\"1\" class=\"dataframe\">\n",
       "  <thead>\n",
       "    <tr style=\"text-align: right;\">\n",
       "      <th></th>\n",
       "      <th>task_name</th>\n",
       "      <th>error</th>\n",
       "      <th>site</th>\n",
       "      <th>avg_w2v</th>\n",
       "    </tr>\n",
       "  </thead>\n",
       "  <tbody>\n",
       "    <tr>\n",
       "      <th>0</th>\n",
       "      <td>/amaltaro_Run2018A-v1-DoubleMuon-17Sep2018_102...</td>\n",
       "      <td>85</td>\n",
       "      <td>T1_UK_RAL</td>\n",
       "      <td>[-0.64572215, 0.641289, 0.8480407, -0.05723635...</td>\n",
       "    </tr>\n",
       "    <tr>\n",
       "      <th>1</th>\n",
       "      <td>/amaltaro_Run2018A-v1-DoubleMuon-17Sep2018_102...</td>\n",
       "      <td>50664</td>\n",
       "      <td>T2_DE_RWTH</td>\n",
       "      <td>[-0.37116605, 0.5153855, 0.7909372, 0.03889961...</td>\n",
       "    </tr>\n",
       "    <tr>\n",
       "      <th>2</th>\n",
       "      <td>/amaltaro_Run2018A-v1-DoubleMuon-17Sep2018_102...</td>\n",
       "      <td>50664</td>\n",
       "      <td>T2_DE_RWTH</td>\n",
       "      <td>[-0.3702858, 0.5143405, 0.7953629, 0.039058268...</td>\n",
       "    </tr>\n",
       "    <tr>\n",
       "      <th>3</th>\n",
       "      <td>/amaltaro_Run2018A-v1-DoubleMuon-17Sep2018_102...</td>\n",
       "      <td>50664</td>\n",
       "      <td>T2_DE_RWTH</td>\n",
       "      <td>[-0.37136453, 0.51211816, 0.79105175, 0.035541...</td>\n",
       "    </tr>\n",
       "    <tr>\n",
       "      <th>4</th>\n",
       "      <td>/amaltaro_Run2018A-v1-DoubleMuon-17Sep2018_102...</td>\n",
       "      <td>99400</td>\n",
       "      <td>NoReportedSite</td>\n",
       "      <td>[-0.07633327, 1.014642, 0.13045293, 0.5291586,...</td>\n",
       "    </tr>\n",
       "  </tbody>\n",
       "</table>\n",
       "</div>"
      ],
      "text/plain": [
       "                                           task_name  error            site  \\\n",
       "0  /amaltaro_Run2018A-v1-DoubleMuon-17Sep2018_102...     85       T1_UK_RAL   \n",
       "1  /amaltaro_Run2018A-v1-DoubleMuon-17Sep2018_102...  50664      T2_DE_RWTH   \n",
       "2  /amaltaro_Run2018A-v1-DoubleMuon-17Sep2018_102...  50664      T2_DE_RWTH   \n",
       "3  /amaltaro_Run2018A-v1-DoubleMuon-17Sep2018_102...  50664      T2_DE_RWTH   \n",
       "4  /amaltaro_Run2018A-v1-DoubleMuon-17Sep2018_102...  99400  NoReportedSite   \n",
       "\n",
       "                                             avg_w2v  \n",
       "0  [-0.64572215, 0.641289, 0.8480407, -0.05723635...  \n",
       "1  [-0.37116605, 0.5153855, 0.7909372, 0.03889961...  \n",
       "2  [-0.3702858, 0.5143405, 0.7953629, 0.039058268...  \n",
       "3  [-0.37136453, 0.51211816, 0.79105175, 0.035541...  \n",
       "4  [-0.07633327, 1.014642, 0.13045293, 0.5291586,...  "
      ]
     },
     "execution_count": 31,
     "metadata": {},
     "output_type": "execute_result"
    }
   ],
   "source": [
    "tokens.head()"
   ]
  },
  {
   "cell_type": "code",
   "execution_count": 30,
   "metadata": {},
   "outputs": [
    {
     "data": {
      "image/png": "[encoded data removed]",
      "text/plain": [
       "<Figure size 720x720 with 1 Axes>"
      ]
     },
     "metadata": {
      "needs_background": "light"
     },
     "output_type": "display_data"
    }
   ],
   "source": [
    "reload(w2v_analysis)\n",
    "w2v_analysis.plot_tsne_error(tokens, 'error', 5000)"
   ]
  },
  {
   "cell_type": "markdown",
   "metadata": {},
   "source": [
    "### T-SNE for the averaged workflow messages"
   ]
  },
  {
   "cell_type": "code",
   "execution_count": 34,
   "metadata": {},
   "outputs": [
    {
     "data": {
      "text/html": [
       "<div>\n",
       "<style scoped>\n",
       "    .dataframe tbody tr th:only-of-type {\n",
       "        vertical-align: middle;\n",
       "    }\n",
       "\n",
       "    .dataframe tbody tr th {\n",
       "        vertical-align: top;\n",
       "    }\n",
       "\n",
       "    .dataframe thead th {\n",
       "        text-align: right;\n",
       "    }\n",
       "</style>\n",
       "<table border=\"1\" class=\"dataframe\">\n",
       "  <thead>\n",
       "    <tr style=\"text-align: right;\">\n",
       "      <th></th>\n",
       "      <th>task_name</th>\n",
       "      <th>error</th>\n",
       "      <th>site</th>\n",
       "      <th>avg_w2v</th>\n",
       "    </tr>\n",
       "  </thead>\n",
       "  <tbody>\n",
       "    <tr>\n",
       "      <th>0</th>\n",
       "      <td>/amaltaro_Run2018A-v1-DoubleMuon-17Sep2018_102...</td>\n",
       "      <td>85</td>\n",
       "      <td>T1_UK_RAL</td>\n",
       "      <td>[-0.64572215, 0.641289, 0.8480407, -0.05723635...</td>\n",
       "    </tr>\n",
       "    <tr>\n",
       "      <th>1</th>\n",
       "      <td>/amaltaro_Run2018A-v1-DoubleMuon-17Sep2018_102...</td>\n",
       "      <td>50664</td>\n",
       "      <td>T2_DE_RWTH</td>\n",
       "      <td>[-0.37116605, 0.5153855, 0.7909372, 0.03889961...</td>\n",
       "    </tr>\n",
       "    <tr>\n",
       "      <th>2</th>\n",
       "      <td>/amaltaro_Run2018A-v1-DoubleMuon-17Sep2018_102...</td>\n",
       "      <td>50664</td>\n",
       "      <td>T2_DE_RWTH</td>\n",
       "      <td>[-0.3702858, 0.5143405, 0.7953629, 0.039058268...</td>\n",
       "    </tr>\n",
       "    <tr>\n",
       "      <th>3</th>\n",
       "      <td>/amaltaro_Run2018A-v1-DoubleMuon-17Sep2018_102...</td>\n",
       "      <td>50664</td>\n",
       "      <td>T2_DE_RWTH</td>\n",
       "      <td>[-0.37136453, 0.51211816, 0.79105175, 0.035541...</td>\n",
       "    </tr>\n",
       "    <tr>\n",
       "      <th>4</th>\n",
       "      <td>/amaltaro_Run2018A-v1-DoubleMuon-17Sep2018_102...</td>\n",
       "      <td>99400</td>\n",
       "      <td>NoReportedSite</td>\n",
       "      <td>[-0.07633327, 1.014642, 0.13045293, 0.5291586,...</td>\n",
       "    </tr>\n",
       "  </tbody>\n",
       "</table>\n",
       "</div>"
      ],
      "text/plain": [
       "                                           task_name  error            site  \\\n",
       "0  /amaltaro_Run2018A-v1-DoubleMuon-17Sep2018_102...     85       T1_UK_RAL   \n",
       "1  /amaltaro_Run2018A-v1-DoubleMuon-17Sep2018_102...  50664      T2_DE_RWTH   \n",
       "2  /amaltaro_Run2018A-v1-DoubleMuon-17Sep2018_102...  50664      T2_DE_RWTH   \n",
       "3  /amaltaro_Run2018A-v1-DoubleMuon-17Sep2018_102...  50664      T2_DE_RWTH   \n",
       "4  /amaltaro_Run2018A-v1-DoubleMuon-17Sep2018_102...  99400  NoReportedSite   \n",
       "\n",
       "                                             avg_w2v  \n",
       "0  [-0.64572215, 0.641289, 0.8480407, -0.05723635...  \n",
       "1  [-0.37116605, 0.5153855, 0.7909372, 0.03889961...  \n",
       "2  [-0.3702858, 0.5143405, 0.7953629, 0.039058268...  \n",
       "3  [-0.37136453, 0.51211816, 0.79105175, 0.035541...  \n",
       "4  [-0.07633327, 1.014642, 0.13045293, 0.5291586,...  "
      ]
     },
     "execution_count": 34,
     "metadata": {},
     "output_type": "execute_result"
    }
   ],
   "source": [
    "tokens.head()"
   ]
  },
  {
   "cell_type": "code",
   "execution_count": 35,
   "metadata": {},
   "outputs": [],
   "source": [
    "tokens = tokens.groupby(['task_name'], as_index=False)['avg_w2v', 'error', 'site'].agg(lambda x: list(x))"
   ]
  },
  {
   "cell_type": "code",
   "execution_count": 36,
   "metadata": {},
   "outputs": [
    {
     "data": {
      "text/html": [
       "<div>\n",
       "<style scoped>\n",
       "    .dataframe tbody tr th:only-of-type {\n",
       "        vertical-align: middle;\n",
       "    }\n",
       "\n",
       "    .dataframe tbody tr th {\n",
       "        vertical-align: top;\n",
       "    }\n",
       "\n",
       "    .dataframe thead th {\n",
       "        text-align: right;\n",
       "    }\n",
       "</style>\n",
       "<table border=\"1\" class=\"dataframe\">\n",
       "  <thead>\n",
       "    <tr style=\"text-align: right;\">\n",
       "      <th></th>\n",
       "      <th>task_name</th>\n",
       "      <th>avg_w2v</th>\n",
       "      <th>error</th>\n",
       "      <th>site</th>\n",
       "    </tr>\n",
       "  </thead>\n",
       "  <tbody>\n",
       "    <tr>\n",
       "      <th>0</th>\n",
       "      <td>/amaltaro_Run2018A-v1-DoubleMuon-17Sep2018_102...</td>\n",
       "      <td>[[-0.64572215, 0.641289, 0.8480407, -0.0572363...</td>\n",
       "      <td>[85]</td>\n",
       "      <td>[T1_UK_RAL]</td>\n",
       "    </tr>\n",
       "    <tr>\n",
       "      <th>1</th>\n",
       "      <td>/amaltaro_Run2018A-v1-DoubleMuon-17Sep2018_102...</td>\n",
       "      <td>[[-0.37116605, 0.5153855, 0.7909372, 0.0388996...</td>\n",
       "      <td>[50664]</td>\n",
       "      <td>[T2_DE_RWTH]</td>\n",
       "    </tr>\n",
       "    <tr>\n",
       "      <th>2</th>\n",
       "      <td>/amaltaro_Run2018A-v1-DoubleMuon-17Sep2018_102...</td>\n",
       "      <td>[[-0.3702858, 0.5143405, 0.7953629, 0.03905826...</td>\n",
       "      <td>[50664]</td>\n",
       "      <td>[T2_DE_RWTH]</td>\n",
       "    </tr>\n",
       "    <tr>\n",
       "      <th>3</th>\n",
       "      <td>/amaltaro_Run2018A-v1-DoubleMuon-17Sep2018_102...</td>\n",
       "      <td>[[-0.37136453, 0.51211816, 0.79105175, 0.03554...</td>\n",
       "      <td>[50664, 99400]</td>\n",
       "      <td>[T2_DE_RWTH, NoReportedSite]</td>\n",
       "    </tr>\n",
       "    <tr>\n",
       "      <th>4</th>\n",
       "      <td>/amaltaro_Run2018A-v1-DoubleMuon-17Sep2018_102...</td>\n",
       "      <td>[[-0.37750688, 0.5098932, 0.7995701, 0.0334445...</td>\n",
       "      <td>[50664]</td>\n",
       "      <td>[T2_DE_RWTH]</td>\n",
       "    </tr>\n",
       "  </tbody>\n",
       "</table>\n",
       "</div>"
      ],
      "text/plain": [
       "                                           task_name  \\\n",
       "0  /amaltaro_Run2018A-v1-DoubleMuon-17Sep2018_102...   \n",
       "1  /amaltaro_Run2018A-v1-DoubleMuon-17Sep2018_102...   \n",
       "2  /amaltaro_Run2018A-v1-DoubleMuon-17Sep2018_102...   \n",
       "3  /amaltaro_Run2018A-v1-DoubleMuon-17Sep2018_102...   \n",
       "4  /amaltaro_Run2018A-v1-DoubleMuon-17Sep2018_102...   \n",
       "\n",
       "                                             avg_w2v           error  \\\n",
       "0  [[-0.64572215, 0.641289, 0.8480407, -0.0572363...            [85]   \n",
       "1  [[-0.37116605, 0.5153855, 0.7909372, 0.0388996...         [50664]   \n",
       "2  [[-0.3702858, 0.5143405, 0.7953629, 0.03905826...         [50664]   \n",
       "3  [[-0.37136453, 0.51211816, 0.79105175, 0.03554...  [50664, 99400]   \n",
       "4  [[-0.37750688, 0.5098932, 0.7995701, 0.0334445...         [50664]   \n",
       "\n",
       "                           site  \n",
       "0                   [T1_UK_RAL]  \n",
       "1                  [T2_DE_RWTH]  \n",
       "2                  [T2_DE_RWTH]  \n",
       "3  [T2_DE_RWTH, NoReportedSite]  \n",
       "4                  [T2_DE_RWTH]  "
      ]
     },
     "execution_count": 36,
     "metadata": {},
     "output_type": "execute_result"
    }
   ],
   "source": [
    "tokens.head()"
   ]
  },
  {
   "cell_type": "code",
   "execution_count": 37,
   "metadata": {},
   "outputs": [],
   "source": [
    "tokens['avg_w2v'] = tokens['avg_w2v'].apply(average_message)"
   ]
  },
  {
   "cell_type": "code",
   "execution_count": 39,
   "metadata": {},
   "outputs": [
    {
     "data": {
      "image/png": "[encoded data removed]",
      "text/plain": [
       "<Figure size 720x720 with 1 Axes>"
      ]
     },
     "metadata": {
      "needs_background": "light"
     },
     "output_type": "display_data"
    }
   ],
   "source": [
    "reload(w2v_analysis)\n",
    "w2v_analysis.plot_tsne_wf(tokens, 5000)"
   ]
  },
  {
   "cell_type": "code",
   "execution_count": null,
   "metadata": {},
   "outputs": [],
   "source": []
  }
 ],
 "metadata": {
  "kernelspec": {
   "display_name": "Python 2",
   "language": "python",
   "name": "python2"
  },
  "language_info": {
   "codemirror_mode": {
    "name": "ipython",
    "version": 2
   },
   "file_extension": ".py",
   "mimetype": "text/x-python",
   "name": "python",
   "nbconvert_exporter": "python",
   "pygments_lexer": "ipython2",
   "version": "2.7.16"
  }
 },
 "nbformat": 4,
 "nbformat_minor": 2
}
