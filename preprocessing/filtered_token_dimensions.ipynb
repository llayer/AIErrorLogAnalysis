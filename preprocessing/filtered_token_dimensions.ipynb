{
 "cells": [
  {
   "cell_type": "code",
   "execution_count": 1,
   "metadata": {},
   "outputs": [],
   "source": [
    "import pandas as pd\n",
    "import numpy as np\n",
    "import matplotlib.pyplot as plt"
   ]
  },
  {
   "cell_type": "code",
   "execution_count": 5,
   "metadata": {},
   "outputs": [],
   "source": [
    "import os\n",
    "import sys\n",
    "module_path = os.path.abspath(os.path.join('../utils'))\n",
    "if module_path not in sys.path:\n",
    "    sys.path.append(module_path)\n",
    "from create_actionshist_keys import *\n",
    "from actionshist_utils import *"
   ]
  },
  {
   "cell_type": "code",
   "execution_count": 7,
   "metadata": {},
   "outputs": [
    {
     "name": "stdout",
     "output_type": "stream",
     "text": [
      "Loading actionshist and generating keys\n",
      "Loading tokens\n"
     ]
    }
   ],
   "source": [
    "path_tokens = '/eos/user/l/llayer/AIErrorLogAnalysis/data/word2vec/tokens_index_avg.h5'\n",
    "path_actionshist = '/eos/user/l/llayer/AIErrorLogAnalysis/data/actionshist/actionshistory_300719.json'\n",
    "\n",
    "# Load the actionshistory\n",
    "print( 'Loading actionshist and generating keys' )\n",
    "actionshist = load_data(path_actionshist)\n",
    "set_binary_labels(actionshist)\n",
    "actionshist_keys = get_keys(actionshist, ignore_neg_code = False)\n",
    "\n",
    "# Get the error messages\n",
    "print( 'Loading tokens' )\n",
    "tokens = pd.read_hdf( path_tokens )\n",
    "tokens.error = tokens.error.astype(str)\n",
    "tokens.error = tokens.error.str.encode('utf-8')\n",
    "tokens.site = tokens.site.str.encode('utf-8')"
   ]
  },
  {
   "cell_type": "code",
   "execution_count": 10,
   "metadata": {},
   "outputs": [
    {
     "data": {
      "text/html": [
       "<div>\n",
       "<style scoped>\n",
       "    .dataframe tbody tr th:only-of-type {\n",
       "        vertical-align: middle;\n",
       "    }\n",
       "\n",
       "    .dataframe tbody tr th {\n",
       "        vertical-align: top;\n",
       "    }\n",
       "\n",
       "    .dataframe thead th {\n",
       "        text-align: right;\n",
       "    }\n",
       "</style>\n",
       "<table border=\"1\" class=\"dataframe\">\n",
       "  <thead>\n",
       "    <tr style=\"text-align: right;\">\n",
       "      <th></th>\n",
       "      <th>task_name</th>\n",
       "      <th>error</th>\n",
       "      <th>site</th>\n",
       "      <th>site_state</th>\n",
       "      <th>count</th>\n",
       "      <th>label</th>\n",
       "    </tr>\n",
       "  </thead>\n",
       "  <tbody>\n",
       "    <tr>\n",
       "      <th>0</th>\n",
       "      <td>/amaltaro_Run2016D-v2-DoubleMuonLowMass-07Aug1...</td>\n",
       "      <td>-1</td>\n",
       "      <td>T1_US_FNAL_Disk</td>\n",
       "      <td>bad</td>\n",
       "      <td>1</td>\n",
       "      <td>0</td>\n",
       "    </tr>\n",
       "    <tr>\n",
       "      <th>1</th>\n",
       "      <td>/amaltaro_Run2016D-v2-DoubleMuonLowMass-07Aug1...</td>\n",
       "      <td>-1</td>\n",
       "      <td>T3_US_FNALLPC</td>\n",
       "      <td>bad</td>\n",
       "      <td>1</td>\n",
       "      <td>0</td>\n",
       "    </tr>\n",
       "    <tr>\n",
       "      <th>2</th>\n",
       "      <td>/amaltaro_Run2016D-v2-DoubleMuonLowMass-07Aug1...</td>\n",
       "      <td>-1</td>\n",
       "      <td>T3_US_FNALLPC</td>\n",
       "      <td>bad</td>\n",
       "      <td>1</td>\n",
       "      <td>0</td>\n",
       "    </tr>\n",
       "    <tr>\n",
       "      <th>3</th>\n",
       "      <td>/amaltaro_Run2018A-v1-DoubleMuon-17Sep2018_102...</td>\n",
       "      <td>-1</td>\n",
       "      <td>T1_DE_KIT_Disk</td>\n",
       "      <td>bad</td>\n",
       "      <td>1</td>\n",
       "      <td>0</td>\n",
       "    </tr>\n",
       "    <tr>\n",
       "      <th>4</th>\n",
       "      <td>/amaltaro_Run2018A-v1-DoubleMuon-17Sep2018_102...</td>\n",
       "      <td>50664</td>\n",
       "      <td>T2_DE_RWTH</td>\n",
       "      <td>good</td>\n",
       "      <td>2</td>\n",
       "      <td>0</td>\n",
       "    </tr>\n",
       "  </tbody>\n",
       "</table>\n",
       "</div>"
      ],
      "text/plain": [
       "                                           task_name  error             site  \\\n",
       "0  /amaltaro_Run2016D-v2-DoubleMuonLowMass-07Aug1...     -1  T1_US_FNAL_Disk   \n",
       "1  /amaltaro_Run2016D-v2-DoubleMuonLowMass-07Aug1...     -1    T3_US_FNALLPC   \n",
       "2  /amaltaro_Run2016D-v2-DoubleMuonLowMass-07Aug1...     -1    T3_US_FNALLPC   \n",
       "3  /amaltaro_Run2018A-v1-DoubleMuon-17Sep2018_102...     -1   T1_DE_KIT_Disk   \n",
       "4  /amaltaro_Run2018A-v1-DoubleMuon-17Sep2018_102...  50664       T2_DE_RWTH   \n",
       "\n",
       "  site_state  count  label  \n",
       "0        bad      1      0  \n",
       "1        bad      1      0  \n",
       "2        bad      1      0  \n",
       "3        bad      1      0  \n",
       "4       good      2      0  "
      ]
     },
     "execution_count": 10,
     "metadata": {},
     "output_type": "execute_result"
    }
   ],
   "source": [
    "actionshist_keys.head()"
   ]
  },
  {
   "cell_type": "markdown",
   "metadata": {},
   "source": [
    "## Plot the length of the error messages"
   ]
  },
  {
   "cell_type": "code",
   "execution_count": 24,
   "metadata": {},
   "outputs": [
    {
     "data": {
      "text/html": [
       "<div>\n",
       "<style scoped>\n",
       "    .dataframe tbody tr th:only-of-type {\n",
       "        vertical-align: middle;\n",
       "    }\n",
       "\n",
       "    .dataframe tbody tr th {\n",
       "        vertical-align: top;\n",
       "    }\n",
       "\n",
       "    .dataframe thead th {\n",
       "        text-align: right;\n",
       "    }\n",
       "</style>\n",
       "<table border=\"1\" class=\"dataframe\">\n",
       "  <thead>\n",
       "    <tr style=\"text-align: right;\">\n",
       "      <th></th>\n",
       "      <th>task_name</th>\n",
       "      <th>error</th>\n",
       "      <th>site</th>\n",
       "      <th>exit_codes</th>\n",
       "      <th>error_type</th>\n",
       "      <th>steps_counter</th>\n",
       "      <th>names</th>\n",
       "      <th>error_msg_tokenized</th>\n",
       "      <th>avg_w2v</th>\n",
       "    </tr>\n",
       "  </thead>\n",
       "  <tbody>\n",
       "    <tr>\n",
       "      <th>0</th>\n",
       "      <td>/fabozzi_Run2016F-v1-MuonEG-07Aug17_8029_17083...</td>\n",
       "      <td>85</td>\n",
       "      <td>T2_US_Purdue</td>\n",
       "      <td>99999</td>\n",
       "      <td>ReportManipulatingError</td>\n",
       "      <td>0</td>\n",
       "      <td>stageOut1</td>\n",
       "      <td>[228, 19, 242, 53, 2, 22, 189, 365]</td>\n",
       "      <td>[-0.6327675, 1.057197, 0.056380782, -0.3644849...</td>\n",
       "    </tr>\n",
       "    <tr>\n",
       "      <th>1</th>\n",
       "      <td>/fabozzi_Run2016F-v1-MuonEG-07Aug17_8029_17083...</td>\n",
       "      <td>85</td>\n",
       "      <td>T2_US_Purdue</td>\n",
       "      <td>85</td>\n",
       "      <td>CMSSWStepFailure</td>\n",
       "      <td>2</td>\n",
       "      <td>cmsRun1</td>\n",
       "      <td>[14, 32, 67, 44, 7, 6, 80, 76, 467, 671, 76, 7...</td>\n",
       "      <td>[-0.43909624, 0.5063496, 0.60487694, -0.056146...</td>\n",
       "    </tr>\n",
       "    <tr>\n",
       "      <th>2</th>\n",
       "      <td>/fabozzi_Run2016F-v1-MuonEG-07Aug17_8029_17083...</td>\n",
       "      <td>85</td>\n",
       "      <td>T2_US_Purdue</td>\n",
       "      <td>8021</td>\n",
       "      <td>Fatal Exception</td>\n",
       "      <td>2</td>\n",
       "      <td>cmsRun1</td>\n",
       "      <td>[93, 27, 7, 92, 306, 73, 69, 9, 28, 470, 6144,...</td>\n",
       "      <td>[-1.0769646, 1.2356042, 0.88608974, 0.11158812...</td>\n",
       "    </tr>\n",
       "    <tr>\n",
       "      <th>3</th>\n",
       "      <td>/fabozzi_Run2016F-v1-MuonEG-07Aug17_8029_17083...</td>\n",
       "      <td>85</td>\n",
       "      <td>T2_US_Purdue</td>\n",
       "      <td>99999</td>\n",
       "      <td>ErrorLoggingAddition</td>\n",
       "      <td>2</td>\n",
       "      <td>cmsRun1</td>\n",
       "      <td>[14, 120, 5, 1, 156, 18, 153, 5, 53, 14, 32, 1...</td>\n",
       "      <td>[-0.55738294, 0.87854844, 1.2031463, -0.585931...</td>\n",
       "    </tr>\n",
       "    <tr>\n",
       "      <th>4</th>\n",
       "      <td>/fabozzi_Run2016G-v1-DoubleMuonLowMass-07Aug17...</td>\n",
       "      <td>85</td>\n",
       "      <td>T2_US_Florida</td>\n",
       "      <td>99999</td>\n",
       "      <td>ReportManipulatingError</td>\n",
       "      <td>0</td>\n",
       "      <td>stageOut1</td>\n",
       "      <td>[228, 19, 242, 53, 2, 22, 189, 365]</td>\n",
       "      <td>[-0.6327675, 1.057197, 0.056380782, -0.3644849...</td>\n",
       "    </tr>\n",
       "  </tbody>\n",
       "</table>\n",
       "</div>"
      ],
      "text/plain": [
       "                                           task_name error           site  \\\n",
       "0  /fabozzi_Run2016F-v1-MuonEG-07Aug17_8029_17083...    85   T2_US_Purdue   \n",
       "1  /fabozzi_Run2016F-v1-MuonEG-07Aug17_8029_17083...    85   T2_US_Purdue   \n",
       "2  /fabozzi_Run2016F-v1-MuonEG-07Aug17_8029_17083...    85   T2_US_Purdue   \n",
       "3  /fabozzi_Run2016F-v1-MuonEG-07Aug17_8029_17083...    85   T2_US_Purdue   \n",
       "4  /fabozzi_Run2016G-v1-DoubleMuonLowMass-07Aug17...    85  T2_US_Florida   \n",
       "\n",
       "   exit_codes               error_type  steps_counter      names  \\\n",
       "0       99999  ReportManipulatingError              0  stageOut1   \n",
       "1          85         CMSSWStepFailure              2    cmsRun1   \n",
       "2        8021          Fatal Exception              2    cmsRun1   \n",
       "3       99999     ErrorLoggingAddition              2    cmsRun1   \n",
       "4       99999  ReportManipulatingError              0  stageOut1   \n",
       "\n",
       "                                 error_msg_tokenized  \\\n",
       "0                [228, 19, 242, 53, 2, 22, 189, 365]   \n",
       "1  [14, 32, 67, 44, 7, 6, 80, 76, 467, 671, 76, 7...   \n",
       "2  [93, 27, 7, 92, 306, 73, 69, 9, 28, 470, 6144,...   \n",
       "3  [14, 120, 5, 1, 156, 18, 153, 5, 53, 14, 32, 1...   \n",
       "4                [228, 19, 242, 53, 2, 22, 189, 365]   \n",
       "\n",
       "                                             avg_w2v  \n",
       "0  [-0.6327675, 1.057197, 0.056380782, -0.3644849...  \n",
       "1  [-0.43909624, 0.5063496, 0.60487694, -0.056146...  \n",
       "2  [-1.0769646, 1.2356042, 0.88608974, 0.11158812...  \n",
       "3  [-0.55738294, 0.87854844, 1.2031463, -0.585931...  \n",
       "4  [-0.6327675, 1.057197, 0.056380782, -0.3644849...  "
      ]
     },
     "execution_count": 24,
     "metadata": {},
     "output_type": "execute_result"
    }
   ],
   "source": [
    "tokens.head()"
   ]
  },
  {
   "cell_type": "code",
   "execution_count": 52,
   "metadata": {},
   "outputs": [],
   "source": [
    "def length(frame, key, log=False, bins=100, set_range=None):\n",
    "\n",
    "    # Length of the sequences\n",
    "    len_lists = frame[key].str.len()\n",
    "    import matplotlib.pyplot as plt\n",
    "    if set_range is not None:\n",
    "        ax = len_lists.hist(bins = 100, range=set_range)\n",
    "    else:\n",
    "        ax = len_lists.hist(bins = bins)\n",
    "    if log == True:\n",
    "        ax.set_yscale('log')\n",
    "    plt.show"
   ]
  },
  {
   "cell_type": "code",
   "execution_count": 53,
   "metadata": {},
   "outputs": [
    {
     "data": {
      "image/png": "[encoded data removed]",
      "text/plain": [
       "<Figure size 432x288 with 1 Axes>"
      ]
     },
     "metadata": {
      "needs_background": "light"
     },
     "output_type": "display_data"
    }
   ],
   "source": [
    "length(tokens, 'error_msg_tokenized', log=True)"
   ]
  },
  {
   "cell_type": "code",
   "execution_count": 54,
   "metadata": {},
   "outputs": [
    {
     "data": {
      "image/png": "[encoded data removed]",
      "text/plain": [
       "<Figure size 432x288 with 1 Axes>"
      ]
     },
     "metadata": {
      "needs_background": "light"
     },
     "output_type": "display_data"
    }
   ],
   "source": [
    "length(tokens, 'error_msg_tokenized', set_range=[0,1000])"
   ]
  },
  {
   "cell_type": "markdown",
   "metadata": {},
   "source": [
    "## Plot the length of the number of error messages per key"
   ]
  },
  {
   "cell_type": "code",
   "execution_count": 48,
   "metadata": {},
   "outputs": [],
   "source": [
    "tokens_seq =  tokens.groupby(['task_name', 'error', 'site'], as_index=False)['exit_codes'].agg(lambda x: list(x))"
   ]
  },
  {
   "cell_type": "code",
   "execution_count": 34,
   "metadata": {},
   "outputs": [],
   "source": [
    "tokens_error = tokens_seq.groupby(['task_name', 'error'], as_index=False)['site'].agg(lambda x: list(x))"
   ]
  },
  {
   "cell_type": "code",
   "execution_count": 36,
   "metadata": {},
   "outputs": [
    {
     "data": {
      "text/html": [
       "<div>\n",
       "<style scoped>\n",
       "    .dataframe tbody tr th:only-of-type {\n",
       "        vertical-align: middle;\n",
       "    }\n",
       "\n",
       "    .dataframe tbody tr th {\n",
       "        vertical-align: top;\n",
       "    }\n",
       "\n",
       "    .dataframe thead th {\n",
       "        text-align: right;\n",
       "    }\n",
       "</style>\n",
       "<table border=\"1\" class=\"dataframe\">\n",
       "  <thead>\n",
       "    <tr style=\"text-align: right;\">\n",
       "      <th></th>\n",
       "      <th>task_name</th>\n",
       "      <th>error</th>\n",
       "      <th>exit_codes</th>\n",
       "      <th>site</th>\n",
       "    </tr>\n",
       "  </thead>\n",
       "  <tbody>\n",
       "    <tr>\n",
       "      <th>0</th>\n",
       "      <td>/amaltaro_Run2018A-v1-DoubleMuon-17Sep2018_102...</td>\n",
       "      <td>85</td>\n",
       "      <td>[[85, 8021, 99999, 85]]</td>\n",
       "      <td>[T1_UK_RAL]</td>\n",
       "    </tr>\n",
       "    <tr>\n",
       "      <th>1</th>\n",
       "      <td>/amaltaro_Run2018A-v1-DoubleMuon-17Sep2018_102...</td>\n",
       "      <td>50664</td>\n",
       "      <td>[[50664, 143, 50115, 99999, 143]]</td>\n",
       "      <td>[T2_DE_RWTH]</td>\n",
       "    </tr>\n",
       "    <tr>\n",
       "      <th>2</th>\n",
       "      <td>/amaltaro_Run2018A-v1-DoubleMuon-17Sep2018_102...</td>\n",
       "      <td>50664</td>\n",
       "      <td>[[50664, 143, 50115, 99999, 143]]</td>\n",
       "      <td>[T2_DE_RWTH]</td>\n",
       "    </tr>\n",
       "    <tr>\n",
       "      <th>3</th>\n",
       "      <td>/amaltaro_Run2018A-v1-DoubleMuon-17Sep2018_102...</td>\n",
       "      <td>50664</td>\n",
       "      <td>[[50664, 143, 50115, 99999, 143]]</td>\n",
       "      <td>[T2_DE_RWTH]</td>\n",
       "    </tr>\n",
       "    <tr>\n",
       "      <th>4</th>\n",
       "      <td>/amaltaro_Run2018A-v1-DoubleMuon-17Sep2018_102...</td>\n",
       "      <td>99400</td>\n",
       "      <td>[[99400]]</td>\n",
       "      <td>[NoReportedSite]</td>\n",
       "    </tr>\n",
       "    <tr>\n",
       "      <th>5</th>\n",
       "      <td>/amaltaro_Run2018A-v1-DoubleMuon-17Sep2018_102...</td>\n",
       "      <td>50664</td>\n",
       "      <td>[[50664, 143, 50115, 99999, 143]]</td>\n",
       "      <td>[T2_DE_RWTH]</td>\n",
       "    </tr>\n",
       "    <tr>\n",
       "      <th>6</th>\n",
       "      <td>/amaltaro_Run2018A-v1-EGamma-17Sep2018_1024p1_...</td>\n",
       "      <td>134</td>\n",
       "      <td>[[134, 99999, 134], [134, 99999, 134], [134, 8...</td>\n",
       "      <td>[T2_FR_GRIF_LLR, T2_UK_London_IC, T2_US_Florid...</td>\n",
       "    </tr>\n",
       "    <tr>\n",
       "      <th>7</th>\n",
       "      <td>/amaltaro_Run2018A-v1-EGamma-17Sep2018_1024p1_...</td>\n",
       "      <td>139</td>\n",
       "      <td>[[139, 50115, 99999, 139], [139, 50115, 99999,...</td>\n",
       "      <td>[T1_UK_RAL, T1_US_FNAL_Disk, T2_US_Florida, T2...</td>\n",
       "    </tr>\n",
       "    <tr>\n",
       "      <th>8</th>\n",
       "      <td>/amaltaro_Run2018A-v1-EGamma-17Sep2018_1024p1_...</td>\n",
       "      <td>50664</td>\n",
       "      <td>[[50664, 143, 50115, 99999, 143], [50664, 143,...</td>\n",
       "      <td>[T1_RU_JINR, T1_UK_RAL, T1_US_FNAL_Disk, T2_FR...</td>\n",
       "    </tr>\n",
       "    <tr>\n",
       "      <th>9</th>\n",
       "      <td>/amaltaro_Run2018A-v1-EGamma-17Sep2018_1024p1_...</td>\n",
       "      <td>8002</td>\n",
       "      <td>[[8002, 8002, 66], [8002, 8002, 66], [8002, 80...</td>\n",
       "      <td>[T1_RU_JINR, T2_FR_GRIF_LLR, T2_UK_SGrid_RALPP...</td>\n",
       "    </tr>\n",
       "  </tbody>\n",
       "</table>\n",
       "</div>"
      ],
      "text/plain": [
       "                                           task_name  error  \\\n",
       "0  /amaltaro_Run2018A-v1-DoubleMuon-17Sep2018_102...     85   \n",
       "1  /amaltaro_Run2018A-v1-DoubleMuon-17Sep2018_102...  50664   \n",
       "2  /amaltaro_Run2018A-v1-DoubleMuon-17Sep2018_102...  50664   \n",
       "3  /amaltaro_Run2018A-v1-DoubleMuon-17Sep2018_102...  50664   \n",
       "4  /amaltaro_Run2018A-v1-DoubleMuon-17Sep2018_102...  99400   \n",
       "5  /amaltaro_Run2018A-v1-DoubleMuon-17Sep2018_102...  50664   \n",
       "6  /amaltaro_Run2018A-v1-EGamma-17Sep2018_1024p1_...    134   \n",
       "7  /amaltaro_Run2018A-v1-EGamma-17Sep2018_1024p1_...    139   \n",
       "8  /amaltaro_Run2018A-v1-EGamma-17Sep2018_1024p1_...  50664   \n",
       "9  /amaltaro_Run2018A-v1-EGamma-17Sep2018_1024p1_...   8002   \n",
       "\n",
       "                                          exit_codes  \\\n",
       "0                            [[85, 8021, 99999, 85]]   \n",
       "1                  [[50664, 143, 50115, 99999, 143]]   \n",
       "2                  [[50664, 143, 50115, 99999, 143]]   \n",
       "3                  [[50664, 143, 50115, 99999, 143]]   \n",
       "4                                          [[99400]]   \n",
       "5                  [[50664, 143, 50115, 99999, 143]]   \n",
       "6  [[134, 99999, 134], [134, 99999, 134], [134, 8...   \n",
       "7  [[139, 50115, 99999, 139], [139, 50115, 99999,...   \n",
       "8  [[50664, 143, 50115, 99999, 143], [50664, 143,...   \n",
       "9  [[8002, 8002, 66], [8002, 8002, 66], [8002, 80...   \n",
       "\n",
       "                                                site  \n",
       "0                                        [T1_UK_RAL]  \n",
       "1                                       [T2_DE_RWTH]  \n",
       "2                                       [T2_DE_RWTH]  \n",
       "3                                       [T2_DE_RWTH]  \n",
       "4                                   [NoReportedSite]  \n",
       "5                                       [T2_DE_RWTH]  \n",
       "6  [T2_FR_GRIF_LLR, T2_UK_London_IC, T2_US_Florid...  \n",
       "7  [T1_UK_RAL, T1_US_FNAL_Disk, T2_US_Florida, T2...  \n",
       "8  [T1_RU_JINR, T1_UK_RAL, T1_US_FNAL_Disk, T2_FR...  \n",
       "9  [T1_RU_JINR, T2_FR_GRIF_LLR, T2_UK_SGrid_RALPP...  "
      ]
     },
     "execution_count": 36,
     "metadata": {},
     "output_type": "execute_result"
    }
   ],
   "source": [
    "tokens_error.head(10)"
   ]
  },
  {
   "cell_type": "code",
   "execution_count": 42,
   "metadata": {},
   "outputs": [
    {
     "data": {
      "image/png": "[encoded data removed]",
      "text/plain": [
       "<Figure size 432x288 with 1 Axes>"
      ]
     },
     "metadata": {
      "needs_background": "light"
     },
     "output_type": "display_data"
    }
   ],
   "source": [
    "length(tokens_error, 'site', log=True)"
   ]
  },
  {
   "cell_type": "markdown",
   "metadata": {},
   "source": [
    "## Plot the number of error messages per task"
   ]
  },
  {
   "cell_type": "code",
   "execution_count": 49,
   "metadata": {},
   "outputs": [],
   "source": [
    "tokens_task = tokens_seq.groupby(['task_name'], as_index=False)['error', 'site'].agg(lambda x: list(x))"
   ]
  },
  {
   "cell_type": "code",
   "execution_count": 50,
   "metadata": {},
   "outputs": [
    {
     "data": {
      "image/png": "[encoded data removed]",
      "text/plain": [
       "<Figure size 432x288 with 1 Axes>"
      ]
     },
     "metadata": {
      "needs_background": "light"
     },
     "output_type": "display_data"
    }
   ],
   "source": [
    "length(tokens_task, 'error', log=True)"
   ]
  }
 ],
 "metadata": {
  "kernelspec": {
   "display_name": "Python 2",
   "language": "python",
   "name": "python2"
  },
  "language_info": {
   "codemirror_mode": {
    "name": "ipython",
    "version": 2
   },
   "file_extension": ".py",
   "mimetype": "text/x-python",
   "name": "python",
   "nbconvert_exporter": "python",
   "pygments_lexer": "ipython2",
   "version": "2.7.16"
  }
 },
 "nbformat": 4,
 "nbformat_minor": 2
}
